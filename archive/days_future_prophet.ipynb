{
 "cells": [
  {
   "cell_type": "markdown",
   "id": "48af82f9",
   "metadata": {},
   "source": [
    "# Notebook"
   ]
  },
  {
   "cell_type": "code",
   "execution_count": 1,
   "id": "2fae4b30",
   "metadata": {},
   "outputs": [],
   "source": [
    "import holidays"
   ]
  },
  {
   "cell_type": "code",
   "execution_count": 2,
   "id": "7c65afd1",
   "metadata": {},
   "outputs": [],
   "source": [
    "import pandas as pd\n",
    "import holidays\n",
    "import numpy as np\n",
    "import yfinance as yf\n",
    "from sklearn.model_selection import TimeSeriesSplit\n",
    "from sklearn import linear_model\n",
    "import seaborn as sns\n",
    "from sklearn.ensemble import RandomForestRegressor\n",
    "from prophet import Prophet"
   ]
  },
  {
   "cell_type": "code",
   "execution_count": 3,
   "id": "6d114425",
   "metadata": {},
   "outputs": [],
   "source": [
    "#adquisition"
   ]
  },
  {
   "cell_type": "code",
   "execution_count": 4,
   "id": "243ae655",
   "metadata": {},
   "outputs": [
    {
     "name": "stdout",
     "output_type": "stream",
     "text": [
      "[*********************100%***********************]  1 of 1 completed\n"
     ]
    }
   ],
   "source": [
    "data = yf.download('CSSPX.MI','2016-01-01','2023-06-01') # CSSPX.MI S&P500"
   ]
  },
  {
   "cell_type": "code",
   "execution_count": 5,
   "id": "62a8f16b",
   "metadata": {},
   "outputs": [],
   "source": [
    "data['HighLow_pct']= (data['High'] - data['Low']) / data['Close'] * 100\n",
    "data['Pct_change'] = (data['Close'] - data['Open']) / data['Open'] * 100"
   ]
  },
  {
   "cell_type": "code",
   "execution_count": 6,
   "id": "93256b36",
   "metadata": {},
   "outputs": [
    {
     "data": {
      "text/html": [
       "<div>\n",
       "<style scoped>\n",
       "    .dataframe tbody tr th:only-of-type {\n",
       "        vertical-align: middle;\n",
       "    }\n",
       "\n",
       "    .dataframe tbody tr th {\n",
       "        vertical-align: top;\n",
       "    }\n",
       "\n",
       "    .dataframe thead th {\n",
       "        text-align: right;\n",
       "    }\n",
       "</style>\n",
       "<table border=\"1\" class=\"dataframe\">\n",
       "  <thead>\n",
       "    <tr style=\"text-align: right;\">\n",
       "      <th></th>\n",
       "      <th>Date</th>\n",
       "      <th>Open</th>\n",
       "      <th>High</th>\n",
       "      <th>Low</th>\n",
       "      <th>Close</th>\n",
       "      <th>Adj Close</th>\n",
       "      <th>Volume</th>\n",
       "      <th>HighLow_pct</th>\n",
       "      <th>Pct_change</th>\n",
       "    </tr>\n",
       "  </thead>\n",
       "  <tbody>\n",
       "    <tr>\n",
       "      <th>0</th>\n",
       "      <td>2016-01-04</td>\n",
       "      <td>179.119995</td>\n",
       "      <td>179.119995</td>\n",
       "      <td>170.570007</td>\n",
       "      <td>172.020004</td>\n",
       "      <td>172.020004</td>\n",
       "      <td>43555</td>\n",
       "      <td>4.970345</td>\n",
       "      <td>-3.963818</td>\n",
       "    </tr>\n",
       "    <tr>\n",
       "      <th>1</th>\n",
       "      <td>2016-01-05</td>\n",
       "      <td>173.889999</td>\n",
       "      <td>175.039993</td>\n",
       "      <td>172.750000</td>\n",
       "      <td>174.570007</td>\n",
       "      <td>174.570007</td>\n",
       "      <td>64667</td>\n",
       "      <td>1.311791</td>\n",
       "      <td>0.391056</td>\n",
       "    </tr>\n",
       "    <tr>\n",
       "      <th>2</th>\n",
       "      <td>2016-01-06</td>\n",
       "      <td>173.699997</td>\n",
       "      <td>173.699997</td>\n",
       "      <td>171.520004</td>\n",
       "      <td>172.800003</td>\n",
       "      <td>172.800003</td>\n",
       "      <td>17424</td>\n",
       "      <td>1.261570</td>\n",
       "      <td>-0.518131</td>\n",
       "    </tr>\n",
       "    <tr>\n",
       "      <th>3</th>\n",
       "      <td>2016-01-07</td>\n",
       "      <td>169.259995</td>\n",
       "      <td>169.320007</td>\n",
       "      <td>166.210007</td>\n",
       "      <td>168.669998</td>\n",
       "      <td>168.669998</td>\n",
       "      <td>51230</td>\n",
       "      <td>1.843837</td>\n",
       "      <td>-0.348574</td>\n",
       "    </tr>\n",
       "    <tr>\n",
       "      <th>4</th>\n",
       "      <td>2016-01-08</td>\n",
       "      <td>167.710007</td>\n",
       "      <td>168.339996</td>\n",
       "      <td>164.809998</td>\n",
       "      <td>164.809998</td>\n",
       "      <td>164.809998</td>\n",
       "      <td>53279</td>\n",
       "      <td>2.141860</td>\n",
       "      <td>-1.729181</td>\n",
       "    </tr>\n",
       "    <tr>\n",
       "      <th>...</th>\n",
       "      <td>...</td>\n",
       "      <td>...</td>\n",
       "      <td>...</td>\n",
       "      <td>...</td>\n",
       "      <td>...</td>\n",
       "      <td>...</td>\n",
       "      <td>...</td>\n",
       "      <td>...</td>\n",
       "      <td>...</td>\n",
       "    </tr>\n",
       "    <tr>\n",
       "      <th>1881</th>\n",
       "      <td>2023-05-25</td>\n",
       "      <td>401.399994</td>\n",
       "      <td>403.559998</td>\n",
       "      <td>400.739990</td>\n",
       "      <td>401.290009</td>\n",
       "      <td>401.290009</td>\n",
       "      <td>7277</td>\n",
       "      <td>0.702735</td>\n",
       "      <td>-0.027400</td>\n",
       "    </tr>\n",
       "    <tr>\n",
       "      <th>1882</th>\n",
       "      <td>2023-05-26</td>\n",
       "      <td>402.640015</td>\n",
       "      <td>408.399994</td>\n",
       "      <td>401.269989</td>\n",
       "      <td>407.570007</td>\n",
       "      <td>407.570007</td>\n",
       "      <td>12137</td>\n",
       "      <td>1.749394</td>\n",
       "      <td>1.224417</td>\n",
       "    </tr>\n",
       "    <tr>\n",
       "      <th>1883</th>\n",
       "      <td>2023-05-29</td>\n",
       "      <td>409.440002</td>\n",
       "      <td>409.829987</td>\n",
       "      <td>409.119995</td>\n",
       "      <td>409.809998</td>\n",
       "      <td>409.809998</td>\n",
       "      <td>4923</td>\n",
       "      <td>0.173249</td>\n",
       "      <td>0.090366</td>\n",
       "    </tr>\n",
       "    <tr>\n",
       "      <th>1884</th>\n",
       "      <td>2023-05-30</td>\n",
       "      <td>410.359985</td>\n",
       "      <td>411.339996</td>\n",
       "      <td>407.920013</td>\n",
       "      <td>408.549988</td>\n",
       "      <td>408.549988</td>\n",
       "      <td>7026</td>\n",
       "      <td>0.837103</td>\n",
       "      <td>-0.441076</td>\n",
       "    </tr>\n",
       "    <tr>\n",
       "      <th>1885</th>\n",
       "      <td>2023-05-31</td>\n",
       "      <td>408.239990</td>\n",
       "      <td>409.790009</td>\n",
       "      <td>406.230011</td>\n",
       "      <td>406.920013</td>\n",
       "      <td>406.920013</td>\n",
       "      <td>18056</td>\n",
       "      <td>0.874864</td>\n",
       "      <td>-0.323334</td>\n",
       "    </tr>\n",
       "  </tbody>\n",
       "</table>\n",
       "<p>1886 rows × 9 columns</p>\n",
       "</div>"
      ],
      "text/plain": [
       "           Date        Open        High         Low       Close   Adj Close  \\\n",
       "0    2016-01-04  179.119995  179.119995  170.570007  172.020004  172.020004   \n",
       "1    2016-01-05  173.889999  175.039993  172.750000  174.570007  174.570007   \n",
       "2    2016-01-06  173.699997  173.699997  171.520004  172.800003  172.800003   \n",
       "3    2016-01-07  169.259995  169.320007  166.210007  168.669998  168.669998   \n",
       "4    2016-01-08  167.710007  168.339996  164.809998  164.809998  164.809998   \n",
       "...         ...         ...         ...         ...         ...         ...   \n",
       "1881 2023-05-25  401.399994  403.559998  400.739990  401.290009  401.290009   \n",
       "1882 2023-05-26  402.640015  408.399994  401.269989  407.570007  407.570007   \n",
       "1883 2023-05-29  409.440002  409.829987  409.119995  409.809998  409.809998   \n",
       "1884 2023-05-30  410.359985  411.339996  407.920013  408.549988  408.549988   \n",
       "1885 2023-05-31  408.239990  409.790009  406.230011  406.920013  406.920013   \n",
       "\n",
       "      Volume  HighLow_pct  Pct_change  \n",
       "0      43555     4.970345   -3.963818  \n",
       "1      64667     1.311791    0.391056  \n",
       "2      17424     1.261570   -0.518131  \n",
       "3      51230     1.843837   -0.348574  \n",
       "4      53279     2.141860   -1.729181  \n",
       "...      ...          ...         ...  \n",
       "1881    7277     0.702735   -0.027400  \n",
       "1882   12137     1.749394    1.224417  \n",
       "1883    4923     0.173249    0.090366  \n",
       "1884    7026     0.837103   -0.441076  \n",
       "1885   18056     0.874864   -0.323334  \n",
       "\n",
       "[1886 rows x 9 columns]"
      ]
     },
     "execution_count": 6,
     "metadata": {},
     "output_type": "execute_result"
    }
   ],
   "source": [
    "data = data.reset_index()\n",
    "data"
   ]
  },
  {
   "cell_type": "code",
   "execution_count": 7,
   "id": "b3206657",
   "metadata": {},
   "outputs": [],
   "source": [
    "# Time series scikit learn"
   ]
  },
  {
   "cell_type": "markdown",
   "id": "7d69c042",
   "metadata": {},
   "source": [
    "tss = TimeSeriesSplit(n_splits = 3)"
   ]
  },
  {
   "cell_type": "markdown",
   "id": "887e4e68",
   "metadata": {},
   "source": [
    "tss"
   ]
  },
  {
   "cell_type": "markdown",
   "id": "5922d05a",
   "metadata": {},
   "source": [
    "X = data.drop(labels=['Adj Close', 'Open', 'High', 'Close', 'Low'], axis=1)\n",
    "y = data['Adj Close']"
   ]
  },
  {
   "cell_type": "markdown",
   "id": "3c98d676",
   "metadata": {},
   "source": [
    "data[:1500]['Date']"
   ]
  },
  {
   "cell_type": "markdown",
   "id": "efbc4871",
   "metadata": {},
   "source": [
    "X_test = data.loc[1500:,['Date']]\n",
    "y_test = data.loc[1500:, ['Adj Close']]\n",
    "X_train = data.loc[:1499,['Date']]\n",
    "y_train = data.loc[:1499, ['Adj Close']]"
   ]
  },
  {
   "cell_type": "markdown",
   "id": "c9485955",
   "metadata": {},
   "source": [
    "for train_index, test_index in tss.split(X):\n",
    "    X_train, X_test = X.iloc[train_index, :], X.iloc[test_index,:]\n",
    "    y_train, y_test = y.iloc[train_index], y.iloc[test_index]"
   ]
  },
  {
   "cell_type": "markdown",
   "id": "24fc808b",
   "metadata": {},
   "source": [
    "X_train"
   ]
  },
  {
   "cell_type": "markdown",
   "id": "580a3aa8",
   "metadata": {},
   "source": [
    "ridge_model = linear_model.PoissonRegressor()\n",
    "ridge_model.fit(X_train, y_train)\n",
    "# Infer\n",
    "y_pred_ridge = ridge_model.predict(X_test)"
   ]
  },
  {
   "cell_type": "code",
   "execution_count": null,
   "id": "173c226f",
   "metadata": {},
   "outputs": [],
   "source": []
  },
  {
   "cell_type": "markdown",
   "id": "e6138ed9",
   "metadata": {},
   "source": [
    "y_pred_ridge"
   ]
  },
  {
   "cell_type": "markdown",
   "id": "66965d2a",
   "metadata": {},
   "source": [
    "y_test"
   ]
  },
  {
   "cell_type": "markdown",
   "id": "1fd88df0",
   "metadata": {},
   "source": [
    "stop"
   ]
  },
  {
   "cell_type": "markdown",
   "id": "77a328d7",
   "metadata": {},
   "source": [
    "rf_model = RandomForestRegressor()\n",
    "rf_model.fit(X_train,y_train)\n",
    "y_pred_rf = rf_model.predict(X_test)"
   ]
  },
  {
   "cell_type": "markdown",
   "id": "9026c797",
   "metadata": {},
   "source": [
    "pd.DataFrame(y_pred_rf)"
   ]
  },
  {
   "cell_type": "markdown",
   "id": "c732bf90",
   "metadata": {},
   "source": [
    "## How do I predict times not passed?"
   ]
  },
  {
   "cell_type": "markdown",
   "id": "a827d93b",
   "metadata": {},
   "source": [
    "def predict(ticker,days):\n",
    "    yfin = yf.Ticker(ticker)\n",
    "    print(\"Stock: \", yfin.info['name'])\n",
    "    hist = yfin.history(period=\"max\")\n",
    "    hist = hist[['Adj Close']]\n",
    "    hist.reset_index()\n",
    "    hist = hist.rename({'Date': 'ds', 'Adj Close': 'y'}, axis='columns')\n",
    "    print(\"Curent Data\")\n",
    "    print(hist.tail())\n",
    "    m = Prophet(daily_seasonality=True)\n",
    "    m.fit(hist)\n",
    "    future = m.make_future_dataframe(periods=days)\n",
    "    forecast = m.predict(future)\n",
    "    print(\"Predicted Data\")\n",
    "    print(forecast[['ds', 'yhat', 'yhat_lower', 'yhat_upper']].tail())\n",
    "    figure1 = m.plot(forecast)\n",
    "    figure2 = m.plot_components(forecast)\n",
    "\n",
    "predict(\"MSFT\", 50)"
   ]
  },
  {
   "cell_type": "code",
   "execution_count": 8,
   "id": "44eae151",
   "metadata": {},
   "outputs": [
    {
     "data": {
      "text/html": [
       "<div>\n",
       "<style scoped>\n",
       "    .dataframe tbody tr th:only-of-type {\n",
       "        vertical-align: middle;\n",
       "    }\n",
       "\n",
       "    .dataframe tbody tr th {\n",
       "        vertical-align: top;\n",
       "    }\n",
       "\n",
       "    .dataframe thead th {\n",
       "        text-align: right;\n",
       "    }\n",
       "</style>\n",
       "<table border=\"1\" class=\"dataframe\">\n",
       "  <thead>\n",
       "    <tr style=\"text-align: right;\">\n",
       "      <th></th>\n",
       "      <th>index</th>\n",
       "      <th>Date</th>\n",
       "      <th>Open</th>\n",
       "      <th>High</th>\n",
       "      <th>Low</th>\n",
       "      <th>Close</th>\n",
       "      <th>Adj Close</th>\n",
       "      <th>Volume</th>\n",
       "      <th>HighLow_pct</th>\n",
       "      <th>Pct_change</th>\n",
       "    </tr>\n",
       "  </thead>\n",
       "  <tbody>\n",
       "    <tr>\n",
       "      <th>0</th>\n",
       "      <td>0</td>\n",
       "      <td>2016-01-04</td>\n",
       "      <td>179.119995</td>\n",
       "      <td>179.119995</td>\n",
       "      <td>170.570007</td>\n",
       "      <td>172.020004</td>\n",
       "      <td>172.020004</td>\n",
       "      <td>43555</td>\n",
       "      <td>4.970345</td>\n",
       "      <td>-3.963818</td>\n",
       "    </tr>\n",
       "    <tr>\n",
       "      <th>1</th>\n",
       "      <td>1</td>\n",
       "      <td>2016-01-05</td>\n",
       "      <td>173.889999</td>\n",
       "      <td>175.039993</td>\n",
       "      <td>172.750000</td>\n",
       "      <td>174.570007</td>\n",
       "      <td>174.570007</td>\n",
       "      <td>64667</td>\n",
       "      <td>1.311791</td>\n",
       "      <td>0.391056</td>\n",
       "    </tr>\n",
       "    <tr>\n",
       "      <th>2</th>\n",
       "      <td>2</td>\n",
       "      <td>2016-01-06</td>\n",
       "      <td>173.699997</td>\n",
       "      <td>173.699997</td>\n",
       "      <td>171.520004</td>\n",
       "      <td>172.800003</td>\n",
       "      <td>172.800003</td>\n",
       "      <td>17424</td>\n",
       "      <td>1.261570</td>\n",
       "      <td>-0.518131</td>\n",
       "    </tr>\n",
       "    <tr>\n",
       "      <th>3</th>\n",
       "      <td>3</td>\n",
       "      <td>2016-01-07</td>\n",
       "      <td>169.259995</td>\n",
       "      <td>169.320007</td>\n",
       "      <td>166.210007</td>\n",
       "      <td>168.669998</td>\n",
       "      <td>168.669998</td>\n",
       "      <td>51230</td>\n",
       "      <td>1.843837</td>\n",
       "      <td>-0.348574</td>\n",
       "    </tr>\n",
       "    <tr>\n",
       "      <th>4</th>\n",
       "      <td>4</td>\n",
       "      <td>2016-01-08</td>\n",
       "      <td>167.710007</td>\n",
       "      <td>168.339996</td>\n",
       "      <td>164.809998</td>\n",
       "      <td>164.809998</td>\n",
       "      <td>164.809998</td>\n",
       "      <td>53279</td>\n",
       "      <td>2.141860</td>\n",
       "      <td>-1.729181</td>\n",
       "    </tr>\n",
       "    <tr>\n",
       "      <th>...</th>\n",
       "      <td>...</td>\n",
       "      <td>...</td>\n",
       "      <td>...</td>\n",
       "      <td>...</td>\n",
       "      <td>...</td>\n",
       "      <td>...</td>\n",
       "      <td>...</td>\n",
       "      <td>...</td>\n",
       "      <td>...</td>\n",
       "      <td>...</td>\n",
       "    </tr>\n",
       "    <tr>\n",
       "      <th>1881</th>\n",
       "      <td>1881</td>\n",
       "      <td>2023-05-25</td>\n",
       "      <td>401.399994</td>\n",
       "      <td>403.559998</td>\n",
       "      <td>400.739990</td>\n",
       "      <td>401.290009</td>\n",
       "      <td>401.290009</td>\n",
       "      <td>7277</td>\n",
       "      <td>0.702735</td>\n",
       "      <td>-0.027400</td>\n",
       "    </tr>\n",
       "    <tr>\n",
       "      <th>1882</th>\n",
       "      <td>1882</td>\n",
       "      <td>2023-05-26</td>\n",
       "      <td>402.640015</td>\n",
       "      <td>408.399994</td>\n",
       "      <td>401.269989</td>\n",
       "      <td>407.570007</td>\n",
       "      <td>407.570007</td>\n",
       "      <td>12137</td>\n",
       "      <td>1.749394</td>\n",
       "      <td>1.224417</td>\n",
       "    </tr>\n",
       "    <tr>\n",
       "      <th>1883</th>\n",
       "      <td>1883</td>\n",
       "      <td>2023-05-29</td>\n",
       "      <td>409.440002</td>\n",
       "      <td>409.829987</td>\n",
       "      <td>409.119995</td>\n",
       "      <td>409.809998</td>\n",
       "      <td>409.809998</td>\n",
       "      <td>4923</td>\n",
       "      <td>0.173249</td>\n",
       "      <td>0.090366</td>\n",
       "    </tr>\n",
       "    <tr>\n",
       "      <th>1884</th>\n",
       "      <td>1884</td>\n",
       "      <td>2023-05-30</td>\n",
       "      <td>410.359985</td>\n",
       "      <td>411.339996</td>\n",
       "      <td>407.920013</td>\n",
       "      <td>408.549988</td>\n",
       "      <td>408.549988</td>\n",
       "      <td>7026</td>\n",
       "      <td>0.837103</td>\n",
       "      <td>-0.441076</td>\n",
       "    </tr>\n",
       "    <tr>\n",
       "      <th>1885</th>\n",
       "      <td>1885</td>\n",
       "      <td>2023-05-31</td>\n",
       "      <td>408.239990</td>\n",
       "      <td>409.790009</td>\n",
       "      <td>406.230011</td>\n",
       "      <td>406.920013</td>\n",
       "      <td>406.920013</td>\n",
       "      <td>18056</td>\n",
       "      <td>0.874864</td>\n",
       "      <td>-0.323334</td>\n",
       "    </tr>\n",
       "  </tbody>\n",
       "</table>\n",
       "<p>1886 rows × 10 columns</p>\n",
       "</div>"
      ],
      "text/plain": [
       "      index       Date        Open        High         Low       Close  \\\n",
       "0         0 2016-01-04  179.119995  179.119995  170.570007  172.020004   \n",
       "1         1 2016-01-05  173.889999  175.039993  172.750000  174.570007   \n",
       "2         2 2016-01-06  173.699997  173.699997  171.520004  172.800003   \n",
       "3         3 2016-01-07  169.259995  169.320007  166.210007  168.669998   \n",
       "4         4 2016-01-08  167.710007  168.339996  164.809998  164.809998   \n",
       "...     ...        ...         ...         ...         ...         ...   \n",
       "1881   1881 2023-05-25  401.399994  403.559998  400.739990  401.290009   \n",
       "1882   1882 2023-05-26  402.640015  408.399994  401.269989  407.570007   \n",
       "1883   1883 2023-05-29  409.440002  409.829987  409.119995  409.809998   \n",
       "1884   1884 2023-05-30  410.359985  411.339996  407.920013  408.549988   \n",
       "1885   1885 2023-05-31  408.239990  409.790009  406.230011  406.920013   \n",
       "\n",
       "       Adj Close  Volume  HighLow_pct  Pct_change  \n",
       "0     172.020004   43555     4.970345   -3.963818  \n",
       "1     174.570007   64667     1.311791    0.391056  \n",
       "2     172.800003   17424     1.261570   -0.518131  \n",
       "3     168.669998   51230     1.843837   -0.348574  \n",
       "4     164.809998   53279     2.141860   -1.729181  \n",
       "...          ...     ...          ...         ...  \n",
       "1881  401.290009    7277     0.702735   -0.027400  \n",
       "1882  407.570007   12137     1.749394    1.224417  \n",
       "1883  409.809998    4923     0.173249    0.090366  \n",
       "1884  408.549988    7026     0.837103   -0.441076  \n",
       "1885  406.920013   18056     0.874864   -0.323334  \n",
       "\n",
       "[1886 rows x 10 columns]"
      ]
     },
     "execution_count": 8,
     "metadata": {},
     "output_type": "execute_result"
    }
   ],
   "source": [
    "data = data.reset_index()\n",
    "data"
   ]
  },
  {
   "cell_type": "code",
   "execution_count": 9,
   "id": "63308062",
   "metadata": {},
   "outputs": [],
   "source": [
    "data = data.rename({'Date': 'ds','Adj Close': 'y'}, axis='columns')\n",
    "data = data[['ds', 'y']]"
   ]
  },
  {
   "cell_type": "code",
   "execution_count": 10,
   "id": "6f50cdf2",
   "metadata": {},
   "outputs": [
    {
     "data": {
      "text/html": [
       "<div>\n",
       "<style scoped>\n",
       "    .dataframe tbody tr th:only-of-type {\n",
       "        vertical-align: middle;\n",
       "    }\n",
       "\n",
       "    .dataframe tbody tr th {\n",
       "        vertical-align: top;\n",
       "    }\n",
       "\n",
       "    .dataframe thead th {\n",
       "        text-align: right;\n",
       "    }\n",
       "</style>\n",
       "<table border=\"1\" class=\"dataframe\">\n",
       "  <thead>\n",
       "    <tr style=\"text-align: right;\">\n",
       "      <th></th>\n",
       "      <th>ds</th>\n",
       "      <th>y</th>\n",
       "    </tr>\n",
       "  </thead>\n",
       "  <tbody>\n",
       "    <tr>\n",
       "      <th>0</th>\n",
       "      <td>2016-01-04</td>\n",
       "      <td>172.020004</td>\n",
       "    </tr>\n",
       "    <tr>\n",
       "      <th>1</th>\n",
       "      <td>2016-01-05</td>\n",
       "      <td>174.570007</td>\n",
       "    </tr>\n",
       "    <tr>\n",
       "      <th>2</th>\n",
       "      <td>2016-01-06</td>\n",
       "      <td>172.800003</td>\n",
       "    </tr>\n",
       "    <tr>\n",
       "      <th>3</th>\n",
       "      <td>2016-01-07</td>\n",
       "      <td>168.669998</td>\n",
       "    </tr>\n",
       "    <tr>\n",
       "      <th>4</th>\n",
       "      <td>2016-01-08</td>\n",
       "      <td>164.809998</td>\n",
       "    </tr>\n",
       "    <tr>\n",
       "      <th>...</th>\n",
       "      <td>...</td>\n",
       "      <td>...</td>\n",
       "    </tr>\n",
       "    <tr>\n",
       "      <th>1881</th>\n",
       "      <td>2023-05-25</td>\n",
       "      <td>401.290009</td>\n",
       "    </tr>\n",
       "    <tr>\n",
       "      <th>1882</th>\n",
       "      <td>2023-05-26</td>\n",
       "      <td>407.570007</td>\n",
       "    </tr>\n",
       "    <tr>\n",
       "      <th>1883</th>\n",
       "      <td>2023-05-29</td>\n",
       "      <td>409.809998</td>\n",
       "    </tr>\n",
       "    <tr>\n",
       "      <th>1884</th>\n",
       "      <td>2023-05-30</td>\n",
       "      <td>408.549988</td>\n",
       "    </tr>\n",
       "    <tr>\n",
       "      <th>1885</th>\n",
       "      <td>2023-05-31</td>\n",
       "      <td>406.920013</td>\n",
       "    </tr>\n",
       "  </tbody>\n",
       "</table>\n",
       "<p>1886 rows × 2 columns</p>\n",
       "</div>"
      ],
      "text/plain": [
       "             ds           y\n",
       "0    2016-01-04  172.020004\n",
       "1    2016-01-05  174.570007\n",
       "2    2016-01-06  172.800003\n",
       "3    2016-01-07  168.669998\n",
       "4    2016-01-08  164.809998\n",
       "...         ...         ...\n",
       "1881 2023-05-25  401.290009\n",
       "1882 2023-05-26  407.570007\n",
       "1883 2023-05-29  409.809998\n",
       "1884 2023-05-30  408.549988\n",
       "1885 2023-05-31  406.920013\n",
       "\n",
       "[1886 rows x 2 columns]"
      ]
     },
     "execution_count": 10,
     "metadata": {},
     "output_type": "execute_result"
    }
   ],
   "source": [
    "data"
   ]
  },
  {
   "cell_type": "code",
   "execution_count": 11,
   "id": "3a3a9805",
   "metadata": {
    "scrolled": true
   },
   "outputs": [
    {
     "name": "stderr",
     "output_type": "stream",
     "text": [
      "09:34:42 - cmdstanpy - INFO - Chain [1] start processing\n",
      "09:34:42 - cmdstanpy - INFO - Chain [1] done processing\n",
      "09:34:42 - cmdstanpy - ERROR - Chain [1] error: terminated by signal 3221225657 \n",
      "Optimization terminated abnormally. Falling back to Newton.\n",
      "09:34:42 - cmdstanpy - INFO - Chain [1] start processing\n",
      "09:34:42 - cmdstanpy - INFO - Chain [1] done processing\n",
      "09:34:42 - cmdstanpy - ERROR - Chain [1] error: terminated by signal 3221225657 \n"
     ]
    },
    {
     "ename": "RuntimeError",
     "evalue": "Error during optimization! Command 'C:\\Users\\marym\\miniconda3\\envs\\tf\\Lib\\site-packages\\prophet\\stan_model\\prophet_model.bin random seed=9450 data file=C:\\Users\\marym\\AppData\\Local\\Temp\\tmph3yc817i\\pmdnzrng.json init=C:\\Users\\marym\\AppData\\Local\\Temp\\tmph3yc817i\\9if2a2ee.json output file=C:\\Users\\marym\\AppData\\Local\\Temp\\tmph3yc817i\\prophet_modele644e132\\prophet_model-20230701093442.csv method=optimize algorithm=newton iter=10000' failed: ",
     "output_type": "error",
     "traceback": [
      "\u001b[1;31m---------------------------------------------------------------------------\u001b[0m",
      "\u001b[1;31mRuntimeError\u001b[0m                              Traceback (most recent call last)",
      "File \u001b[1;32m~\\miniconda3\\envs\\tf\\lib\\site-packages\\prophet\\models.py:96\u001b[0m, in \u001b[0;36mCmdStanPyBackend.fit\u001b[1;34m(self, stan_init, stan_data, **kwargs)\u001b[0m\n\u001b[0;32m     95\u001b[0m \u001b[38;5;28;01mtry\u001b[39;00m:\n\u001b[1;32m---> 96\u001b[0m     \u001b[38;5;28mself\u001b[39m\u001b[38;5;241m.\u001b[39mstan_fit \u001b[38;5;241m=\u001b[39m \u001b[38;5;28mself\u001b[39m\u001b[38;5;241m.\u001b[39mmodel\u001b[38;5;241m.\u001b[39moptimize(\u001b[38;5;241m*\u001b[39m\u001b[38;5;241m*\u001b[39margs)\n\u001b[0;32m     97\u001b[0m \u001b[38;5;28;01mexcept\u001b[39;00m \u001b[38;5;167;01mRuntimeError\u001b[39;00m \u001b[38;5;28;01mas\u001b[39;00m e:\n\u001b[0;32m     98\u001b[0m     \u001b[38;5;66;03m# Fall back on Newton\u001b[39;00m\n",
      "File \u001b[1;32m~\\miniconda3\\envs\\tf\\lib\\site-packages\\cmdstanpy\\model.py:738\u001b[0m, in \u001b[0;36mCmdStanModel.optimize\u001b[1;34m(self, data, seed, inits, output_dir, sig_figs, save_profile, algorithm, init_alpha, tol_obj, tol_rel_obj, tol_grad, tol_rel_grad, tol_param, history_size, iter, save_iterations, require_converged, show_console, refresh, time_fmt, timeout)\u001b[0m\n\u001b[0;32m    737\u001b[0m     \u001b[38;5;28;01melse\u001b[39;00m:\n\u001b[1;32m--> 738\u001b[0m         \u001b[38;5;28;01mraise\u001b[39;00m \u001b[38;5;167;01mRuntimeError\u001b[39;00m(msg)\n\u001b[0;32m    739\u001b[0m mle \u001b[38;5;241m=\u001b[39m CmdStanMLE(runset)\n",
      "\u001b[1;31mRuntimeError\u001b[0m: Error during optimization! Command 'C:\\Users\\marym\\miniconda3\\envs\\tf\\Lib\\site-packages\\prophet\\stan_model\\prophet_model.bin random seed=74361 data file=C:\\Users\\marym\\AppData\\Local\\Temp\\tmph3yc817i\\0i45mulg.json init=C:\\Users\\marym\\AppData\\Local\\Temp\\tmph3yc817i\\19aauwuu.json output file=C:\\Users\\marym\\AppData\\Local\\Temp\\tmph3yc817i\\prophet_modelpa07z59z\\prophet_model-20230701093442.csv method=optimize algorithm=lbfgs iter=10000' failed: ",
      "\nDuring handling of the above exception, another exception occurred:\n",
      "\u001b[1;31mRuntimeError\u001b[0m                              Traceback (most recent call last)",
      "Cell \u001b[1;32mIn[11], line 2\u001b[0m\n\u001b[0;32m      1\u001b[0m m \u001b[38;5;241m=\u001b[39m Prophet()\n\u001b[1;32m----> 2\u001b[0m \u001b[43mm\u001b[49m\u001b[38;5;241;43m.\u001b[39;49m\u001b[43mfit\u001b[49m\u001b[43m(\u001b[49m\u001b[43mdata\u001b[49m\u001b[43m)\u001b[49m\n",
      "File \u001b[1;32m~\\miniconda3\\envs\\tf\\lib\\site-packages\\prophet\\forecaster.py:1174\u001b[0m, in \u001b[0;36mProphet.fit\u001b[1;34m(self, df, **kwargs)\u001b[0m\n\u001b[0;32m   1172\u001b[0m     \u001b[38;5;28mself\u001b[39m\u001b[38;5;241m.\u001b[39mparams \u001b[38;5;241m=\u001b[39m \u001b[38;5;28mself\u001b[39m\u001b[38;5;241m.\u001b[39mstan_backend\u001b[38;5;241m.\u001b[39msampling(stan_init, dat, \u001b[38;5;28mself\u001b[39m\u001b[38;5;241m.\u001b[39mmcmc_samples, \u001b[38;5;241m*\u001b[39m\u001b[38;5;241m*\u001b[39mkwargs)\n\u001b[0;32m   1173\u001b[0m \u001b[38;5;28;01melse\u001b[39;00m:\n\u001b[1;32m-> 1174\u001b[0m     \u001b[38;5;28mself\u001b[39m\u001b[38;5;241m.\u001b[39mparams \u001b[38;5;241m=\u001b[39m \u001b[38;5;28mself\u001b[39m\u001b[38;5;241m.\u001b[39mstan_backend\u001b[38;5;241m.\u001b[39mfit(stan_init, dat, \u001b[38;5;241m*\u001b[39m\u001b[38;5;241m*\u001b[39mkwargs)\n\u001b[0;32m   1176\u001b[0m \u001b[38;5;28mself\u001b[39m\u001b[38;5;241m.\u001b[39mstan_fit \u001b[38;5;241m=\u001b[39m \u001b[38;5;28mself\u001b[39m\u001b[38;5;241m.\u001b[39mstan_backend\u001b[38;5;241m.\u001b[39mstan_fit\n\u001b[0;32m   1177\u001b[0m \u001b[38;5;66;03m# If no changepoints were requested, replace delta with 0s\u001b[39;00m\n",
      "File \u001b[1;32m~\\miniconda3\\envs\\tf\\lib\\site-packages\\prophet\\models.py:103\u001b[0m, in \u001b[0;36mCmdStanPyBackend.fit\u001b[1;34m(self, stan_init, stan_data, **kwargs)\u001b[0m\n\u001b[0;32m    101\u001b[0m     logger\u001b[38;5;241m.\u001b[39mwarning(\u001b[38;5;124m'\u001b[39m\u001b[38;5;124mOptimization terminated abnormally. Falling back to Newton.\u001b[39m\u001b[38;5;124m'\u001b[39m)\n\u001b[0;32m    102\u001b[0m     args[\u001b[38;5;124m'\u001b[39m\u001b[38;5;124malgorithm\u001b[39m\u001b[38;5;124m'\u001b[39m] \u001b[38;5;241m=\u001b[39m \u001b[38;5;124m'\u001b[39m\u001b[38;5;124mNewton\u001b[39m\u001b[38;5;124m'\u001b[39m\n\u001b[1;32m--> 103\u001b[0m     \u001b[38;5;28mself\u001b[39m\u001b[38;5;241m.\u001b[39mstan_fit \u001b[38;5;241m=\u001b[39m \u001b[38;5;28mself\u001b[39m\u001b[38;5;241m.\u001b[39mmodel\u001b[38;5;241m.\u001b[39moptimize(\u001b[38;5;241m*\u001b[39m\u001b[38;5;241m*\u001b[39margs)\n\u001b[0;32m    104\u001b[0m params \u001b[38;5;241m=\u001b[39m \u001b[38;5;28mself\u001b[39m\u001b[38;5;241m.\u001b[39mstan_to_dict_numpy(\n\u001b[0;32m    105\u001b[0m     \u001b[38;5;28mself\u001b[39m\u001b[38;5;241m.\u001b[39mstan_fit\u001b[38;5;241m.\u001b[39mcolumn_names, \u001b[38;5;28mself\u001b[39m\u001b[38;5;241m.\u001b[39mstan_fit\u001b[38;5;241m.\u001b[39moptimized_params_np)\n\u001b[0;32m    106\u001b[0m \u001b[38;5;28;01mfor\u001b[39;00m par \u001b[38;5;129;01min\u001b[39;00m params:\n",
      "File \u001b[1;32m~\\miniconda3\\envs\\tf\\lib\\site-packages\\cmdstanpy\\model.py:738\u001b[0m, in \u001b[0;36mCmdStanModel.optimize\u001b[1;34m(self, data, seed, inits, output_dir, sig_figs, save_profile, algorithm, init_alpha, tol_obj, tol_rel_obj, tol_grad, tol_rel_grad, tol_param, history_size, iter, save_iterations, require_converged, show_console, refresh, time_fmt, timeout)\u001b[0m\n\u001b[0;32m    736\u001b[0m         get_logger()\u001b[38;5;241m.\u001b[39mwarning(msg)\n\u001b[0;32m    737\u001b[0m     \u001b[38;5;28;01melse\u001b[39;00m:\n\u001b[1;32m--> 738\u001b[0m         \u001b[38;5;28;01mraise\u001b[39;00m \u001b[38;5;167;01mRuntimeError\u001b[39;00m(msg)\n\u001b[0;32m    739\u001b[0m mle \u001b[38;5;241m=\u001b[39m CmdStanMLE(runset)\n\u001b[0;32m    740\u001b[0m \u001b[38;5;28;01mreturn\u001b[39;00m mle\n",
      "\u001b[1;31mRuntimeError\u001b[0m: Error during optimization! Command 'C:\\Users\\marym\\miniconda3\\envs\\tf\\Lib\\site-packages\\prophet\\stan_model\\prophet_model.bin random seed=9450 data file=C:\\Users\\marym\\AppData\\Local\\Temp\\tmph3yc817i\\pmdnzrng.json init=C:\\Users\\marym\\AppData\\Local\\Temp\\tmph3yc817i\\9if2a2ee.json output file=C:\\Users\\marym\\AppData\\Local\\Temp\\tmph3yc817i\\prophet_modele644e132\\prophet_model-20230701093442.csv method=optimize algorithm=newton iter=10000' failed: "
     ]
    }
   ],
   "source": [
    "m = Prophet()\n",
    "m.fit(data)"
   ]
  },
  {
   "cell_type": "code",
   "execution_count": null,
   "id": "6a96ebae",
   "metadata": {},
   "outputs": [],
   "source": [
    "future = m.make_future_dataframe(periods=365)\n",
    "\n",
    "future"
   ]
  },
  {
   "cell_type": "code",
   "execution_count": null,
   "id": "0307d821",
   "metadata": {},
   "outputs": [],
   "source": [
    "forecast = m.predict(future)\n",
    "forecast"
   ]
  },
  {
   "cell_type": "code",
   "execution_count": null,
   "id": "fa89b768",
   "metadata": {},
   "outputs": [],
   "source": []
  },
  {
   "cell_type": "markdown",
   "id": "3591b286",
   "metadata": {},
   "source": [
    "df2['date'] = pd.date_range(df2['date'].max()+pd.Timedelta(1,unit='d'),periods=365)\n"
   ]
  },
  {
   "cell_type": "code",
   "execution_count": null,
   "id": "2768c669",
   "metadata": {},
   "outputs": [],
   "source": []
  },
  {
   "cell_type": "markdown",
   "id": "8dcf0b83",
   "metadata": {},
   "source": [
    "# Streamlit"
   ]
  },
  {
   "cell_type": "code",
   "execution_count": null,
   "id": "b6f3b8c5",
   "metadata": {},
   "outputs": [],
   "source": []
  },
  {
   "cell_type": "code",
   "execution_count": null,
   "id": "a78a481e",
   "metadata": {},
   "outputs": [],
   "source": []
  },
  {
   "cell_type": "code",
   "execution_count": null,
   "id": "f9dbf489",
   "metadata": {},
   "outputs": [],
   "source": []
  },
  {
   "cell_type": "code",
   "execution_count": null,
   "id": "52d4e4df",
   "metadata": {},
   "outputs": [],
   "source": []
  }
 ],
 "metadata": {
  "kernelspec": {
   "display_name": "Python [conda env:tf]",
   "language": "python",
   "name": "conda-env-tf-py"
  },
  "language_info": {
   "codemirror_mode": {
    "name": "ipython",
    "version": 3
   },
   "file_extension": ".py",
   "mimetype": "text/x-python",
   "name": "python",
   "nbconvert_exporter": "python",
   "pygments_lexer": "ipython3",
   "version": "3.9.16"
  }
 },
 "nbformat": 4,
 "nbformat_minor": 5
}
