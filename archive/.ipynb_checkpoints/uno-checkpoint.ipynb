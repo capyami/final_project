{
 "cells": [
  {
   "cell_type": "markdown",
   "id": "56851ae8",
   "metadata": {},
   "source": [
    "# Investments predictions with streamlit"
   ]
  },
  {
   "cell_type": "code",
   "execution_count": 1,
   "id": "5050f862",
   "metadata": {},
   "outputs": [],
   "source": [
    "import yfinance as yf\n",
    "import pandas as pd\n",
    "import datetime\n",
    "from datetime import date\n",
    "import financedatabase as fd\n",
    "import streamlit as st\n",
    "from sklearn.model_selection import TimeSeriesSplit\n"
   ]
  },
  {
   "cell_type": "markdown",
   "id": "183109e2",
   "metadata": {},
   "source": [
    "#### Adquisition"
   ]
  },
  {
   "cell_type": "markdown",
   "id": "535e752c",
   "metadata": {},
   "source": [
    "ETFs select"
   ]
  },
  {
   "cell_type": "code",
   "execution_count": null,
   "id": "362d8020",
   "metadata": {},
   "outputs": [],
   "source": [
    "etfs = fd.ETFs()\n",
    "etfs.select()['category'].unique()"
   ]
  },
  {
   "cell_type": "code",
   "execution_count": null,
   "id": "e866ac6e",
   "metadata": {},
   "outputs": [],
   "source": [
    "funds = fd.Funds()\n",
    "funds.select()['category_group'].unique()"
   ]
  },
  {
   "cell_type": "markdown",
   "id": "8383dbe9",
   "metadata": {},
   "source": [
    "---"
   ]
  },
  {
   "cell_type": "markdown",
   "id": "73363842",
   "metadata": {},
   "source": [
    "one by one"
   ]
  },
  {
   "cell_type": "code",
   "execution_count": 2,
   "id": "5fc014e7",
   "metadata": {},
   "outputs": [],
   "source": [
    "start = \"2015-01-01\"\n",
    "today = date.today().strftime(\"%Y-%m-%d\")"
   ]
  },
  {
   "cell_type": "code",
   "execution_count": 3,
   "id": "6ecf9633",
   "metadata": {},
   "outputs": [
    {
     "name": "stdout",
     "output_type": "stream",
     "text": [
      "[*********************100%***********************]  1 of 1 completed\n"
     ]
    }
   ],
   "source": [
    "etf_sp500 = yf.download('CSSPX.MI', start, today) # CSSPX.MI S&P500\n",
    "etf_sp500_ticker = yf.Ticker(\"CSSPX.MI\")\n"
   ]
  },
  {
   "cell_type": "code",
   "execution_count": 11,
   "id": "c9168184",
   "metadata": {},
   "outputs": [
    {
     "data": {
      "text/html": [
       "<div>\n",
       "<style scoped>\n",
       "    .dataframe tbody tr th:only-of-type {\n",
       "        vertical-align: middle;\n",
       "    }\n",
       "\n",
       "    .dataframe tbody tr th {\n",
       "        vertical-align: top;\n",
       "    }\n",
       "\n",
       "    .dataframe thead th {\n",
       "        text-align: right;\n",
       "    }\n",
       "</style>\n",
       "<table border=\"1\" class=\"dataframe\">\n",
       "  <thead>\n",
       "    <tr style=\"text-align: right;\">\n",
       "      <th></th>\n",
       "      <th>Adj Close</th>\n",
       "    </tr>\n",
       "    <tr>\n",
       "      <th>Date</th>\n",
       "      <th></th>\n",
       "    </tr>\n",
       "  </thead>\n",
       "  <tbody>\n",
       "    <tr>\n",
       "      <th>2015-01-02</th>\n",
       "      <td>155.830002</td>\n",
       "    </tr>\n",
       "    <tr>\n",
       "      <th>2015-01-05</th>\n",
       "      <td>155.350006</td>\n",
       "    </tr>\n",
       "    <tr>\n",
       "      <th>2015-01-06</th>\n",
       "      <td>154.070007</td>\n",
       "    </tr>\n",
       "    <tr>\n",
       "      <th>2015-01-07</th>\n",
       "      <td>155.940002</td>\n",
       "    </tr>\n",
       "    <tr>\n",
       "      <th>2015-01-08</th>\n",
       "      <td>159.570007</td>\n",
       "    </tr>\n",
       "    <tr>\n",
       "      <th>...</th>\n",
       "      <td>...</td>\n",
       "    </tr>\n",
       "    <tr>\n",
       "      <th>2023-06-26</th>\n",
       "      <td>414.559998</td>\n",
       "    </tr>\n",
       "    <tr>\n",
       "      <th>2023-06-27</th>\n",
       "      <td>414.059998</td>\n",
       "    </tr>\n",
       "    <tr>\n",
       "      <th>2023-06-28</th>\n",
       "      <td>418.179993</td>\n",
       "    </tr>\n",
       "    <tr>\n",
       "      <th>2023-06-29</th>\n",
       "      <td>420.309998</td>\n",
       "    </tr>\n",
       "    <tr>\n",
       "      <th>2023-06-30</th>\n",
       "      <td>423.820007</td>\n",
       "    </tr>\n",
       "  </tbody>\n",
       "</table>\n",
       "<p>2163 rows × 1 columns</p>\n",
       "</div>"
      ],
      "text/plain": [
       "             Adj Close\n",
       "Date                  \n",
       "2015-01-02  155.830002\n",
       "2015-01-05  155.350006\n",
       "2015-01-06  154.070007\n",
       "2015-01-07  155.940002\n",
       "2015-01-08  159.570007\n",
       "...                ...\n",
       "2023-06-26  414.559998\n",
       "2023-06-27  414.059998\n",
       "2023-06-28  418.179993\n",
       "2023-06-29  420.309998\n",
       "2023-06-30  423.820007\n",
       "\n",
       "[2163 rows x 1 columns]"
      ]
     },
     "execution_count": 11,
     "metadata": {},
     "output_type": "execute_result"
    }
   ],
   "source": [
    "#etf_sp500 = etf_sp500.reset_index()\n",
    "etf_sp500 = etf_sp500[['Adj Close']]\n",
    "etf_sp500"
   ]
  },
  {
   "cell_type": "code",
   "execution_count": 16,
   "id": "535c4f17",
   "metadata": {},
   "outputs": [],
   "source": [
    "X_train = etf_sp500[-50:]"
   ]
  },
  {
   "cell_type": "code",
   "execution_count": 17,
   "id": "07193d64",
   "metadata": {},
   "outputs": [],
   "source": [
    "X_test = etf_sp500[:2113]"
   ]
  },
  {
   "cell_type": "code",
   "execution_count": 25,
   "id": "18c57ba5",
   "metadata": {},
   "outputs": [
    {
     "ename": "KeyError",
     "evalue": "-50",
     "output_type": "error",
     "traceback": [
      "\u001b[1;31m---------------------------------------------------------------------------\u001b[0m",
      "\u001b[1;31mKeyError\u001b[0m                                  Traceback (most recent call last)",
      "File \u001b[1;32m~\\miniconda3\\envs\\tf\\lib\\site-packages\\pandas\\core\\indexes\\base.py:3802\u001b[0m, in \u001b[0;36mIndex.get_loc\u001b[1;34m(self, key, method, tolerance)\u001b[0m\n\u001b[0;32m   3801\u001b[0m \u001b[38;5;28;01mtry\u001b[39;00m:\n\u001b[1;32m-> 3802\u001b[0m     \u001b[38;5;28;01mreturn\u001b[39;00m \u001b[38;5;28;43mself\u001b[39;49m\u001b[38;5;241;43m.\u001b[39;49m\u001b[43m_engine\u001b[49m\u001b[38;5;241;43m.\u001b[39;49m\u001b[43mget_loc\u001b[49m\u001b[43m(\u001b[49m\u001b[43mcasted_key\u001b[49m\u001b[43m)\u001b[49m\n\u001b[0;32m   3803\u001b[0m \u001b[38;5;28;01mexcept\u001b[39;00m \u001b[38;5;167;01mKeyError\u001b[39;00m \u001b[38;5;28;01mas\u001b[39;00m err:\n",
      "File \u001b[1;32m~\\miniconda3\\envs\\tf\\lib\\site-packages\\pandas\\_libs\\index.pyx:138\u001b[0m, in \u001b[0;36mpandas._libs.index.IndexEngine.get_loc\u001b[1;34m()\u001b[0m\n",
      "File \u001b[1;32m~\\miniconda3\\envs\\tf\\lib\\site-packages\\pandas\\_libs\\index.pyx:165\u001b[0m, in \u001b[0;36mpandas._libs.index.IndexEngine.get_loc\u001b[1;34m()\u001b[0m\n",
      "File \u001b[1;32mpandas\\_libs\\hashtable_class_helper.pxi:5745\u001b[0m, in \u001b[0;36mpandas._libs.hashtable.PyObjectHashTable.get_item\u001b[1;34m()\u001b[0m\n",
      "File \u001b[1;32mpandas\\_libs\\hashtable_class_helper.pxi:5753\u001b[0m, in \u001b[0;36mpandas._libs.hashtable.PyObjectHashTable.get_item\u001b[1;34m()\u001b[0m\n",
      "\u001b[1;31mKeyError\u001b[0m: -50",
      "\nThe above exception was the direct cause of the following exception:\n",
      "\u001b[1;31mKeyError\u001b[0m                                  Traceback (most recent call last)",
      "Cell \u001b[1;32mIn[25], line 1\u001b[0m\n\u001b[1;32m----> 1\u001b[0m X \u001b[38;5;241m=\u001b[39m \u001b[43metf_sp500\u001b[49m\u001b[43m[\u001b[49m\u001b[38;5;241;43m-\u001b[39;49m\u001b[38;5;241;43m50\u001b[39;49m\u001b[43m]\u001b[49m\n\u001b[0;32m      2\u001b[0m y \u001b[38;5;241m=\u001b[39m etf_sp500[[\u001b[38;5;124m'\u001b[39m\u001b[38;5;124mDate\u001b[39m\u001b[38;5;124m'\u001b[39m]]\n",
      "File \u001b[1;32m~\\miniconda3\\envs\\tf\\lib\\site-packages\\pandas\\core\\frame.py:3807\u001b[0m, in \u001b[0;36mDataFrame.__getitem__\u001b[1;34m(self, key)\u001b[0m\n\u001b[0;32m   3805\u001b[0m \u001b[38;5;28;01mif\u001b[39;00m \u001b[38;5;28mself\u001b[39m\u001b[38;5;241m.\u001b[39mcolumns\u001b[38;5;241m.\u001b[39mnlevels \u001b[38;5;241m>\u001b[39m \u001b[38;5;241m1\u001b[39m:\n\u001b[0;32m   3806\u001b[0m     \u001b[38;5;28;01mreturn\u001b[39;00m \u001b[38;5;28mself\u001b[39m\u001b[38;5;241m.\u001b[39m_getitem_multilevel(key)\n\u001b[1;32m-> 3807\u001b[0m indexer \u001b[38;5;241m=\u001b[39m \u001b[38;5;28;43mself\u001b[39;49m\u001b[38;5;241;43m.\u001b[39;49m\u001b[43mcolumns\u001b[49m\u001b[38;5;241;43m.\u001b[39;49m\u001b[43mget_loc\u001b[49m\u001b[43m(\u001b[49m\u001b[43mkey\u001b[49m\u001b[43m)\u001b[49m\n\u001b[0;32m   3808\u001b[0m \u001b[38;5;28;01mif\u001b[39;00m is_integer(indexer):\n\u001b[0;32m   3809\u001b[0m     indexer \u001b[38;5;241m=\u001b[39m [indexer]\n",
      "File \u001b[1;32m~\\miniconda3\\envs\\tf\\lib\\site-packages\\pandas\\core\\indexes\\base.py:3804\u001b[0m, in \u001b[0;36mIndex.get_loc\u001b[1;34m(self, key, method, tolerance)\u001b[0m\n\u001b[0;32m   3802\u001b[0m     \u001b[38;5;28;01mreturn\u001b[39;00m \u001b[38;5;28mself\u001b[39m\u001b[38;5;241m.\u001b[39m_engine\u001b[38;5;241m.\u001b[39mget_loc(casted_key)\n\u001b[0;32m   3803\u001b[0m \u001b[38;5;28;01mexcept\u001b[39;00m \u001b[38;5;167;01mKeyError\u001b[39;00m \u001b[38;5;28;01mas\u001b[39;00m err:\n\u001b[1;32m-> 3804\u001b[0m     \u001b[38;5;28;01mraise\u001b[39;00m \u001b[38;5;167;01mKeyError\u001b[39;00m(key) \u001b[38;5;28;01mfrom\u001b[39;00m \u001b[38;5;21;01merr\u001b[39;00m\n\u001b[0;32m   3805\u001b[0m \u001b[38;5;28;01mexcept\u001b[39;00m \u001b[38;5;167;01mTypeError\u001b[39;00m:\n\u001b[0;32m   3806\u001b[0m     \u001b[38;5;66;03m# If we have a listlike key, _check_indexing_error will raise\u001b[39;00m\n\u001b[0;32m   3807\u001b[0m     \u001b[38;5;66;03m#  InvalidIndexError. Otherwise we fall through and re-raise\u001b[39;00m\n\u001b[0;32m   3808\u001b[0m     \u001b[38;5;66;03m#  the TypeError.\u001b[39;00m\n\u001b[0;32m   3809\u001b[0m     \u001b[38;5;28mself\u001b[39m\u001b[38;5;241m.\u001b[39m_check_indexing_error(key)\n",
      "\u001b[1;31mKeyError\u001b[0m: -50"
     ]
    }
   ],
   "source": [
    "X = etf_sp500[-50]\n",
    "y = etf_sp500[['Date']]"
   ]
  },
  {
   "cell_type": "code",
   "execution_count": 19,
   "id": "3fa6a5d9",
   "metadata": {},
   "outputs": [
    {
     "data": {
      "text/html": [
       "<div>\n",
       "<style scoped>\n",
       "    .dataframe tbody tr th:only-of-type {\n",
       "        vertical-align: middle;\n",
       "    }\n",
       "\n",
       "    .dataframe tbody tr th {\n",
       "        vertical-align: top;\n",
       "    }\n",
       "\n",
       "    .dataframe thead th {\n",
       "        text-align: right;\n",
       "    }\n",
       "</style>\n",
       "<table border=\"1\" class=\"dataframe\">\n",
       "  <thead>\n",
       "    <tr style=\"text-align: right;\">\n",
       "      <th></th>\n",
       "    </tr>\n",
       "    <tr>\n",
       "      <th>Date</th>\n",
       "    </tr>\n",
       "  </thead>\n",
       "  <tbody>\n",
       "    <tr>\n",
       "      <th>2023-04-21</th>\n",
       "    </tr>\n",
       "    <tr>\n",
       "      <th>2023-04-24</th>\n",
       "    </tr>\n",
       "    <tr>\n",
       "      <th>2023-04-25</th>\n",
       "    </tr>\n",
       "    <tr>\n",
       "      <th>2023-04-26</th>\n",
       "    </tr>\n",
       "    <tr>\n",
       "      <th>2023-04-27</th>\n",
       "    </tr>\n",
       "    <tr>\n",
       "      <th>2023-04-28</th>\n",
       "    </tr>\n",
       "    <tr>\n",
       "      <th>2023-05-02</th>\n",
       "    </tr>\n",
       "    <tr>\n",
       "      <th>2023-05-03</th>\n",
       "    </tr>\n",
       "    <tr>\n",
       "      <th>2023-05-04</th>\n",
       "    </tr>\n",
       "    <tr>\n",
       "      <th>2023-05-05</th>\n",
       "    </tr>\n",
       "    <tr>\n",
       "      <th>2023-05-08</th>\n",
       "    </tr>\n",
       "    <tr>\n",
       "      <th>2023-05-09</th>\n",
       "    </tr>\n",
       "    <tr>\n",
       "      <th>2023-05-10</th>\n",
       "    </tr>\n",
       "    <tr>\n",
       "      <th>2023-05-11</th>\n",
       "    </tr>\n",
       "    <tr>\n",
       "      <th>2023-05-12</th>\n",
       "    </tr>\n",
       "    <tr>\n",
       "      <th>2023-05-15</th>\n",
       "    </tr>\n",
       "    <tr>\n",
       "      <th>2023-05-16</th>\n",
       "    </tr>\n",
       "    <tr>\n",
       "      <th>2023-05-17</th>\n",
       "    </tr>\n",
       "    <tr>\n",
       "      <th>2023-05-18</th>\n",
       "    </tr>\n",
       "    <tr>\n",
       "      <th>2023-05-19</th>\n",
       "    </tr>\n",
       "    <tr>\n",
       "      <th>2023-05-22</th>\n",
       "    </tr>\n",
       "    <tr>\n",
       "      <th>2023-05-23</th>\n",
       "    </tr>\n",
       "    <tr>\n",
       "      <th>2023-05-24</th>\n",
       "    </tr>\n",
       "    <tr>\n",
       "      <th>2023-05-25</th>\n",
       "    </tr>\n",
       "    <tr>\n",
       "      <th>2023-05-26</th>\n",
       "    </tr>\n",
       "    <tr>\n",
       "      <th>2023-05-29</th>\n",
       "    </tr>\n",
       "    <tr>\n",
       "      <th>2023-05-30</th>\n",
       "    </tr>\n",
       "    <tr>\n",
       "      <th>2023-05-31</th>\n",
       "    </tr>\n",
       "    <tr>\n",
       "      <th>2023-06-01</th>\n",
       "    </tr>\n",
       "    <tr>\n",
       "      <th>2023-06-02</th>\n",
       "    </tr>\n",
       "    <tr>\n",
       "      <th>2023-06-05</th>\n",
       "    </tr>\n",
       "    <tr>\n",
       "      <th>2023-06-06</th>\n",
       "    </tr>\n",
       "    <tr>\n",
       "      <th>2023-06-07</th>\n",
       "    </tr>\n",
       "    <tr>\n",
       "      <th>2023-06-08</th>\n",
       "    </tr>\n",
       "    <tr>\n",
       "      <th>2023-06-09</th>\n",
       "    </tr>\n",
       "    <tr>\n",
       "      <th>2023-06-12</th>\n",
       "    </tr>\n",
       "    <tr>\n",
       "      <th>2023-06-13</th>\n",
       "    </tr>\n",
       "    <tr>\n",
       "      <th>2023-06-14</th>\n",
       "    </tr>\n",
       "    <tr>\n",
       "      <th>2023-06-15</th>\n",
       "    </tr>\n",
       "    <tr>\n",
       "      <th>2023-06-16</th>\n",
       "    </tr>\n",
       "    <tr>\n",
       "      <th>2023-06-19</th>\n",
       "    </tr>\n",
       "    <tr>\n",
       "      <th>2023-06-20</th>\n",
       "    </tr>\n",
       "    <tr>\n",
       "      <th>2023-06-21</th>\n",
       "    </tr>\n",
       "    <tr>\n",
       "      <th>2023-06-22</th>\n",
       "    </tr>\n",
       "    <tr>\n",
       "      <th>2023-06-23</th>\n",
       "    </tr>\n",
       "    <tr>\n",
       "      <th>2023-06-26</th>\n",
       "    </tr>\n",
       "    <tr>\n",
       "      <th>2023-06-27</th>\n",
       "    </tr>\n",
       "    <tr>\n",
       "      <th>2023-06-28</th>\n",
       "    </tr>\n",
       "    <tr>\n",
       "      <th>2023-06-29</th>\n",
       "    </tr>\n",
       "    <tr>\n",
       "      <th>2023-06-30</th>\n",
       "    </tr>\n",
       "  </tbody>\n",
       "</table>\n",
       "</div>"
      ],
      "text/plain": [
       "Empty DataFrame\n",
       "Columns: []\n",
       "Index: [2023-04-21 00:00:00, 2023-04-24 00:00:00, 2023-04-25 00:00:00, 2023-04-26 00:00:00, 2023-04-27 00:00:00, 2023-04-28 00:00:00, 2023-05-02 00:00:00, 2023-05-03 00:00:00, 2023-05-04 00:00:00, 2023-05-05 00:00:00, 2023-05-08 00:00:00, 2023-05-09 00:00:00, 2023-05-10 00:00:00, 2023-05-11 00:00:00, 2023-05-12 00:00:00, 2023-05-15 00:00:00, 2023-05-16 00:00:00, 2023-05-17 00:00:00, 2023-05-18 00:00:00, 2023-05-19 00:00:00, 2023-05-22 00:00:00, 2023-05-23 00:00:00, 2023-05-24 00:00:00, 2023-05-25 00:00:00, 2023-05-26 00:00:00, 2023-05-29 00:00:00, 2023-05-30 00:00:00, 2023-05-31 00:00:00, 2023-06-01 00:00:00, 2023-06-02 00:00:00, 2023-06-05 00:00:00, 2023-06-06 00:00:00, 2023-06-07 00:00:00, 2023-06-08 00:00:00, 2023-06-09 00:00:00, 2023-06-12 00:00:00, 2023-06-13 00:00:00, 2023-06-14 00:00:00, 2023-06-15 00:00:00, 2023-06-16 00:00:00, 2023-06-19 00:00:00, 2023-06-20 00:00:00, 2023-06-21 00:00:00, 2023-06-22 00:00:00, 2023-06-23 00:00:00, 2023-06-26 00:00:00, 2023-06-27 00:00:00, 2023-06-28 00:00:00, 2023-06-29 00:00:00, 2023-06-30 00:00:00]"
      ]
     },
     "execution_count": 19,
     "metadata": {},
     "output_type": "execute_result"
    }
   ],
   "source": [
    "X_train_X = X_train.drop('Adj Close', axis = 1)\n",
    "X_train_X"
   ]
  },
  {
   "cell_type": "markdown",
   "id": "40e6e7a9",
   "metadata": {},
   "source": [
    "---"
   ]
  },
  {
   "cell_type": "markdown",
   "id": "f15778da",
   "metadata": {},
   "source": [
    "predictions"
   ]
  },
  {
   "cell_type": "code",
   "execution_count": null,
   "id": "14e07704",
   "metadata": {},
   "outputs": [],
   "source": [
    "tscv = TimeSeriesSplit(n_splits=3, test_size=100)\n",
    "for i, (train_index, test_index) in enumerate(tscv.split(etf_sp500)):\n",
    "    print(f\"Fold {i}:\")\n",
    "    print(f\"  Train: index={train_index}\")\n",
    "    print(f\"  Test:  index={test_index}\")\n"
   ]
  },
  {
   "cell_type": "code",
   "execution_count": null,
   "id": "ade11a27",
   "metadata": {},
   "outputs": [],
   "source": [
    "train_index"
   ]
  },
  {
   "cell_type": "code",
   "execution_count": 23,
   "id": "04e031d5",
   "metadata": {},
   "outputs": [],
   "source": [
    "model = XGBRegressor(objective='reg:squarederror', n_estimators=1000)"
   ]
  },
  {
   "cell_type": "code",
   "execution_count": 24,
   "id": "9a1fec59",
   "metadata": {},
   "outputs": [
    {
     "ename": "NameError",
     "evalue": "name 'X' is not defined",
     "output_type": "error",
     "traceback": [
      "\u001b[1;31m---------------------------------------------------------------------------\u001b[0m",
      "\u001b[1;31mNameError\u001b[0m                                 Traceback (most recent call last)",
      "Cell \u001b[1;32mIn[24], line 1\u001b[0m\n\u001b[1;32m----> 1\u001b[0m model\u001b[38;5;241m.\u001b[39mfit(\u001b[43mX\u001b[49m, y)\n",
      "\u001b[1;31mNameError\u001b[0m: name 'X' is not defined"
     ]
    }
   ],
   "source": [
    "model.fit(X, y)"
   ]
  },
  {
   "cell_type": "code",
   "execution_count": null,
   "id": "5a5f1769",
   "metadata": {},
   "outputs": [],
   "source": [
    "copy https://machinelearningmastery.com/xgboost-for-time-series-forecasting/"
   ]
  },
  {
   "cell_type": "code",
   "execution_count": 22,
   "id": "62c5a761",
   "metadata": {},
   "outputs": [],
   "source": [
    "# forecast monthly births with xgboost\n",
    "from numpy import asarray\n",
    "from pandas import read_csv\n",
    "from pandas import DataFrame\n",
    "from pandas import concat\n",
    "from sklearn.metrics import mean_absolute_error\n",
    "from xgboost import XGBRegressor\n",
    "from matplotlib import pyplot\n",
    " "
   ]
  },
  {
   "cell_type": "code",
   "execution_count": null,
   "id": "691454ab",
   "metadata": {},
   "outputs": [],
   "source": [
    "# transform a time series dataset into a supervised learning dataset\n",
    "def series_to_supervised(data, n_in=1, n_out=1, dropnan=True):\n",
    "    n_vars = 1 if type(data) is list else data.shape[1]\n",
    "    df = DataFrame(data)\n",
    "    cols = list()\n",
    "    # input sequence (t-n, ... t-1)\n",
    "    for i in range(n_in, 0, -1):\n",
    "        cols.append(df.shift(i))\n",
    "    # forecast sequence (t, t+1, ... t+n)\n",
    "    for i in range(0, n_out):\n",
    "        cols.append(df.shift(-i))\n",
    "    # put it all together\n",
    "    agg = concat(cols, axis=1)\n",
    "    # drop rows with NaN values\n",
    "    if dropnan:\n",
    "        agg.dropna(inplace=True)\n",
    "    return agg.values\n",
    " \n",
    "\n",
    "# split a univariate dataset into train/test sets\n",
    "def train_test_split(data, n_test):\n",
    "    return data[:-n_test, :], data[-n_test:, :]\n",
    " \n",
    "# fit an xgboost model and make a one step prediction\n",
    "def xgboost_forecast(train, testX):\n",
    "    # transform list into array\n",
    "    train = asarray(train)\n",
    "    # split into input and output columns\n",
    "    trainX, trainy = train[:, :-1], train[:, -1]\n",
    "    # fit model\n",
    "    model = XGBRegressor(objective='reg:squarederror', n_estimators=1000)\n",
    "    model.fit(trainX, trainy)\n",
    "    # make a one-step prediction\n",
    "    yhat = model.predict(asarray([testX]))\n",
    "    return yhat[0]\n",
    " \n",
    "# walk-forward validation for univariate data\n",
    "def walk_forward_validation(data, n_test):\n",
    "    predictions = list()\n",
    "    # split dataset\n",
    "    train, test = train_test_split(data, n_test)\n",
    "    # seed history with training dataset\n",
    "    history = [x for x in train]\n",
    "    # step over each time-step in the test set\n",
    "    for i in range(len(test)):\n",
    "        # split test row into input and output columns\n",
    "        testX, testy = test[i, :-1], test[i, -1]\n",
    "    # fit model on history and make a prediction\n",
    "        yhat = xgboost_forecast(history, testX)\n",
    "    # store forecast in list of predictions\n",
    "        predictions.append(yhat)\n",
    "    # add actual observation to history for the next loop\n",
    "        history.append(test[i])\n",
    "    # summarize progress\n",
    "        print('>expected=%.1f, predicted=%.1f' % (testy, yhat))\n",
    "    # estimate prediction error\n",
    "        error = mean_absolute_error(test[:, -1], predictions)\n",
    "    return error, test[:, -1], predictions"
   ]
  },
  {
   "cell_type": "markdown",
   "id": "c7f50774",
   "metadata": {},
   "source": [
    "# load the dataset\n",
    "series = read_csv('daily-total-female-births.csv', header=0, index_col=0)\n",
    "values = series.values"
   ]
  },
  {
   "cell_type": "code",
   "execution_count": null,
   "id": "47d89d65",
   "metadata": {},
   "outputs": [],
   "source": [
    "# transform the time series data into supervised learning\n",
    "\n",
    "#data = series_to_supervised(values, n_in=6)\n",
    "# evaluate\n",
    "mae, y, yhat = walk_forward_validation(etf_sp500, 12)\n",
    "print('MAE: %.3f' % mae)"
   ]
  },
  {
   "cell_type": "code",
   "execution_count": null,
   "id": "b66d70c8",
   "metadata": {},
   "outputs": [],
   "source": [
    "# plot expected vs preducted\n",
    "pyplot.plot(y, label='Expected')\n",
    "pyplot.plot(yhat, label='Predicted')\n",
    "pyplot.legend()\n",
    "pyplot.show()"
   ]
  },
  {
   "cell_type": "code",
   "execution_count": null,
   "id": "e0b3a456",
   "metadata": {},
   "outputs": [],
   "source": []
  },
  {
   "cell_type": "markdown",
   "id": "eca66f82",
   "metadata": {},
   "source": [
    "---"
   ]
  },
  {
   "cell_type": "markdown",
   "id": "41d46f3a",
   "metadata": {},
   "source": [
    "Data frame with future dates for future predictions"
   ]
  },
  {
   "cell_type": "markdown",
   "id": "33e7edda",
   "metadata": {},
   "source": [
    "https://stackoverflow.com/questions/59844745/adding-future-dates-to-dataframe"
   ]
  },
  {
   "cell_type": "code",
   "execution_count": null,
   "id": "f0c24a82",
   "metadata": {},
   "outputs": [],
   "source": [
    "#data = data.reset_index()"
   ]
  },
  {
   "cell_type": "code",
   "execution_count": null,
   "id": "75b7d951",
   "metadata": {},
   "outputs": [],
   "source": [
    "data.append(pd.DataFrame({'Date': pd.date_range(start=data.date.iloc[-1], periods= 4, freq='d', closed='right')}))\n"
   ]
  },
  {
   "cell_type": "code",
   "execution_count": null,
   "id": "a2671626",
   "metadata": {},
   "outputs": [],
   "source": []
  },
  {
   "cell_type": "code",
   "execution_count": null,
   "id": "81d779c8",
   "metadata": {},
   "outputs": [],
   "source": []
  },
  {
   "cell_type": "markdown",
   "id": "4f207d4e",
   "metadata": {},
   "source": [
    "Web scraping news with ticker"
   ]
  },
  {
   "cell_type": "code",
   "execution_count": null,
   "id": "0b6db73f",
   "metadata": {},
   "outputs": [],
   "source": [
    "dict_news = msft.news\n",
    "print(type(dict_news[1]))\n",
    "print(type(dict_news))\n",
    "print(dict_news[1].keys())\n",
    "dict_news[1]"
   ]
  },
  {
   "cell_type": "code",
   "execution_count": null,
   "id": "9e0498c9",
   "metadata": {},
   "outputs": [],
   "source": []
  },
  {
   "cell_type": "markdown",
   "id": "2dfeb081",
   "metadata": {},
   "source": [
    "---"
   ]
  },
  {
   "cell_type": "markdown",
   "id": "6088932d",
   "metadata": {},
   "source": [
    "## Streamlit"
   ]
  },
  {
   "cell_type": "markdown",
   "id": "a5970649",
   "metadata": {},
   "source": [
    "#### title"
   ]
  },
  {
   "cell_type": "code",
   "execution_count": null,
   "id": "31f12a23",
   "metadata": {},
   "outputs": [],
   "source": [
    "st.title('Investments')"
   ]
  },
  {
   "cell_type": "code",
   "execution_count": null,
   "id": "9e2c922b",
   "metadata": {},
   "outputs": [],
   "source": [
    "st.write('Simulator for investors')"
   ]
  },
  {
   "cell_type": "code",
   "execution_count": null,
   "id": "c63a9243",
   "metadata": {},
   "outputs": [],
   "source": [
    "st.image('url')"
   ]
  },
  {
   "cell_type": "markdown",
   "id": "ea204a29",
   "metadata": {},
   "source": [
    "#### columns: "
   ]
  },
  {
   "cell_type": "code",
   "execution_count": null,
   "id": "39d8d699",
   "metadata": {},
   "outputs": [],
   "source": [
    "col1, col2, col3, col4 = st.columns(4)"
   ]
  },
  {
   "cell_type": "markdown",
   "id": "05a56e07",
   "metadata": {},
   "source": [
    "1.- amount"
   ]
  },
  {
   "cell_type": "code",
   "execution_count": null,
   "id": "edeb4d77",
   "metadata": {},
   "outputs": [],
   "source": [
    "with col1:\n",
    "    initial_amount = st.number_input('Initial amount', 0, 50000)\n",
    "    \n",
    "'''\n",
    "if amount < 1000\n",
    "elif amount < 5000\n",
    "elif amount < 10000\n",
    "elif amount < 25000\n",
    "elif amount < 50000\n",
    "elif amount < 100000\n",
    "\n",
    "amount + 10000 = x etfs\n",
    "amount + 20000 = x etfs +1\n",
    "\n",
    "'''"
   ]
  },
  {
   "cell_type": "markdown",
   "id": "944e46cf",
   "metadata": {},
   "source": [
    "2.- passive/active"
   ]
  },
  {
   "cell_type": "code",
   "execution_count": null,
   "id": "0a0a9966",
   "metadata": {},
   "outputs": [],
   "source": [
    "with col2:\n",
    "    type_investment = st.selectbox('Type of investment', ['Passive', 'Active'])"
   ]
  },
  {
   "cell_type": "markdown",
   "id": "a6236fa4",
   "metadata": {},
   "source": [
    "3.- if active: by risk or age"
   ]
  },
  {
   "cell_type": "code",
   "execution_count": null,
   "id": "38483316",
   "metadata": {},
   "outputs": [],
   "source": [
    "with col3:\n",
    "    if type_investment == 'Active':\n",
    "        risk_investment = st.selectbox('Type of risk', ['Conservative', 'Moderate', 'Agressive'])"
   ]
  },
  {
   "cell_type": "markdown",
   "id": "0a72a23c",
   "metadata": {},
   "source": [
    "4.- language"
   ]
  },
  {
   "cell_type": "code",
   "execution_count": null,
   "id": "8b05b36a",
   "metadata": {},
   "outputs": [],
   "source": [
    "with col4:\n",
    "    st.selectbox('Language', ['English', 'Español'])"
   ]
  },
  {
   "cell_type": "markdown",
   "id": "d107cf4e",
   "metadata": {},
   "source": [
    "#### sidebar time of maintenance 0 to 25 years"
   ]
  },
  {
   "cell_type": "code",
   "execution_count": null,
   "id": "19320453",
   "metadata": {},
   "outputs": [],
   "source": [
    "years_maintenance = st.slider('Select years of investment', 0, 25)"
   ]
  },
  {
   "cell_type": "markdown",
   "id": "1659f583",
   "metadata": {},
   "source": [
    "#### tabs:"
   ]
  },
  {
   "cell_type": "code",
   "execution_count": null,
   "id": "7bcb73ab",
   "metadata": {},
   "outputs": [],
   "source": [
    "tab1, tab2, tab3, tab4, tab5 = st.tabs(['Chart predictions', 'Data of predictions',\n",
    "                                        'Data of actives', 'Resumne of actives', 'Global data'])"
   ]
  },
  {
   "cell_type": "markdown",
   "id": "a2a1ab7f",
   "metadata": {},
   "source": [
    "chart"
   ]
  },
  {
   "cell_type": "code",
   "execution_count": null,
   "id": "a0e83540",
   "metadata": {},
   "outputs": [],
   "source": [
    "with tab1:\n",
    "    st.header('Chart with the preditions')\n",
    "    st.line_chart(st_chart)"
   ]
  },
  {
   "cell_type": "markdown",
   "id": "bfdd67c2",
   "metadata": {},
   "source": [
    "dataframe final amounts"
   ]
  },
  {
   "cell_type": "code",
   "execution_count": null,
   "id": "3a96e740",
   "metadata": {},
   "outputs": [],
   "source": [
    "with tab1:\n",
    "    st.header('Investment predictions information')\n",
    "    st.table(data_predictions)"
   ]
  },
  {
   "cell_type": "markdown",
   "id": "15e6be5a",
   "metadata": {},
   "source": [
    "dataframe instruments"
   ]
  },
  {
   "cell_type": "code",
   "execution_count": null,
   "id": "909ad33e",
   "metadata": {},
   "outputs": [],
   "source": [
    "with tab2:\n",
    "    st.header('Investment asset information')\n",
    "    st.dataframe(data_investments)"
   ]
  },
  {
   "cell_type": "markdown",
   "id": "8fca3a27",
   "metadata": {},
   "source": [
    "resume"
   ]
  },
  {
   "cell_type": "code",
   "execution_count": null,
   "id": "474ccd15",
   "metadata": {},
   "outputs": [],
   "source": [
    "with tab1:\n",
    "    st.header('Investments asset information')\n",
    "    st.write(information_investments)"
   ]
  },
  {
   "cell_type": "markdown",
   "id": "ab49b378",
   "metadata": {},
   "source": [
    "global data of interest"
   ]
  },
  {
   "cell_type": "code",
   "execution_count": null,
   "id": "6a13dad5",
   "metadata": {},
   "outputs": [],
   "source": [
    "with tab1:\n",
    "    st.header('Global information')\n",
    "    st.write(st_chart)"
   ]
  },
  {
   "cell_type": "markdown",
   "id": "e0db562e",
   "metadata": {},
   "source": [
    "#### Disclaimer"
   ]
  },
  {
   "cell_type": "code",
   "execution_count": null,
   "id": "e2cb58f5",
   "metadata": {},
   "outputs": [],
   "source": [
    "st.write('Disclaimer')"
   ]
  },
  {
   "cell_type": "code",
   "execution_count": null,
   "id": "94ab147d",
   "metadata": {},
   "outputs": [],
   "source": []
  },
  {
   "cell_type": "code",
   "execution_count": null,
   "id": "586a9eda",
   "metadata": {},
   "outputs": [],
   "source": []
  },
  {
   "cell_type": "code",
   "execution_count": null,
   "id": "b98fb67c",
   "metadata": {},
   "outputs": [],
   "source": []
  },
  {
   "cell_type": "code",
   "execution_count": null,
   "id": "4b1bb73c",
   "metadata": {},
   "outputs": [],
   "source": []
  }
 ],
 "metadata": {
  "kernelspec": {
   "display_name": "Python [conda env:tf]",
   "language": "python",
   "name": "conda-env-tf-py"
  },
  "language_info": {
   "codemirror_mode": {
    "name": "ipython",
    "version": 3
   },
   "file_extension": ".py",
   "mimetype": "text/x-python",
   "name": "python",
   "nbconvert_exporter": "python",
   "pygments_lexer": "ipython3",
   "version": "3.9.16"
  }
 },
 "nbformat": 4,
 "nbformat_minor": 5
}
