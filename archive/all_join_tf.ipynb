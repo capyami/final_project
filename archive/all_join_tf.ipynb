{
 "cells": [
  {
   "cell_type": "markdown",
   "id": "23cb7374",
   "metadata": {},
   "source": [
    "# Asset allocation"
   ]
  },
  {
   "cell_type": "code",
   "execution_count": 34,
   "id": "c0b50ac0",
   "metadata": {},
   "outputs": [],
   "source": [
    "import yfinance as yf\n",
    "import pandas as pd\n",
    "import datetime\n",
    "from datetime import date\n",
    "import financedatabase as fd\n",
    "import streamlit as st\n",
    "from sklearn.model_selection import TimeSeriesSplit\n",
    "import numpy as np\n",
    "import tensorflow as tf\n",
    "from tensorflow import keras\n",
    "import seaborn as sns\n",
    "from pylab import rcParams\n",
    "import matplotlib.pyplot as plt\n",
    "from matplotlib import rc\n",
    "from sklearn.preprocessing import MinMaxScaler\n",
    "from tensorflow.keras.layers import Bidirectional, Dropout, Activation, Dense, LSTM\n",
    "from tensorflow.python.keras.layers import CuDNNLSTM\n",
    "from tensorflow.keras.models import Sequential\n",
    "from tensorflow.keras import layers\n",
    "%matplotlib inline\n",
    "sns.set(style='whitegrid', palette='muted', font_scale=1.5)\n",
    "rcParams['figure.figsize'] = 14, 8\n",
    "RANDOM_SEED = 42\n",
    "np.random.seed(RANDOM_SEED)\n",
    "import seaborn as sns\n",
    "from pylab import rcParams\n",
    "import matplotlib.pyplot as plt\n",
    "from matplotlib import rc\n",
    "from sklearn.preprocessing import MinMaxScaler\n",
    "from tensorflow.keras.layers import Bidirectional, Dropout, Activation, Dense, LSTM\n",
    "from tensorflow.python.keras.layers import CuDNNLSTM\n",
    "from tensorflow.keras.models import Sequential\n",
    "from tensorflow.keras import layers\n",
    "%matplotlib inline\n",
    "sns.set(style='whitegrid', palette='muted', font_scale=1.5)\n",
    "rcParams['figure.figsize'] = 14, 8\n",
    "RANDOM_SEED = 42\n",
    "np.random.seed(RANDOM_SEED)"
   ]
  },
  {
   "cell_type": "markdown",
   "id": "e6d23513",
   "metadata": {},
   "source": [
    "### Title"
   ]
  },
  {
   "cell_type": "code",
   "execution_count": 2,
   "id": "f6efc681",
   "metadata": {},
   "outputs": [
    {
     "name": "stderr",
     "output_type": "stream",
     "text": [
      "2023-07-02 19:18:26.402 \n",
      "  \u001b[33m\u001b[1mWarning:\u001b[0m to view this Streamlit app on a browser, run it with the following\n",
      "  command:\n",
      "\n",
      "    streamlit run C:\\Users\\marym\\miniconda3\\envs\\tf\\lib\\site-packages\\ipykernel_launcher.py [ARGUMENTS]\n"
     ]
    },
    {
     "data": {
      "text/plain": [
       "DeltaGenerator()"
      ]
     },
     "execution_count": 2,
     "metadata": {},
     "output_type": "execute_result"
    }
   ],
   "source": [
    "st.title('Investments')"
   ]
  },
  {
   "cell_type": "code",
   "execution_count": 3,
   "id": "bd939269",
   "metadata": {},
   "outputs": [],
   "source": [
    "# st.image('')"
   ]
  },
  {
   "cell_type": "code",
   "execution_count": 4,
   "id": "fd596e3e",
   "metadata": {},
   "outputs": [],
   "source": [
    "st.write('One line')"
   ]
  },
  {
   "cell_type": "markdown",
   "id": "3a1fad36",
   "metadata": {},
   "source": [
    "### Selections and inputs"
   ]
  },
  {
   "cell_type": "code",
   "execution_count": 5,
   "id": "d9b201cd",
   "metadata": {},
   "outputs": [],
   "source": [
    "col1, col2, col3, col4 = st.columns(4)"
   ]
  },
  {
   "cell_type": "code",
   "execution_count": 6,
   "id": "9172e2c1",
   "metadata": {},
   "outputs": [],
   "source": [
    "# amount"
   ]
  },
  {
   "cell_type": "code",
   "execution_count": 7,
   "id": "1c6435cc",
   "metadata": {},
   "outputs": [],
   "source": [
    "with col1:\n",
    "    initial_amount = st.number_input('Initial amount', 0, 50000)"
   ]
  },
  {
   "cell_type": "code",
   "execution_count": 8,
   "id": "d1f0fdbe",
   "metadata": {},
   "outputs": [],
   "source": [
    "# Type of management"
   ]
  },
  {
   "cell_type": "code",
   "execution_count": 9,
   "id": "d2957d95",
   "metadata": {},
   "outputs": [],
   "source": [
    "with col2:\n",
    "    type_investment = st.selectbox('Type of management', ['Passive', 'Active'])"
   ]
  },
  {
   "cell_type": "code",
   "execution_count": 10,
   "id": "d007d325",
   "metadata": {},
   "outputs": [],
   "source": [
    "# Type of risk"
   ]
  },
  {
   "cell_type": "code",
   "execution_count": 11,
   "id": "4cb72eec",
   "metadata": {},
   "outputs": [],
   "source": [
    "with col3:\n",
    "    if type_investment == 'Active':\n",
    "        risk_investment = st.selectbox('Type of risk', ['Conservative', 'Moderate', 'Agressive'])\n",
    "    else:\n",
    "                risk_investment = st.selectbox('Type of risk', ['All-seasons'])\n"
   ]
  },
  {
   "cell_type": "code",
   "execution_count": 12,
   "id": "3ae9c033",
   "metadata": {},
   "outputs": [],
   "source": [
    "# Language"
   ]
  },
  {
   "cell_type": "code",
   "execution_count": 13,
   "id": "4d46c47b",
   "metadata": {},
   "outputs": [],
   "source": [
    "with col4:\n",
    "    st.selectbox('Language', ['English'])"
   ]
  },
  {
   "cell_type": "markdown",
   "id": "6d262d46",
   "metadata": {},
   "source": [
    "### Years of prediction"
   ]
  },
  {
   "cell_type": "code",
   "execution_count": 14,
   "id": "f285a853",
   "metadata": {},
   "outputs": [
    {
     "name": "stderr",
     "output_type": "stream",
     "text": [
      "2023-07-02 19:18:26.622 Session state does not function when running a script without `streamlit run`\n"
     ]
    }
   ],
   "source": [
    "years_maintenance = st.slider('Select years of investment', 0, 25)"
   ]
  },
  {
   "cell_type": "markdown",
   "id": "4c21a59b",
   "metadata": {},
   "source": [
    "---"
   ]
  },
  {
   "cell_type": "markdown",
   "id": "bdae7f60",
   "metadata": {},
   "source": [
    "### Calculate "
   ]
  },
  {
   "cell_type": "code",
   "execution_count": 15,
   "id": "e3cac7c6",
   "metadata": {},
   "outputs": [],
   "source": [
    "# Adquisition"
   ]
  },
  {
   "cell_type": "code",
   "execution_count": 64,
   "id": "b23d98f5",
   "metadata": {},
   "outputs": [],
   "source": [
    "start = \"2022-06-01\"\n",
    "today = date.today().strftime(\"%Y-%m-%d\")"
   ]
  },
  {
   "cell_type": "code",
   "execution_count": 65,
   "id": "cfe7bf58",
   "metadata": {},
   "outputs": [
    {
     "name": "stdout",
     "output_type": "stream",
     "text": [
      "[*********************100%***********************]  1 of 1 completed\n"
     ]
    }
   ],
   "source": [
    "etf_sp500 = yf.download('CSSPX.MI', start, today) # CSSPX.MI S&P500\n",
    "etf_sp500_ticker = yf.Ticker(\"CSSPX.MI\")"
   ]
  },
  {
   "cell_type": "code",
   "execution_count": 66,
   "id": "aa868e1d",
   "metadata": {},
   "outputs": [
    {
     "name": "stdout",
     "output_type": "stream",
     "text": [
      "[*********************100%***********************]  1 of 1 completed\n"
     ]
    }
   ],
   "source": [
    "etf_gold = yf.download('IGLD', start, today) # IGLD gold\n",
    "etf_gold_ticker = yf.Ticker(\"IGLD\")"
   ]
  },
  {
   "cell_type": "code",
   "execution_count": 67,
   "id": "c6805106",
   "metadata": {},
   "outputs": [],
   "source": [
    "initial_amount = 5000"
   ]
  },
  {
   "cell_type": "code",
   "execution_count": 68,
   "id": "23f0c21d",
   "metadata": {},
   "outputs": [],
   "source": [
    "if initial_amount <= 4999: # only sp500\n",
    "    invest = initial_amount/etf_sp500['Adj Close'][:-1]\n",
    "else: # Gold and sp\n",
    "    invest1 = 0.8*initial_amount/etf_sp500['Adj Close'].iloc[-1]\n",
    "    invest2 = 0.2*initial_amount/etf_gold['Adj Close'].iloc[-1]"
   ]
  },
  {
   "cell_type": "code",
   "execution_count": 69,
   "id": "56e4f7f4",
   "metadata": {},
   "outputs": [],
   "source": [
    "list_instruments = (etf_gold, etf_sp500)"
   ]
  },
  {
   "cell_type": "markdown",
   "id": "1b9acc50",
   "metadata": {},
   "source": [
    "### Prediction"
   ]
  },
  {
   "cell_type": "code",
   "execution_count": 70,
   "id": "251069c5",
   "metadata": {},
   "outputs": [
    {
     "name": "stdout",
     "output_type": "stream",
     "text": [
      "          Date       Open       High        Low      Close  Adj Close  Volume\n",
      "0   2022-06-01  20.200001  20.350000  20.170000  20.330000  19.163465   13800\n",
      "1   2022-06-02  20.400000  20.459000  20.396999  20.420000  19.248302    1000\n",
      "2   2022-06-03  20.420000  20.420000  20.209999  20.245001  19.083342    1300\n",
      "3   2022-06-06  20.299999  20.299999  20.200001  20.230000  19.069201    8100\n",
      "4   2022-06-07  20.268999  20.355000  20.209999  20.325001  19.158752    4900\n",
      "..         ...        ...        ...        ...        ...        ...     ...\n",
      "267 2023-06-26  19.240000  19.240000  19.070000  19.160000  19.160000   27900\n",
      "268 2023-06-27  19.250000  19.250000  19.020000  19.070000  19.070000   12600\n",
      "269 2023-06-28  19.040001  19.059999  18.940001  18.990000  18.990000   14800\n",
      "270 2023-06-29  18.886999  19.849001  18.885000  18.910000  18.910000  126100\n",
      "271 2023-06-30  19.090000  19.129999  19.000000  19.129999  19.129999   29400\n",
      "\n",
      "[272 rows x 7 columns]\n",
      "          Date        Open        High         Low       Close   Adj Close  \\\n",
      "0   2022-06-01  396.470001  398.640015  393.359985  394.160004  394.160004   \n",
      "1   2022-06-02  395.000000  395.859985  390.700012  393.959991  393.959991   \n",
      "2   2022-06-03  398.339996  398.399994  392.480011  393.470001  393.470001   \n",
      "3   2022-06-06  395.489990  399.579987  395.369995  397.040009  397.040009   \n",
      "4   2022-06-07  393.570007  396.619995  392.500000  395.329987  395.329987   \n",
      "..         ...         ...         ...         ...         ...         ...   \n",
      "273 2023-06-26  415.750000  416.279999  414.320007  414.559998  414.559998   \n",
      "274 2023-06-27  413.880005  414.119995  411.910004  414.059998  414.059998   \n",
      "275 2023-06-28  416.059998  418.619995  415.290009  418.179993  418.179993   \n",
      "276 2023-06-29  418.410004  420.500000  417.850006  420.309998  420.309998   \n",
      "277 2023-06-30  421.799988  424.350006  421.730011  423.820007  423.820007   \n",
      "\n",
      "     Volume  \n",
      "0     21988  \n",
      "1      7956  \n",
      "2     10066  \n",
      "3      6305  \n",
      "4     13279  \n",
      "..      ...  \n",
      "273    2840  \n",
      "274    8042  \n",
      "275    6067  \n",
      "276    5530  \n",
      "277   17317  \n",
      "\n",
      "[278 rows x 7 columns]\n"
     ]
    }
   ],
   "source": [
    "list_etf = []\n",
    "for i in list_instruments:\n",
    "    i = i.reset_index()\n",
    "    print(i)\n",
    "    list_etf.append(i)"
   ]
  },
  {
   "cell_type": "code",
   "execution_count": 71,
   "id": "4e53c458",
   "metadata": {},
   "outputs": [
    {
     "data": {
      "text/html": [
       "<div>\n",
       "<style scoped>\n",
       "    .dataframe tbody tr th:only-of-type {\n",
       "        vertical-align: middle;\n",
       "    }\n",
       "\n",
       "    .dataframe tbody tr th {\n",
       "        vertical-align: top;\n",
       "    }\n",
       "\n",
       "    .dataframe thead th {\n",
       "        text-align: right;\n",
       "    }\n",
       "</style>\n",
       "<table border=\"1\" class=\"dataframe\">\n",
       "  <thead>\n",
       "    <tr style=\"text-align: right;\">\n",
       "      <th></th>\n",
       "      <th>Open</th>\n",
       "      <th>High</th>\n",
       "      <th>Low</th>\n",
       "      <th>Close</th>\n",
       "      <th>Adj Close</th>\n",
       "      <th>Volume</th>\n",
       "    </tr>\n",
       "  </thead>\n",
       "  <tbody>\n",
       "    <tr>\n",
       "      <th>count</th>\n",
       "      <td>272.000000</td>\n",
       "      <td>272.000000</td>\n",
       "      <td>272.000000</td>\n",
       "      <td>272.000000</td>\n",
       "      <td>272.000000</td>\n",
       "      <td>272.000000</td>\n",
       "    </tr>\n",
       "    <tr>\n",
       "      <th>mean</th>\n",
       "      <td>19.201419</td>\n",
       "      <td>19.284471</td>\n",
       "      <td>19.116088</td>\n",
       "      <td>19.198357</td>\n",
       "      <td>18.627424</td>\n",
       "      <td>21066.544118</td>\n",
       "    </tr>\n",
       "    <tr>\n",
       "      <th>std</th>\n",
       "      <td>0.626285</td>\n",
       "      <td>0.651138</td>\n",
       "      <td>0.624153</td>\n",
       "      <td>0.630174</td>\n",
       "      <td>0.786817</td>\n",
       "      <td>44980.456828</td>\n",
       "    </tr>\n",
       "    <tr>\n",
       "      <th>min</th>\n",
       "      <td>17.530001</td>\n",
       "      <td>17.809999</td>\n",
       "      <td>17.370001</td>\n",
       "      <td>17.719999</td>\n",
       "      <td>16.978386</td>\n",
       "      <td>100.000000</td>\n",
       "    </tr>\n",
       "    <tr>\n",
       "      <th>25%</th>\n",
       "      <td>18.776250</td>\n",
       "      <td>18.837500</td>\n",
       "      <td>18.727499</td>\n",
       "      <td>18.783000</td>\n",
       "      <td>18.048162</td>\n",
       "      <td>3575.000000</td>\n",
       "    </tr>\n",
       "    <tr>\n",
       "      <th>50%</th>\n",
       "      <td>19.237500</td>\n",
       "      <td>19.280001</td>\n",
       "      <td>19.129999</td>\n",
       "      <td>19.182500</td>\n",
       "      <td>18.592286</td>\n",
       "      <td>8800.000000</td>\n",
       "    </tr>\n",
       "    <tr>\n",
       "      <th>75%</th>\n",
       "      <td>19.750000</td>\n",
       "      <td>19.842250</td>\n",
       "      <td>19.642250</td>\n",
       "      <td>19.746250</td>\n",
       "      <td>19.327155</td>\n",
       "      <td>20700.000000</td>\n",
       "    </tr>\n",
       "    <tr>\n",
       "      <th>max</th>\n",
       "      <td>20.440001</td>\n",
       "      <td>21.160000</td>\n",
       "      <td>20.396999</td>\n",
       "      <td>20.450001</td>\n",
       "      <td>20.052956</td>\n",
       "      <td>458700.000000</td>\n",
       "    </tr>\n",
       "  </tbody>\n",
       "</table>\n",
       "</div>"
      ],
      "text/plain": [
       "             Open        High         Low       Close   Adj Close  \\\n",
       "count  272.000000  272.000000  272.000000  272.000000  272.000000   \n",
       "mean    19.201419   19.284471   19.116088   19.198357   18.627424   \n",
       "std      0.626285    0.651138    0.624153    0.630174    0.786817   \n",
       "min     17.530001   17.809999   17.370001   17.719999   16.978386   \n",
       "25%     18.776250   18.837500   18.727499   18.783000   18.048162   \n",
       "50%     19.237500   19.280001   19.129999   19.182500   18.592286   \n",
       "75%     19.750000   19.842250   19.642250   19.746250   19.327155   \n",
       "max     20.440001   21.160000   20.396999   20.450001   20.052956   \n",
       "\n",
       "              Volume  \n",
       "count     272.000000  \n",
       "mean    21066.544118  \n",
       "std     44980.456828  \n",
       "min       100.000000  \n",
       "25%      3575.000000  \n",
       "50%      8800.000000  \n",
       "75%     20700.000000  \n",
       "max    458700.000000  "
      ]
     },
     "execution_count": 71,
     "metadata": {},
     "output_type": "execute_result"
    }
   ],
   "source": [
    "list_etf[0].describe()"
   ]
  },
  {
   "cell_type": "code",
   "execution_count": 35,
   "id": "655bdd8d",
   "metadata": {},
   "outputs": [],
   "source": [
    "df = etf_gold.rename(columns = {'Date' : 'Date', 'Adj Close' : 'Close'})\n",
    "scaler = MinMaxScaler()\n",
    "close_price = df.Close.values.reshape(-1, 1)\n",
    "scaled_close = scaler.fit_transform(close_price)\n",
    "scaled_close = scaled_close[~np.isnan(scaled_close)]\n",
    "scaled_close = scaled_close.reshape(-1, 1)"
   ]
  },
  {
   "cell_type": "code",
   "execution_count": 36,
   "id": "6de2c99b",
   "metadata": {},
   "outputs": [],
   "source": [
    "SEQ_LEN = 100\n",
    "def to_sequences(data, seq_len):\n",
    "    d = []\n",
    "    for index in range(len(data) - seq_len):\n",
    "        d.append(data[index: index + seq_len])\n",
    "    return np.array(d)\n",
    "def preprocess(data_raw, seq_len, train_split):\n",
    "    data = to_sequences(data_raw, seq_len)\n",
    "    num_train = int(train_split * data.shape[0])\n",
    "    X_train = data[:num_train, :-1, :]\n",
    "    y_train = data[:num_train, -1, :]\n",
    "    X_test = data[num_train:, :-1, :]\n",
    "    y_test = data[num_train:, -1, :]\n",
    "    return X_train, y_train, X_test, y_test\n",
    "X_train, y_train, X_test, y_test =\\\n",
    " preprocess(scaled_close, SEQ_LEN, train_split = 0.80)"
   ]
  },
  {
   "cell_type": "code",
   "execution_count": 37,
   "id": "2d257fa2",
   "metadata": {},
   "outputs": [
    {
     "name": "stdout",
     "output_type": "stream",
     "text": [
      "Model: \"sequential\"\n",
      "_________________________________________________________________\n",
      " Layer (type)                Output Shape              Param #   \n",
      "=================================================================\n",
      " lstm (LSTM)                 (None, 99, 64)            16896     \n",
      "                                                                 \n",
      " lstm_1 (LSTM)               (None, 99, 32)            12416     \n",
      "                                                                 \n",
      " lstm_2 (LSTM)               (None, 32)                8320      \n",
      "                                                                 \n",
      " dense (Dense)               (None, 1)                 33        \n",
      "                                                                 \n",
      "=================================================================\n",
      "Total params: 37,665\n",
      "Trainable params: 37,665\n",
      "Non-trainable params: 0\n",
      "_________________________________________________________________\n"
     ]
    }
   ],
   "source": [
    "model = tf.keras.Sequential()\n",
    "model.add(layers.LSTM(units=64, return_sequences=True,\n",
    " input_shape=(99,1), dropout=0.1))\n",
    "model.add(layers.LSTM(units=32, return_sequences=True,\n",
    " dropout=0.1))\n",
    "model.add(layers.LSTM(units=32, dropout=0.1))\n",
    "model.add(layers.Dense(units=1))\n",
    "model.summary()\n",
    "model.compile(\n",
    "    loss='mean_squared_error', \n",
    "    optimizer='adam'\n",
    ")"
   ]
  },
  {
   "cell_type": "code",
   "execution_count": 38,
   "id": "fa0fbf54",
   "metadata": {},
   "outputs": [
    {
     "name": "stdout",
     "output_type": "stream",
     "text": [
      "Epoch 1/5\n",
      "3/3 [==============================] - 9s 1s/step - loss: 0.2291 - val_loss: 0.3863\n",
      "Epoch 2/5\n",
      "3/3 [==============================] - 1s 180ms/step - loss: 0.0957 - val_loss: 0.0714\n",
      "Epoch 3/5\n",
      "3/3 [==============================] - 1s 196ms/step - loss: 0.0204 - val_loss: 0.0086\n",
      "Epoch 4/5\n",
      "3/3 [==============================] - 1s 188ms/step - loss: 0.0544 - val_loss: 0.0039\n",
      "Epoch 5/5\n",
      "3/3 [==============================] - 1s 180ms/step - loss: 0.0282 - val_loss: 0.0458\n",
      "3/3 [==============================] - 0s 28ms/step - loss: 0.0225\n"
     ]
    },
    {
     "data": {
      "text/plain": [
       "0.02253360114991665"
      ]
     },
     "execution_count": 38,
     "metadata": {},
     "output_type": "execute_result"
    }
   ],
   "source": [
    "BATCH_SIZE = 128\n",
    "history = model.fit(\n",
    " X_train, \n",
    " y_train, \n",
    " epochs=5, \n",
    " batch_size=BATCH_SIZE, \n",
    " shuffle=False,\n",
    " validation_split=0.1\n",
    ")\n",
    "model.evaluate(X_test, y_test)"
   ]
  },
  {
   "cell_type": "code",
   "execution_count": 39,
   "id": "93de0624",
   "metadata": {},
   "outputs": [
    {
     "data": {
      "image/png": "[encoded data removed]",
      "text/plain": [
       "<Figure size 1400x800 with 1 Axes>"
      ]
     },
     "metadata": {},
     "output_type": "display_data"
    }
   ],
   "source": [
    "plt.plot(history.history['loss'])\n",
    "plt.plot(history.history['val_loss'])\n",
    "plt.title('model loss')\n",
    "plt.ylabel('loss')\n",
    "plt.xlabel('epoch')\n",
    "plt.legend(['train', 'test'], loc='upper left')\n",
    "plt.show()"
   ]
  },
  {
   "cell_type": "code",
   "execution_count": 40,
   "id": "1185d72f",
   "metadata": {},
   "outputs": [
    {
     "name": "stdout",
     "output_type": "stream",
     "text": [
      "3/3 [==============================] - 2s 44ms/step\n"
     ]
    },
    {
     "data": {
      "image/png": "[encoded data removed]",
      "text/plain": [
       "<Figure size 1400x800 with 1 Axes>"
      ]
     },
     "metadata": {},
     "output_type": "display_data"
    }
   ],
   "source": [
    "y_hat = model.predict(X_test)\n",
    "y_test_inverse = scaler.inverse_transform(y_test)\n",
    "y_hat_inverse = scaler.inverse_transform(y_hat)\n",
    " \n",
    "plt.plot(y_test_inverse, label='Actual Price', color='green')\n",
    "plt.plot(y_hat_inverse, label='Predicted Price', color='red')\n",
    " \n",
    "plt.title('Bitcoin price prediction LSTM')\n",
    "plt.xlabel('Time [days]')\n",
    "plt.ylabel('Price')\n",
    "plt.legend(loc='best')\n",
    " \n",
    "plt.show();"
   ]
  },
  {
   "cell_type": "code",
   "execution_count": 53,
   "id": "74ed4e1f",
   "metadata": {},
   "outputs": [
    {
     "data": {
      "text/plain": [
       "array([[[0.51545662],\n",
       "        [0.5685002 ],\n",
       "        [0.46375471],\n",
       "        ...,\n",
       "        [0.80411411],\n",
       "        [0.82716966],\n",
       "        [0.78695266]],\n",
       "\n",
       "       [[0.5685002 ],\n",
       "        [0.46375471],\n",
       "        [0.57368501],\n",
       "        ...,\n",
       "        [0.82716966],\n",
       "        [0.78695266],\n",
       "        [0.8329308 ]],\n",
       "\n",
       "       [[0.46375471],\n",
       "        [0.57368501],\n",
       "        [0.46884007],\n",
       "        ...,\n",
       "        [0.78695266],\n",
       "        [0.8329308 ],\n",
       "        [0.79267314]],\n",
       "\n",
       "       ...,\n",
       "\n",
       "       [[0.80983459],\n",
       "        [0.82716966],\n",
       "        [0.78695266],\n",
       "        ...,\n",
       "        [0.60249016],\n",
       "        [0.57944615],\n",
       "        [0.57944615]],\n",
       "\n",
       "       [[0.82716966],\n",
       "        [0.78695266],\n",
       "        [0.85309424],\n",
       "        ...,\n",
       "        [0.57944615],\n",
       "        [0.57944615],\n",
       "        [0.55640214]],\n",
       "\n",
       "       [[0.78695266],\n",
       "        [0.85309424],\n",
       "        [0.81269484],\n",
       "        ...,\n",
       "        [0.57944615],\n",
       "        [0.55640214],\n",
       "        [0.55640214]]])"
      ]
     },
     "execution_count": 53,
     "metadata": {},
     "output_type": "execute_result"
    }
   ],
   "source": [
    "X_test"
   ]
  },
  {
   "cell_type": "code",
   "execution_count": 50,
   "id": "8a6db48c",
   "metadata": {
    "collapsed": true
   },
   "outputs": [
    {
     "data": {
      "text/plain": [
       "array([[20.32999992],\n",
       "       [19.16346359],\n",
       "       [20.42000008],\n",
       "       [19.24829865],\n",
       "       [20.24500084],\n",
       "       [19.0833416 ],\n",
       "       [20.22999954],\n",
       "       [19.06920242],\n",
       "       [20.32500076],\n",
       "       [19.15874863],\n",
       "       [20.28000069],\n",
       "       [19.11633682],\n",
       "       [20.45000076],\n",
       "       [19.2765789 ],\n",
       "       [20.38999939],\n",
       "       [19.2200222 ],\n",
       "       [20.04500008],\n",
       "       [18.89481544],\n",
       "       [19.92000008],\n",
       "       [18.77699089],\n",
       "       [20.07999992],\n",
       "       [18.92780876],\n",
       "       [20.39999962],\n",
       "       [19.2294445 ],\n",
       "       [20.22999954],\n",
       "       [19.06920242],\n",
       "       [20.08499908],\n",
       "       [18.93252182],\n",
       "       [20.15500069],\n",
       "       [18.99850464],\n",
       "       [20.05500031],\n",
       "       [18.90424347],\n",
       "       [20.04100037],\n",
       "       [18.89104843],\n",
       "       [20.01499939],\n",
       "       [18.86653709],\n",
       "       [20.        ],\n",
       "       [18.85239983],\n",
       "       [19.97100067],\n",
       "       [18.8250618 ],\n",
       "       [19.84300041],\n",
       "       [18.70440483],\n",
       "       [19.83499908],\n",
       "       [18.76115608],\n",
       "       [19.29999924],\n",
       "       [18.25512123],\n",
       "       [19.02000046],\n",
       "       [17.99028397],\n",
       "       [19.10000038],\n",
       "       [18.0659523 ],\n",
       "       [19.11800003],\n",
       "       [18.08297729],\n",
       "       [19.02199936],\n",
       "       [17.99217415],\n",
       "       [18.93899918],\n",
       "       [17.91366768],\n",
       "       [19.04899979],\n",
       "       [18.01771164],\n",
       "       [18.79000092],\n",
       "       [17.7727356 ],\n",
       "       [18.69799995],\n",
       "       [17.68571281],\n",
       "       [18.67200089],\n",
       "       [17.66112328],\n",
       "       [18.77099991],\n",
       "       [17.75476265],\n",
       "       [18.60000038],\n",
       "       [17.5930233 ],\n",
       "       [18.84000015],\n",
       "       [17.82002831],\n",
       "       [18.89100075],\n",
       "       [17.86826897],\n",
       "       [18.86100006],\n",
       "       [17.83988953],\n",
       "       [18.83499908],\n",
       "       [17.81529617],\n",
       "       [19.02400017],\n",
       "       [17.99406433],\n",
       "       [19.25499916],\n",
       "       [18.21255875],\n",
       "       [19.34300041],\n",
       "       [18.29579544],\n",
       "       [19.38699913],\n",
       "       [18.41643715],\n",
       "       [19.24699974],\n",
       "       [18.28344345],\n",
       "       [19.26099968],\n",
       "       [18.29674339],\n",
       "       [19.49500084],\n",
       "       [18.51903152],\n",
       "       [19.35300064],\n",
       "       [18.38413811],\n",
       "       [19.48500061],\n",
       "       [18.50953102],\n",
       "       [19.54400063],\n",
       "       [18.56557655],\n",
       "       [19.49500084],\n",
       "       [18.51903152],\n",
       "       [19.45499992],\n",
       "       [18.48103142],\n",
       "       [19.59499931],\n",
       "       [18.61402321],\n",
       "       [19.42499924],\n",
       "       [18.45253372],\n",
       "       [19.38699913],\n",
       "       [18.41643715],\n",
       "       [19.28800011],\n",
       "       [18.32239151],\n",
       "       [19.22800064],\n",
       "       [18.26539993],\n",
       "       [19.10899925],\n",
       "       [18.1523571 ],\n",
       "       [19.01000023],\n",
       "       [18.05831337],\n",
       "       [19.13100052],\n",
       "       [18.1732502 ],\n",
       "       [19.22999954],\n",
       "       [18.26729774],\n",
       "       [19.23500061],\n",
       "       [18.27204704],\n",
       "       [19.03800011],\n",
       "       [18.08490562],\n",
       "       [19.04100037],\n",
       "       [18.08775902],\n",
       "       [18.89999962],\n",
       "       [17.95381737],\n",
       "       [18.73999977],\n",
       "       [17.80183029],\n",
       "       [18.62400055],\n",
       "       [17.77034187],\n",
       "       [18.59000015],\n",
       "       [17.73789787],\n",
       "       [18.57099915],\n",
       "       [17.71976852],\n",
       "       [18.7310009 ],\n",
       "       [17.87243652],\n",
       "       [18.65099907],\n",
       "       [17.79610062],\n",
       "       [18.78000069],\n",
       "       [17.91919327],\n",
       "       [18.81200027],\n",
       "       [17.9497242 ],\n",
       "       [18.61000061],\n",
       "       [17.7569828 ],\n",
       "       [18.54400063],\n",
       "       [17.69400787],\n",
       "       [18.20999908],\n",
       "       [17.37531662],\n",
       "       [18.34199905],\n",
       "       [17.50126457],\n",
       "       [18.40999985],\n",
       "       [17.56614685],\n",
       "       [18.24500084],\n",
       "       [17.40871429],\n",
       "       [18.32799911],\n",
       "       [17.48790932],\n",
       "       [18.31699944],\n",
       "       [17.47740936],\n",
       "       [17.99699974],\n",
       "       [17.17207718],\n",
       "       [17.79400063],\n",
       "       [16.97838593],\n",
       "       [17.82900047],\n",
       "       [17.0117836 ],\n",
       "       [18.14999962],\n",
       "       [17.31806564],\n",
       "       [18.19599915],\n",
       "       [17.36195755],\n",
       "       [18.21800041],\n",
       "       [17.38295364],\n",
       "       [18.56399918],\n",
       "       [17.79513741],\n",
       "       [18.68700027],\n",
       "       [17.91304588],\n",
       "       [18.60300064],\n",
       "       [17.83252525],\n",
       "       [18.60499954],\n",
       "       [17.83444405],\n",
       "       [18.43899918],\n",
       "       [17.67531776],\n",
       "       [18.20100021],\n",
       "       [17.44717598],\n",
       "       [18.16500092],\n",
       "       [17.41266632],\n",
       "       [18.24399948],\n",
       "       [17.48839188],\n",
       "       [18.16500092],\n",
       "       [17.41266632],\n",
       "       [17.95999908],\n",
       "       [17.21615601],\n",
       "       [18.01399994],\n",
       "       [17.26792336],\n",
       "       [18.04000092],\n",
       "       [17.29284668],\n",
       "       [17.85000038],\n",
       "       [17.11071205],\n",
       "       [17.87999916],\n",
       "       [17.13946915],\n",
       "       [18.15999985],\n",
       "       [17.40787125],\n",
       "       [18.05800056],\n",
       "       [17.31009865],\n",
       "       [18.10000038],\n",
       "       [17.35036087],\n",
       "       [18.20100021],\n",
       "       [17.44717598],\n",
       "       [18.13999939],\n",
       "       [17.38870239],\n",
       "       [17.96999931],\n",
       "       [17.22574425],\n",
       "       [17.87899971],\n",
       "       [17.13850975],\n",
       "       [18.00099945],\n",
       "       [17.34861183],\n",
       "       [17.8390007 ],\n",
       "       [17.19248199],\n",
       "       [17.71999931],\n",
       "       [17.07779503],\n",
       "       [18.17099953],\n",
       "       [17.51245117],\n",
       "       [18.15999985],\n",
       "       [17.50184631],\n",
       "       [18.45199966],\n",
       "       [17.78326607],\n",
       "       [18.40099907],\n",
       "       [17.73411179],\n",
       "       [18.74500084],\n",
       "       [18.06564903],\n",
       "       [18.87000084],\n",
       "       [18.18611717],\n",
       "       [18.92000008],\n",
       "       [18.23430443],\n",
       "       [18.94300079],\n",
       "       [18.25647354],\n",
       "       [18.93000031],\n",
       "       [18.24394226],\n",
       "       [18.81999969],\n",
       "       [18.13792801],\n",
       "       [18.77499962],\n",
       "       [18.09456062],\n",
       "       [18.67499924],\n",
       "       [17.9981823 ],\n",
       "       [18.73999977],\n",
       "       [18.06082916],\n",
       "       [18.76600075],\n",
       "       [18.085886  ],\n",
       "       [18.7840004 ],\n",
       "       [18.10323524],\n",
       "       [18.68499947],\n",
       "       [18.00782013],\n",
       "       [18.68000031],\n",
       "       [18.00300407],\n",
       "       [18.84000015],\n",
       "       [18.15720367],\n",
       "       [19.04000092],\n",
       "       [18.45674133],\n",
       "       [18.91500092],\n",
       "       [18.33556747],\n",
       "       [18.68400002],\n",
       "       [18.11164474],\n",
       "       [18.70499992],\n",
       "       [18.13199997],\n",
       "       [18.82500076],\n",
       "       [18.24832344],\n",
       "       [18.85199928],\n",
       "       [18.27449608],\n",
       "       [18.90999985],\n",
       "       [18.3307209 ],\n",
       "       [18.73999977],\n",
       "       [18.16592789],\n",
       "       [18.98999977],\n",
       "       [18.40826988],\n",
       "       [19.00699997],\n",
       "       [18.42474937],\n",
       "       [18.86000061],\n",
       "       [18.28225136],\n",
       "       [18.94499969],\n",
       "       [18.36464882],\n",
       "       [18.95999908],\n",
       "       [18.37919044],\n",
       "       [19.1060009 ],\n",
       "       [18.52071571],\n",
       "       [19.07099915],\n",
       "       [18.4867897 ],\n",
       "       [18.91500092],\n",
       "       [18.33556747],\n",
       "       [18.95800018],\n",
       "       [18.37724876],\n",
       "       [19.04500008],\n",
       "       [18.46158791],\n",
       "       [18.95000076],\n",
       "       [18.3694973 ],\n",
       "       [19.10000038],\n",
       "       [18.51490211],\n",
       "       [19.04000092],\n",
       "       [18.45674133],\n",
       "       [19.29500008],\n",
       "       [18.8076458 ],\n",
       "       [19.32900047],\n",
       "       [18.84078598],\n",
       "       [19.15999985],\n",
       "       [18.67605591],\n",
       "       [19.42200089],\n",
       "       [18.93143845],\n",
       "       [19.45999908],\n",
       "       [18.96847725],\n",
       "       [19.5       ],\n",
       "       [19.00746727],\n",
       "       [19.50099945],\n",
       "       [19.00844002],\n",
       "       [19.63299942],\n",
       "       [19.13710594],\n",
       "       [19.82699966],\n",
       "       [19.32620621],\n",
       "       [19.73999977],\n",
       "       [19.24140549],\n",
       "       [19.62000084],\n",
       "       [19.12443542],\n",
       "       [19.90200043],\n",
       "       [19.39931297],\n",
       "       [19.90999985],\n",
       "       [19.40711021],\n",
       "       [19.94000053],\n",
       "       [19.43635368],\n",
       "       [19.94099998],\n",
       "       [19.43732834],\n",
       "       [19.98200035],\n",
       "       [19.47729492],\n",
       "       [19.89999962],\n",
       "       [19.39736557],\n",
       "       [19.90999985],\n",
       "       [19.40711021],\n",
       "       [19.85400009],\n",
       "       [19.35252762],\n",
       "       [19.87199974],\n",
       "       [19.37007141],\n",
       "       [19.92000008],\n",
       "       [19.5377903 ],\n",
       "       [19.66500092],\n",
       "       [19.28768349],\n",
       "       [19.20499992],\n",
       "       [18.8365097 ],\n",
       "       [19.26099968],\n",
       "       [18.89143372],\n",
       "       [19.25      ],\n",
       "       [18.88064575],\n",
       "       [19.3010006 ],\n",
       "       [18.93066788],\n",
       "       [19.15399933],\n",
       "       [18.78648758],\n",
       "       [19.14999962],\n",
       "       [18.78256226],\n",
       "       [19.17000008],\n",
       "       [18.80218124],\n",
       "       [19.13500023],\n",
       "       [18.76785278],\n",
       "       [18.95199966],\n",
       "       [18.58836365],\n",
       "       [18.96999931],\n",
       "       [18.60601807],\n",
       "       [18.97299957],\n",
       "       [18.6089592 ],\n",
       "       [18.95999908],\n",
       "       [18.59620857],\n",
       "       [18.82500076],\n",
       "       [18.46380043],\n",
       "       [18.79000092],\n",
       "       [18.42947388],\n",
       "       [18.68000031],\n",
       "       [18.3215847 ],\n",
       "       [18.72999954],\n",
       "       [18.37062263],\n",
       "       [18.86000061],\n",
       "       [18.49812889],\n",
       "       [18.80999947],\n",
       "       [18.56524277],\n",
       "       [18.81500053],\n",
       "       [18.57017899],\n",
       "       [18.98999977],\n",
       "       [18.74290085],\n",
       "       [18.93000031],\n",
       "       [18.6836834 ],\n",
       "       [18.66500092],\n",
       "       [18.42213249],\n",
       "       [18.64900017],\n",
       "       [18.40633965],\n",
       "       [18.78000069],\n",
       "       [18.53563499],\n",
       "       [19.00799942],\n",
       "       [18.76066589],\n",
       "       [19.19499969],\n",
       "       [18.94523239],\n",
       "       [19.28100014],\n",
       "       [19.03011513],\n",
       "       [19.29199982],\n",
       "       [19.04097176],\n",
       "       [19.41600037],\n",
       "       [19.16335869],\n",
       "       [19.65999985],\n",
       "       [19.40418434],\n",
       "       [19.68000031],\n",
       "       [19.42392349],\n",
       "       [19.50799942],\n",
       "       [19.25415993],\n",
       "       [19.71999931],\n",
       "       [19.46340179],\n",
       "       [19.83600044],\n",
       "       [19.57789421],\n",
       "       [19.77000046],\n",
       "       [19.51275253],\n",
       "       [19.64299965],\n",
       "       [19.38740349],\n",
       "       [19.71999931],\n",
       "       [19.46340179],\n",
       "       [19.70000076],\n",
       "       [19.44366264],\n",
       "       [19.77499962],\n",
       "       [19.51768684],\n",
       "       [19.76499939],\n",
       "       [19.50781631],\n",
       "       [19.79000092],\n",
       "       [19.65080452],\n",
       "       [20.        ],\n",
       "       [19.85932732],\n",
       "       [20.01000023],\n",
       "       [19.86925697],\n",
       "       [19.95999908],\n",
       "       [19.81960678],\n",
       "       [19.77000046],\n",
       "       [19.63094521],\n",
       "       [19.91500092],\n",
       "       [19.77492523],\n",
       "       [20.03000069],\n",
       "       [19.88911629],\n",
       "       [20.17000008],\n",
       "       [20.02813148],\n",
       "       [19.92499924],\n",
       "       [19.78485298],\n",
       "       [19.87000084],\n",
       "       [19.73024178],\n",
       "       [19.93000031],\n",
       "       [19.78981972],\n",
       "       [19.85000038],\n",
       "       [19.71038246],\n",
       "       [19.94000053],\n",
       "       [19.79974937],\n",
       "       [19.79999924],\n",
       "       [19.66073227],\n",
       "       [19.85000038],\n",
       "       [19.71038246],\n",
       "       [19.90999985],\n",
       "       [19.7699604 ],\n",
       "       [19.85000038],\n",
       "       [19.71038246],\n",
       "       [19.87000084],\n",
       "       [19.73024178],\n",
       "       [19.88999939],\n",
       "       [19.75010109],\n",
       "       [19.65999985],\n",
       "       [19.52171898],\n",
       "       [19.89999962],\n",
       "       [19.76003075],\n",
       "       [20.12999916],\n",
       "       [19.98841095],\n",
       "       [20.19499969],\n",
       "       [20.05295563],\n",
       "       [20.01000023],\n",
       "       [19.86925697],\n",
       "       [20.04000092],\n",
       "       [19.89904594],\n",
       "       [20.15500069],\n",
       "       [20.013237  ],\n",
       "       [20.11000061],\n",
       "       [19.96855354],\n",
       "       [19.97999954],\n",
       "       [19.839468  ],\n",
       "       [19.98999977],\n",
       "       [19.84939766],\n",
       "       [20.02000046],\n",
       "       [19.87918663],\n",
       "       [19.82999992],\n",
       "       [19.69052315],\n",
       "       [19.81999969],\n",
       "       [19.68059349],\n",
       "       [19.54999924],\n",
       "       [19.41249084],\n",
       "       [19.70999908],\n",
       "       [19.57136536],\n",
       "       [19.64299965],\n",
       "       [19.50483704],\n",
       "       [19.68000031],\n",
       "       [19.54157829],\n",
       "       [19.50499916],\n",
       "       [19.36780739],\n",
       "       [19.35499954],\n",
       "       [19.21886253],\n",
       "       [19.43000031],\n",
       "       [19.29333687],\n",
       "       [19.53000069],\n",
       "       [19.39263344],\n",
       "       [19.62000084],\n",
       "       [19.48200035],\n",
       "       [19.52000046],\n",
       "       [19.52000046],\n",
       "       [19.27099991],\n",
       "       [19.27099991],\n",
       "       [19.42000008],\n",
       "       [19.42000008],\n",
       "       [19.43000031],\n",
       "       [19.43000031],\n",
       "       [19.20999908],\n",
       "       [19.20999908],\n",
       "       [19.45000076],\n",
       "       [19.45000076],\n",
       "       [19.4279995 ],\n",
       "       [19.4279995 ],\n",
       "       [19.3560009 ],\n",
       "       [19.3560009 ],\n",
       "       [19.28000069],\n",
       "       [19.28000069],\n",
       "       [19.32999992],\n",
       "       [19.32999992],\n",
       "       [19.43000031],\n",
       "       [19.43000031],\n",
       "       [19.4470005 ],\n",
       "       [19.4470005 ],\n",
       "       [19.27000046],\n",
       "       [19.27000046],\n",
       "       [19.25      ],\n",
       "       [19.25      ],\n",
       "       [19.06999969],\n",
       "       [19.06999969],\n",
       "       [19.12000084],\n",
       "       [19.12000084],\n",
       "       [19.15999985],\n",
       "       [19.15999985],\n",
       "       [19.06999969],\n",
       "       [19.06999969],\n",
       "       [18.98999977],\n",
       "       [18.98999977],\n",
       "       [18.90999985],\n",
       "       [18.90999985],\n",
       "       [19.12999916],\n",
       "       [19.12999916]])"
      ]
     },
     "execution_count": 50,
     "metadata": {},
     "output_type": "execute_result"
    }
   ],
   "source": [
    "close_price"
   ]
  },
  {
   "cell_type": "code",
   "execution_count": 45,
   "id": "688fa72e",
   "metadata": {},
   "outputs": [
    {
     "data": {
      "text/plain": [
       "array([18.870434], dtype=float32)"
      ]
     },
     "execution_count": 45,
     "metadata": {},
     "output_type": "execute_result"
    }
   ],
   "source": [
    "y_hat_inverse[-1]"
   ]
  },
  {
   "cell_type": "markdown",
   "id": "4b772796",
   "metadata": {},
   "source": [
    "### Future days"
   ]
  },
  {
   "cell_type": "code",
   "execution_count": null,
   "id": "c169718a",
   "metadata": {},
   "outputs": [],
   "source": []
  },
  {
   "cell_type": "code",
   "execution_count": null,
   "id": "acf9672f",
   "metadata": {},
   "outputs": [],
   "source": []
  },
  {
   "cell_type": "code",
   "execution_count": null,
   "id": "77806fa9",
   "metadata": {},
   "outputs": [],
   "source": []
  },
  {
   "cell_type": "markdown",
   "id": "47e5c31f",
   "metadata": {},
   "source": [
    "### Chart of returns"
   ]
  },
  {
   "cell_type": "code",
   "execution_count": null,
   "id": "d22b39da",
   "metadata": {},
   "outputs": [],
   "source": []
  },
  {
   "cell_type": "code",
   "execution_count": null,
   "id": "95d87fcb",
   "metadata": {},
   "outputs": [],
   "source": []
  },
  {
   "cell_type": "code",
   "execution_count": null,
   "id": "4205c360",
   "metadata": {},
   "outputs": [],
   "source": []
  },
  {
   "cell_type": "code",
   "execution_count": null,
   "id": "852fa20e",
   "metadata": {},
   "outputs": [],
   "source": []
  },
  {
   "cell_type": "code",
   "execution_count": null,
   "id": "ba30f841",
   "metadata": {},
   "outputs": [],
   "source": []
  },
  {
   "cell_type": "code",
   "execution_count": null,
   "id": "566b6e40",
   "metadata": {},
   "outputs": [],
   "source": []
  },
  {
   "cell_type": "code",
   "execution_count": null,
   "id": "f4eab552",
   "metadata": {},
   "outputs": [],
   "source": []
  },
  {
   "cell_type": "code",
   "execution_count": null,
   "id": "ca7661a8",
   "metadata": {},
   "outputs": [],
   "source": []
  },
  {
   "cell_type": "code",
   "execution_count": null,
   "id": "d1955fa3",
   "metadata": {},
   "outputs": [],
   "source": []
  },
  {
   "cell_type": "code",
   "execution_count": null,
   "id": "9f72213d",
   "metadata": {},
   "outputs": [],
   "source": []
  },
  {
   "cell_type": "code",
   "execution_count": null,
   "id": "bdd52206",
   "metadata": {},
   "outputs": [],
   "source": []
  },
  {
   "cell_type": "code",
   "execution_count": null,
   "id": "ad7a5b86",
   "metadata": {},
   "outputs": [],
   "source": []
  }
 ],
 "metadata": {
  "kernelspec": {
   "display_name": "Python [conda env:tf]",
   "language": "python",
   "name": "conda-env-tf-py"
  },
  "language_info": {
   "codemirror_mode": {
    "name": "ipython",
    "version": 3
   },
   "file_extension": ".py",
   "mimetype": "text/x-python",
   "name": "python",
   "nbconvert_exporter": "python",
   "pygments_lexer": "ipython3",
   "version": "3.9.16"
  }
 },
 "nbformat": 4,
 "nbformat_minor": 5
}
