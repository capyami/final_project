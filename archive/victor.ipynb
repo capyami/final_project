{
 "cells": [
  {
   "cell_type": "code",
   "execution_count": 1,
   "id": "03cc5401",
   "metadata": {},
   "outputs": [],
   "source": [
    "import yfinance as yf\n",
    "import pandas as pd\n",
    "import numpy as np\n",
    "import datetime\n",
    "from datetime import date\n",
    "from statsmodels.tsa.arima.model import ARIMA\n",
    "import matplotlib.pyplot as plt\n",
    "import seaborn as sns\n",
    "from statsmodels.tsa.statespace.sarimax import SARIMAX\n",
    "import pandas_datareader.data as web\n",
    "import datetime\n",
    "import pandas_datareader as web \n"
   ]
  },
  {
   "cell_type": "code",
   "execution_count": 2,
   "id": "f20f1132",
   "metadata": {},
   "outputs": [
    {
     "name": "stdout",
     "output_type": "stream",
     "text": [
      "[*********************100%***********************]  1 of 1 completed\n"
     ]
    }
   ],
   "source": [
    "import yfinance as yf\n",
    "btc = yf.download('BTC-USD', start = '2008-01-01', end='2020-12-02')"
   ]
  },
  {
   "cell_type": "code",
   "execution_count": 3,
   "id": "8783a076",
   "metadata": {},
   "outputs": [
    {
     "data": {
      "text/html": [
       "<div>\n",
       "<style scoped>\n",
       "    .dataframe tbody tr th:only-of-type {\n",
       "        vertical-align: middle;\n",
       "    }\n",
       "\n",
       "    .dataframe tbody tr th {\n",
       "        vertical-align: top;\n",
       "    }\n",
       "\n",
       "    .dataframe thead th {\n",
       "        text-align: right;\n",
       "    }\n",
       "</style>\n",
       "<table border=\"1\" class=\"dataframe\">\n",
       "  <thead>\n",
       "    <tr style=\"text-align: right;\">\n",
       "      <th></th>\n",
       "      <th>Open</th>\n",
       "      <th>High</th>\n",
       "      <th>Low</th>\n",
       "      <th>Close</th>\n",
       "      <th>Adj Close</th>\n",
       "      <th>Volume</th>\n",
       "    </tr>\n",
       "    <tr>\n",
       "      <th>Date</th>\n",
       "      <th></th>\n",
       "      <th></th>\n",
       "      <th></th>\n",
       "      <th></th>\n",
       "      <th></th>\n",
       "      <th></th>\n",
       "    </tr>\n",
       "  </thead>\n",
       "  <tbody>\n",
       "    <tr>\n",
       "      <th>2014-09-17</th>\n",
       "      <td>465.864014</td>\n",
       "      <td>468.174011</td>\n",
       "      <td>452.421997</td>\n",
       "      <td>457.334015</td>\n",
       "      <td>457.334015</td>\n",
       "      <td>21056800</td>\n",
       "    </tr>\n",
       "    <tr>\n",
       "      <th>2014-09-18</th>\n",
       "      <td>456.859985</td>\n",
       "      <td>456.859985</td>\n",
       "      <td>413.104004</td>\n",
       "      <td>424.440002</td>\n",
       "      <td>424.440002</td>\n",
       "      <td>34483200</td>\n",
       "    </tr>\n",
       "    <tr>\n",
       "      <th>2014-09-19</th>\n",
       "      <td>424.102997</td>\n",
       "      <td>427.834991</td>\n",
       "      <td>384.532013</td>\n",
       "      <td>394.795990</td>\n",
       "      <td>394.795990</td>\n",
       "      <td>37919700</td>\n",
       "    </tr>\n",
       "    <tr>\n",
       "      <th>2014-09-20</th>\n",
       "      <td>394.673004</td>\n",
       "      <td>423.295990</td>\n",
       "      <td>389.882996</td>\n",
       "      <td>408.903992</td>\n",
       "      <td>408.903992</td>\n",
       "      <td>36863600</td>\n",
       "    </tr>\n",
       "    <tr>\n",
       "      <th>2014-09-21</th>\n",
       "      <td>408.084991</td>\n",
       "      <td>412.425995</td>\n",
       "      <td>393.181000</td>\n",
       "      <td>398.821014</td>\n",
       "      <td>398.821014</td>\n",
       "      <td>26580100</td>\n",
       "    </tr>\n",
       "    <tr>\n",
       "      <th>...</th>\n",
       "      <td>...</td>\n",
       "      <td>...</td>\n",
       "      <td>...</td>\n",
       "      <td>...</td>\n",
       "      <td>...</td>\n",
       "      <td>...</td>\n",
       "    </tr>\n",
       "    <tr>\n",
       "      <th>2020-11-27</th>\n",
       "      <td>17153.914062</td>\n",
       "      <td>17445.023438</td>\n",
       "      <td>16526.423828</td>\n",
       "      <td>17108.402344</td>\n",
       "      <td>17108.402344</td>\n",
       "      <td>38886494645</td>\n",
       "    </tr>\n",
       "    <tr>\n",
       "      <th>2020-11-28</th>\n",
       "      <td>17112.933594</td>\n",
       "      <td>17853.939453</td>\n",
       "      <td>16910.652344</td>\n",
       "      <td>17717.414062</td>\n",
       "      <td>17717.414062</td>\n",
       "      <td>32601040734</td>\n",
       "    </tr>\n",
       "    <tr>\n",
       "      <th>2020-11-29</th>\n",
       "      <td>17719.634766</td>\n",
       "      <td>18283.628906</td>\n",
       "      <td>17559.117188</td>\n",
       "      <td>18177.484375</td>\n",
       "      <td>18177.484375</td>\n",
       "      <td>31133957704</td>\n",
       "    </tr>\n",
       "    <tr>\n",
       "      <th>2020-11-30</th>\n",
       "      <td>18178.322266</td>\n",
       "      <td>19749.263672</td>\n",
       "      <td>18178.322266</td>\n",
       "      <td>19625.835938</td>\n",
       "      <td>19625.835938</td>\n",
       "      <td>47728480399</td>\n",
       "    </tr>\n",
       "    <tr>\n",
       "      <th>2020-12-01</th>\n",
       "      <td>19633.769531</td>\n",
       "      <td>19845.974609</td>\n",
       "      <td>18321.921875</td>\n",
       "      <td>18802.998047</td>\n",
       "      <td>18802.998047</td>\n",
       "      <td>49633658712</td>\n",
       "    </tr>\n",
       "  </tbody>\n",
       "</table>\n",
       "<p>2268 rows × 6 columns</p>\n",
       "</div>"
      ],
      "text/plain": [
       "                    Open          High           Low         Close  \\\n",
       "Date                                                                 \n",
       "2014-09-17    465.864014    468.174011    452.421997    457.334015   \n",
       "2014-09-18    456.859985    456.859985    413.104004    424.440002   \n",
       "2014-09-19    424.102997    427.834991    384.532013    394.795990   \n",
       "2014-09-20    394.673004    423.295990    389.882996    408.903992   \n",
       "2014-09-21    408.084991    412.425995    393.181000    398.821014   \n",
       "...                  ...           ...           ...           ...   \n",
       "2020-11-27  17153.914062  17445.023438  16526.423828  17108.402344   \n",
       "2020-11-28  17112.933594  17853.939453  16910.652344  17717.414062   \n",
       "2020-11-29  17719.634766  18283.628906  17559.117188  18177.484375   \n",
       "2020-11-30  18178.322266  19749.263672  18178.322266  19625.835938   \n",
       "2020-12-01  19633.769531  19845.974609  18321.921875  18802.998047   \n",
       "\n",
       "               Adj Close       Volume  \n",
       "Date                                   \n",
       "2014-09-17    457.334015     21056800  \n",
       "2014-09-18    424.440002     34483200  \n",
       "2014-09-19    394.795990     37919700  \n",
       "2014-09-20    408.903992     36863600  \n",
       "2014-09-21    398.821014     26580100  \n",
       "...                  ...          ...  \n",
       "2020-11-27  17108.402344  38886494645  \n",
       "2020-11-28  17717.414062  32601040734  \n",
       "2020-11-29  18177.484375  31133957704  \n",
       "2020-11-30  19625.835938  47728480399  \n",
       "2020-12-01  18802.998047  49633658712  \n",
       "\n",
       "[2268 rows x 6 columns]"
      ]
     },
     "execution_count": 3,
     "metadata": {},
     "output_type": "execute_result"
    }
   ],
   "source": [
    "btc"
   ]
  },
  {
   "cell_type": "markdown",
   "id": "fb24c9c1",
   "metadata": {},
   "source": [
    "import pandas as pd \n",
    "pd.set_option('display.max_columns', None)\n",
    "pd.set_option('display.max_rows', None)"
   ]
  },
  {
   "cell_type": "code",
   "execution_count": 4,
   "id": "f31b48b4",
   "metadata": {},
   "outputs": [],
   "source": [
    "#btc = web.get_data_yahoo(['BTC-USD'], start=datetime.datetime(2018, 1, 1), end=datetime.datetime(2020, 12, 2))['Close']"
   ]
  },
  {
   "cell_type": "code",
   "execution_count": 5,
   "id": "3719c1c6",
   "metadata": {},
   "outputs": [],
   "source": [
    "#btc = web.get_data_yahoo(['BTC-USD'], start=datetime.datetime(2018, 1, 1), end=datetime.datetime(2020, 12, 2))['Close']"
   ]
  },
  {
   "cell_type": "code",
   "execution_count": 6,
   "id": "99be4217",
   "metadata": {},
   "outputs": [
    {
     "name": "stdout",
     "output_type": "stream",
     "text": [
      "                  Open        High         Low       Close   Adj Close  \\\n",
      "Date                                                                     \n",
      "2014-09-17  465.864014  468.174011  452.421997  457.334015  457.334015   \n",
      "2014-09-18  456.859985  456.859985  413.104004  424.440002  424.440002   \n",
      "2014-09-19  424.102997  427.834991  384.532013  394.795990  394.795990   \n",
      "2014-09-20  394.673004  423.295990  389.882996  408.903992  408.903992   \n",
      "2014-09-21  408.084991  412.425995  393.181000  398.821014  398.821014   \n",
      "\n",
      "              Volume  \n",
      "Date                  \n",
      "2014-09-17  21056800  \n",
      "2014-09-18  34483200  \n",
      "2014-09-19  37919700  \n",
      "2014-09-20  36863600  \n",
      "2014-09-21  26580100  \n"
     ]
    }
   ],
   "source": [
    "print(btc.head())"
   ]
  },
  {
   "cell_type": "code",
   "execution_count": 7,
   "id": "333d703e",
   "metadata": {},
   "outputs": [],
   "source": [
    "btc.to_csv(\"btc.csv\")"
   ]
  },
  {
   "cell_type": "code",
   "execution_count": 8,
   "id": "e358694c",
   "metadata": {},
   "outputs": [
    {
     "name": "stdout",
     "output_type": "stream",
     "text": [
      "         Date        Open        High         Low       Close   Adj Close  \\\n",
      "0  2014-09-17  465.864014  468.174011  452.421997  457.334015  457.334015   \n",
      "1  2014-09-18  456.859985  456.859985  413.104004  424.440002  424.440002   \n",
      "2  2014-09-19  424.102997  427.834991  384.532013  394.795990  394.795990   \n",
      "3  2014-09-20  394.673004  423.295990  389.882996  408.903992  408.903992   \n",
      "4  2014-09-21  408.084991  412.425995  393.181000  398.821014  398.821014   \n",
      "\n",
      "     Volume  \n",
      "0  21056800  \n",
      "1  34483200  \n",
      "2  37919700  \n",
      "3  36863600  \n",
      "4  26580100  \n"
     ]
    }
   ],
   "source": [
    "btc = pd.read_csv(\"btc.csv\")\n",
    "print(btc.head())"
   ]
  },
  {
   "cell_type": "code",
   "execution_count": 9,
   "id": "330b431c",
   "metadata": {},
   "outputs": [],
   "source": [
    "start = \"2018-06-30\"\n",
    "today = date.today().strftime(\"%Y-%m-%d\")"
   ]
  },
  {
   "cell_type": "code",
   "execution_count": 10,
   "id": "60fe8c71",
   "metadata": {},
   "outputs": [
    {
     "name": "stdout",
     "output_type": "stream",
     "text": [
      "[*********************100%***********************]  1 of 1 completed\n"
     ]
    }
   ],
   "source": [
    "btc =  yf.download('MSFT', start, today)"
   ]
  },
  {
   "cell_type": "code",
   "execution_count": 11,
   "id": "28231838",
   "metadata": {},
   "outputs": [],
   "source": [
    "btc = btc.reset_index()"
   ]
  },
  {
   "cell_type": "code",
   "execution_count": 12,
   "id": "98aee720",
   "metadata": {},
   "outputs": [
    {
     "data": {
      "text/html": [
       "<div>\n",
       "<style scoped>\n",
       "    .dataframe tbody tr th:only-of-type {\n",
       "        vertical-align: middle;\n",
       "    }\n",
       "\n",
       "    .dataframe tbody tr th {\n",
       "        vertical-align: top;\n",
       "    }\n",
       "\n",
       "    .dataframe thead th {\n",
       "        text-align: right;\n",
       "    }\n",
       "</style>\n",
       "<table border=\"1\" class=\"dataframe\">\n",
       "  <thead>\n",
       "    <tr style=\"text-align: right;\">\n",
       "      <th></th>\n",
       "      <th>Date</th>\n",
       "      <th>Open</th>\n",
       "      <th>High</th>\n",
       "      <th>Low</th>\n",
       "      <th>Close</th>\n",
       "      <th>Adj Close</th>\n",
       "      <th>Volume</th>\n",
       "    </tr>\n",
       "  </thead>\n",
       "  <tbody>\n",
       "    <tr>\n",
       "      <th>0</th>\n",
       "      <td>2018-07-02</td>\n",
       "      <td>98.099998</td>\n",
       "      <td>100.059998</td>\n",
       "      <td>98.000000</td>\n",
       "      <td>100.010002</td>\n",
       "      <td>94.589241</td>\n",
       "      <td>19564500</td>\n",
       "    </tr>\n",
       "    <tr>\n",
       "      <th>1</th>\n",
       "      <td>2018-07-03</td>\n",
       "      <td>100.480003</td>\n",
       "      <td>100.629997</td>\n",
       "      <td>98.940002</td>\n",
       "      <td>99.050003</td>\n",
       "      <td>93.681274</td>\n",
       "      <td>14670300</td>\n",
       "    </tr>\n",
       "    <tr>\n",
       "      <th>2</th>\n",
       "      <td>2018-07-05</td>\n",
       "      <td>99.500000</td>\n",
       "      <td>99.919998</td>\n",
       "      <td>99.029999</td>\n",
       "      <td>99.760002</td>\n",
       "      <td>94.352776</td>\n",
       "      <td>18977400</td>\n",
       "    </tr>\n",
       "    <tr>\n",
       "      <th>3</th>\n",
       "      <td>2018-07-06</td>\n",
       "      <td>99.889999</td>\n",
       "      <td>101.430000</td>\n",
       "      <td>99.669998</td>\n",
       "      <td>101.160004</td>\n",
       "      <td>95.676910</td>\n",
       "      <td>19234600</td>\n",
       "    </tr>\n",
       "    <tr>\n",
       "      <th>4</th>\n",
       "      <td>2018-07-09</td>\n",
       "      <td>101.650002</td>\n",
       "      <td>102.250000</td>\n",
       "      <td>101.250000</td>\n",
       "      <td>101.849998</td>\n",
       "      <td>96.329514</td>\n",
       "      <td>18212000</td>\n",
       "    </tr>\n",
       "    <tr>\n",
       "      <th>...</th>\n",
       "      <td>...</td>\n",
       "      <td>...</td>\n",
       "      <td>...</td>\n",
       "      <td>...</td>\n",
       "      <td>...</td>\n",
       "      <td>...</td>\n",
       "      <td>...</td>\n",
       "    </tr>\n",
       "    <tr>\n",
       "      <th>1254</th>\n",
       "      <td>2023-06-27</td>\n",
       "      <td>331.859985</td>\n",
       "      <td>336.149994</td>\n",
       "      <td>329.299988</td>\n",
       "      <td>334.570007</td>\n",
       "      <td>334.570007</td>\n",
       "      <td>24354100</td>\n",
       "    </tr>\n",
       "    <tr>\n",
       "      <th>1255</th>\n",
       "      <td>2023-06-28</td>\n",
       "      <td>334.660004</td>\n",
       "      <td>337.980011</td>\n",
       "      <td>333.809998</td>\n",
       "      <td>335.850006</td>\n",
       "      <td>335.850006</td>\n",
       "      <td>20259500</td>\n",
       "    </tr>\n",
       "    <tr>\n",
       "      <th>1256</th>\n",
       "      <td>2023-06-29</td>\n",
       "      <td>334.709991</td>\n",
       "      <td>336.109985</td>\n",
       "      <td>332.619995</td>\n",
       "      <td>335.049988</td>\n",
       "      <td>335.049988</td>\n",
       "      <td>16997000</td>\n",
       "    </tr>\n",
       "    <tr>\n",
       "      <th>1257</th>\n",
       "      <td>2023-06-30</td>\n",
       "      <td>337.750000</td>\n",
       "      <td>342.730011</td>\n",
       "      <td>337.200012</td>\n",
       "      <td>340.540009</td>\n",
       "      <td>340.540009</td>\n",
       "      <td>26823800</td>\n",
       "    </tr>\n",
       "    <tr>\n",
       "      <th>1258</th>\n",
       "      <td>2023-07-03</td>\n",
       "      <td>339.190002</td>\n",
       "      <td>340.899994</td>\n",
       "      <td>336.570007</td>\n",
       "      <td>337.989990</td>\n",
       "      <td>337.989990</td>\n",
       "      <td>12508700</td>\n",
       "    </tr>\n",
       "  </tbody>\n",
       "</table>\n",
       "<p>1259 rows × 7 columns</p>\n",
       "</div>"
      ],
      "text/plain": [
       "           Date        Open        High         Low       Close   Adj Close  \\\n",
       "0    2018-07-02   98.099998  100.059998   98.000000  100.010002   94.589241   \n",
       "1    2018-07-03  100.480003  100.629997   98.940002   99.050003   93.681274   \n",
       "2    2018-07-05   99.500000   99.919998   99.029999   99.760002   94.352776   \n",
       "3    2018-07-06   99.889999  101.430000   99.669998  101.160004   95.676910   \n",
       "4    2018-07-09  101.650002  102.250000  101.250000  101.849998   96.329514   \n",
       "...         ...         ...         ...         ...         ...         ...   \n",
       "1254 2023-06-27  331.859985  336.149994  329.299988  334.570007  334.570007   \n",
       "1255 2023-06-28  334.660004  337.980011  333.809998  335.850006  335.850006   \n",
       "1256 2023-06-29  334.709991  336.109985  332.619995  335.049988  335.049988   \n",
       "1257 2023-06-30  337.750000  342.730011  337.200012  340.540009  340.540009   \n",
       "1258 2023-07-03  339.190002  340.899994  336.570007  337.989990  337.989990   \n",
       "\n",
       "        Volume  \n",
       "0     19564500  \n",
       "1     14670300  \n",
       "2     18977400  \n",
       "3     19234600  \n",
       "4     18212000  \n",
       "...        ...  \n",
       "1254  24354100  \n",
       "1255  20259500  \n",
       "1256  16997000  \n",
       "1257  26823800  \n",
       "1258  12508700  \n",
       "\n",
       "[1259 rows x 7 columns]"
      ]
     },
     "execution_count": 12,
     "metadata": {},
     "output_type": "execute_result"
    }
   ],
   "source": [
    "btc"
   ]
  },
  {
   "cell_type": "code",
   "execution_count": 13,
   "id": "cb79c46f",
   "metadata": {},
   "outputs": [],
   "source": [
    "btc.index = pd.to_datetime(btc['Date'], format='%Y-%m-%d')\n"
   ]
  },
  {
   "cell_type": "code",
   "execution_count": 14,
   "id": "e52651e7",
   "metadata": {},
   "outputs": [
    {
     "data": {
      "text/html": [
       "<div>\n",
       "<style scoped>\n",
       "    .dataframe tbody tr th:only-of-type {\n",
       "        vertical-align: middle;\n",
       "    }\n",
       "\n",
       "    .dataframe tbody tr th {\n",
       "        vertical-align: top;\n",
       "    }\n",
       "\n",
       "    .dataframe thead th {\n",
       "        text-align: right;\n",
       "    }\n",
       "</style>\n",
       "<table border=\"1\" class=\"dataframe\">\n",
       "  <thead>\n",
       "    <tr style=\"text-align: right;\">\n",
       "      <th></th>\n",
       "      <th>Date</th>\n",
       "      <th>Open</th>\n",
       "      <th>High</th>\n",
       "      <th>Low</th>\n",
       "      <th>Close</th>\n",
       "      <th>Adj Close</th>\n",
       "      <th>Volume</th>\n",
       "    </tr>\n",
       "    <tr>\n",
       "      <th>Date</th>\n",
       "      <th></th>\n",
       "      <th></th>\n",
       "      <th></th>\n",
       "      <th></th>\n",
       "      <th></th>\n",
       "      <th></th>\n",
       "      <th></th>\n",
       "    </tr>\n",
       "  </thead>\n",
       "  <tbody>\n",
       "    <tr>\n",
       "      <th>2018-07-02</th>\n",
       "      <td>2018-07-02</td>\n",
       "      <td>98.099998</td>\n",
       "      <td>100.059998</td>\n",
       "      <td>98.000000</td>\n",
       "      <td>100.010002</td>\n",
       "      <td>94.589241</td>\n",
       "      <td>19564500</td>\n",
       "    </tr>\n",
       "    <tr>\n",
       "      <th>2018-07-03</th>\n",
       "      <td>2018-07-03</td>\n",
       "      <td>100.480003</td>\n",
       "      <td>100.629997</td>\n",
       "      <td>98.940002</td>\n",
       "      <td>99.050003</td>\n",
       "      <td>93.681274</td>\n",
       "      <td>14670300</td>\n",
       "    </tr>\n",
       "    <tr>\n",
       "      <th>2018-07-05</th>\n",
       "      <td>2018-07-05</td>\n",
       "      <td>99.500000</td>\n",
       "      <td>99.919998</td>\n",
       "      <td>99.029999</td>\n",
       "      <td>99.760002</td>\n",
       "      <td>94.352776</td>\n",
       "      <td>18977400</td>\n",
       "    </tr>\n",
       "    <tr>\n",
       "      <th>2018-07-06</th>\n",
       "      <td>2018-07-06</td>\n",
       "      <td>99.889999</td>\n",
       "      <td>101.430000</td>\n",
       "      <td>99.669998</td>\n",
       "      <td>101.160004</td>\n",
       "      <td>95.676910</td>\n",
       "      <td>19234600</td>\n",
       "    </tr>\n",
       "    <tr>\n",
       "      <th>2018-07-09</th>\n",
       "      <td>2018-07-09</td>\n",
       "      <td>101.650002</td>\n",
       "      <td>102.250000</td>\n",
       "      <td>101.250000</td>\n",
       "      <td>101.849998</td>\n",
       "      <td>96.329514</td>\n",
       "      <td>18212000</td>\n",
       "    </tr>\n",
       "    <tr>\n",
       "      <th>...</th>\n",
       "      <td>...</td>\n",
       "      <td>...</td>\n",
       "      <td>...</td>\n",
       "      <td>...</td>\n",
       "      <td>...</td>\n",
       "      <td>...</td>\n",
       "      <td>...</td>\n",
       "    </tr>\n",
       "    <tr>\n",
       "      <th>2023-06-27</th>\n",
       "      <td>2023-06-27</td>\n",
       "      <td>331.859985</td>\n",
       "      <td>336.149994</td>\n",
       "      <td>329.299988</td>\n",
       "      <td>334.570007</td>\n",
       "      <td>334.570007</td>\n",
       "      <td>24354100</td>\n",
       "    </tr>\n",
       "    <tr>\n",
       "      <th>2023-06-28</th>\n",
       "      <td>2023-06-28</td>\n",
       "      <td>334.660004</td>\n",
       "      <td>337.980011</td>\n",
       "      <td>333.809998</td>\n",
       "      <td>335.850006</td>\n",
       "      <td>335.850006</td>\n",
       "      <td>20259500</td>\n",
       "    </tr>\n",
       "    <tr>\n",
       "      <th>2023-06-29</th>\n",
       "      <td>2023-06-29</td>\n",
       "      <td>334.709991</td>\n",
       "      <td>336.109985</td>\n",
       "      <td>332.619995</td>\n",
       "      <td>335.049988</td>\n",
       "      <td>335.049988</td>\n",
       "      <td>16997000</td>\n",
       "    </tr>\n",
       "    <tr>\n",
       "      <th>2023-06-30</th>\n",
       "      <td>2023-06-30</td>\n",
       "      <td>337.750000</td>\n",
       "      <td>342.730011</td>\n",
       "      <td>337.200012</td>\n",
       "      <td>340.540009</td>\n",
       "      <td>340.540009</td>\n",
       "      <td>26823800</td>\n",
       "    </tr>\n",
       "    <tr>\n",
       "      <th>2023-07-03</th>\n",
       "      <td>2023-07-03</td>\n",
       "      <td>339.190002</td>\n",
       "      <td>340.899994</td>\n",
       "      <td>336.570007</td>\n",
       "      <td>337.989990</td>\n",
       "      <td>337.989990</td>\n",
       "      <td>12508700</td>\n",
       "    </tr>\n",
       "  </tbody>\n",
       "</table>\n",
       "<p>1259 rows × 7 columns</p>\n",
       "</div>"
      ],
      "text/plain": [
       "                 Date        Open        High         Low       Close  \\\n",
       "Date                                                                    \n",
       "2018-07-02 2018-07-02   98.099998  100.059998   98.000000  100.010002   \n",
       "2018-07-03 2018-07-03  100.480003  100.629997   98.940002   99.050003   \n",
       "2018-07-05 2018-07-05   99.500000   99.919998   99.029999   99.760002   \n",
       "2018-07-06 2018-07-06   99.889999  101.430000   99.669998  101.160004   \n",
       "2018-07-09 2018-07-09  101.650002  102.250000  101.250000  101.849998   \n",
       "...               ...         ...         ...         ...         ...   \n",
       "2023-06-27 2023-06-27  331.859985  336.149994  329.299988  334.570007   \n",
       "2023-06-28 2023-06-28  334.660004  337.980011  333.809998  335.850006   \n",
       "2023-06-29 2023-06-29  334.709991  336.109985  332.619995  335.049988   \n",
       "2023-06-30 2023-06-30  337.750000  342.730011  337.200012  340.540009   \n",
       "2023-07-03 2023-07-03  339.190002  340.899994  336.570007  337.989990   \n",
       "\n",
       "             Adj Close    Volume  \n",
       "Date                              \n",
       "2018-07-02   94.589241  19564500  \n",
       "2018-07-03   93.681274  14670300  \n",
       "2018-07-05   94.352776  18977400  \n",
       "2018-07-06   95.676910  19234600  \n",
       "2018-07-09   96.329514  18212000  \n",
       "...                ...       ...  \n",
       "2023-06-27  334.570007  24354100  \n",
       "2023-06-28  335.850006  20259500  \n",
       "2023-06-29  335.049988  16997000  \n",
       "2023-06-30  340.540009  26823800  \n",
       "2023-07-03  337.989990  12508700  \n",
       "\n",
       "[1259 rows x 7 columns]"
      ]
     },
     "execution_count": 14,
     "metadata": {},
     "output_type": "execute_result"
    }
   ],
   "source": [
    "btc"
   ]
  },
  {
   "cell_type": "code",
   "execution_count": 15,
   "id": "4b5f8459",
   "metadata": {},
   "outputs": [],
   "source": [
    "del btc['Date']"
   ]
  },
  {
   "cell_type": "code",
   "execution_count": 16,
   "id": "02d2a478",
   "metadata": {},
   "outputs": [
    {
     "data": {
      "text/html": [
       "<div>\n",
       "<style scoped>\n",
       "    .dataframe tbody tr th:only-of-type {\n",
       "        vertical-align: middle;\n",
       "    }\n",
       "\n",
       "    .dataframe tbody tr th {\n",
       "        vertical-align: top;\n",
       "    }\n",
       "\n",
       "    .dataframe thead th {\n",
       "        text-align: right;\n",
       "    }\n",
       "</style>\n",
       "<table border=\"1\" class=\"dataframe\">\n",
       "  <thead>\n",
       "    <tr style=\"text-align: right;\">\n",
       "      <th></th>\n",
       "      <th>Open</th>\n",
       "      <th>High</th>\n",
       "      <th>Low</th>\n",
       "      <th>Close</th>\n",
       "      <th>Adj Close</th>\n",
       "      <th>Volume</th>\n",
       "    </tr>\n",
       "    <tr>\n",
       "      <th>Date</th>\n",
       "      <th></th>\n",
       "      <th></th>\n",
       "      <th></th>\n",
       "      <th></th>\n",
       "      <th></th>\n",
       "      <th></th>\n",
       "    </tr>\n",
       "  </thead>\n",
       "  <tbody>\n",
       "    <tr>\n",
       "      <th>2018-07-02</th>\n",
       "      <td>98.099998</td>\n",
       "      <td>100.059998</td>\n",
       "      <td>98.000000</td>\n",
       "      <td>100.010002</td>\n",
       "      <td>94.589241</td>\n",
       "      <td>19564500</td>\n",
       "    </tr>\n",
       "    <tr>\n",
       "      <th>2018-07-03</th>\n",
       "      <td>100.480003</td>\n",
       "      <td>100.629997</td>\n",
       "      <td>98.940002</td>\n",
       "      <td>99.050003</td>\n",
       "      <td>93.681274</td>\n",
       "      <td>14670300</td>\n",
       "    </tr>\n",
       "    <tr>\n",
       "      <th>2018-07-05</th>\n",
       "      <td>99.500000</td>\n",
       "      <td>99.919998</td>\n",
       "      <td>99.029999</td>\n",
       "      <td>99.760002</td>\n",
       "      <td>94.352776</td>\n",
       "      <td>18977400</td>\n",
       "    </tr>\n",
       "    <tr>\n",
       "      <th>2018-07-06</th>\n",
       "      <td>99.889999</td>\n",
       "      <td>101.430000</td>\n",
       "      <td>99.669998</td>\n",
       "      <td>101.160004</td>\n",
       "      <td>95.676910</td>\n",
       "      <td>19234600</td>\n",
       "    </tr>\n",
       "    <tr>\n",
       "      <th>2018-07-09</th>\n",
       "      <td>101.650002</td>\n",
       "      <td>102.250000</td>\n",
       "      <td>101.250000</td>\n",
       "      <td>101.849998</td>\n",
       "      <td>96.329514</td>\n",
       "      <td>18212000</td>\n",
       "    </tr>\n",
       "    <tr>\n",
       "      <th>...</th>\n",
       "      <td>...</td>\n",
       "      <td>...</td>\n",
       "      <td>...</td>\n",
       "      <td>...</td>\n",
       "      <td>...</td>\n",
       "      <td>...</td>\n",
       "    </tr>\n",
       "    <tr>\n",
       "      <th>2023-06-27</th>\n",
       "      <td>331.859985</td>\n",
       "      <td>336.149994</td>\n",
       "      <td>329.299988</td>\n",
       "      <td>334.570007</td>\n",
       "      <td>334.570007</td>\n",
       "      <td>24354100</td>\n",
       "    </tr>\n",
       "    <tr>\n",
       "      <th>2023-06-28</th>\n",
       "      <td>334.660004</td>\n",
       "      <td>337.980011</td>\n",
       "      <td>333.809998</td>\n",
       "      <td>335.850006</td>\n",
       "      <td>335.850006</td>\n",
       "      <td>20259500</td>\n",
       "    </tr>\n",
       "    <tr>\n",
       "      <th>2023-06-29</th>\n",
       "      <td>334.709991</td>\n",
       "      <td>336.109985</td>\n",
       "      <td>332.619995</td>\n",
       "      <td>335.049988</td>\n",
       "      <td>335.049988</td>\n",
       "      <td>16997000</td>\n",
       "    </tr>\n",
       "    <tr>\n",
       "      <th>2023-06-30</th>\n",
       "      <td>337.750000</td>\n",
       "      <td>342.730011</td>\n",
       "      <td>337.200012</td>\n",
       "      <td>340.540009</td>\n",
       "      <td>340.540009</td>\n",
       "      <td>26823800</td>\n",
       "    </tr>\n",
       "    <tr>\n",
       "      <th>2023-07-03</th>\n",
       "      <td>339.190002</td>\n",
       "      <td>340.899994</td>\n",
       "      <td>336.570007</td>\n",
       "      <td>337.989990</td>\n",
       "      <td>337.989990</td>\n",
       "      <td>12508700</td>\n",
       "    </tr>\n",
       "  </tbody>\n",
       "</table>\n",
       "<p>1259 rows × 6 columns</p>\n",
       "</div>"
      ],
      "text/plain": [
       "                  Open        High         Low       Close   Adj Close  \\\n",
       "Date                                                                     \n",
       "2018-07-02   98.099998  100.059998   98.000000  100.010002   94.589241   \n",
       "2018-07-03  100.480003  100.629997   98.940002   99.050003   93.681274   \n",
       "2018-07-05   99.500000   99.919998   99.029999   99.760002   94.352776   \n",
       "2018-07-06   99.889999  101.430000   99.669998  101.160004   95.676910   \n",
       "2018-07-09  101.650002  102.250000  101.250000  101.849998   96.329514   \n",
       "...                ...         ...         ...         ...         ...   \n",
       "2023-06-27  331.859985  336.149994  329.299988  334.570007  334.570007   \n",
       "2023-06-28  334.660004  337.980011  333.809998  335.850006  335.850006   \n",
       "2023-06-29  334.709991  336.109985  332.619995  335.049988  335.049988   \n",
       "2023-06-30  337.750000  342.730011  337.200012  340.540009  340.540009   \n",
       "2023-07-03  339.190002  340.899994  336.570007  337.989990  337.989990   \n",
       "\n",
       "              Volume  \n",
       "Date                  \n",
       "2018-07-02  19564500  \n",
       "2018-07-03  14670300  \n",
       "2018-07-05  18977400  \n",
       "2018-07-06  19234600  \n",
       "2018-07-09  18212000  \n",
       "...              ...  \n",
       "2023-06-27  24354100  \n",
       "2023-06-28  20259500  \n",
       "2023-06-29  16997000  \n",
       "2023-06-30  26823800  \n",
       "2023-07-03  12508700  \n",
       "\n",
       "[1259 rows x 6 columns]"
      ]
     },
     "execution_count": 16,
     "metadata": {},
     "output_type": "execute_result"
    }
   ],
   "source": [
    "btc"
   ]
  },
  {
   "cell_type": "code",
   "execution_count": 17,
   "id": "c26cb95f",
   "metadata": {},
   "outputs": [],
   "source": [
    "import matplotlib.pyplot as plt\n",
    "import seaborn as sns"
   ]
  },
  {
   "cell_type": "code",
   "execution_count": 18,
   "id": "71244d9f",
   "metadata": {},
   "outputs": [],
   "source": [
    "sns.set()"
   ]
  },
  {
   "cell_type": "code",
   "execution_count": 19,
   "id": "4aeb336b",
   "metadata": {},
   "outputs": [
    {
     "data": {
      "text/plain": [
       "(array([0. , 0.2, 0.4, 0.6, 0.8, 1. ]),\n",
       " [Text(0.0, 0, '0.0'),\n",
       "  Text(0.2, 0, '0.2'),\n",
       "  Text(0.4, 0, '0.4'),\n",
       "  Text(0.6000000000000001, 0, '0.6'),\n",
       "  Text(0.8, 0, '0.8'),\n",
       "  Text(1.0, 0, '1.0')])"
      ]
     },
     "execution_count": 19,
     "metadata": {},
     "output_type": "execute_result"
    },
    {
     "data": {
      "image/png": "[encoded data removed]",
      "text/plain": [
       "<Figure size 640x480 with 1 Axes>"
      ]
     },
     "metadata": {},
     "output_type": "display_data"
    }
   ],
   "source": [
    "plt.ylabel('Close')\n",
    "plt.xlabel('Date')\n",
    "plt.xticks(rotation=45)"
   ]
  },
  {
   "cell_type": "code",
   "execution_count": 20,
   "id": "d8415dce",
   "metadata": {},
   "outputs": [
    {
     "data": {
      "text/plain": [
       "[<matplotlib.lines.Line2D at 0x2bf26e0bca0>]"
      ]
     },
     "execution_count": 20,
     "metadata": {},
     "output_type": "execute_result"
    },
    {
     "data": {
      "image/png": "[encoded data removed]",
      "text/plain": [
       "<Figure size 640x480 with 1 Axes>"
      ]
     },
     "metadata": {},
     "output_type": "display_data"
    }
   ],
   "source": [
    "plt.plot(btc.index, btc['Close'], )"
   ]
  },
  {
   "cell_type": "code",
   "execution_count": 21,
   "id": "a30d84da",
   "metadata": {},
   "outputs": [
    {
     "data": {
      "image/png": "[encoded data removed]",
      "text/plain": [
       "<Figure size 640x480 with 1 Axes>"
      ]
     },
     "metadata": {},
     "output_type": "display_data"
    }
   ],
   "source": [
    "train = btc[btc.index < pd.to_datetime(\"2020-11-01\", format='%Y-%m-%d')]\n",
    "test = btc[btc.index > pd.to_datetime(\"2020-11-01\", format='%Y-%m-%d')]\n",
    "\n",
    "plt.plot(train, color = \"black\")\n",
    "plt.plot(test, color = \"red\")\n",
    "plt.ylabel('BTC Price')\n",
    "plt.xlabel('Date')\n",
    "plt.xticks(rotation=45)\n",
    "plt.title(\"Train/Test split for BTC Data\")\n",
    "plt.show()"
   ]
  },
  {
   "cell_type": "code",
   "execution_count": 22,
   "id": "4a322a67",
   "metadata": {},
   "outputs": [],
   "source": [
    "from statsmodels.tsa.statespace.sarimax import SARIMAX"
   ]
  },
  {
   "cell_type": "code",
   "execution_count": 23,
   "id": "6fca3107",
   "metadata": {},
   "outputs": [],
   "source": [
    "y = train['Close']"
   ]
  },
  {
   "cell_type": "code",
   "execution_count": 24,
   "id": "349d6357",
   "metadata": {},
   "outputs": [
    {
     "name": "stderr",
     "output_type": "stream",
     "text": [
      "C:\\Users\\marym\\miniconda3\\envs\\tf\\lib\\site-packages\\statsmodels\\tsa\\base\\tsa_model.py:471: ValueWarning: A date index has been provided, but it has no associated frequency information and so will be ignored when e.g. forecasting.\n",
      "  self._init_dates(dates, freq)\n",
      "C:\\Users\\marym\\miniconda3\\envs\\tf\\lib\\site-packages\\statsmodels\\tsa\\base\\tsa_model.py:471: ValueWarning: A date index has been provided, but it has no associated frequency information and so will be ignored when e.g. forecasting.\n",
      "  self._init_dates(dates, freq)\n"
     ]
    }
   ],
   "source": [
    "ARMAmodel = SARIMAX(y, order = (1, 0, 1))\n"
   ]
  },
  {
   "cell_type": "code",
   "execution_count": 25,
   "id": "9287f424",
   "metadata": {},
   "outputs": [
    {
     "name": "stderr",
     "output_type": "stream",
     "text": [
      "C:\\Users\\marym\\miniconda3\\envs\\tf\\lib\\site-packages\\statsmodels\\tsa\\statespace\\sarimax.py:966: UserWarning: Non-stationary starting autoregressive parameters found. Using zeros as starting parameters.\n",
      "  warn('Non-stationary starting autoregressive parameters'\n"
     ]
    }
   ],
   "source": [
    "ARMAmodel = ARMAmodel.fit()"
   ]
  },
  {
   "cell_type": "code",
   "execution_count": 26,
   "id": "08922474",
   "metadata": {},
   "outputs": [
    {
     "name": "stderr",
     "output_type": "stream",
     "text": [
      "C:\\Users\\marym\\miniconda3\\envs\\tf\\lib\\site-packages\\statsmodels\\tsa\\base\\tsa_model.py:834: ValueWarning: No supported index is available. Prediction results will be given with an integer index beginning at `start`.\n",
      "  return get_prediction_index(\n",
      "C:\\Users\\marym\\miniconda3\\envs\\tf\\lib\\site-packages\\statsmodels\\tsa\\base\\tsa_model.py:834: ValueWarning: No supported index is available. Prediction results will be given with an integer index beginning at `start`.\n",
      "  return get_prediction_index(\n"
     ]
    }
   ],
   "source": [
    "y_pred = ARMAmodel.get_forecast(len(test.index))\n",
    "y_pred_df = y_pred.conf_int(alpha = 0.05) \n",
    "y_pred_df[\"Predictions\"] = ARMAmodel.predict(start = y_pred_df.index[0], end = y_pred_df.index[-1])\n",
    "y_pred_df.index = test.index\n",
    "y_pred_out = y_pred_df[\"Predictions\"] "
   ]
  },
  {
   "cell_type": "code",
   "execution_count": 27,
   "id": "2bf9f42d",
   "metadata": {},
   "outputs": [
    {
     "data": {
      "text/plain": [
       "<matplotlib.legend.Legend at 0x2bf274fe2b0>"
      ]
     },
     "execution_count": 27,
     "metadata": {},
     "output_type": "execute_result"
    },
    {
     "data": {
      "image/png": "[encoded data removed]",
      "text/plain": [
       "<Figure size 640x480 with 1 Axes>"
      ]
     },
     "metadata": {},
     "output_type": "display_data"
    }
   ],
   "source": [
    "plt.plot(y_pred_out, color='green', label = 'Predictions')\n",
    "plt.legend()"
   ]
  },
  {
   "cell_type": "code",
   "execution_count": 28,
   "id": "d473c23a",
   "metadata": {},
   "outputs": [
    {
     "name": "stdout",
     "output_type": "stream",
     "text": [
      "RMSE:  83.09673152173612\n"
     ]
    }
   ],
   "source": [
    "import numpy as np\n",
    "from sklearn.metrics import mean_squared_error\n",
    "\n",
    "arma_rmse = np.sqrt(mean_squared_error(test[\"Close\"].values, y_pred_df[\"Predictions\"]))\n",
    "print(\"RMSE: \",arma_rmse)"
   ]
  },
  {
   "cell_type": "code",
   "execution_count": 29,
   "id": "2ae5f738",
   "metadata": {},
   "outputs": [],
   "source": [
    "from statsmodels.tsa.arima.model import ARIMA"
   ]
  },
  {
   "cell_type": "code",
   "execution_count": 30,
   "id": "982140dc",
   "metadata": {},
   "outputs": [
    {
     "name": "stderr",
     "output_type": "stream",
     "text": [
      "C:\\Users\\marym\\miniconda3\\envs\\tf\\lib\\site-packages\\statsmodels\\tsa\\base\\tsa_model.py:471: ValueWarning: A date index has been provided, but it has no associated frequency information and so will be ignored when e.g. forecasting.\n",
      "  self._init_dates(dates, freq)\n",
      "C:\\Users\\marym\\miniconda3\\envs\\tf\\lib\\site-packages\\statsmodels\\tsa\\base\\tsa_model.py:471: ValueWarning: A date index has been provided, but it has no associated frequency information and so will be ignored when e.g. forecasting.\n",
      "  self._init_dates(dates, freq)\n",
      "C:\\Users\\marym\\miniconda3\\envs\\tf\\lib\\site-packages\\statsmodels\\tsa\\base\\tsa_model.py:471: ValueWarning: A date index has been provided, but it has no associated frequency information and so will be ignored when e.g. forecasting.\n",
      "  self._init_dates(dates, freq)\n",
      "C:\\Users\\marym\\miniconda3\\envs\\tf\\lib\\site-packages\\statsmodels\\tsa\\statespace\\sarimax.py:966: UserWarning: Non-stationary starting autoregressive parameters found. Using zeros as starting parameters.\n",
      "  warn('Non-stationary starting autoregressive parameters'\n",
      "C:\\Users\\marym\\miniconda3\\envs\\tf\\lib\\site-packages\\statsmodels\\tsa\\statespace\\sarimax.py:978: UserWarning: Non-invertible starting MA parameters found. Using zeros as starting parameters.\n",
      "  warn('Non-invertible starting MA parameters found.'\n",
      "C:\\Users\\marym\\miniconda3\\envs\\tf\\lib\\site-packages\\statsmodels\\tsa\\base\\tsa_model.py:834: ValueWarning: No supported index is available. Prediction results will be given with an integer index beginning at `start`.\n",
      "  return get_prediction_index(\n",
      "C:\\Users\\marym\\miniconda3\\envs\\tf\\lib\\site-packages\\statsmodels\\tsa\\base\\tsa_model.py:834: ValueWarning: No supported index is available. Prediction results will be given with an integer index beginning at `start`.\n",
      "  return get_prediction_index(\n"
     ]
    },
    {
     "name": "stdout",
     "output_type": "stream",
     "text": [
      "RMSE:  41.91784611249611\n"
     ]
    },
    {
     "data": {
      "image/png": "[encoded data removed]",
      "text/plain": [
       "<Figure size 640x480 with 1 Axes>"
      ]
     },
     "metadata": {},
     "output_type": "display_data"
    }
   ],
   "source": [
    "ARIMAmodel = ARIMA(y, order = (2, 2, 2))\n",
    "ARIMAmodel = ARIMAmodel.fit()\n",
    "\n",
    "y_pred = ARIMAmodel.get_forecast(len(test.index))\n",
    "y_pred_df = y_pred.conf_int(alpha = 0.05) \n",
    "y_pred_df[\"Predictions\"] = ARIMAmodel.predict(start = y_pred_df.index[0], end = y_pred_df.index[-1])\n",
    "y_pred_df.index = test.index\n",
    "y_pred_out = y_pred_df[\"Predictions\"] \n",
    "plt.plot(y_pred_out, color='Yellow', label = 'ARIMA Predictions')\n",
    "plt.legend()\n",
    "\n",
    "\n",
    "import numpy as np\n",
    "from sklearn.metrics import mean_squared_error\n",
    "\n",
    "arma_rmse = np.sqrt(mean_squared_error(test[\"Close\"].values, y_pred_df[\"Predictions\"]))\n",
    "print(\"RMSE: \",arma_rmse)"
   ]
  },
  {
   "cell_type": "code",
   "execution_count": 31,
   "id": "fb5915f1",
   "metadata": {},
   "outputs": [
    {
     "name": "stderr",
     "output_type": "stream",
     "text": [
      "C:\\Users\\marym\\miniconda3\\envs\\tf\\lib\\site-packages\\statsmodels\\tsa\\base\\tsa_model.py:471: ValueWarning: A date index has been provided, but it has no associated frequency information and so will be ignored when e.g. forecasting.\n",
      "  self._init_dates(dates, freq)\n",
      "C:\\Users\\marym\\miniconda3\\envs\\tf\\lib\\site-packages\\statsmodels\\tsa\\base\\tsa_model.py:471: ValueWarning: A date index has been provided, but it has no associated frequency information and so will be ignored when e.g. forecasting.\n",
      "  self._init_dates(dates, freq)\n",
      "C:\\Users\\marym\\miniconda3\\envs\\tf\\lib\\site-packages\\statsmodels\\tsa\\statespace\\sarimax.py:978: UserWarning: Non-invertible starting MA parameters found. Using zeros as starting parameters.\n",
      "  warn('Non-invertible starting MA parameters found.'\n",
      "C:\\Users\\marym\\miniconda3\\envs\\tf\\lib\\site-packages\\statsmodels\\tsa\\statespace\\sarimax.py:1009: UserWarning: Non-invertible starting seasonal moving average Using zeros as starting parameters.\n",
      "  warn('Non-invertible starting seasonal moving average'\n",
      "C:\\Users\\marym\\miniconda3\\envs\\tf\\lib\\site-packages\\statsmodels\\base\\model.py:604: ConvergenceWarning: Maximum Likelihood optimization failed to converge. Check mle_retvals\n",
      "  warnings.warn(\"Maximum Likelihood optimization failed to \"\n",
      "C:\\Users\\marym\\miniconda3\\envs\\tf\\lib\\site-packages\\statsmodels\\tsa\\base\\tsa_model.py:834: ValueWarning: No supported index is available. Prediction results will be given with an integer index beginning at `start`.\n",
      "  return get_prediction_index(\n",
      "C:\\Users\\marym\\miniconda3\\envs\\tf\\lib\\site-packages\\statsmodels\\tsa\\base\\tsa_model.py:834: ValueWarning: No supported index is available. Prediction results will be given with an integer index beginning at `start`.\n",
      "  return get_prediction_index(\n"
     ]
    },
    {
     "data": {
      "text/plain": [
       "<matplotlib.legend.Legend at 0x2bf274fec40>"
      ]
     },
     "execution_count": 31,
     "metadata": {},
     "output_type": "execute_result"
    },
    {
     "data": {
      "image/png": "[encoded data removed]",
      "text/plain": [
       "<Figure size 640x480 with 1 Axes>"
      ]
     },
     "metadata": {},
     "output_type": "display_data"
    }
   ],
   "source": [
    "SARIMAXmodel = SARIMAX(y, order = (5, 4, 2), seasonal_order=(2,2,2,12))\n",
    "SARIMAXmodel = SARIMAXmodel.fit()\n",
    "\n",
    "y_pred = SARIMAXmodel.get_forecast(len(test.index))\n",
    "y_pred_df = y_pred.conf_int(alpha = 0.05) \n",
    "y_pred_df[\"Predictions\"] = SARIMAXmodel.predict(start = y_pred_df.index[0], end = y_pred_df.index[-1])\n",
    "y_pred_df.index = test.index\n",
    "y_pred_out = y_pred_df[\"Predictions\"] \n",
    "plt.plot(y_pred_out, color='Blue', label = 'SARIMA Predictions')\n",
    "plt.legend()"
   ]
  },
  {
   "cell_type": "code",
   "execution_count": null,
   "id": "60d01c2b",
   "metadata": {},
   "outputs": [],
   "source": []
  },
  {
   "cell_type": "code",
   "execution_count": null,
   "id": "9f3d72c3",
   "metadata": {},
   "outputs": [],
   "source": []
  },
  {
   "cell_type": "code",
   "execution_count": null,
   "id": "b39022f4",
   "metadata": {},
   "outputs": [],
   "source": []
  },
  {
   "cell_type": "code",
   "execution_count": null,
   "id": "6c77f36d",
   "metadata": {},
   "outputs": [],
   "source": []
  },
  {
   "cell_type": "code",
   "execution_count": null,
   "id": "382d7b7d",
   "metadata": {},
   "outputs": [],
   "source": []
  },
  {
   "cell_type": "code",
   "execution_count": null,
   "id": "8e86a840",
   "metadata": {},
   "outputs": [],
   "source": []
  },
  {
   "cell_type": "code",
   "execution_count": null,
   "id": "69894b4b",
   "metadata": {},
   "outputs": [],
   "source": []
  },
  {
   "cell_type": "code",
   "execution_count": null,
   "id": "0fb4e585",
   "metadata": {},
   "outputs": [],
   "source": []
  },
  {
   "cell_type": "code",
   "execution_count": null,
   "id": "70d6ff70",
   "metadata": {},
   "outputs": [],
   "source": []
  },
  {
   "cell_type": "code",
   "execution_count": null,
   "id": "06eacffa",
   "metadata": {},
   "outputs": [],
   "source": []
  },
  {
   "cell_type": "code",
   "execution_count": null,
   "id": "5addddec",
   "metadata": {},
   "outputs": [],
   "source": []
  },
  {
   "cell_type": "code",
   "execution_count": null,
   "id": "9cea0ed9",
   "metadata": {},
   "outputs": [],
   "source": []
  },
  {
   "cell_type": "code",
   "execution_count": null,
   "id": "b2b99db0",
   "metadata": {},
   "outputs": [],
   "source": []
  },
  {
   "cell_type": "code",
   "execution_count": null,
   "id": "b8054c7f",
   "metadata": {},
   "outputs": [],
   "source": []
  },
  {
   "cell_type": "code",
   "execution_count": null,
   "id": "6011374f",
   "metadata": {},
   "outputs": [],
   "source": []
  },
  {
   "cell_type": "code",
   "execution_count": null,
   "id": "8b9bc43d",
   "metadata": {},
   "outputs": [],
   "source": []
  },
  {
   "cell_type": "code",
   "execution_count": null,
   "id": "e5a7098f",
   "metadata": {},
   "outputs": [],
   "source": []
  },
  {
   "cell_type": "code",
   "execution_count": null,
   "id": "ae2df560",
   "metadata": {},
   "outputs": [],
   "source": []
  },
  {
   "cell_type": "code",
   "execution_count": null,
   "id": "061de09c",
   "metadata": {},
   "outputs": [],
   "source": []
  },
  {
   "cell_type": "code",
   "execution_count": null,
   "id": "4924bbd2",
   "metadata": {},
   "outputs": [],
   "source": []
  }
 ],
 "metadata": {
  "kernelspec": {
   "display_name": "Python [conda env:tf]",
   "language": "python",
   "name": "conda-env-tf-py"
  },
  "language_info": {
   "codemirror_mode": {
    "name": "ipython",
    "version": 3
   },
   "file_extension": ".py",
   "mimetype": "text/x-python",
   "name": "python",
   "nbconvert_exporter": "python",
   "pygments_lexer": "ipython3",
   "version": "3.9.16"
  }
 },
 "nbformat": 4,
 "nbformat_minor": 5
}
