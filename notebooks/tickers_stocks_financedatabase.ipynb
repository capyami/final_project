{
 "cells": [
  {
   "cell_type": "code",
   "execution_count": 1,
   "id": "92414dd1",
   "metadata": {},
   "outputs": [],
   "source": [
    "import financedatabase as fd\n",
    "import pandas as pd"
   ]
  },
  {
   "cell_type": "code",
   "execution_count": 4,
   "id": "2060b242",
   "metadata": {},
   "outputs": [],
   "source": [
    "equities = fd.Equities()"
   ]
  },
  {
   "cell_type": "code",
   "execution_count": 6,
   "id": "b2a7fb16",
   "metadata": {},
   "outputs": [],
   "source": [
    "etfs = fd.ETFs()"
   ]
  },
  {
   "cell_type": "code",
   "execution_count": 7,
   "id": "a0138b13",
   "metadata": {},
   "outputs": [
    {
     "name": "stdout",
     "output_type": "stream",
     "text": [
      "symbol is not a valid column.\n"
     ]
    },
    {
     "data": {
      "text/html": [
       "<div>\n",
       "<style scoped>\n",
       "    .dataframe tbody tr th:only-of-type {\n",
       "        vertical-align: middle;\n",
       "    }\n",
       "\n",
       "    .dataframe tbody tr th {\n",
       "        vertical-align: top;\n",
       "    }\n",
       "\n",
       "    .dataframe thead th {\n",
       "        text-align: right;\n",
       "    }\n",
       "</style>\n",
       "<table border=\"1\" class=\"dataframe\">\n",
       "  <thead>\n",
       "    <tr style=\"text-align: right;\">\n",
       "      <th></th>\n",
       "      <th>name</th>\n",
       "      <th>currency</th>\n",
       "      <th>summary</th>\n",
       "      <th>category_group</th>\n",
       "      <th>category</th>\n",
       "      <th>family</th>\n",
       "      <th>exchange</th>\n",
       "      <th>market</th>\n",
       "    </tr>\n",
       "    <tr>\n",
       "      <th>symbol</th>\n",
       "      <th></th>\n",
       "      <th></th>\n",
       "      <th></th>\n",
       "      <th></th>\n",
       "      <th></th>\n",
       "      <th></th>\n",
       "      <th></th>\n",
       "      <th></th>\n",
       "    </tr>\n",
       "  </thead>\n",
       "  <tbody>\n",
       "    <tr>\n",
       "      <th>^ACWI</th>\n",
       "      <td>ISHARES TRUST</td>\n",
       "      <td>USD</td>\n",
       "      <td>NaN</td>\n",
       "      <td>NaN</td>\n",
       "      <td>NaN</td>\n",
       "      <td>NaN</td>\n",
       "      <td>NIM</td>\n",
       "      <td>us_market</td>\n",
       "    </tr>\n",
       "    <tr>\n",
       "      <th>^ADFI-IV</th>\n",
       "      <td>NFIELD DYNAMIC FIXED INCOME ETF</td>\n",
       "      <td>USD</td>\n",
       "      <td>NaN</td>\n",
       "      <td>NaN</td>\n",
       "      <td>NaN</td>\n",
       "      <td>NaN</td>\n",
       "      <td>ASE</td>\n",
       "      <td>us_market</td>\n",
       "    </tr>\n",
       "    <tr>\n",
       "      <th>^ADRE</th>\n",
       "      <td>INVESCO ACTIVELY M</td>\n",
       "      <td>USD</td>\n",
       "      <td>NaN</td>\n",
       "      <td>NaN</td>\n",
       "      <td>NaN</td>\n",
       "      <td>NaN</td>\n",
       "      <td>NIM</td>\n",
       "      <td>us_market</td>\n",
       "    </tr>\n",
       "    <tr>\n",
       "      <th>^ARB-EU</th>\n",
       "      <td>ALTSHARES MERGER ARBITRAGE ETF</td>\n",
       "      <td>USD</td>\n",
       "      <td>NaN</td>\n",
       "      <td>NaN</td>\n",
       "      <td>NaN</td>\n",
       "      <td>NaN</td>\n",
       "      <td>ASE</td>\n",
       "      <td>us_market</td>\n",
       "    </tr>\n",
       "    <tr>\n",
       "      <th>^ARB-IV</th>\n",
       "      <td>ALTSHARES MERGER ARBITRAGE ETF</td>\n",
       "      <td>USD</td>\n",
       "      <td>NaN</td>\n",
       "      <td>NaN</td>\n",
       "      <td>NaN</td>\n",
       "      <td>NaN</td>\n",
       "      <td>ASE</td>\n",
       "      <td>us_market</td>\n",
       "    </tr>\n",
       "    <tr>\n",
       "      <th>...</th>\n",
       "      <td>...</td>\n",
       "      <td>...</td>\n",
       "      <td>...</td>\n",
       "      <td>...</td>\n",
       "      <td>...</td>\n",
       "      <td>...</td>\n",
       "      <td>...</td>\n",
       "      <td>...</td>\n",
       "    </tr>\n",
       "    <tr>\n",
       "      <th>VGFPF</th>\n",
       "      <td>Vanguard Funds Public Limited Company - Vangua...</td>\n",
       "      <td>NaN</td>\n",
       "      <td>NaN</td>\n",
       "      <td>NaN</td>\n",
       "      <td>NaN</td>\n",
       "      <td>NaN</td>\n",
       "      <td>NaN</td>\n",
       "      <td>NaN</td>\n",
       "    </tr>\n",
       "    <tr>\n",
       "      <th>VFDEF</th>\n",
       "      <td>Vanguard Funds Public Limited Company - Vangua...</td>\n",
       "      <td>NaN</td>\n",
       "      <td>NaN</td>\n",
       "      <td>NaN</td>\n",
       "      <td>NaN</td>\n",
       "      <td>NaN</td>\n",
       "      <td>NaN</td>\n",
       "      <td>NaN</td>\n",
       "    </tr>\n",
       "    <tr>\n",
       "      <th>WSDMF</th>\n",
       "      <td>WisdomTree Issuer ICAV - WisdomTree Europe Equ...</td>\n",
       "      <td>NaN</td>\n",
       "      <td>NaN</td>\n",
       "      <td>NaN</td>\n",
       "      <td>NaN</td>\n",
       "      <td>NaN</td>\n",
       "      <td>NaN</td>\n",
       "      <td>NaN</td>\n",
       "    </tr>\n",
       "    <tr>\n",
       "      <th>WDSSF</th>\n",
       "      <td>WisdomTree Issuer ICAV - WisdomTree US Quality...</td>\n",
       "      <td>NaN</td>\n",
       "      <td>NaN</td>\n",
       "      <td>NaN</td>\n",
       "      <td>NaN</td>\n",
       "      <td>NaN</td>\n",
       "      <td>NaN</td>\n",
       "      <td>NaN</td>\n",
       "    </tr>\n",
       "    <tr>\n",
       "      <th>ZKBHF</th>\n",
       "      <td>ZKB Gold ETF</td>\n",
       "      <td>NaN</td>\n",
       "      <td>NaN</td>\n",
       "      <td>NaN</td>\n",
       "      <td>NaN</td>\n",
       "      <td>NaN</td>\n",
       "      <td>NaN</td>\n",
       "      <td>NaN</td>\n",
       "    </tr>\n",
       "  </tbody>\n",
       "</table>\n",
       "<p>36786 rows × 8 columns</p>\n",
       "</div>"
      ],
      "text/plain": [
       "                                                       name currency summary  \\\n",
       "symbol                                                                         \n",
       "^ACWI                                         ISHARES TRUST      USD     NaN   \n",
       "^ADFI-IV                    NFIELD DYNAMIC FIXED INCOME ETF      USD     NaN   \n",
       "^ADRE                                    INVESCO ACTIVELY M      USD     NaN   \n",
       "^ARB-EU                      ALTSHARES MERGER ARBITRAGE ETF      USD     NaN   \n",
       "^ARB-IV                      ALTSHARES MERGER ARBITRAGE ETF      USD     NaN   \n",
       "...                                                     ...      ...     ...   \n",
       "VGFPF     Vanguard Funds Public Limited Company - Vangua...      NaN     NaN   \n",
       "VFDEF     Vanguard Funds Public Limited Company - Vangua...      NaN     NaN   \n",
       "WSDMF     WisdomTree Issuer ICAV - WisdomTree Europe Equ...      NaN     NaN   \n",
       "WDSSF     WisdomTree Issuer ICAV - WisdomTree US Quality...      NaN     NaN   \n",
       "ZKBHF                                          ZKB Gold ETF      NaN     NaN   \n",
       "\n",
       "         category_group category family exchange     market  \n",
       "symbol                                                       \n",
       "^ACWI               NaN      NaN    NaN      NIM  us_market  \n",
       "^ADFI-IV            NaN      NaN    NaN      ASE  us_market  \n",
       "^ADRE               NaN      NaN    NaN      NIM  us_market  \n",
       "^ARB-EU             NaN      NaN    NaN      ASE  us_market  \n",
       "^ARB-IV             NaN      NaN    NaN      ASE  us_market  \n",
       "...                 ...      ...    ...      ...        ...  \n",
       "VGFPF               NaN      NaN    NaN      NaN        NaN  \n",
       "VFDEF               NaN      NaN    NaN      NaN        NaN  \n",
       "WSDMF               NaN      NaN    NaN      NaN        NaN  \n",
       "WDSSF               NaN      NaN    NaN      NaN        NaN  \n",
       "ZKBHF               NaN      NaN    NaN      NaN        NaN  \n",
       "\n",
       "[36786 rows x 8 columns]"
      ]
     },
     "execution_count": 7,
     "metadata": {},
     "output_type": "execute_result"
    }
   ],
   "source": [
    "etfs.search(symbol='CALF')"
   ]
  },
  {
   "cell_type": "code",
   "execution_count": 3,
   "id": "e63286ed",
   "metadata": {},
   "outputs": [
    {
     "data": {
      "text/plain": [
       "array(['Afghanistan', 'Anguilla', 'Argentina', 'Australia', 'Austria',\n",
       "       'Azerbaijan', 'Bahamas', 'Bangladesh', 'Barbados', 'Belgium',\n",
       "       'Belize', 'Bermuda', 'Botswana', 'Brazil',\n",
       "       'British Virgin Islands', 'Cambodia', 'Canada', 'Cayman Islands',\n",
       "       'Chile', 'China', 'Colombia', 'Costa Rica', 'Cyprus',\n",
       "       'Czech Republic', 'Denmark', 'Dominican Republic', 'Egypt',\n",
       "       'Estonia', 'Falkland Islands', 'Finland', 'France',\n",
       "       'French Guiana', 'Gabon', 'Georgia', 'Germany', 'Ghana',\n",
       "       'Gibraltar', 'Greece', 'Greenland', 'Guernsey', 'Hong Kong',\n",
       "       'Hungary', 'Iceland', 'India', 'Indonesia', 'Ireland',\n",
       "       'Isle of Man', 'Israel', 'Italy', 'Ivory Coast', 'Japan', 'Jersey',\n",
       "       'Jordan', 'Kazakhstan', 'Kenya', 'Kyrgyzstan', 'Latvia',\n",
       "       'Liechtenstein', 'Lithuania', 'Luxembourg', 'Macau', 'Macedonia',\n",
       "       'Malaysia', 'Malta', 'Mauritius', 'Mexico', 'Monaco', 'Mongolia',\n",
       "       'Montenegro', 'Morocco', 'Mozambique', 'Myanmar', 'Namibia',\n",
       "       'Netherlands', 'Netherlands Antilles', 'New Zealand', 'Nigeria',\n",
       "       'Norway', 'Panama', 'Papua New Guinea', 'Peru', 'Philippines',\n",
       "       'Poland', 'Portugal', 'Qatar', 'Reunion', 'Romania', 'Russia',\n",
       "       'Saudi Arabia', 'Senegal', 'Singapore', 'Slovakia', 'Slovenia',\n",
       "       'South Africa', 'South Korea', 'Spain', 'Suriname', 'Sweden',\n",
       "       'Switzerland', 'Taiwan', 'Tanzania', 'Thailand', 'Turkey',\n",
       "       'Ukraine', 'United Arab Emirates', 'United Kingdom',\n",
       "       'United States', 'Uruguay', 'Vietnam', 'Zambia'], dtype=object)"
      ]
     },
     "execution_count": 3,
     "metadata": {},
     "output_type": "execute_result"
    }
   ],
   "source": [
    "equities_countries = equities.options('country')\n",
    "equities_countries"
   ]
  },
  {
   "cell_type": "code",
   "execution_count": 4,
   "id": "a27375e1",
   "metadata": {},
   "outputs": [
    {
     "data": {
      "text/plain": [
       "array(['Communication Services', 'Consumer Discretionary',\n",
       "       'Consumer Staples', 'Energy', 'Financials', 'Health Care',\n",
       "       'Industrials', 'Information Technology', 'Materials',\n",
       "       'Real Estate', 'Utilities'], dtype=object)"
      ]
     },
     "execution_count": 4,
     "metadata": {},
     "output_type": "execute_result"
    }
   ],
   "source": [
    "equities_sectors = equities.options('sector')\n",
    "equities_sectors"
   ]
  },
  {
   "cell_type": "code",
   "execution_count": 5,
   "id": "44330a0d",
   "metadata": {},
   "outputs": [
    {
     "data": {
      "text/plain": [
       "array(['Automobiles & Components', 'Banks', 'Capital Goods',\n",
       "       'Commercial & Professional Services',\n",
       "       'Consumer Durables & Apparel', 'Consumer Services',\n",
       "       'Diversified Financials', 'Energy', 'Food & Staples Retailing',\n",
       "       'Food, Beverage & Tobacco', 'Health Care Equipment & Services',\n",
       "       'Household & Personal Products', 'Insurance', 'Materials',\n",
       "       'Media & Entertainment',\n",
       "       'Pharmaceuticals, Biotechnology & Life Sciences', 'Real Estate',\n",
       "       'Retailing', 'Semiconductors & Semiconductor Equipment',\n",
       "       'Software & Services', 'Technology Hardware & Equipment',\n",
       "       'Telecommunication Services', 'Transportation', 'Utilities'],\n",
       "      dtype=object)"
      ]
     },
     "execution_count": 5,
     "metadata": {},
     "output_type": "execute_result"
    }
   ],
   "source": [
    "equities_industry_groups = equities.options('industry_group')\n",
    "equities_industry_groups"
   ]
  },
  {
   "cell_type": "code",
   "execution_count": 6,
   "id": "7a2cb4b6",
   "metadata": {},
   "outputs": [
    {
     "data": {
      "text/plain": [
       "array(['Aerospace & Defense', 'Air Freight & Logistics', 'Airlines',\n",
       "       'Auto Components', 'Automobiles', 'Banks', 'Beverages',\n",
       "       'Biotechnology', 'Building Products', 'Capital Markets',\n",
       "       'Chemicals', 'Commercial Services & Supplies',\n",
       "       'Communications Equipment', 'Construction & Engineering',\n",
       "       'Construction Materials', 'Consumer Finance', 'Distributors',\n",
       "       'Diversified Consumer Services', 'Diversified Financial Services',\n",
       "       'Diversified Telecommunication Services', 'Electric Utilities',\n",
       "       'Electrical Equipment',\n",
       "       'Electronic Equipment, Instruments & Components', 'Entertainment',\n",
       "       'Equity Real Estate Investment Trusts (REITs)',\n",
       "       'Food & Staples Retailing', 'Health Care Equipment & Supplies',\n",
       "       'Health Care Providers & Services', 'Health Care Technology',\n",
       "       'Hotels, Restaurants & Leisure', 'Household Durables',\n",
       "       'Household Products', 'IT Services',\n",
       "       'Independent Power and Renewable Electricity Producers',\n",
       "       'Industrial Conglomerates', 'Insurance',\n",
       "       'Interactive Media & Services',\n",
       "       'Internet & Direct Marketing Retail', 'Machinery', 'Marine',\n",
       "       'Media', 'Metals & Mining', 'Multi-Utilities',\n",
       "       'Oil, Gas & Consumable Fuels', 'Paper & Forest Products',\n",
       "       'Pharmaceuticals', 'Professional Services',\n",
       "       'Real Estate Management & Development', 'Road & Rail',\n",
       "       'Semiconductors & Semiconductor Equipment', 'Software',\n",
       "       'Specialty Retail', 'Technology Hardware, Storage & Peripherals',\n",
       "       'Textiles, Apparel & Luxury Goods', 'Thrifts & Mortgage Finance',\n",
       "       'Trading Companies & Distributors',\n",
       "       'Transportation Infrastructure', 'Water Utilities'], dtype=object)"
      ]
     },
     "execution_count": 6,
     "metadata": {},
     "output_type": "execute_result"
    }
   ],
   "source": [
    "equities_germany_industries = equities.options('industry', country='Germany')\n",
    "equities_germany_industries"
   ]
  },
  {
   "cell_type": "code",
   "execution_count": 17,
   "id": "5554ef2d",
   "metadata": {
    "scrolled": true
   },
   "outputs": [
    {
     "data": {
      "text/plain": [
       "'Alcoa Corporation, together with its subsidiaries, produces and sells bauxite, alumina, and aluminum products in the United States, Spain, Australia, Brazil, Canada, and internationally. The company operates through three segments: Bauxite, Alumina, and Aluminum. It engages in bauxite mining operations; and processes bauxite into alumina and sells it to customers who process it into industrial chemical products, as well as aluminum smelting, casting, and rolling businesses. The company offers primary aluminum in the form of alloy ingot or value-add ingot to customers that produce products for the transportation, building and construction, packaging, wire, and other industrial markets; and flat-rolled aluminum sheets to customers that produce beverage and food cans. In addition, it owns hydro power plants that produce and sell electricity to the wholesale market to traders, large industrial consumers, distribution companies, and other generation companies. The company was formerly known as Alcoa Upstream Corporation and changed its name to Alcoa Corporation in October 2016. The company was founded in 1888 and is headquartered in Pittsburgh, Pennsylvania.'"
      ]
     },
     "execution_count": 17,
     "metadata": {},
     "output_type": "execute_result"
    }
   ],
   "source": [
    "equities_united_states = equities.select(country=\"United States\")\n",
    "equities_united_states['summary'].iloc[1]"
   ]
  },
  {
   "cell_type": "code",
   "execution_count": 8,
   "id": "7b16c5f7",
   "metadata": {},
   "outputs": [
    {
     "data": {
      "text/plain": [
       "array(['Afghanistan', 'Anguilla', 'Argentina', 'Australia', 'Austria',\n",
       "       'Azerbaijan', 'Bahamas', 'Bangladesh', 'Barbados', 'Belgium',\n",
       "       'Belize', 'Bermuda', 'Botswana', 'Brazil',\n",
       "       'British Virgin Islands', 'Cambodia', 'Canada', 'Cayman Islands',\n",
       "       'Chile', 'China', 'Colombia', 'Costa Rica', 'Cyprus',\n",
       "       'Czech Republic', 'Denmark', 'Dominican Republic', 'Egypt',\n",
       "       'Estonia', 'Falkland Islands', 'Finland', 'France',\n",
       "       'French Guiana', 'Gabon', 'Georgia', 'Germany', 'Ghana',\n",
       "       'Gibraltar', 'Greece', 'Greenland', 'Guernsey', 'Hong Kong',\n",
       "       'Hungary', 'Iceland', 'India', 'Indonesia', 'Ireland',\n",
       "       'Isle of Man', 'Israel', 'Italy', 'Ivory Coast', 'Japan', 'Jersey',\n",
       "       'Jordan', 'Kazakhstan', 'Kenya', 'Kyrgyzstan', 'Latvia',\n",
       "       'Liechtenstein', 'Lithuania', 'Luxembourg', 'Macau', 'Macedonia',\n",
       "       'Malaysia', 'Malta', 'Mauritius', 'Mexico', 'Monaco', 'Mongolia',\n",
       "       'Montenegro', 'Morocco', 'Mozambique', 'Myanmar', 'Namibia',\n",
       "       'Netherlands', 'Netherlands Antilles', 'New Zealand', 'Nigeria',\n",
       "       'Norway', 'Panama', 'Papua New Guinea', 'Peru', 'Philippines',\n",
       "       'Poland', 'Portugal', 'Qatar', 'Reunion', 'Romania', 'Russia',\n",
       "       'Saudi Arabia', 'Senegal', 'Singapore', 'Slovakia', 'Slovenia',\n",
       "       'South Africa', 'South Korea', 'Spain', 'Suriname', 'Sweden',\n",
       "       'Switzerland', 'Taiwan', 'Tanzania', 'Thailand', 'Turkey',\n",
       "       'Ukraine', 'United Arab Emirates', 'United Kingdom',\n",
       "       'United States', 'Uruguay', 'Vietnam', 'Zambia'], dtype=object)"
      ]
     },
     "execution_count": 8,
     "metadata": {},
     "output_type": "execute_result"
    }
   ],
   "source": [
    "equities_country = equities.options('country')\n",
    "equities_country"
   ]
  },
  {
   "cell_type": "code",
   "execution_count": 9,
   "id": "08f8a899",
   "metadata": {},
   "outputs": [
    {
     "data": {
      "text/html": [
       "<div>\n",
       "<style scoped>\n",
       "    .dataframe tbody tr th:only-of-type {\n",
       "        vertical-align: middle;\n",
       "    }\n",
       "\n",
       "    .dataframe tbody tr th {\n",
       "        vertical-align: top;\n",
       "    }\n",
       "\n",
       "    .dataframe thead th {\n",
       "        text-align: right;\n",
       "    }\n",
       "</style>\n",
       "<table border=\"1\" class=\"dataframe\">\n",
       "  <thead>\n",
       "    <tr style=\"text-align: right;\">\n",
       "      <th></th>\n",
       "      <th>name</th>\n",
       "      <th>summary</th>\n",
       "      <th>currency</th>\n",
       "      <th>sector</th>\n",
       "      <th>industry_group</th>\n",
       "      <th>industry</th>\n",
       "      <th>exchange</th>\n",
       "      <th>market</th>\n",
       "      <th>country</th>\n",
       "      <th>state</th>\n",
       "      <th>city</th>\n",
       "      <th>zipcode</th>\n",
       "      <th>website</th>\n",
       "      <th>market_cap</th>\n",
       "      <th>isin</th>\n",
       "      <th>cusip</th>\n",
       "      <th>figi</th>\n",
       "      <th>composite_figi</th>\n",
       "      <th>shareclass_figi</th>\n",
       "    </tr>\n",
       "    <tr>\n",
       "      <th>symbol</th>\n",
       "      <th></th>\n",
       "      <th></th>\n",
       "      <th></th>\n",
       "      <th></th>\n",
       "      <th></th>\n",
       "      <th></th>\n",
       "      <th></th>\n",
       "      <th></th>\n",
       "      <th></th>\n",
       "      <th></th>\n",
       "      <th></th>\n",
       "      <th></th>\n",
       "      <th></th>\n",
       "      <th></th>\n",
       "      <th></th>\n",
       "      <th></th>\n",
       "      <th></th>\n",
       "      <th></th>\n",
       "      <th></th>\n",
       "    </tr>\n",
       "  </thead>\n",
       "  <tbody>\n",
       "  </tbody>\n",
       "</table>\n",
       "</div>"
      ],
      "text/plain": [
       "Empty DataFrame\n",
       "Columns: [name, summary, currency, sector, industry_group, industry, exchange, market, country, state, city, zipcode, website, market_cap, isin, cusip, figi, composite_figi, shareclass_figi]\n",
       "Index: []"
      ]
     },
     "execution_count": 9,
     "metadata": {},
     "output_type": "execute_result"
    }
   ],
   "source": [
    "equities_usa_consumer_electronics = equities.select(country=\"United States\", industry=\"Consumer Electronics\")\n",
    "equities_usa_consumer_electronics"
   ]
  },
  {
   "cell_type": "code",
   "execution_count": 10,
   "id": "fb0f16a6",
   "metadata": {},
   "outputs": [
    {
     "data": {
      "text/plain": [
       "array(['Large Cap', 'Mega Cap', 'Micro Cap', 'Mid Cap', 'Nano Cap',\n",
       "       'Small Cap'], dtype=object)"
      ]
     },
     "execution_count": 10,
     "metadata": {},
     "output_type": "execute_result"
    }
   ],
   "source": [
    "equities.options('market_cap')"
   ]
  },
  {
   "cell_type": "code",
   "execution_count": 11,
   "id": "dc9002d9",
   "metadata": {},
   "outputs": [
    {
     "data": {
      "text/plain": [
       "array(['Afghanistan', 'Anguilla', 'Argentina', 'Australia', 'Austria',\n",
       "       'Azerbaijan', 'Bahamas', 'Bangladesh', 'Barbados', 'Belgium',\n",
       "       'Belize', 'Bermuda', 'Botswana', 'Brazil',\n",
       "       'British Virgin Islands', 'Cambodia', 'Canada', 'Cayman Islands',\n",
       "       'Chile', 'China', 'Colombia', 'Costa Rica', 'Cyprus',\n",
       "       'Czech Republic', 'Denmark', 'Dominican Republic', 'Egypt',\n",
       "       'Estonia', 'Falkland Islands', 'Finland', 'France',\n",
       "       'French Guiana', 'Gabon', 'Georgia', 'Germany', 'Ghana',\n",
       "       'Gibraltar', 'Greece', 'Greenland', 'Guernsey', 'Hong Kong',\n",
       "       'Hungary', 'Iceland', 'India', 'Indonesia', 'Ireland',\n",
       "       'Isle of Man', 'Israel', 'Italy', 'Ivory Coast', 'Japan', 'Jersey',\n",
       "       'Jordan', 'Kazakhstan', 'Kenya', 'Kyrgyzstan', 'Latvia',\n",
       "       'Liechtenstein', 'Lithuania', 'Luxembourg', 'Macau', 'Macedonia',\n",
       "       'Malaysia', 'Malta', 'Mauritius', 'Mexico', 'Monaco', 'Mongolia',\n",
       "       'Montenegro', 'Morocco', 'Mozambique', 'Myanmar', 'Namibia',\n",
       "       'Netherlands', 'Netherlands Antilles', 'New Zealand', 'Nigeria',\n",
       "       'Norway', 'Panama', 'Papua New Guinea', 'Peru', 'Philippines',\n",
       "       'Poland', 'Portugal', 'Qatar', 'Reunion', 'Romania', 'Russia',\n",
       "       'Saudi Arabia', 'Senegal', 'Singapore', 'Slovakia', 'Slovenia',\n",
       "       'South Africa', 'South Korea', 'Spain', 'Suriname', 'Sweden',\n",
       "       'Switzerland', 'Taiwan', 'Tanzania', 'Thailand', 'Turkey',\n",
       "       'Ukraine', 'United Arab Emirates', 'United Kingdom',\n",
       "       'United States', 'Uruguay', 'Vietnam', 'Zambia'], dtype=object)"
      ]
     },
     "execution_count": 11,
     "metadata": {},
     "output_type": "execute_result"
    }
   ],
   "source": [
    "equities.options('country')"
   ]
  },
  {
   "cell_type": "code",
   "execution_count": 12,
   "id": "c5278b5a",
   "metadata": {},
   "outputs": [
    {
     "data": {
      "text/plain": [
       "array(['Aerospace & Defense', 'Air Freight & Logistics', 'Airlines',\n",
       "       'Auto Components', 'Automobiles', 'Banks', 'Beverages',\n",
       "       'Biotechnology', 'Building Products', 'Capital Markets',\n",
       "       'Chemicals', 'Commercial Services & Supplies',\n",
       "       'Communications Equipment', 'Construction & Engineering',\n",
       "       'Construction Materials', 'Consumer Finance', 'Distributors',\n",
       "       'Diversified Consumer Services', 'Diversified Financial Services',\n",
       "       'Diversified Telecommunication Services', 'Electric Utilities',\n",
       "       'Electrical Equipment',\n",
       "       'Electronic Equipment, Instruments & Components',\n",
       "       'Energy Equipment & Services', 'Entertainment',\n",
       "       'Equity Real Estate Investment Trusts (REITs)',\n",
       "       'Food & Staples Retailing', 'Food Products', 'Gas Utilities',\n",
       "       'Health Care Equipment & Supplies',\n",
       "       'Health Care Providers & Services', 'Health Care Technology',\n",
       "       'Hotels, Restaurants & Leisure', 'Household Durables',\n",
       "       'Household Products', 'IT Services',\n",
       "       'Independent Power and Renewable Electricity Producers',\n",
       "       'Industrial Conglomerates', 'Insurance',\n",
       "       'Interactive Media & Services',\n",
       "       'Internet & Direct Marketing Retail', 'Machinery', 'Marine',\n",
       "       'Media', 'Metals & Mining', 'Multi-Utilities',\n",
       "       'Oil, Gas & Consumable Fuels', 'Paper & Forest Products',\n",
       "       'Pharmaceuticals', 'Professional Services',\n",
       "       'Real Estate Management & Development', 'Road & Rail',\n",
       "       'Semiconductors & Semiconductor Equipment', 'Software',\n",
       "       'Specialty Retail', 'Technology Hardware, Storage & Peripherals',\n",
       "       'Textiles, Apparel & Luxury Goods', 'Thrifts & Mortgage Finance',\n",
       "       'Tobacco', 'Trading Companies & Distributors',\n",
       "       'Transportation Infrastructure', 'Water Utilities'], dtype=object)"
      ]
     },
     "execution_count": 12,
     "metadata": {},
     "output_type": "execute_result"
    }
   ],
   "source": [
    "equities.options('industry')"
   ]
  },
  {
   "cell_type": "code",
   "execution_count": 13,
   "id": "0e8577d3",
   "metadata": {},
   "outputs": [
    {
     "data": {
      "text/plain": [
       "array(['Automobiles & Components', 'Banks', 'Capital Goods',\n",
       "       'Commercial & Professional Services',\n",
       "       'Consumer Durables & Apparel', 'Consumer Services',\n",
       "       'Diversified Financials', 'Energy', 'Food & Staples Retailing',\n",
       "       'Food, Beverage & Tobacco', 'Health Care Equipment & Services',\n",
       "       'Household & Personal Products', 'Insurance', 'Materials',\n",
       "       'Media & Entertainment',\n",
       "       'Pharmaceuticals, Biotechnology & Life Sciences', 'Real Estate',\n",
       "       'Retailing', 'Semiconductors & Semiconductor Equipment',\n",
       "       'Software & Services', 'Technology Hardware & Equipment',\n",
       "       'Telecommunication Services', 'Transportation', 'Utilities'],\n",
       "      dtype=object)"
      ]
     },
     "execution_count": 13,
     "metadata": {},
     "output_type": "execute_result"
    }
   ],
   "source": [
    "equities.options('industry_group')"
   ]
  },
  {
   "cell_type": "code",
   "execution_count": 14,
   "id": "e21fd5ab",
   "metadata": {},
   "outputs": [
    {
     "data": {
      "text/plain": [
       "array(['Communication Services', 'Consumer Discretionary',\n",
       "       'Consumer Staples', 'Energy', 'Financials', 'Health Care',\n",
       "       'Industrials', 'Information Technology', 'Materials',\n",
       "       'Real Estate', 'Utilities'], dtype=object)"
      ]
     },
     "execution_count": 14,
     "metadata": {},
     "output_type": "execute_result"
    }
   ],
   "source": [
    "equities.options('sector')"
   ]
  },
  {
   "cell_type": "code",
   "execution_count": 15,
   "id": "a80dbd6a",
   "metadata": {},
   "outputs": [
    {
     "ename": "NameError",
     "evalue": "name 'currency' is not defined",
     "output_type": "error",
     "traceback": [
      "\u001b[1;31m---------------------------------------------------------------------------\u001b[0m",
      "\u001b[1;31mNameError\u001b[0m                                 Traceback (most recent call last)",
      "Cell \u001b[1;32mIn[15], line 1\u001b[0m\n\u001b[1;32m----> 1\u001b[0m \u001b[43mcurrency\u001b[49m\u001b[38;5;241m.\u001b[39moptions(\u001b[38;5;124m'\u001b[39m\u001b[38;5;124msector\u001b[39m\u001b[38;5;124m'\u001b[39m)\n",
      "\u001b[1;31mNameError\u001b[0m: name 'currency' is not defined"
     ]
    }
   ],
   "source": [
    "currency.options('sector')"
   ]
  },
  {
   "cell_type": "code",
   "execution_count": 5,
   "id": "a677f0a8",
   "metadata": {},
   "outputs": [
    {
     "data": {
      "text/html": [
       "<div>\n",
       "<style scoped>\n",
       "    .dataframe tbody tr th:only-of-type {\n",
       "        vertical-align: middle;\n",
       "    }\n",
       "\n",
       "    .dataframe tbody tr th {\n",
       "        vertical-align: top;\n",
       "    }\n",
       "\n",
       "    .dataframe thead th {\n",
       "        text-align: right;\n",
       "    }\n",
       "</style>\n",
       "<table border=\"1\" class=\"dataframe\">\n",
       "  <thead>\n",
       "    <tr style=\"text-align: right;\">\n",
       "      <th></th>\n",
       "      <th>name</th>\n",
       "      <th>summary</th>\n",
       "      <th>currency</th>\n",
       "      <th>sector</th>\n",
       "      <th>industry_group</th>\n",
       "      <th>industry</th>\n",
       "      <th>exchange</th>\n",
       "      <th>market</th>\n",
       "      <th>country</th>\n",
       "      <th>state</th>\n",
       "      <th>city</th>\n",
       "      <th>zipcode</th>\n",
       "      <th>website</th>\n",
       "      <th>market_cap</th>\n",
       "      <th>isin</th>\n",
       "      <th>cusip</th>\n",
       "      <th>figi</th>\n",
       "      <th>composite_figi</th>\n",
       "      <th>shareclass_figi</th>\n",
       "    </tr>\n",
       "    <tr>\n",
       "      <th>symbol</th>\n",
       "      <th></th>\n",
       "      <th></th>\n",
       "      <th></th>\n",
       "      <th></th>\n",
       "      <th></th>\n",
       "      <th></th>\n",
       "      <th></th>\n",
       "      <th></th>\n",
       "      <th></th>\n",
       "      <th></th>\n",
       "      <th></th>\n",
       "      <th></th>\n",
       "      <th></th>\n",
       "      <th></th>\n",
       "      <th></th>\n",
       "      <th></th>\n",
       "      <th></th>\n",
       "      <th></th>\n",
       "      <th></th>\n",
       "    </tr>\n",
       "  </thead>\n",
       "  <tbody>\n",
       "    <tr>\n",
       "      <th>AA</th>\n",
       "      <td>Alcoa Corporation</td>\n",
       "      <td>Alcoa Corporation, together with its subsidiar...</td>\n",
       "      <td>USD</td>\n",
       "      <td>Materials</td>\n",
       "      <td>Materials</td>\n",
       "      <td>Metals &amp; Mining</td>\n",
       "      <td>NYQ</td>\n",
       "      <td>New York Stock Exchange</td>\n",
       "      <td>United States</td>\n",
       "      <td>PA</td>\n",
       "      <td>Pittsburgh</td>\n",
       "      <td>15212-5858</td>\n",
       "      <td>http://www.alcoa.com</td>\n",
       "      <td>Mid Cap</td>\n",
       "      <td>US0138721065</td>\n",
       "      <td>13872106</td>\n",
       "      <td>BBG00B3T3HK5</td>\n",
       "      <td>BBG00B3T3HD3</td>\n",
       "      <td>BBG00B3T3HF1</td>\n",
       "    </tr>\n",
       "  </tbody>\n",
       "</table>\n",
       "</div>"
      ],
      "text/plain": [
       "                     name                                            summary  \\\n",
       "symbol                                                                         \n",
       "AA      Alcoa Corporation  Alcoa Corporation, together with its subsidiar...   \n",
       "\n",
       "       currency     sector industry_group         industry exchange  \\\n",
       "symbol                                                                \n",
       "AA          USD  Materials      Materials  Metals & Mining      NYQ   \n",
       "\n",
       "                         market        country state        city     zipcode  \\\n",
       "symbol                                                                         \n",
       "AA      New York Stock Exchange  United States    PA  Pittsburgh  15212-5858   \n",
       "\n",
       "                     website market_cap          isin     cusip          figi  \\\n",
       "symbol                                                                          \n",
       "AA      http://www.alcoa.com    Mid Cap  US0138721065  13872106  BBG00B3T3HK5   \n",
       "\n",
       "       composite_figi shareclass_figi  \n",
       "symbol                                 \n",
       "AA       BBG00B3T3HD3    BBG00B3T3HF1  "
      ]
     },
     "execution_count": 5,
     "metadata": {},
     "output_type": "execute_result"
    }
   ],
   "source": [
    "stocks = pd.DataFrame(equities.select())\n",
    "stocks[stocks['name']=='Alcoa Corporation']"
   ]
  },
  {
   "cell_type": "code",
   "execution_count": null,
   "id": "807d6ee4",
   "metadata": {},
   "outputs": [],
   "source": []
  },
  {
   "cell_type": "code",
   "execution_count": null,
   "id": "5d7b1fc9",
   "metadata": {},
   "outputs": [],
   "source": []
  },
  {
   "cell_type": "code",
   "execution_count": null,
   "id": "79441e8e",
   "metadata": {},
   "outputs": [],
   "source": []
  },
  {
   "cell_type": "code",
   "execution_count": null,
   "id": "2420ec89",
   "metadata": {},
   "outputs": [],
   "source": [
    "equities.search(summary='automotive', currency='USD', country='Germany')"
   ]
  },
  {
   "cell_type": "code",
   "execution_count": null,
   "id": "77733d0b",
   "metadata": {},
   "outputs": [],
   "source": [
    "equities = fd.Equities()\n",
    "\n",
    "equities_per_sector_netherlands = {}\n",
    "\n",
    "for sector in equities.options(selection='sector', country='Netherlands'):\n",
    "    try:\n",
    "        equities_per_sector_netherlands[sector] = len(equities.select(country='Netherlands', sector=sector))\n",
    "    except ValueError as error:\n",
    "        print(error)"
   ]
  },
  {
   "cell_type": "code",
   "execution_count": null,
   "id": "d9962cec",
   "metadata": {},
   "outputs": [],
   "source": [
    "equities_per_sector_netherlands"
   ]
  },
  {
   "cell_type": "code",
   "execution_count": null,
   "id": "323e8bc6",
   "metadata": {},
   "outputs": [],
   "source": [
    "equities = fd.Equities()\n",
    "\n",
    "silicon_valley = equities.search(sector='Technology', city='San Jose')"
   ]
  },
  {
   "cell_type": "code",
   "execution_count": null,
   "id": "d02bddae",
   "metadata": {},
   "outputs": [],
   "source": [
    "silicon_valley"
   ]
  },
  {
   "cell_type": "code",
   "execution_count": null,
   "id": "d12317a6",
   "metadata": {},
   "outputs": [],
   "source": []
  },
  {
   "cell_type": "code",
   "execution_count": null,
   "id": "d4b4463d",
   "metadata": {},
   "outputs": [],
   "source": []
  }
 ],
 "metadata": {
  "kernelspec": {
   "display_name": "Python [conda env:tf]",
   "language": "python",
   "name": "conda-env-tf-py"
  },
  "language_info": {
   "codemirror_mode": {
    "name": "ipython",
    "version": 3
   },
   "file_extension": ".py",
   "mimetype": "text/x-python",
   "name": "python",
   "nbconvert_exporter": "python",
   "pygments_lexer": "ipython3",
   "version": "3.9.16"
  }
 },
 "nbformat": 4,
 "nbformat_minor": 5
}
