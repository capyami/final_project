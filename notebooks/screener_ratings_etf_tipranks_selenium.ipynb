{
 "cells": [
  {
   "cell_type": "code",
   "execution_count": 1,
   "id": "a813fe66",
   "metadata": {},
   "outputs": [],
   "source": [
    "import yfinance as yf\n",
    "import pandas as pd\n",
    "import numpy as np\n",
    "from selenium import webdriver\n",
    "from selenium.webdriver.common.by import By\n",
    "from selenium.webdriver.common.keys import Keys\n",
    "from selenium.webdriver.edge.service import Service\n",
    "from selenium.webdriver.support.ui import WebDriverWait\n",
    "import time\n",
    "pd.set_option('display.max_colwidth', None)"
   ]
  },
  {
   "cell_type": "code",
   "execution_count": 2,
   "id": "b2a8ee37",
   "metadata": {},
   "outputs": [
    {
     "data": {
      "text/plain": [
       "selenium.webdriver.edge.webdriver.WebDriver"
      ]
     },
     "execution_count": 2,
     "metadata": {},
     "output_type": "execute_result"
    }
   ],
   "source": [
    "path = './requirements/msedgedriver.exe'\n",
    "service = Service(executable_path=path)\n",
    "driver = webdriver.Edge(service=service)\n",
    "type(driver)"
   ]
  },
  {
   "cell_type": "code",
   "execution_count": 3,
   "id": "2b7fba66",
   "metadata": {},
   "outputs": [],
   "source": [
    "#driver.implicitly_wait(2)\n",
    "time.sleep(2)"
   ]
  },
  {
   "cell_type": "code",
   "execution_count": 4,
   "id": "e1f9bf19",
   "metadata": {},
   "outputs": [],
   "source": [
    "url = 'https://www.tipranks.com/stocks/googl'\n",
    "driver.get(url)\n",
    "#driver.maximize_window()"
   ]
  },
  {
   "cell_type": "code",
   "execution_count": 5,
   "id": "bbf1fcab",
   "metadata": {},
   "outputs": [],
   "source": [
    "time.sleep(10)"
   ]
  },
  {
   "cell_type": "code",
   "execution_count": 6,
   "id": "4f48c7f1",
   "metadata": {
    "scrolled": true
   },
   "outputs": [],
   "source": [
    "# click cookies\n",
    "driver.find_element(By.XPATH, '//button[@title=\"Scroll to the bottom of the text below to enable this button\"]').click()\n",
    "time.sleep(4)"
   ]
  },
  {
   "cell_type": "code",
   "execution_count": 7,
   "id": "e4e90140",
   "metadata": {},
   "outputs": [],
   "source": [
    "# click for to write\n",
    "lens = driver.find_element(By.XPATH, '//button[@class=\"colorgray-3 displaynone fontSize6 px4 laptop_displayflex\"]')"
   ]
  },
  {
   "cell_type": "code",
   "execution_count": 8,
   "id": "6b8567ae",
   "metadata": {},
   "outputs": [],
   "source": [
    "lens.click()"
   ]
  },
  {
   "cell_type": "code",
   "execution_count": 9,
   "id": "bd235763",
   "metadata": {},
   "outputs": [],
   "source": [
    "# clilk lens with bar\n",
    "search_input = driver.find_element(By.XPATH, '//input[@placeholder=\"Search ...\"]')"
   ]
  },
  {
   "cell_type": "code",
   "execution_count": 10,
   "id": "33bb03d6",
   "metadata": {},
   "outputs": [],
   "source": [
    "search_input.click()"
   ]
  },
  {
   "cell_type": "code",
   "execution_count": 11,
   "id": "a0af01a2",
   "metadata": {},
   "outputs": [],
   "source": [
    "ticker = 'qqq'"
   ]
  },
  {
   "cell_type": "code",
   "execution_count": 12,
   "id": "8eea3cda",
   "metadata": {},
   "outputs": [],
   "source": [
    "search_input.send_keys(ticker)"
   ]
  },
  {
   "cell_type": "code",
   "execution_count": 13,
   "id": "030b43c4",
   "metadata": {},
   "outputs": [],
   "source": [
    "time.sleep(2)"
   ]
  },
  {
   "cell_type": "code",
   "execution_count": 14,
   "id": "c435c2c3",
   "metadata": {},
   "outputs": [],
   "source": [
    "# select th first\n",
    "first_ticker = driver.find_element(By.XPATH, '//div[@class=\"flexrsb w5    displayflex\"]')"
   ]
  },
  {
   "cell_type": "code",
   "execution_count": 15,
   "id": "79f6f607",
   "metadata": {},
   "outputs": [],
   "source": [
    "first_ticker.click()\n",
    "time.sleep(4)"
   ]
  },
  {
   "cell_type": "code",
   "execution_count": 16,
   "id": "fd7543c3",
   "metadata": {
    "scrolled": true
   },
   "outputs": [],
   "source": [
    "# click cookies\n",
    "driver.find_element(By.XPATH, '//button[@title=\"Scroll to the bottom of the text below to enable this button\"]').click()\n",
    "time.sleep(4)"
   ]
  },
  {
   "cell_type": "code",
   "execution_count": 17,
   "id": "2c06fda1",
   "metadata": {},
   "outputs": [],
   "source": [
    "button_outperform = driver.find_element(By.XPATH, '//span[@class=\"fontSizebig fontWeightbold    h_pxsmall  mb1\"]')"
   ]
  },
  {
   "cell_type": "code",
   "execution_count": 18,
   "id": "e456ec2a",
   "metadata": {},
   "outputs": [
    {
     "data": {
      "text/plain": [
       "'8'"
      ]
     },
     "execution_count": 18,
     "metadata": {},
     "output_type": "execute_result"
    }
   ],
   "source": [
    "button_outperform.text"
   ]
  },
  {
   "cell_type": "code",
   "execution_count": 19,
   "id": "01257b16",
   "metadata": {},
   "outputs": [],
   "source": [
    "button_ratings1 = driver.find_elements(By.XPATH, '//span[@class=\"colorblack fonth10_semibold\"]')"
   ]
  },
  {
   "cell_type": "code",
   "execution_count": null,
   "id": "f4d656e7",
   "metadata": {},
   "outputs": [],
   "source": []
  },
  {
   "cell_type": "code",
   "execution_count": 20,
   "id": "7fa0a7bf",
   "metadata": {},
   "outputs": [
    {
     "name": "stdout",
     "output_type": "stream",
     "text": [
      "$396.79\n"
     ]
    }
   ],
   "source": [
    "for i in range(len(button_ratings1)):\n",
    "    print(button_ratings1[i].text)"
   ]
  },
  {
   "cell_type": "code",
   "execution_count": 21,
   "id": "d48eec9d",
   "metadata": {},
   "outputs": [
    {
     "data": {
      "text/plain": [
       "'$396.79'"
      ]
     },
     "execution_count": 21,
     "metadata": {},
     "output_type": "execute_result"
    }
   ],
   "source": [
    "# average price target\n",
    "button_ratings1[0].text"
   ]
  },
  {
   "cell_type": "code",
   "execution_count": 22,
   "id": "6b408c17",
   "metadata": {},
   "outputs": [],
   "source": [
    "# buttons header reatings\n",
    "button_ratings2 = driver.find_elements(By.XPATH, '//div[@class=\"flexrcc     displayflex\"]')"
   ]
  },
  {
   "cell_type": "code",
   "execution_count": 23,
   "id": "3bd7cb95",
   "metadata": {},
   "outputs": [
    {
     "name": "stdout",
     "output_type": "stream",
     "text": [
      "0 Advanced Chart >\n",
      "1 \n",
      "2 \n",
      "3 \n",
      "4 Moderate Buy\n",
      "5 Bullish\n",
      "6 Decreased\n",
      "7 Very Positive\n",
      "8 Positive\n",
      "9 33.67%\n",
      "10 \n",
      "11 \n",
      "12 \n",
      "13 \n"
     ]
    }
   ],
   "source": [
    "for i in range(len(button_ratings2)):\n",
    "    print(str(i) + ' ' + button_ratings2[i].text)"
   ]
  },
  {
   "cell_type": "code",
   "execution_count": 24,
   "id": "8b3c2977",
   "metadata": {},
   "outputs": [],
   "source": [
    "button_ratings3 = driver.find_elements(By.XPATH, '//div[@class=\"pt4 px3 grow1 flexr_sf ipad_px0 ipad_displayblock mobile_px3\"]')\n",
    "#<div class=\"pt4 px3 grow1 flexr_sf ipad_px0 ipad_displayblock mobile_px3\"><a class=\"flexc_c radiilarge borderColorgray  mx2 border1   mb3 w12 ipad_w_px8  mobile_w12 mobile_mx0\" data-link=\"etf-technical-analysis\" href=\"/etf/spy/technical-analysis\"><div class=\"flexc__ w12    displayflex hoverBgwhite-2  shadow1 radiilarge\"><h3 class=\"borderColorgray bb1_solid w12 aligncenter fontSize7 colorblack-6 fontWeightsemibold pt3 pb3 ipadpro_fontSize9\">Technicals</h3><div class=\"radiilarge w12 h12 aligncenter flexrbb\"><div class=\"flexccc w12    displayflex h12 py4 br1_solid borderColorgray\" title=\"SMA (simple moving average) 20/200 measures whether the short term average price is higher or lower than the longer term average price, indicating the stock's price trend.\"><span class=\"fontSize11 fontWeightsemibold  colorblack-5  whiteSpacenowrap ipad_fontSizesmall\">SMA</span><div class=\"flexrcc     displayflex\"><div class=\"textTransformcapitalize fontWeightbold truncate ipadpro_fontSize7 fontSize6 colorerr whiteSpacenowrap  colorpale\" title=\"Positive\">Positive</div></div><div class=\"mt2 truncate2 pb3 fonth10_normal colorgray-3 whiteSpacepre-wrap\">20 days / 200 days</div></div><div class=\"flexccc w12    displayflex h12 py4  borderColorgray\" title=\"\"><span class=\"fontSize11 fontWeightsemibold  colorblack-5  whiteSpacenowrap ipad_fontSizesmall\">Momentum</span><div class=\"flexrcc     displayflex\"><div class=\"textTransformcapitalize fontWeightbold truncate ipadpro_fontSize7 fontSize6 colorerr whiteSpacenowrap  colorpale\" title=\"20.60%\">20.60%</div></div><div class=\"mt2 truncate2 pb3 fonth10_normal colorgray-3 whiteSpacepre-wrap\">12-Months-Change</div></div></div></div></a></div>"
   ]
  },
  {
   "cell_type": "code",
   "execution_count": 25,
   "id": "bf61c4f3",
   "metadata": {},
   "outputs": [
    {
     "name": "stdout",
     "output_type": "stream",
     "text": [
      "0 Technicals\n",
      "SMA\n",
      "Positive\n",
      "20 days / 200 days\n",
      "Momentum\n",
      "33.67%\n",
      "12-Months-Change\n"
     ]
    }
   ],
   "source": [
    "for i in range(len(button_ratings3)):\n",
    "    print(str(i) + ' ' + button_ratings3[i].text)"
   ]
  },
  {
   "cell_type": "code",
   "execution_count": 26,
   "id": "6243fcd6",
   "metadata": {},
   "outputs": [],
   "source": [
    "ratings = {'01Outperform': button_outperform.text,\n",
    "           '02Analyst consensus': button_ratings2[4].text,\n",
    "           '06Average Price Target': button_ratings1[0].text,\n",
    "           '10Blogger Sentiment': button_ratings2[5].text,\n",
    "           '11Hedge Fund Ttrend': button_ratings2[6].text,\n",
    "           '12Crowd Wisdom': button_ratings2[7].text,\n",
    "           '13News Sentiment': button_ratings2[8].text,\n",
    "           '14Technical SMA': button_ratings2[9].text,\n",
    "           '15Technical Momentum':button_ratings2[10].text\n",
    "          }"
   ]
  },
  {
   "cell_type": "code",
   "execution_count": 27,
   "id": "024bd4be",
   "metadata": {},
   "outputs": [],
   "source": [
    "# change to analysis forecast\n",
    "to_forecast = driver.find_elements(By.XPATH, '//a[@data-link=\"etf-forecast\"]')"
   ]
  },
  {
   "cell_type": "code",
   "execution_count": 28,
   "id": "fc310e16",
   "metadata": {},
   "outputs": [
    {
     "data": {
      "text/plain": [
       "'Analyst Forecasts'"
      ]
     },
     "execution_count": 28,
     "metadata": {},
     "output_type": "execute_result"
    }
   ],
   "source": [
    "to_forecast[1].text"
   ]
  },
  {
   "cell_type": "code",
   "execution_count": 29,
   "id": "2a5c80b4",
   "metadata": {},
   "outputs": [],
   "source": [
    "to_forecast[1].click()\n",
    "time.sleep(3)"
   ]
  },
  {
   "cell_type": "code",
   "execution_count": 30,
   "id": "f9e0dd3b",
   "metadata": {},
   "outputs": [],
   "source": [
    "buttons_forecast_b = driver.find_elements(By.XPATH, '//span[@class=\"mr2\"]')"
   ]
  },
  {
   "cell_type": "code",
   "execution_count": 31,
   "id": "f3b6a270",
   "metadata": {},
   "outputs": [
    {
     "data": {
      "text/plain": [
       "'66.61%'"
      ]
     },
     "execution_count": 31,
     "metadata": {},
     "output_type": "execute_result"
    }
   ],
   "source": [
    "# buy \n",
    "buttons_forecast_b[0].text"
   ]
  },
  {
   "cell_type": "code",
   "execution_count": 32,
   "id": "39ced965",
   "metadata": {},
   "outputs": [
    {
     "data": {
      "text/plain": [
       "'29.64%'"
      ]
     },
     "execution_count": 32,
     "metadata": {},
     "output_type": "execute_result"
    }
   ],
   "source": [
    "# hold\n",
    "buttons_forecast_b[1].text"
   ]
  },
  {
   "cell_type": "code",
   "execution_count": 33,
   "id": "c533f1b5",
   "metadata": {},
   "outputs": [
    {
     "data": {
      "text/plain": [
       "'3.76%'"
      ]
     },
     "execution_count": 33,
     "metadata": {},
     "output_type": "execute_result"
    }
   ],
   "source": [
    "# sell\n",
    "buttons_forecast_b[2].text"
   ]
  },
  {
   "cell_type": "code",
   "execution_count": 34,
   "id": "b9b72397",
   "metadata": {},
   "outputs": [],
   "source": [
    "ratings['03Buy'] = buttons_forecast_b[0].text\n",
    "ratings['04Hold'] =  buttons_forecast_b[1].text\n",
    "ratings['05Sell'] = buttons_forecast_b[2].text"
   ]
  },
  {
   "cell_type": "code",
   "execution_count": 35,
   "id": "bb22cee7",
   "metadata": {},
   "outputs": [
    {
     "data": {
      "text/plain": [
       "{'01Outperform': '8',\n",
       " '02Analyst consensus': 'Moderate Buy',\n",
       " '06Average Price Target': '$396.79',\n",
       " '10Blogger Sentiment': 'Bullish',\n",
       " '11Hedge Fund Ttrend': 'Decreased',\n",
       " '12Crowd Wisdom': 'Very Positive',\n",
       " '13News Sentiment': 'Positive',\n",
       " '14Technical SMA': '33.67%',\n",
       " '15Technical Momentum': '',\n",
       " '03Buy': '66.61%',\n",
       " '04Hold': '29.64%',\n",
       " '05Sell': '3.76%'}"
      ]
     },
     "execution_count": 35,
     "metadata": {},
     "output_type": "execute_result"
    }
   ],
   "source": [
    "ratings"
   ]
  },
  {
   "cell_type": "code",
   "execution_count": 36,
   "id": "7b3f8ebb",
   "metadata": {},
   "outputs": [],
   "source": [
    "price_forecast = driver.find_elements(By.XPATH, '//tr[@class=\"w12 fontSize5 fontWeightsemibold flexrs_ maxW480 laptop_px0 laptop_fontSize7 laptop_flexrb_\"]')"
   ]
  },
  {
   "cell_type": "code",
   "execution_count": 37,
   "id": "197f98b0",
   "metadata": {},
   "outputs": [
    {
     "name": "stdout",
     "output_type": "stream",
     "text": [
      "i Highest Price Target\n",
      "$488.09\n",
      "Average Price Target\n",
      "$396.79\n",
      "Lowest Price Target\n",
      "$304.88\n",
      "--------------------\n"
     ]
    }
   ],
   "source": [
    "for i in range(len(price_forecast)):\n",
    "    print('i ' + price_forecast[i].text)\n",
    "    print('--------------------')"
   ]
  },
  {
   "cell_type": "code",
   "execution_count": 38,
   "id": "01a933c1",
   "metadata": {},
   "outputs": [
    {
     "data": {
      "text/plain": [
       "'Highest Price Target\\n$488.09\\nAverage Price Target\\n$396.79\\nLowest Price Target\\n$304.88'"
      ]
     },
     "execution_count": 38,
     "metadata": {},
     "output_type": "execute_result"
    }
   ],
   "source": [
    "price_consensus = price_forecast[0].text\n",
    "price_consensus"
   ]
  },
  {
   "cell_type": "code",
   "execution_count": 39,
   "id": "80f603d0",
   "metadata": {},
   "outputs": [
    {
     "data": {
      "text/plain": [
       "['Highest Price Target',\n",
       " '$488.09',\n",
       " 'Average Price Target',\n",
       " '$396.79',\n",
       " 'Lowest Price Target',\n",
       " '$304.88']"
      ]
     },
     "execution_count": 39,
     "metadata": {},
     "output_type": "execute_result"
    }
   ],
   "source": [
    "price_consensus.split('\\n')"
   ]
  },
  {
   "cell_type": "code",
   "execution_count": 40,
   "id": "58b3b293",
   "metadata": {},
   "outputs": [],
   "source": [
    "ratings['Price Target'] = price_forecast[0].text"
   ]
  },
  {
   "cell_type": "code",
   "execution_count": 41,
   "id": "3b129e96",
   "metadata": {},
   "outputs": [
    {
     "data": {
      "text/plain": [
       "{'01Outperform': '8',\n",
       " '02Analyst consensus': 'Moderate Buy',\n",
       " '06Average Price Target': '$396.79',\n",
       " '10Blogger Sentiment': 'Bullish',\n",
       " '11Hedge Fund Ttrend': 'Decreased',\n",
       " '12Crowd Wisdom': 'Very Positive',\n",
       " '13News Sentiment': 'Positive',\n",
       " '14Technical SMA': '33.67%',\n",
       " '15Technical Momentum': '',\n",
       " '03Buy': '66.61%',\n",
       " '04Hold': '29.64%',\n",
       " '05Sell': '3.76%',\n",
       " 'Price Target': 'Highest Price Target\\n$488.09\\nAverage Price Target\\n$396.79\\nLowest Price Target\\n$304.88'}"
      ]
     },
     "execution_count": 41,
     "metadata": {},
     "output_type": "execute_result"
    }
   ],
   "source": [
    "ratings"
   ]
  },
  {
   "cell_type": "code",
   "execution_count": 42,
   "id": "a55a765e",
   "metadata": {},
   "outputs": [],
   "source": [
    "ratings_forecast = driver.find_elements(By.XPATH, '//div[@class=\"flexccc     displayflex ipad_flexrc_ ipad_pb4\"]')\n",
    "#<div class=\"flexccc     displayflex ipad_flexrc_ ipad_pb4\"><div class=\"flexrsc     displayflex h_px4\" title=\"\"><svg viewBox=\"0 0 64 64\" class=\"h11 fontSize5\"><path d=\"M32,0 A32,32 0 1,1 13.928163045135296,58.408496910592746 L17.542530436108237,53.1267975284742 A25.6,25.6 0 1,0 32,6.399999999999999 Z\" fill=\"#199ca5\" stroke=\"white\" stroke-width=\"0.8\"></path><path d=\"M13.928163045135296,58.408496910592746 A32,32 0 0,1 21.312815317853353,1.837372734297663 L23.45025225428268,7.869898187438128 A25.6,25.6 0 0,0 17.542530436108237,53.1267975284742 Z\" fill=\"#999999\" stroke=\"white\" stroke-width=\"0.8\"></path><path d=\"M21.312815317853353,1.837372734297663 A32,32 0 0,1 31.999999999999993,0 L31.999999999999993,6.399999999999999 A25.6,25.6 0 0,0 23.45025225428268,7.869898187438128 Z\" fill=\"#912767\" stroke=\"white\" stroke-width=\"0.8\"></path><g class=\"override  fontSize6\"><text class=\"override  fontWeightbold fontSize6\" x=\"50%\" y=\"50%\" text-anchor=\"middle\" dy=\"0.20em\">6K</text><text class=\"fontSizesmaller fontWeightlight colorblack\" x=\"50%\" y=\"50%\" fill=\"#000000\" text-anchor=\"middle\" dy=\"1.55em\">Ratings</text></g></svg></div><div class=\"flexracf w12   mt4 displayflex ml4 ipad_flexcc_\"><div class=\"flexrsc     displayflex  mb3  fontSize7 colorpale  mr4\"><i class=\"m2_qQF44 icon-rect  mr2   displayinline-flex  h12 flexccc\" style=\"color: rgb(25, 156, 165);\"></i><div class=\"flexrsc colorpale\"><span class=\"mr2\">59.55%</span> Buy</div></div><div class=\"flexrsc     displayflex  mb3  fontSize7 colorgray-1  mr4\"><i class=\"m2_qQF44 icon-rect  mr2   displayinline-flex  h12 flexccc\" style=\"color: rgb(153, 153, 153);\"></i><div class=\"flexrsc colorgray-1\"><span class=\"mr2\">35.03%</span> Hold</div></div><div class=\"flexrsc     displayflex  mb3  fontSize7 colorpurple-dark  mr4\"><i class=\"m2_qQF44 icon-rect  mr2   displayinline-flex  h12 flexccc\" style=\"color: rgb(145, 39, 103);\"></i><div class=\"flexrsc colorpurple-dark\"><span class=\"mr2\">5.42%</span> Sell</div></div></div> </div>"
   ]
  },
  {
   "cell_type": "code",
   "execution_count": 43,
   "id": "381d85e8",
   "metadata": {},
   "outputs": [
    {
     "data": {
      "text/plain": [
       "1"
      ]
     },
     "execution_count": 43,
     "metadata": {},
     "output_type": "execute_result"
    }
   ],
   "source": [
    "len(ratings_forecast)"
   ]
  },
  {
   "cell_type": "code",
   "execution_count": 44,
   "id": "5afe8ab8",
   "metadata": {},
   "outputs": [
    {
     "data": {
      "text/plain": [
       "'2K\\nRatings\\n66.61%\\nBuy\\n29.64%\\nHold\\n3.76%\\nSell'"
      ]
     },
     "execution_count": 44,
     "metadata": {},
     "output_type": "execute_result"
    }
   ],
   "source": [
    "ratings_forecast[0].text"
   ]
  },
  {
   "cell_type": "code",
   "execution_count": 45,
   "id": "dea4d1ab",
   "metadata": {},
   "outputs": [
    {
     "ename": "NameError",
     "evalue": "name 'stop' is not defined",
     "output_type": "error",
     "traceback": [
      "\u001b[1;31m---------------------------------------------------------------------------\u001b[0m",
      "\u001b[1;31mNameError\u001b[0m                                 Traceback (most recent call last)",
      "Cell \u001b[1;32mIn[45], line 1\u001b[0m\n\u001b[1;32m----> 1\u001b[0m \u001b[43mstop\u001b[49m\n",
      "\u001b[1;31mNameError\u001b[0m: name 'stop' is not defined"
     ]
    }
   ],
   "source": [
    "stop"
   ]
  },
  {
   "cell_type": "code",
   "execution_count": null,
   "id": "78e823f9",
   "metadata": {},
   "outputs": [],
   "source": [
    "<svg viewBox=\"0 0 64 64\" class=\"h11 fontSize5\"><path d=\"M32,0 A32,32 0 1,1 13.928163045135296,58.408496910592746 L17.542530436108237,53.1267975284742 A25.6,25.6 0 1,0 32,6.399999999999999 Z\" fill=\"#199ca5\" stroke=\"white\" stroke-width=\"0.8\"></path><path d=\"M13.928163045135296,58.408496910592746 A32,32 0 0,1 21.312815317853353,1.837372734297663 L23.45025225428268,7.869898187438128 A25.6,25.6 0 0,0 17.542530436108237,53.1267975284742 Z\" fill=\"#999999\" stroke=\"white\" stroke-width=\"0.8\"></path><path d=\"M21.312815317853353,1.837372734297663 A32,32 0 0,1 31.999999999999993,0 L31.999999999999993,6.399999999999999 A25.6,25.6 0 0,0 23.45025225428268,7.869898187438128 Z\" fill=\"#912767\" stroke=\"white\" stroke-width=\"0.8\"></path><g class=\"override  fontSize6\"><text class=\"override  fontWeightbold fontSize6\" x=\"50%\" y=\"50%\" text-anchor=\"middle\" dy=\"0.20em\">6K</text><text class=\"fontSizesmaller fontWeightlight colorblack\" x=\"50%\" y=\"50%\" fill=\"#000000\" text-anchor=\"middle\" dy=\"1.55em\">Ratings</text></g></svg>"
   ]
  },
  {
   "cell_type": "code",
   "execution_count": null,
   "id": "3379fba6",
   "metadata": {},
   "outputs": [],
   "source": []
  },
  {
   "cell_type": "code",
   "execution_count": null,
   "id": "a1396dd0",
   "metadata": {},
   "outputs": [],
   "source": []
  },
  {
   "cell_type": "code",
   "execution_count": null,
   "id": "e1bf362c",
   "metadata": {},
   "outputs": [],
   "source": []
  },
  {
   "cell_type": "code",
   "execution_count": null,
   "id": "dd93133e",
   "metadata": {},
   "outputs": [],
   "source": []
  },
  {
   "cell_type": "code",
   "execution_count": null,
   "id": "99c3c096",
   "metadata": {},
   "outputs": [],
   "source": []
  },
  {
   "cell_type": "code",
   "execution_count": null,
   "id": "753d4e1c",
   "metadata": {},
   "outputs": [],
   "source": [
    "stop"
   ]
  },
  {
   "cell_type": "code",
   "execution_count": null,
   "id": "24994079",
   "metadata": {},
   "outputs": [],
   "source": [
    "cssCopy codemy_dict = {'key': [1, 2, 3]}\n",
    "my_dict['key'].append(4)\n",
    "print(my_dict)  # Output: {'key': [1, 2, 3, 4]}"
   ]
  },
  {
   "cell_type": "code",
   "execution_count": null,
   "id": "c20bf4f8",
   "metadata": {},
   "outputs": [],
   "source": []
  },
  {
   "cell_type": "code",
   "execution_count": null,
   "id": "273c2829",
   "metadata": {},
   "outputs": [],
   "source": []
  },
  {
   "cell_type": "code",
   "execution_count": null,
   "id": "9f9b0557",
   "metadata": {},
   "outputs": [],
   "source": []
  }
 ],
 "metadata": {
  "kernelspec": {
   "display_name": "Python [conda env:tf]",
   "language": "python",
   "name": "conda-env-tf-py"
  },
  "language_info": {
   "codemirror_mode": {
    "name": "ipython",
    "version": 3
   },
   "file_extension": ".py",
   "mimetype": "text/x-python",
   "name": "python",
   "nbconvert_exporter": "python",
   "pygments_lexer": "ipython3",
   "version": "3.9.16"
  }
 },
 "nbformat": 4,
 "nbformat_minor": 5
}
