{
 "cells": [
  {
   "cell_type": "code",
   "execution_count": 1,
   "id": "e1efebf3",
   "metadata": {},
   "outputs": [],
   "source": [
    "\n",
    "\n",
    "import yfinance as yf\n",
    "import pandas as pd\n",
    "import datetime\n",
    "from datetime import date\n",
    "import financedatabase as fd\n",
    "import streamlit as st\n",
    "import numpy as np\n",
    "import seaborn as sns\n",
    "from pylab import rcParams\n",
    "import matplotlib.pyplot as plt\n",
    "from matplotlib import rc\n",
    "%matplotlib inline\n",
    "import statistics"
   ]
  },
  {
   "cell_type": "code",
   "execution_count": 2,
   "id": "6cf7e905",
   "metadata": {},
   "outputs": [],
   "source": [
    "invested_amount = 2000"
   ]
  },
  {
   "cell_type": "code",
   "execution_count": 3,
   "id": "b9953fb7",
   "metadata": {},
   "outputs": [],
   "source": [
    "years_maintained =11"
   ]
  },
  {
   "cell_type": "code",
   "execution_count": 4,
   "id": "a0c4b248",
   "metadata": {},
   "outputs": [],
   "source": [
    "if invested_amount < 5000:\n",
    "    list_etf = ['^GSPC']\n",
    "elif invested_amount < 10000:\n",
    "    list_etf = ['^GSPC', 'GC=F']\n",
    "elif invested_amount < 25000:\n",
    "    list_etf = ['^GSPC', 'GC=F', '^IXIC', '^TNX']\n",
    "elif invested_amount < 50000:\n",
    "    list_etf = ['^GSPC', 'GC=F', '^IXIC', '^TNX', '^FTSE', '^N225', '^GDAXI', '^FCHI','^STOXX50E'] # global indexes\n",
    "else:\n",
    "    list_etf = ['^GSPC', 'GC=F', '^IXIC', '^TNX', '^FTSE', '^N225', '^GDAXI', '^FCHI','^STOXX50E', 'EMQQ', 'FEM'] # emergents\n",
    "    \n"
   ]
  },
  {
   "cell_type": "code",
   "execution_count": 5,
   "id": "dfd39085",
   "metadata": {},
   "outputs": [
    {
     "data": {
      "text/plain": [
       "['^GSPC']"
      ]
     },
     "execution_count": 5,
     "metadata": {},
     "output_type": "execute_result"
    }
   ],
   "source": [
    "list_etf"
   ]
  },
  {
   "cell_type": "code",
   "execution_count": 6,
   "id": "24242ebb",
   "metadata": {},
   "outputs": [],
   "source": [
    "# dates of historical data of actives\n",
    "start = \"2012-06-30\"\n",
    "today = date.today().strftime(\"%Y-%m-%d\")"
   ]
  },
  {
   "cell_type": "code",
   "execution_count": 7,
   "id": "b9d7e2fb",
   "metadata": {},
   "outputs": [
    {
     "name": "stdout",
     "output_type": "stream",
     "text": [
      "0\n",
      "[*********************100%***********************]  1 of 1 completed\n"
     ]
    }
   ],
   "source": [
    "# download the historical data of each active\n",
    "list_etf_data = []\n",
    "for i in range(len(list_etf)):\n",
    "    print(i)\n",
    "    etf = yf.download(list_etf[i], start, today)\n",
    "    list_etf_data.append(etf)"
   ]
  },
  {
   "cell_type": "code",
   "execution_count": 8,
   "id": "5e4b2f15",
   "metadata": {},
   "outputs": [],
   "source": [
    "dict_invested_amount_by_ticker = {}\n",
    "dict_money_to_ticker = {}\n",
    "count = 0\n",
    "\n",
    "# add proportion of money to each ticker of list_etf in dict, its are units of active purchased\n",
    "if invested_amount < 5000: # only sp500\n",
    "    investment1 = invested_amount/list_etf_data[count]['Adj Close'].iloc[-1]\n",
    "    dict_invested_amount_by_ticker[list_etf[0]] = investment1\n",
    "    dict_money_to_ticker[list_etf[0]] = invested_amount\n",
    "\n",
    "    \n",
    "elif invested_amount < 10000: # Gold and sp\n",
    "    investment1 = 0.8*invested_amount/list_etf_data[count]['Adj Close'].iloc[-1]\n",
    "    count = count +1\n",
    "    dict_invested_amount_by_ticker[list_etf[0]] = investment1\n",
    "    investment2 = 0.2*invested_amount/list_etf_data[count]['Adj Close'].iloc[-1]\n",
    "    dict_invested_amount_by_ticker[list_etf[1]] = investment2\n",
    "    dict_money_to_ticker[list_etf[0]] = invested_amount*0.8\n",
    "    dict_money_to_ticker[list_etf[1]] = invested_amount*0.2\n",
    "\n",
    "\n",
    "elif invested_amount < 25000: # Gold, nq and sp\n",
    "    investment1 = 0.4*invested_amount/list_etf_data[count]['Adj Close'].iloc[-1]\n",
    "    dict_invested_amount_by_ticker[list_etf[0]] = investment1\n",
    "    count = count +1\n",
    "    \n",
    "    \n",
    "    investment2 = 0.2*invested_amount/list_etf_data[count]['Adj Close'].iloc[-1]\n",
    "    dict_invested_amount_by_ticker[list_etf[1]] = investment2\n",
    "    count = count +1\n",
    "    \n",
    "    investment3 = 0.2*invested_amount/list_etf_data[count]['Adj Close'].iloc[-1]\n",
    "    dict_invested_amount_by_ticker[list_etf[2]] = investment3\n",
    "    count = count +1\n",
    "    \n",
    "    investment4 = 0.2*invested_amount/list_etf_data[count]['Adj Close'].iloc[-1]\n",
    "    dict_invested_amount_by_ticker[list_etf[3]] = investment4\n",
    "    dict_money_to_ticker[list_etf[0]] = invested_amount*0.4\n",
    "    dict_money_to_ticker[list_etf[1]] = invested_amount*0.2\n",
    "    dict_money_to_ticker[list_etf[2]] = invested_amount*0.2\n",
    "    dict_money_to_ticker[list_etf[3]] = invested_amount*0.2\n",
    "    \n",
    "    \n",
    "elif invested_amount < 50000: # Gold, nq and sp\n",
    "    investment1 = 0.2*invested_amount/list_etf_data[count]['Adj Close'].iloc[-1]\n",
    "    dict_invested_amount_by_ticker[list_etf[0]] = investment1\n",
    "    count = count +1\n",
    "    \n",
    "    investment2 = 0.1*invested_amount/list_etf_data[count]['Adj Close'].iloc[-1]\n",
    "    dict_invested_amount_by_ticker[list_etf[1]] = investment2\n",
    "    count = count +1\n",
    "    \n",
    "    investment3 = 0.1*invested_amount/list_etf_data[count]['Adj Close'].iloc[-1]\n",
    "    dict_invested_amount_by_ticker[list_etf[2]] = investment3\n",
    "    count = count +1\n",
    "    \n",
    "    investment4 = 0.1*invested_amount/list_etf_data[count]['Adj Close'].iloc[-1]\n",
    "    dict_invested_amount_by_ticker[list_etf[3]] = investment4\n",
    "    count = count +1\n",
    "    \n",
    "    investment5 = 0.1*invested_amount/list_etf_data[count]['Adj Close'].iloc[-1]\n",
    "    dict_invested_amount_by_ticker[list_etf[4]] = investment5\n",
    "    count = count +1\n",
    "    \n",
    "    investment6 = 0.1*invested_amount/list_etf_data[count]['Adj Close'].iloc[-1]\n",
    "    dict_invested_amount_by_ticker[list_etf[5]] = investment6\n",
    "    count = count +1\n",
    "    \n",
    "    investment7 = 0.1*invested_amount/list_etf_data[count]['Adj Close'].iloc[-1]\n",
    "    dict_invested_amount_by_ticker[list_etf[6]] = investment7\n",
    "    count = count +1\n",
    "    \n",
    "    investment8 = 0.1*invested_amount/list_etf_data[count]['Adj Close'].iloc[-1]\n",
    "    dict_invested_amount_by_ticker[list_etf[7]] = investment8\n",
    "    count = count +1\n",
    "    \n",
    "    investment9 = 0.1*invested_amount/list_etf_data[count]['Adj Close'].iloc[-1]\n",
    "    dict_invested_amount_by_ticker[list_etf[8]] = investment9\n",
    "    \n",
    "    dict_money_to_ticker[list_etf[0]] = invested_amount*0.2\n",
    "    dict_money_to_ticker[list_etf[1]] = invested_amount*0.1\n",
    "    dict_money_to_ticker[list_etf[2]] = invested_amount*0.1\n",
    "    dict_money_to_ticker[list_etf[3]] = invested_amount*0.1\n",
    "    dict_money_to_ticker[list_etf[4]] = invested_amount*0.1\n",
    "    dict_money_to_ticker[list_etf[5]] = invested_amount*0.1\n",
    "    dict_money_to_ticker[list_etf[6]] = invested_amount*0.1\n",
    "    dict_money_to_ticker[list_etf[7]] = invested_amount*0.1\n",
    "    dict_money_to_ticker[list_etf[8]] = invested_amount*0.1\n",
    "\n",
    "    \n",
    "else: # Gold, nq and sp\n",
    "    investment1 = 0.2*invested_amount/list_etf_data[count]['Adj Close'].iloc[-1]\n",
    "    dict_invested_amount_by_ticker[list_etf[0]] = investment1\n",
    "    count = count +1\n",
    "    \n",
    "    investment2 = 0.1*invested_amount/list_etf_data[count]['Adj Close'].iloc[-1]\n",
    "    dict_invested_amount_by_ticker[list_etf[1]] = investment2\n",
    "    count = count +1\n",
    "    \n",
    "    investment3 = 0.1*invested_amount/list_etf_data[count]['Adj Close'].iloc[-1]\n",
    "    dict_invested_amount_by_ticker[list_etf[2]] = investment3\n",
    "    count = count +1\n",
    "    \n",
    "    investment4 = 0.08*invested_amount/list_etf_data[count]['Adj Close'].iloc[-1]\n",
    "    dict_invested_amount_by_ticker[list_etf[3]] = investment4\n",
    "    count = count +1\n",
    "    \n",
    "    investment5 = 0.08*invested_amount/list_etf_data[count]['Adj Close'].iloc[-1]\n",
    "    dict_invested_amount_by_ticker[list_etf[4]] = investment5\n",
    "    count = count +1\n",
    "    \n",
    "    investment6 = 0.08*invested_amount/list_etf_data[count]['Adj Close'].iloc[-1]\n",
    "    dict_invested_amount_by_ticker[list_etf[5]] = investment6\n",
    "    count = count +1\n",
    "    \n",
    "    investment7 = 0.08*invested_amount/list_etf_data[count]['Adj Close'].iloc[-1]\n",
    "    dict_invested_amount_by_ticker[list_etf[6]] = investment7\n",
    "    count = count +1\n",
    "    \n",
    "    investment8 = 0.08*invested_amount/list_etf_data[count]['Adj Close'].iloc[-1]\n",
    "    dict_invested_amount_by_ticker[list_etf[7]] = investment8\n",
    "    count = count +1\n",
    "    \n",
    "    investment9 = 0.08*invested_amount/list_etf_data[count]['Adj Close'].iloc[-1]\n",
    "    dict_invested_amount_by_ticker[list_etf[8]] = investment9\n",
    "    count = count +1\n",
    "    \n",
    "    investment10 = 0.06*invested_amount/list_etf_data[count]['Adj Close'].iloc[-1]\n",
    "    dict_invested_amount_by_ticker[list_etf[9]] = investment10\n",
    "    count = count +1\n",
    "    \n",
    "    investment11 = 0.06*invested_amount/list_etf_data[count]['Adj Close'].iloc[-1]\n",
    "    dict_invested_amount_by_ticker[list_etf[10]] = investment11\n",
    "    \n",
    "    dict_money_to_ticker[list_etf[0]] = invested_amount*0.2\n",
    "    dict_money_to_ticker[list_etf[1]] = invested_amount*0.1\n",
    "    dict_money_to_ticker[list_etf[2]] = invested_amount*0.1\n",
    "    dict_money_to_ticker[list_etf[3]] = invested_amount*0.08\n",
    "    dict_money_to_ticker[list_etf[4]] = invested_amount*0.08\n",
    "    dict_money_to_ticker[list_etf[5]] = invested_amount*0.08\n",
    "    dict_money_to_ticker[list_etf[6]] = invested_amount*0.08\n",
    "    dict_money_to_ticker[list_etf[7]] = invested_amount*0.08\n",
    "    dict_money_to_ticker[list_etf[8]] = invested_amount*0.08\n",
    "    dict_money_to_ticker[list_etf[9]] = invested_amount*0.06\n",
    "    dict_money_to_ticker[list_etf[10]] = invested_amount*0.06"
   ]
  },
  {
   "cell_type": "code",
   "execution_count": 9,
   "id": "dbe39d7c",
   "metadata": {},
   "outputs": [
    {
     "data": {
      "text/plain": [
       "{'^GSPC': 0.45465393132461246}"
      ]
     },
     "execution_count": 9,
     "metadata": {},
     "output_type": "execute_result"
    }
   ],
   "source": [
    "dict_invested_amount_by_ticker"
   ]
  },
  {
   "cell_type": "code",
   "execution_count": 10,
   "id": "7645f8de",
   "metadata": {},
   "outputs": [],
   "source": [
    "# Preprocessing the data, create function for add more features\n",
    "def add_features(df):\n",
    "    df = df.reset_index()\n",
    "    df['HL_pct'] = (df['High'] - df['Low']) / df['Low']\n",
    "    df['pct_change'] = (df['Close'] - df['Open']) / df['Open']\n",
    "    df['Date'] = pd.to_datetime(df['Date'])\n",
    "    df['year'] = df['Date'].dt.year\n",
    "    df['month'] = df['Date'].dt.month\n",
    "    df['day'] = df['Date'].dt.day\n",
    "    df['day_of_week'] = df['Date'].dt.dayofweek\n",
    "    # Mapping day of week to actual day names\n",
    "    day_names = ['Monday', 'Tuesday', 'Wednesday', 'Thursday', 'Friday', 'Saturday', 'Sunday']\n",
    "    df['day_of_week'] = df['day_of_week'].map(lambda x: day_names[x])\n",
    "    return df"
   ]
  },
  {
   "cell_type": "code",
   "execution_count": 11,
   "id": "b0a422f5",
   "metadata": {},
   "outputs": [],
   "source": [
    "# use the function each active, return a list of df with new features\n",
    "for i in range(len(list_etf_data)):\n",
    "    list_etf_data[i] = add_features(list_etf_data[i])\n"
   ]
  },
  {
   "cell_type": "code",
   "execution_count": 12,
   "id": "66954819",
   "metadata": {},
   "outputs": [
    {
     "data": {
      "text/plain": [
       "list"
      ]
     },
     "execution_count": 12,
     "metadata": {},
     "output_type": "execute_result"
    }
   ],
   "source": [
    "type(list_etf_data)"
   ]
  },
  {
   "cell_type": "code",
   "execution_count": 13,
   "id": "19a5f934",
   "metadata": {},
   "outputs": [],
   "source": [
    "# separate by year the data of each active, return a dict with key the active and values the df of the active by year\n",
    "dict_etf_data_years = {}\n",
    "\n",
    "for i in range(len(list_etf_data)):\n",
    "    years = list_etf_data[i]['year'].unique()\n",
    "    list_values = []\n",
    "    for j in range(len(years)):\n",
    "        x = list_etf_data[i][list_etf_data[i]['year']==years[j]]\n",
    "        list_values.append(x)\n",
    "        if j == len(years)-1:\n",
    "            dict_etf_data_years[list_etf[i]] = list_values"
   ]
  },
  {
   "cell_type": "code",
   "execution_count": 14,
   "id": "ba1d1ab7",
   "metadata": {},
   "outputs": [
    {
     "data": {
      "text/plain": [
       "dict"
      ]
     },
     "execution_count": 14,
     "metadata": {},
     "output_type": "execute_result"
    }
   ],
   "source": [
    "type(dict_etf_data_years)"
   ]
  },
  {
   "cell_type": "code",
   "execution_count": 15,
   "id": "1f18f7f0",
   "metadata": {},
   "outputs": [
    {
     "data": {
      "text/html": [
       "<div>\n",
       "<style scoped>\n",
       "    .dataframe tbody tr th:only-of-type {\n",
       "        vertical-align: middle;\n",
       "    }\n",
       "\n",
       "    .dataframe tbody tr th {\n",
       "        vertical-align: top;\n",
       "    }\n",
       "\n",
       "    .dataframe thead th {\n",
       "        text-align: right;\n",
       "    }\n",
       "</style>\n",
       "<table border=\"1\" class=\"dataframe\">\n",
       "  <thead>\n",
       "    <tr style=\"text-align: right;\">\n",
       "      <th></th>\n",
       "      <th>Date</th>\n",
       "      <th>Open</th>\n",
       "      <th>High</th>\n",
       "      <th>Low</th>\n",
       "      <th>Close</th>\n",
       "      <th>Adj Close</th>\n",
       "      <th>Volume</th>\n",
       "      <th>HL_pct</th>\n",
       "      <th>pct_change</th>\n",
       "      <th>year</th>\n",
       "      <th>month</th>\n",
       "      <th>day</th>\n",
       "      <th>day_of_week</th>\n",
       "    </tr>\n",
       "  </thead>\n",
       "  <tbody>\n",
       "    <tr>\n",
       "      <th>0</th>\n",
       "      <td>2012-07-02</td>\n",
       "      <td>1362.329956</td>\n",
       "      <td>1366.349976</td>\n",
       "      <td>1355.699951</td>\n",
       "      <td>1365.510010</td>\n",
       "      <td>1365.510010</td>\n",
       "      <td>3301650000</td>\n",
       "      <td>0.007856</td>\n",
       "      <td>0.002334</td>\n",
       "      <td>2012</td>\n",
       "      <td>7</td>\n",
       "      <td>2</td>\n",
       "      <td>Monday</td>\n",
       "    </tr>\n",
       "    <tr>\n",
       "      <th>1</th>\n",
       "      <td>2012-07-03</td>\n",
       "      <td>1365.750000</td>\n",
       "      <td>1374.810059</td>\n",
       "      <td>1363.530029</td>\n",
       "      <td>1374.020020</td>\n",
       "      <td>1374.020020</td>\n",
       "      <td>2116390000</td>\n",
       "      <td>0.008273</td>\n",
       "      <td>0.006055</td>\n",
       "      <td>2012</td>\n",
       "      <td>7</td>\n",
       "      <td>3</td>\n",
       "      <td>Tuesday</td>\n",
       "    </tr>\n",
       "    <tr>\n",
       "      <th>2</th>\n",
       "      <td>2012-07-05</td>\n",
       "      <td>1373.719971</td>\n",
       "      <td>1373.849976</td>\n",
       "      <td>1363.020020</td>\n",
       "      <td>1367.579956</td>\n",
       "      <td>1367.579956</td>\n",
       "      <td>3041520000</td>\n",
       "      <td>0.007946</td>\n",
       "      <td>-0.004470</td>\n",
       "      <td>2012</td>\n",
       "      <td>7</td>\n",
       "      <td>5</td>\n",
       "      <td>Thursday</td>\n",
       "    </tr>\n",
       "    <tr>\n",
       "      <th>3</th>\n",
       "      <td>2012-07-06</td>\n",
       "      <td>1367.089966</td>\n",
       "      <td>1367.089966</td>\n",
       "      <td>1348.030029</td>\n",
       "      <td>1354.680054</td>\n",
       "      <td>1354.680054</td>\n",
       "      <td>2745140000</td>\n",
       "      <td>0.014139</td>\n",
       "      <td>-0.009078</td>\n",
       "      <td>2012</td>\n",
       "      <td>7</td>\n",
       "      <td>6</td>\n",
       "      <td>Friday</td>\n",
       "    </tr>\n",
       "    <tr>\n",
       "      <th>4</th>\n",
       "      <td>2012-07-09</td>\n",
       "      <td>1354.660034</td>\n",
       "      <td>1354.869995</td>\n",
       "      <td>1346.650024</td>\n",
       "      <td>1352.459961</td>\n",
       "      <td>1352.459961</td>\n",
       "      <td>2904860000</td>\n",
       "      <td>0.006104</td>\n",
       "      <td>-0.001624</td>\n",
       "      <td>2012</td>\n",
       "      <td>7</td>\n",
       "      <td>9</td>\n",
       "      <td>Monday</td>\n",
       "    </tr>\n",
       "    <tr>\n",
       "      <th>...</th>\n",
       "      <td>...</td>\n",
       "      <td>...</td>\n",
       "      <td>...</td>\n",
       "      <td>...</td>\n",
       "      <td>...</td>\n",
       "      <td>...</td>\n",
       "      <td>...</td>\n",
       "      <td>...</td>\n",
       "      <td>...</td>\n",
       "      <td>...</td>\n",
       "      <td>...</td>\n",
       "      <td>...</td>\n",
       "      <td>...</td>\n",
       "    </tr>\n",
       "    <tr>\n",
       "      <th>120</th>\n",
       "      <td>2012-12-24</td>\n",
       "      <td>1430.150024</td>\n",
       "      <td>1430.150024</td>\n",
       "      <td>1424.660034</td>\n",
       "      <td>1426.660034</td>\n",
       "      <td>1426.660034</td>\n",
       "      <td>1248960000</td>\n",
       "      <td>0.003854</td>\n",
       "      <td>-0.002440</td>\n",
       "      <td>2012</td>\n",
       "      <td>12</td>\n",
       "      <td>24</td>\n",
       "      <td>Monday</td>\n",
       "    </tr>\n",
       "    <tr>\n",
       "      <th>121</th>\n",
       "      <td>2012-12-26</td>\n",
       "      <td>1426.660034</td>\n",
       "      <td>1429.420044</td>\n",
       "      <td>1416.430054</td>\n",
       "      <td>1419.829956</td>\n",
       "      <td>1419.829956</td>\n",
       "      <td>2285030000</td>\n",
       "      <td>0.009171</td>\n",
       "      <td>-0.004787</td>\n",
       "      <td>2012</td>\n",
       "      <td>12</td>\n",
       "      <td>26</td>\n",
       "      <td>Wednesday</td>\n",
       "    </tr>\n",
       "    <tr>\n",
       "      <th>122</th>\n",
       "      <td>2012-12-27</td>\n",
       "      <td>1419.829956</td>\n",
       "      <td>1422.800049</td>\n",
       "      <td>1401.800049</td>\n",
       "      <td>1418.099976</td>\n",
       "      <td>1418.099976</td>\n",
       "      <td>2830180000</td>\n",
       "      <td>0.014981</td>\n",
       "      <td>-0.001218</td>\n",
       "      <td>2012</td>\n",
       "      <td>12</td>\n",
       "      <td>27</td>\n",
       "      <td>Thursday</td>\n",
       "    </tr>\n",
       "    <tr>\n",
       "      <th>123</th>\n",
       "      <td>2012-12-28</td>\n",
       "      <td>1418.099976</td>\n",
       "      <td>1418.099976</td>\n",
       "      <td>1401.579956</td>\n",
       "      <td>1402.430054</td>\n",
       "      <td>1402.430054</td>\n",
       "      <td>2426680000</td>\n",
       "      <td>0.011787</td>\n",
       "      <td>-0.011050</td>\n",
       "      <td>2012</td>\n",
       "      <td>12</td>\n",
       "      <td>28</td>\n",
       "      <td>Friday</td>\n",
       "    </tr>\n",
       "    <tr>\n",
       "      <th>124</th>\n",
       "      <td>2012-12-31</td>\n",
       "      <td>1402.430054</td>\n",
       "      <td>1426.739990</td>\n",
       "      <td>1398.109985</td>\n",
       "      <td>1426.189941</td>\n",
       "      <td>1426.189941</td>\n",
       "      <td>3204330000</td>\n",
       "      <td>0.020478</td>\n",
       "      <td>0.016942</td>\n",
       "      <td>2012</td>\n",
       "      <td>12</td>\n",
       "      <td>31</td>\n",
       "      <td>Monday</td>\n",
       "    </tr>\n",
       "  </tbody>\n",
       "</table>\n",
       "<p>125 rows × 13 columns</p>\n",
       "</div>"
      ],
      "text/plain": [
       "          Date         Open         High          Low        Close  \\\n",
       "0   2012-07-02  1362.329956  1366.349976  1355.699951  1365.510010   \n",
       "1   2012-07-03  1365.750000  1374.810059  1363.530029  1374.020020   \n",
       "2   2012-07-05  1373.719971  1373.849976  1363.020020  1367.579956   \n",
       "3   2012-07-06  1367.089966  1367.089966  1348.030029  1354.680054   \n",
       "4   2012-07-09  1354.660034  1354.869995  1346.650024  1352.459961   \n",
       "..         ...          ...          ...          ...          ...   \n",
       "120 2012-12-24  1430.150024  1430.150024  1424.660034  1426.660034   \n",
       "121 2012-12-26  1426.660034  1429.420044  1416.430054  1419.829956   \n",
       "122 2012-12-27  1419.829956  1422.800049  1401.800049  1418.099976   \n",
       "123 2012-12-28  1418.099976  1418.099976  1401.579956  1402.430054   \n",
       "124 2012-12-31  1402.430054  1426.739990  1398.109985  1426.189941   \n",
       "\n",
       "       Adj Close      Volume    HL_pct  pct_change  year  month  day  \\\n",
       "0    1365.510010  3301650000  0.007856    0.002334  2012      7    2   \n",
       "1    1374.020020  2116390000  0.008273    0.006055  2012      7    3   \n",
       "2    1367.579956  3041520000  0.007946   -0.004470  2012      7    5   \n",
       "3    1354.680054  2745140000  0.014139   -0.009078  2012      7    6   \n",
       "4    1352.459961  2904860000  0.006104   -0.001624  2012      7    9   \n",
       "..           ...         ...       ...         ...   ...    ...  ...   \n",
       "120  1426.660034  1248960000  0.003854   -0.002440  2012     12   24   \n",
       "121  1419.829956  2285030000  0.009171   -0.004787  2012     12   26   \n",
       "122  1418.099976  2830180000  0.014981   -0.001218  2012     12   27   \n",
       "123  1402.430054  2426680000  0.011787   -0.011050  2012     12   28   \n",
       "124  1426.189941  3204330000  0.020478    0.016942  2012     12   31   \n",
       "\n",
       "    day_of_week  \n",
       "0        Monday  \n",
       "1       Tuesday  \n",
       "2      Thursday  \n",
       "3        Friday  \n",
       "4        Monday  \n",
       "..          ...  \n",
       "120      Monday  \n",
       "121   Wednesday  \n",
       "122    Thursday  \n",
       "123      Friday  \n",
       "124      Monday  \n",
       "\n",
       "[125 rows x 13 columns]"
      ]
     },
     "execution_count": 15,
     "metadata": {},
     "output_type": "execute_result"
    }
   ],
   "source": [
    "dict_etf_data_years[list_etf[0]][0]"
   ]
  },
  {
   "cell_type": "code",
   "execution_count": 16,
   "id": "32c09bba",
   "metadata": {},
   "outputs": [],
   "source": [
    "# return a dict of percentage of each years of each active\n",
    "\n",
    "pct_each_year_by_active = {}\n",
    "for i in range(len(dict_etf_data_years)): # dict\n",
    "    list_values = []\n",
    "    for j in range(len(dict_etf_data_years[list_etf[i]])):  # keys\n",
    "            x = float(dict_etf_data_years[list_etf[i]][j][-1:]['Close'])/float(dict_etf_data_years[list_etf[i]][j][:1]['Close'])\n",
    "            list_values.append(x)\n",
    "            if j == len(dict_etf_data_years[list_etf[i]])-1:\n",
    "                pct_each_year_by_active[list_etf[i]] = list_values \n",
    "            "
   ]
  },
  {
   "cell_type": "code",
   "execution_count": 17,
   "id": "2b3a3689",
   "metadata": {},
   "outputs": [
    {
     "data": {
      "text/plain": [
       "{'^GSPC': [1.044437559012138,\n",
       "  1.2639049861249592,\n",
       "  1.1238659397451154,\n",
       "  0.9930716110660163,\n",
       "  1.112373694565607,\n",
       "  1.1841502747815977,\n",
       "  0.9299060553857902,\n",
       "  1.287147959023383,\n",
       "  1.1529290654169608,\n",
       "  1.2879305801834058,\n",
       "  0.8004694933655558,\n",
       "  1.1503110029656511]}"
      ]
     },
     "execution_count": 17,
     "metadata": {},
     "output_type": "execute_result"
    }
   ],
   "source": [
    "pct_each_year_by_active"
   ]
  },
  {
   "cell_type": "code",
   "execution_count": 18,
   "id": "1a56267e",
   "metadata": {},
   "outputs": [],
   "source": [
    "# return a dict of mean of percentage of each active by year\n",
    "pct_mean_active = {}\n",
    "\n",
    "for i in range(len(pct_each_year_by_active)):\n",
    "    list_values = []\n",
    "    for j in range(len(pct_each_year_by_active[list_etf[i]])):\n",
    "        x = pct_each_year_by_active[list_etf[i]][j]\n",
    "        list_values.append(x)\n",
    "        if j == len(pct_each_year_by_active[list_etf[i]])-1:\n",
    "            pct_mean_active[list_etf[i]] = statistics.mean(list_values)\n",
    "            "
   ]
  },
  {
   "cell_type": "code",
   "execution_count": 19,
   "id": "e1fa13d7",
   "metadata": {},
   "outputs": [
    {
     "data": {
      "text/plain": [
       "{'^GSPC': 1.110874851803015}"
      ]
     },
     "execution_count": 19,
     "metadata": {},
     "output_type": "execute_result"
    }
   ],
   "source": [
    "pct_mean_active"
   ]
  },
  {
   "cell_type": "code",
   "execution_count": 20,
   "id": "3b312e18",
   "metadata": {},
   "outputs": [],
   "source": [
    "# values of investment year to year and final investment, NO MONEY!!\n",
    "\n",
    "dict_final_result_active_value = {}\n",
    "dict_futures_values_actives = {}\n",
    "for i in range(len(list_etf)):\n",
    "    x = list_etf_data[i]['Adj Close'].iloc[-1]\n",
    "    list_values = []\n",
    "    for j in range(years_maintained):\n",
    "        x = x*pct_mean_active[list_etf[i]]\n",
    "        list_values.append(x)\n",
    "        dict_final_result_active_value[list_etf[i]] = x\n",
    "        if j == years_maintained-1:\n",
    "            dict_futures_values_actives[list_etf[i]] = list_values\n"
   ]
  },
  {
   "cell_type": "code",
   "execution_count": 21,
   "id": "1b7043dd",
   "metadata": {},
   "outputs": [
    {
     "data": {
      "text/plain": [
       "{'^GSPC': 13985.098597502334}"
      ]
     },
     "execution_count": 21,
     "metadata": {},
     "output_type": "execute_result"
    }
   ],
   "source": [
    "dict_final_result_active_value"
   ]
  },
  {
   "cell_type": "code",
   "execution_count": 22,
   "id": "e12cbc02",
   "metadata": {},
   "outputs": [
    {
     "data": {
      "text/plain": [
       "{'^GSPC': [4886.683146306617,\n",
       "  5428.493415961654,\n",
       "  6030.376818970045,\n",
       "  6698.993955089685,\n",
       "  7441.743917089547,\n",
       "  8266.846171052837,\n",
       "  9183.431515146642,\n",
       "  10201.643123431662,\n",
       "  11332.748792889395,\n",
       "  12589.265635821803,\n",
       "  13985.098597502334]}"
      ]
     },
     "execution_count": 22,
     "metadata": {},
     "output_type": "execute_result"
    }
   ],
   "source": [
    "dict_futures_values_actives"
   ]
  },
  {
   "cell_type": "code",
   "execution_count": 23,
   "id": "8ddf5ea5",
   "metadata": {},
   "outputs": [],
   "source": [
    "final_invested_amount ={}\n",
    "\n",
    "for i in range(len(dict_invested_amount_by_ticker)):\n",
    "    final_invested_amount[list_etf[i]] = dict_invested_amount_by_ticker[list_etf[i]]*dict_final_result_active_value[list_etf[i]]\n"
   ]
  },
  {
   "cell_type": "code",
   "execution_count": 24,
   "id": "d7fe3918",
   "metadata": {},
   "outputs": [
    {
     "data": {
      "text/plain": [
       "{'^GSPC': 13985.098597502334}"
      ]
     },
     "execution_count": 24,
     "metadata": {},
     "output_type": "execute_result"
    }
   ],
   "source": [
    "dict_final_result_active_value"
   ]
  },
  {
   "cell_type": "code",
   "execution_count": 25,
   "id": "8560fb9b",
   "metadata": {},
   "outputs": [
    {
     "data": {
      "text/plain": [
       "{'^GSPC': 0.45465393132461246}"
      ]
     },
     "execution_count": 25,
     "metadata": {},
     "output_type": "execute_result"
    }
   ],
   "source": [
    "dict_invested_amount_by_ticker"
   ]
  },
  {
   "cell_type": "code",
   "execution_count": 26,
   "id": "f88527cc",
   "metadata": {},
   "outputs": [
    {
     "data": {
      "text/plain": [
       "{'^GSPC': 6358.38005731676}"
      ]
     },
     "execution_count": 26,
     "metadata": {},
     "output_type": "execute_result"
    }
   ],
   "source": [
    "final_invested_amount"
   ]
  },
  {
   "cell_type": "code",
   "execution_count": 27,
   "id": "d533c09b",
   "metadata": {},
   "outputs": [],
   "source": [
    "final_full_return = []\n",
    "for i in range(len(list_etf)):\n",
    "    final_full_return.append(final_invested_amount[list_etf[i]])\n",
    "    \n",
    "final_full_return = sum(final_full_return)"
   ]
  },
  {
   "cell_type": "code",
   "execution_count": 28,
   "id": "e4228fa2",
   "metadata": {},
   "outputs": [
    {
     "data": {
      "text/plain": [
       "6358.38005731676"
      ]
     },
     "execution_count": 28,
     "metadata": {},
     "output_type": "execute_result"
    }
   ],
   "source": [
    "final_full_return"
   ]
  },
  {
   "cell_type": "code",
   "execution_count": 29,
   "id": "7919f290",
   "metadata": {},
   "outputs": [
    {
     "data": {
      "text/html": [
       "<div>\n",
       "<style scoped>\n",
       "    .dataframe tbody tr th:only-of-type {\n",
       "        vertical-align: middle;\n",
       "    }\n",
       "\n",
       "    .dataframe tbody tr th {\n",
       "        vertical-align: top;\n",
       "    }\n",
       "\n",
       "    .dataframe thead th {\n",
       "        text-align: right;\n",
       "    }\n",
       "</style>\n",
       "<table border=\"1\" class=\"dataframe\">\n",
       "  <thead>\n",
       "    <tr style=\"text-align: right;\">\n",
       "      <th></th>\n",
       "      <th>^GSPC</th>\n",
       "    </tr>\n",
       "  </thead>\n",
       "  <tbody>\n",
       "    <tr>\n",
       "      <th>0</th>\n",
       "      <td>4886.683146</td>\n",
       "    </tr>\n",
       "    <tr>\n",
       "      <th>1</th>\n",
       "      <td>5428.493416</td>\n",
       "    </tr>\n",
       "    <tr>\n",
       "      <th>2</th>\n",
       "      <td>6030.376819</td>\n",
       "    </tr>\n",
       "    <tr>\n",
       "      <th>3</th>\n",
       "      <td>6698.993955</td>\n",
       "    </tr>\n",
       "    <tr>\n",
       "      <th>4</th>\n",
       "      <td>7441.743917</td>\n",
       "    </tr>\n",
       "    <tr>\n",
       "      <th>5</th>\n",
       "      <td>8266.846171</td>\n",
       "    </tr>\n",
       "    <tr>\n",
       "      <th>6</th>\n",
       "      <td>9183.431515</td>\n",
       "    </tr>\n",
       "    <tr>\n",
       "      <th>7</th>\n",
       "      <td>10201.643123</td>\n",
       "    </tr>\n",
       "    <tr>\n",
       "      <th>8</th>\n",
       "      <td>11332.748793</td>\n",
       "    </tr>\n",
       "    <tr>\n",
       "      <th>9</th>\n",
       "      <td>12589.265636</td>\n",
       "    </tr>\n",
       "    <tr>\n",
       "      <th>10</th>\n",
       "      <td>13985.098598</td>\n",
       "    </tr>\n",
       "  </tbody>\n",
       "</table>\n",
       "</div>"
      ],
      "text/plain": [
       "           ^GSPC\n",
       "0    4886.683146\n",
       "1    5428.493416\n",
       "2    6030.376819\n",
       "3    6698.993955\n",
       "4    7441.743917\n",
       "5    8266.846171\n",
       "6    9183.431515\n",
       "7   10201.643123\n",
       "8   11332.748793\n",
       "9   12589.265636\n",
       "10  13985.098598"
      ]
     },
     "execution_count": 29,
     "metadata": {},
     "output_type": "execute_result"
    }
   ],
   "source": [
    "df_final = pd.DataFrame(dict_futures_values_actives)\n",
    "df_final"
   ]
  },
  {
   "cell_type": "code",
   "execution_count": 30,
   "id": "5e8a18d4",
   "metadata": {},
   "outputs": [],
   "source": [
    "# return a dict of mean of standard deviation of each active of all years\n",
    "\n",
    "dict_etf_data_mean_std = {}\n",
    "for i in range(len(dict_etf_data_years)):\n",
    "    list_values = []\n",
    "    for j in range(len(dict_etf_data_years[list_etf[i]])):  # keys\n",
    "        x = dict_etf_data_years[list_etf[i]][j].describe()['pct_change'].loc['std']\n",
    "        if x == np.float64('Nan'):\n",
    "            print(x == np.float64('Nan'))\n",
    "            x = dict_etf_data_years[list_etf[i]][j].describe()['pct_change'].iloc[6]\n",
    "        x = np.mean(x)\n",
    "        list_values.append(x)\n",
    "        if j == len(dict_etf_data_years[list_etf[i]])-1:\n",
    "            dict_etf_data_mean_std[list_etf[i]] = x"
   ]
  },
  {
   "cell_type": "code",
   "execution_count": 31,
   "id": "e11f2ee4",
   "metadata": {},
   "outputs": [
    {
     "data": {
      "text/plain": [
       "{'^GSPC': 0.007796505151007601}"
      ]
     },
     "execution_count": 31,
     "metadata": {},
     "output_type": "execute_result"
    }
   ],
   "source": [
    "dict_etf_data_mean_std"
   ]
  },
  {
   "cell_type": "code",
   "execution_count": 32,
   "id": "ddda1cab",
   "metadata": {},
   "outputs": [],
   "source": [
    "# create functions for add standard deviation to the data\n",
    "def standard_up(price, st):\n",
    "    x = price*st\n",
    "    x = price + x\n",
    "    return x\n",
    "\n",
    "def standard_down(price, st):\n",
    "    x = price*st\n",
    "    x = price - x\n",
    "    return x"
   ]
  },
  {
   "cell_type": "code",
   "execution_count": 33,
   "id": "6ca6a2a8",
   "metadata": {},
   "outputs": [],
   "source": [
    "# string for add with the name of the active to the column\n",
    "string_std = '_std'\n",
    "string_std_u = '_std_u' # % up\n",
    "string_std_d = '_std_d' # down"
   ]
  },
  {
   "cell_type": "code",
   "execution_count": 34,
   "id": "2b4f5f34",
   "metadata": {},
   "outputs": [],
   "source": [
    "for i in range(len(list_etf)):\n",
    "    df_final[f'{list_etf[i]}{string_std}'] = dict_etf_data_mean_std[list_etf[i]]\n",
    "    "
   ]
  },
  {
   "cell_type": "code",
   "execution_count": 35,
   "id": "6d313d02",
   "metadata": {},
   "outputs": [
    {
     "data": {
      "text/html": [
       "<div>\n",
       "<style scoped>\n",
       "    .dataframe tbody tr th:only-of-type {\n",
       "        vertical-align: middle;\n",
       "    }\n",
       "\n",
       "    .dataframe tbody tr th {\n",
       "        vertical-align: top;\n",
       "    }\n",
       "\n",
       "    .dataframe thead th {\n",
       "        text-align: right;\n",
       "    }\n",
       "</style>\n",
       "<table border=\"1\" class=\"dataframe\">\n",
       "  <thead>\n",
       "    <tr style=\"text-align: right;\">\n",
       "      <th></th>\n",
       "      <th>^GSPC</th>\n",
       "      <th>^GSPC_std</th>\n",
       "    </tr>\n",
       "  </thead>\n",
       "  <tbody>\n",
       "    <tr>\n",
       "      <th>0</th>\n",
       "      <td>4886.683146</td>\n",
       "      <td>0.007797</td>\n",
       "    </tr>\n",
       "    <tr>\n",
       "      <th>1</th>\n",
       "      <td>5428.493416</td>\n",
       "      <td>0.007797</td>\n",
       "    </tr>\n",
       "    <tr>\n",
       "      <th>2</th>\n",
       "      <td>6030.376819</td>\n",
       "      <td>0.007797</td>\n",
       "    </tr>\n",
       "    <tr>\n",
       "      <th>3</th>\n",
       "      <td>6698.993955</td>\n",
       "      <td>0.007797</td>\n",
       "    </tr>\n",
       "    <tr>\n",
       "      <th>4</th>\n",
       "      <td>7441.743917</td>\n",
       "      <td>0.007797</td>\n",
       "    </tr>\n",
       "    <tr>\n",
       "      <th>5</th>\n",
       "      <td>8266.846171</td>\n",
       "      <td>0.007797</td>\n",
       "    </tr>\n",
       "    <tr>\n",
       "      <th>6</th>\n",
       "      <td>9183.431515</td>\n",
       "      <td>0.007797</td>\n",
       "    </tr>\n",
       "    <tr>\n",
       "      <th>7</th>\n",
       "      <td>10201.643123</td>\n",
       "      <td>0.007797</td>\n",
       "    </tr>\n",
       "    <tr>\n",
       "      <th>8</th>\n",
       "      <td>11332.748793</td>\n",
       "      <td>0.007797</td>\n",
       "    </tr>\n",
       "    <tr>\n",
       "      <th>9</th>\n",
       "      <td>12589.265636</td>\n",
       "      <td>0.007797</td>\n",
       "    </tr>\n",
       "    <tr>\n",
       "      <th>10</th>\n",
       "      <td>13985.098598</td>\n",
       "      <td>0.007797</td>\n",
       "    </tr>\n",
       "  </tbody>\n",
       "</table>\n",
       "</div>"
      ],
      "text/plain": [
       "           ^GSPC  ^GSPC_std\n",
       "0    4886.683146   0.007797\n",
       "1    5428.493416   0.007797\n",
       "2    6030.376819   0.007797\n",
       "3    6698.993955   0.007797\n",
       "4    7441.743917   0.007797\n",
       "5    8266.846171   0.007797\n",
       "6    9183.431515   0.007797\n",
       "7   10201.643123   0.007797\n",
       "8   11332.748793   0.007797\n",
       "9   12589.265636   0.007797\n",
       "10  13985.098598   0.007797"
      ]
     },
     "execution_count": 35,
     "metadata": {},
     "output_type": "execute_result"
    }
   ],
   "source": [
    "df_final"
   ]
  },
  {
   "cell_type": "code",
   "execution_count": 36,
   "id": "9de809ba",
   "metadata": {},
   "outputs": [
    {
     "data": {
      "text/plain": [
       "0     0.007797\n",
       "1     0.007797\n",
       "2     0.007797\n",
       "3     0.007797\n",
       "4     0.007797\n",
       "5     0.007797\n",
       "6     0.007797\n",
       "7     0.007797\n",
       "8     0.007797\n",
       "9     0.007797\n",
       "10    0.007797\n",
       "Name: ^GSPC_std, dtype: float64"
      ]
     },
     "execution_count": 36,
     "metadata": {},
     "output_type": "execute_result"
    }
   ],
   "source": [
    "df_final[f'{list_etf[0]}{string_std}']"
   ]
  },
  {
   "cell_type": "code",
   "execution_count": 37,
   "id": "fa257856",
   "metadata": {},
   "outputs": [
    {
     "data": {
      "text/plain": [
       "0.007796505151007601"
      ]
     },
     "execution_count": 37,
     "metadata": {},
     "output_type": "execute_result"
    }
   ],
   "source": [
    "df_final[f'{list_etf[0]}{string_std}'][1]"
   ]
  },
  {
   "cell_type": "code",
   "execution_count": 38,
   "id": "dce25301",
   "metadata": {},
   "outputs": [
    {
     "data": {
      "text/plain": [
       "11"
      ]
     },
     "execution_count": 38,
     "metadata": {},
     "output_type": "execute_result"
    }
   ],
   "source": [
    "len(df_final[f'{list_etf[0]}{string_std}'])"
   ]
  },
  {
   "cell_type": "code",
   "execution_count": 39,
   "id": "df2dac08",
   "metadata": {},
   "outputs": [],
   "source": [
    "for i in range(len(df_final[f'{list_etf[0]}{string_std}'])):\n",
    "    for j in range(len(list_etf)):\n",
    "        df_final[f'{list_etf[j]}{string_std}'][i] = df_final[f'{list_etf[j]}{string_std}'][i]+df_final[f'{list_etf[j]}{string_std}'][i]*i"
   ]
  },
  {
   "cell_type": "code",
   "execution_count": 40,
   "id": "dc57c05a",
   "metadata": {},
   "outputs": [
    {
     "data": {
      "text/html": [
       "<div>\n",
       "<style scoped>\n",
       "    .dataframe tbody tr th:only-of-type {\n",
       "        vertical-align: middle;\n",
       "    }\n",
       "\n",
       "    .dataframe tbody tr th {\n",
       "        vertical-align: top;\n",
       "    }\n",
       "\n",
       "    .dataframe thead th {\n",
       "        text-align: right;\n",
       "    }\n",
       "</style>\n",
       "<table border=\"1\" class=\"dataframe\">\n",
       "  <thead>\n",
       "    <tr style=\"text-align: right;\">\n",
       "      <th></th>\n",
       "      <th>^GSPC</th>\n",
       "      <th>^GSPC_std</th>\n",
       "    </tr>\n",
       "  </thead>\n",
       "  <tbody>\n",
       "    <tr>\n",
       "      <th>0</th>\n",
       "      <td>4886.683146</td>\n",
       "      <td>0.007797</td>\n",
       "    </tr>\n",
       "    <tr>\n",
       "      <th>1</th>\n",
       "      <td>5428.493416</td>\n",
       "      <td>0.015593</td>\n",
       "    </tr>\n",
       "    <tr>\n",
       "      <th>2</th>\n",
       "      <td>6030.376819</td>\n",
       "      <td>0.023390</td>\n",
       "    </tr>\n",
       "    <tr>\n",
       "      <th>3</th>\n",
       "      <td>6698.993955</td>\n",
       "      <td>0.031186</td>\n",
       "    </tr>\n",
       "    <tr>\n",
       "      <th>4</th>\n",
       "      <td>7441.743917</td>\n",
       "      <td>0.038983</td>\n",
       "    </tr>\n",
       "    <tr>\n",
       "      <th>5</th>\n",
       "      <td>8266.846171</td>\n",
       "      <td>0.046779</td>\n",
       "    </tr>\n",
       "    <tr>\n",
       "      <th>6</th>\n",
       "      <td>9183.431515</td>\n",
       "      <td>0.054576</td>\n",
       "    </tr>\n",
       "    <tr>\n",
       "      <th>7</th>\n",
       "      <td>10201.643123</td>\n",
       "      <td>0.062372</td>\n",
       "    </tr>\n",
       "    <tr>\n",
       "      <th>8</th>\n",
       "      <td>11332.748793</td>\n",
       "      <td>0.070169</td>\n",
       "    </tr>\n",
       "    <tr>\n",
       "      <th>9</th>\n",
       "      <td>12589.265636</td>\n",
       "      <td>0.077965</td>\n",
       "    </tr>\n",
       "    <tr>\n",
       "      <th>10</th>\n",
       "      <td>13985.098598</td>\n",
       "      <td>0.085762</td>\n",
       "    </tr>\n",
       "  </tbody>\n",
       "</table>\n",
       "</div>"
      ],
      "text/plain": [
       "           ^GSPC  ^GSPC_std\n",
       "0    4886.683146   0.007797\n",
       "1    5428.493416   0.015593\n",
       "2    6030.376819   0.023390\n",
       "3    6698.993955   0.031186\n",
       "4    7441.743917   0.038983\n",
       "5    8266.846171   0.046779\n",
       "6    9183.431515   0.054576\n",
       "7   10201.643123   0.062372\n",
       "8   11332.748793   0.070169\n",
       "9   12589.265636   0.077965\n",
       "10  13985.098598   0.085762"
      ]
     },
     "execution_count": 40,
     "metadata": {},
     "output_type": "execute_result"
    }
   ],
   "source": [
    "df_final"
   ]
  },
  {
   "cell_type": "code",
   "execution_count": 41,
   "id": "a2e84cb6",
   "metadata": {},
   "outputs": [],
   "source": [
    "# add columns of standard deviation\n",
    "for i in range(len(list_etf)):\n",
    "    df_final[f'{list_etf[i]}{string_std_u}'] = df_final.apply(lambda x: standard_up(x[list_etf[i]],\n",
    "                                                                                    x[f'{list_etf[i]}{string_std}']),\n",
    "                                                           axis=1)\n",
    "    df_final[f'{list_etf[i]}{string_std_d}'] = df_final.apply(lambda x: standard_down(x[list_etf[i]],\n",
    "                                                                                      x[f'{list_etf[i]}{string_std}']),\n",
    "                                                            axis=1)\n",
    "\n"
   ]
  },
  {
   "cell_type": "code",
   "execution_count": 42,
   "id": "add0d971",
   "metadata": {},
   "outputs": [
    {
     "data": {
      "text/html": [
       "<div>\n",
       "<style scoped>\n",
       "    .dataframe tbody tr th:only-of-type {\n",
       "        vertical-align: middle;\n",
       "    }\n",
       "\n",
       "    .dataframe tbody tr th {\n",
       "        vertical-align: top;\n",
       "    }\n",
       "\n",
       "    .dataframe thead th {\n",
       "        text-align: right;\n",
       "    }\n",
       "</style>\n",
       "<table border=\"1\" class=\"dataframe\">\n",
       "  <thead>\n",
       "    <tr style=\"text-align: right;\">\n",
       "      <th></th>\n",
       "      <th>^GSPC</th>\n",
       "      <th>^GSPC_std</th>\n",
       "      <th>^GSPC_std_u</th>\n",
       "      <th>^GSPC_std_d</th>\n",
       "    </tr>\n",
       "  </thead>\n",
       "  <tbody>\n",
       "    <tr>\n",
       "      <th>0</th>\n",
       "      <td>4886.683146</td>\n",
       "      <td>0.007797</td>\n",
       "      <td>4924.782197</td>\n",
       "      <td>4848.584096</td>\n",
       "    </tr>\n",
       "    <tr>\n",
       "      <th>1</th>\n",
       "      <td>5428.493416</td>\n",
       "      <td>0.015593</td>\n",
       "      <td>5513.139970</td>\n",
       "      <td>5343.846862</td>\n",
       "    </tr>\n",
       "    <tr>\n",
       "      <th>2</th>\n",
       "      <td>6030.376819</td>\n",
       "      <td>0.023390</td>\n",
       "      <td>6171.424411</td>\n",
       "      <td>5889.329227</td>\n",
       "    </tr>\n",
       "    <tr>\n",
       "      <th>3</th>\n",
       "      <td>6698.993955</td>\n",
       "      <td>0.031186</td>\n",
       "      <td>6907.908919</td>\n",
       "      <td>6490.078992</td>\n",
       "    </tr>\n",
       "    <tr>\n",
       "      <th>4</th>\n",
       "      <td>7441.743917</td>\n",
       "      <td>0.038983</td>\n",
       "      <td>7731.841891</td>\n",
       "      <td>7151.645943</td>\n",
       "    </tr>\n",
       "    <tr>\n",
       "      <th>5</th>\n",
       "      <td>8266.846171</td>\n",
       "      <td>0.046779</td>\n",
       "      <td>8653.561224</td>\n",
       "      <td>7880.131119</td>\n",
       "    </tr>\n",
       "    <tr>\n",
       "      <th>6</th>\n",
       "      <td>9183.431515</td>\n",
       "      <td>0.054576</td>\n",
       "      <td>9684.622213</td>\n",
       "      <td>8682.240817</td>\n",
       "    </tr>\n",
       "    <tr>\n",
       "      <th>7</th>\n",
       "      <td>10201.643123</td>\n",
       "      <td>0.062372</td>\n",
       "      <td>10837.940429</td>\n",
       "      <td>9565.345818</td>\n",
       "    </tr>\n",
       "    <tr>\n",
       "      <th>8</th>\n",
       "      <td>11332.748793</td>\n",
       "      <td>0.070169</td>\n",
       "      <td>12127.951302</td>\n",
       "      <td>10537.546284</td>\n",
       "    </tr>\n",
       "    <tr>\n",
       "      <th>9</th>\n",
       "      <td>12589.265636</td>\n",
       "      <td>0.077965</td>\n",
       "      <td>13570.788380</td>\n",
       "      <td>11607.742892</td>\n",
       "    </tr>\n",
       "    <tr>\n",
       "      <th>10</th>\n",
       "      <td>13985.098598</td>\n",
       "      <td>0.085762</td>\n",
       "      <td>15184.482423</td>\n",
       "      <td>12785.714772</td>\n",
       "    </tr>\n",
       "  </tbody>\n",
       "</table>\n",
       "</div>"
      ],
      "text/plain": [
       "           ^GSPC  ^GSPC_std   ^GSPC_std_u   ^GSPC_std_d\n",
       "0    4886.683146   0.007797   4924.782197   4848.584096\n",
       "1    5428.493416   0.015593   5513.139970   5343.846862\n",
       "2    6030.376819   0.023390   6171.424411   5889.329227\n",
       "3    6698.993955   0.031186   6907.908919   6490.078992\n",
       "4    7441.743917   0.038983   7731.841891   7151.645943\n",
       "5    8266.846171   0.046779   8653.561224   7880.131119\n",
       "6    9183.431515   0.054576   9684.622213   8682.240817\n",
       "7   10201.643123   0.062372  10837.940429   9565.345818\n",
       "8   11332.748793   0.070169  12127.951302  10537.546284\n",
       "9   12589.265636   0.077965  13570.788380  11607.742892\n",
       "10  13985.098598   0.085762  15184.482423  12785.714772"
      ]
     },
     "execution_count": 42,
     "metadata": {},
     "output_type": "execute_result"
    }
   ],
   "source": [
    "df_final"
   ]
  },
  {
   "cell_type": "code",
   "execution_count": 43,
   "id": "a591f613",
   "metadata": {},
   "outputs": [
    {
     "data": {
      "text/plain": [
       "Index(['^GSPC', '^GSPC_std', '^GSPC_std_u', '^GSPC_std_d'], dtype='object')"
      ]
     },
     "execution_count": 43,
     "metadata": {},
     "output_type": "execute_result"
    }
   ],
   "source": [
    "df_final.columns"
   ]
  },
  {
   "cell_type": "code",
   "execution_count": 44,
   "id": "c01bfd9c",
   "metadata": {},
   "outputs": [],
   "source": [
    "cols = []\n",
    "\n",
    "for i in range(len(list_etf)):\n",
    "    cols.append(df_final.columns[i])\n",
    "    cols.append(df_final.columns[i+len(list_etf)])\n",
    "    cols.append(df_final.columns[(i+len(list_etf))*2])\n",
    "    cols.append(df_final.columns[((i+len(list_etf))*2)+1])\n"
   ]
  },
  {
   "cell_type": "code",
   "execution_count": 45,
   "id": "cf33748e",
   "metadata": {},
   "outputs": [
    {
     "data": {
      "text/plain": [
       "['^GSPC', '^GSPC_std', '^GSPC_std_u', '^GSPC_std_d']"
      ]
     },
     "execution_count": 45,
     "metadata": {},
     "output_type": "execute_result"
    }
   ],
   "source": [
    "cols"
   ]
  },
  {
   "cell_type": "code",
   "execution_count": 46,
   "id": "0fa0eebe",
   "metadata": {},
   "outputs": [],
   "source": [
    "df_final = df_final[cols]"
   ]
  },
  {
   "cell_type": "code",
   "execution_count": 47,
   "id": "1995d5ec",
   "metadata": {},
   "outputs": [
    {
     "data": {
      "text/html": [
       "<div>\n",
       "<style scoped>\n",
       "    .dataframe tbody tr th:only-of-type {\n",
       "        vertical-align: middle;\n",
       "    }\n",
       "\n",
       "    .dataframe tbody tr th {\n",
       "        vertical-align: top;\n",
       "    }\n",
       "\n",
       "    .dataframe thead th {\n",
       "        text-align: right;\n",
       "    }\n",
       "</style>\n",
       "<table border=\"1\" class=\"dataframe\">\n",
       "  <thead>\n",
       "    <tr style=\"text-align: right;\">\n",
       "      <th></th>\n",
       "      <th>^GSPC</th>\n",
       "      <th>^GSPC_std</th>\n",
       "      <th>^GSPC_std_u</th>\n",
       "      <th>^GSPC_std_d</th>\n",
       "    </tr>\n",
       "  </thead>\n",
       "  <tbody>\n",
       "    <tr>\n",
       "      <th>0</th>\n",
       "      <td>4886.683146</td>\n",
       "      <td>0.007797</td>\n",
       "      <td>4924.782197</td>\n",
       "      <td>4848.584096</td>\n",
       "    </tr>\n",
       "    <tr>\n",
       "      <th>1</th>\n",
       "      <td>5428.493416</td>\n",
       "      <td>0.015593</td>\n",
       "      <td>5513.139970</td>\n",
       "      <td>5343.846862</td>\n",
       "    </tr>\n",
       "    <tr>\n",
       "      <th>2</th>\n",
       "      <td>6030.376819</td>\n",
       "      <td>0.023390</td>\n",
       "      <td>6171.424411</td>\n",
       "      <td>5889.329227</td>\n",
       "    </tr>\n",
       "    <tr>\n",
       "      <th>3</th>\n",
       "      <td>6698.993955</td>\n",
       "      <td>0.031186</td>\n",
       "      <td>6907.908919</td>\n",
       "      <td>6490.078992</td>\n",
       "    </tr>\n",
       "    <tr>\n",
       "      <th>4</th>\n",
       "      <td>7441.743917</td>\n",
       "      <td>0.038983</td>\n",
       "      <td>7731.841891</td>\n",
       "      <td>7151.645943</td>\n",
       "    </tr>\n",
       "    <tr>\n",
       "      <th>5</th>\n",
       "      <td>8266.846171</td>\n",
       "      <td>0.046779</td>\n",
       "      <td>8653.561224</td>\n",
       "      <td>7880.131119</td>\n",
       "    </tr>\n",
       "    <tr>\n",
       "      <th>6</th>\n",
       "      <td>9183.431515</td>\n",
       "      <td>0.054576</td>\n",
       "      <td>9684.622213</td>\n",
       "      <td>8682.240817</td>\n",
       "    </tr>\n",
       "    <tr>\n",
       "      <th>7</th>\n",
       "      <td>10201.643123</td>\n",
       "      <td>0.062372</td>\n",
       "      <td>10837.940429</td>\n",
       "      <td>9565.345818</td>\n",
       "    </tr>\n",
       "    <tr>\n",
       "      <th>8</th>\n",
       "      <td>11332.748793</td>\n",
       "      <td>0.070169</td>\n",
       "      <td>12127.951302</td>\n",
       "      <td>10537.546284</td>\n",
       "    </tr>\n",
       "    <tr>\n",
       "      <th>9</th>\n",
       "      <td>12589.265636</td>\n",
       "      <td>0.077965</td>\n",
       "      <td>13570.788380</td>\n",
       "      <td>11607.742892</td>\n",
       "    </tr>\n",
       "    <tr>\n",
       "      <th>10</th>\n",
       "      <td>13985.098598</td>\n",
       "      <td>0.085762</td>\n",
       "      <td>15184.482423</td>\n",
       "      <td>12785.714772</td>\n",
       "    </tr>\n",
       "  </tbody>\n",
       "</table>\n",
       "</div>"
      ],
      "text/plain": [
       "           ^GSPC  ^GSPC_std   ^GSPC_std_u   ^GSPC_std_d\n",
       "0    4886.683146   0.007797   4924.782197   4848.584096\n",
       "1    5428.493416   0.015593   5513.139970   5343.846862\n",
       "2    6030.376819   0.023390   6171.424411   5889.329227\n",
       "3    6698.993955   0.031186   6907.908919   6490.078992\n",
       "4    7441.743917   0.038983   7731.841891   7151.645943\n",
       "5    8266.846171   0.046779   8653.561224   7880.131119\n",
       "6    9183.431515   0.054576   9684.622213   8682.240817\n",
       "7   10201.643123   0.062372  10837.940429   9565.345818\n",
       "8   11332.748793   0.070169  12127.951302  10537.546284\n",
       "9   12589.265636   0.077965  13570.788380  11607.742892\n",
       "10  13985.098598   0.085762  15184.482423  12785.714772"
      ]
     },
     "execution_count": 47,
     "metadata": {},
     "output_type": "execute_result"
    }
   ],
   "source": [
    "df_final"
   ]
  },
  {
   "cell_type": "code",
   "execution_count": 48,
   "id": "8a6a7215",
   "metadata": {},
   "outputs": [],
   "source": [
    "df_final_return_by_active = df_final"
   ]
  },
  {
   "cell_type": "code",
   "execution_count": 49,
   "id": "77ed5307",
   "metadata": {},
   "outputs": [],
   "source": [
    "count = 0\n",
    "for i in range(len(list_etf)):\n",
    "    #i = i*3 # 012,345,678\n",
    "    df_final_return_by_active[df_final_return_by_active.columns[count]] = df_final_return_by_active[df_final_return_by_active.columns[count]]*dict_invested_amount_by_ticker[list_etf[i]]\n",
    "    df_final_return_by_active[df_final_return_by_active.columns[count+2]] = df_final_return_by_active[df_final_return_by_active.columns[count+2]]*dict_invested_amount_by_ticker[list_etf[i]]\n",
    "    df_final_return_by_active[df_final_return_by_active.columns[count+3]] = df_final_return_by_active[df_final_return_by_active.columns[count+3]]*dict_invested_amount_by_ticker[list_etf[i]]\n",
    "    count = count + 4 # columns of value an std\n"
   ]
  },
  {
   "cell_type": "code",
   "execution_count": 50,
   "id": "8dc2303f",
   "metadata": {},
   "outputs": [
    {
     "data": {
      "text/plain": [
       "{'^GSPC': 0.45465393132461246}"
      ]
     },
     "execution_count": 50,
     "metadata": {},
     "output_type": "execute_result"
    }
   ],
   "source": [
    "dict_invested_amount_by_ticker"
   ]
  },
  {
   "cell_type": "code",
   "execution_count": 51,
   "id": "ff2e82d8",
   "metadata": {},
   "outputs": [
    {
     "data": {
      "text/html": [
       "<div>\n",
       "<style scoped>\n",
       "    .dataframe tbody tr th:only-of-type {\n",
       "        vertical-align: middle;\n",
       "    }\n",
       "\n",
       "    .dataframe tbody tr th {\n",
       "        vertical-align: top;\n",
       "    }\n",
       "\n",
       "    .dataframe thead th {\n",
       "        text-align: right;\n",
       "    }\n",
       "</style>\n",
       "<table border=\"1\" class=\"dataframe\">\n",
       "  <thead>\n",
       "    <tr style=\"text-align: right;\">\n",
       "      <th></th>\n",
       "      <th>^GSPC</th>\n",
       "      <th>^GSPC_std</th>\n",
       "      <th>^GSPC_std_u</th>\n",
       "      <th>^GSPC_std_d</th>\n",
       "    </tr>\n",
       "  </thead>\n",
       "  <tbody>\n",
       "    <tr>\n",
       "      <th>0</th>\n",
       "      <td>2221.749704</td>\n",
       "      <td>0.007797</td>\n",
       "      <td>2239.071587</td>\n",
       "      <td>2204.427821</td>\n",
       "    </tr>\n",
       "    <tr>\n",
       "      <th>1</th>\n",
       "      <td>2468.085873</td>\n",
       "      <td>0.015593</td>\n",
       "      <td>2506.570761</td>\n",
       "      <td>2429.600984</td>\n",
       "    </tr>\n",
       "    <tr>\n",
       "      <th>2</th>\n",
       "      <td>2741.734528</td>\n",
       "      <td>0.023390</td>\n",
       "      <td>2805.862370</td>\n",
       "      <td>2677.606686</td>\n",
       "    </tr>\n",
       "    <tr>\n",
       "      <th>3</th>\n",
       "      <td>3045.723938</td>\n",
       "      <td>0.031186</td>\n",
       "      <td>3140.707947</td>\n",
       "      <td>2950.739928</td>\n",
       "    </tr>\n",
       "    <tr>\n",
       "      <th>4</th>\n",
       "      <td>3383.418128</td>\n",
       "      <td>0.038983</td>\n",
       "      <td>3515.312312</td>\n",
       "      <td>3251.523944</td>\n",
       "    </tr>\n",
       "    <tr>\n",
       "      <th>5</th>\n",
       "      <td>3758.554111</td>\n",
       "      <td>0.046779</td>\n",
       "      <td>3934.375630</td>\n",
       "      <td>3582.732592</td>\n",
       "    </tr>\n",
       "    <tr>\n",
       "      <th>6</th>\n",
       "      <td>4175.283241</td>\n",
       "      <td>0.054576</td>\n",
       "      <td>4403.151563</td>\n",
       "      <td>3947.414920</td>\n",
       "    </tr>\n",
       "    <tr>\n",
       "      <th>7</th>\n",
       "      <td>4638.217152</td>\n",
       "      <td>0.062372</td>\n",
       "      <td>4927.512223</td>\n",
       "      <td>4348.922081</td>\n",
       "    </tr>\n",
       "    <tr>\n",
       "      <th>8</th>\n",
       "      <td>5152.478791</td>\n",
       "      <td>0.070169</td>\n",
       "      <td>5514.020738</td>\n",
       "      <td>4790.936844</td>\n",
       "    </tr>\n",
       "    <tr>\n",
       "      <th>9</th>\n",
       "      <td>5723.759114</td>\n",
       "      <td>0.077965</td>\n",
       "      <td>6170.012288</td>\n",
       "      <td>5277.505940</td>\n",
       "    </tr>\n",
       "    <tr>\n",
       "      <th>10</th>\n",
       "      <td>6358.380057</td>\n",
       "      <td>0.085762</td>\n",
       "      <td>6903.684629</td>\n",
       "      <td>5813.075486</td>\n",
       "    </tr>\n",
       "  </tbody>\n",
       "</table>\n",
       "</div>"
      ],
      "text/plain": [
       "          ^GSPC  ^GSPC_std  ^GSPC_std_u  ^GSPC_std_d\n",
       "0   2221.749704   0.007797  2239.071587  2204.427821\n",
       "1   2468.085873   0.015593  2506.570761  2429.600984\n",
       "2   2741.734528   0.023390  2805.862370  2677.606686\n",
       "3   3045.723938   0.031186  3140.707947  2950.739928\n",
       "4   3383.418128   0.038983  3515.312312  3251.523944\n",
       "5   3758.554111   0.046779  3934.375630  3582.732592\n",
       "6   4175.283241   0.054576  4403.151563  3947.414920\n",
       "7   4638.217152   0.062372  4927.512223  4348.922081\n",
       "8   5152.478791   0.070169  5514.020738  4790.936844\n",
       "9   5723.759114   0.077965  6170.012288  5277.505940\n",
       "10  6358.380057   0.085762  6903.684629  5813.075486"
      ]
     },
     "execution_count": 51,
     "metadata": {},
     "output_type": "execute_result"
    }
   ],
   "source": [
    "df_final_return_by_active"
   ]
  },
  {
   "cell_type": "code",
   "execution_count": 52,
   "id": "38192475",
   "metadata": {},
   "outputs": [],
   "source": [
    "list_etf_std = []\n",
    "count = 0\n",
    "\n",
    "for i in range(len(list_etf)): # 3 is value plus standard deviatiations\n",
    "    list_etf_std.append(df_final_return_by_active.columns[count+2])\n",
    "    list_etf_std.append(df_final_return_by_active.columns[count])    \n",
    "    list_etf_std.append(df_final_return_by_active.columns[count+3])\n",
    "    count = count + 4"
   ]
  },
  {
   "cell_type": "code",
   "execution_count": 53,
   "id": "cd8b74aa",
   "metadata": {},
   "outputs": [
    {
     "data": {
      "text/plain": [
       "['^GSPC_std_u', '^GSPC', '^GSPC_std_d']"
      ]
     },
     "execution_count": 53,
     "metadata": {},
     "output_type": "execute_result"
    }
   ],
   "source": [
    "list_etf_std"
   ]
  },
  {
   "cell_type": "code",
   "execution_count": 54,
   "id": "eb72435e",
   "metadata": {},
   "outputs": [],
   "source": [
    "df_final_return_by_active = df_final_return_by_active[list_etf_std]"
   ]
  },
  {
   "cell_type": "code",
   "execution_count": 55,
   "id": "698ac0d5",
   "metadata": {},
   "outputs": [
    {
     "data": {
      "text/html": [
       "<div>\n",
       "<style scoped>\n",
       "    .dataframe tbody tr th:only-of-type {\n",
       "        vertical-align: middle;\n",
       "    }\n",
       "\n",
       "    .dataframe tbody tr th {\n",
       "        vertical-align: top;\n",
       "    }\n",
       "\n",
       "    .dataframe thead th {\n",
       "        text-align: right;\n",
       "    }\n",
       "</style>\n",
       "<table border=\"1\" class=\"dataframe\">\n",
       "  <thead>\n",
       "    <tr style=\"text-align: right;\">\n",
       "      <th></th>\n",
       "      <th>^GSPC_std_u</th>\n",
       "      <th>^GSPC</th>\n",
       "      <th>^GSPC_std_d</th>\n",
       "    </tr>\n",
       "  </thead>\n",
       "  <tbody>\n",
       "    <tr>\n",
       "      <th>0</th>\n",
       "      <td>2239.071587</td>\n",
       "      <td>2221.749704</td>\n",
       "      <td>2204.427821</td>\n",
       "    </tr>\n",
       "    <tr>\n",
       "      <th>1</th>\n",
       "      <td>2506.570761</td>\n",
       "      <td>2468.085873</td>\n",
       "      <td>2429.600984</td>\n",
       "    </tr>\n",
       "    <tr>\n",
       "      <th>2</th>\n",
       "      <td>2805.862370</td>\n",
       "      <td>2741.734528</td>\n",
       "      <td>2677.606686</td>\n",
       "    </tr>\n",
       "    <tr>\n",
       "      <th>3</th>\n",
       "      <td>3140.707947</td>\n",
       "      <td>3045.723938</td>\n",
       "      <td>2950.739928</td>\n",
       "    </tr>\n",
       "    <tr>\n",
       "      <th>4</th>\n",
       "      <td>3515.312312</td>\n",
       "      <td>3383.418128</td>\n",
       "      <td>3251.523944</td>\n",
       "    </tr>\n",
       "    <tr>\n",
       "      <th>5</th>\n",
       "      <td>3934.375630</td>\n",
       "      <td>3758.554111</td>\n",
       "      <td>3582.732592</td>\n",
       "    </tr>\n",
       "    <tr>\n",
       "      <th>6</th>\n",
       "      <td>4403.151563</td>\n",
       "      <td>4175.283241</td>\n",
       "      <td>3947.414920</td>\n",
       "    </tr>\n",
       "    <tr>\n",
       "      <th>7</th>\n",
       "      <td>4927.512223</td>\n",
       "      <td>4638.217152</td>\n",
       "      <td>4348.922081</td>\n",
       "    </tr>\n",
       "    <tr>\n",
       "      <th>8</th>\n",
       "      <td>5514.020738</td>\n",
       "      <td>5152.478791</td>\n",
       "      <td>4790.936844</td>\n",
       "    </tr>\n",
       "    <tr>\n",
       "      <th>9</th>\n",
       "      <td>6170.012288</td>\n",
       "      <td>5723.759114</td>\n",
       "      <td>5277.505940</td>\n",
       "    </tr>\n",
       "    <tr>\n",
       "      <th>10</th>\n",
       "      <td>6903.684629</td>\n",
       "      <td>6358.380057</td>\n",
       "      <td>5813.075486</td>\n",
       "    </tr>\n",
       "  </tbody>\n",
       "</table>\n",
       "</div>"
      ],
      "text/plain": [
       "    ^GSPC_std_u        ^GSPC  ^GSPC_std_d\n",
       "0   2239.071587  2221.749704  2204.427821\n",
       "1   2506.570761  2468.085873  2429.600984\n",
       "2   2805.862370  2741.734528  2677.606686\n",
       "3   3140.707947  3045.723938  2950.739928\n",
       "4   3515.312312  3383.418128  3251.523944\n",
       "5   3934.375630  3758.554111  3582.732592\n",
       "6   4403.151563  4175.283241  3947.414920\n",
       "7   4927.512223  4638.217152  4348.922081\n",
       "8   5514.020738  5152.478791  4790.936844\n",
       "9   6170.012288  5723.759114  5277.505940\n",
       "10  6903.684629  6358.380057  5813.075486"
      ]
     },
     "execution_count": 55,
     "metadata": {},
     "output_type": "execute_result"
    }
   ],
   "source": [
    "df_final_return_by_active"
   ]
  },
  {
   "cell_type": "code",
   "execution_count": 56,
   "id": "e5f60d94",
   "metadata": {},
   "outputs": [
    {
     "data": {
      "text/html": [
       "<div>\n",
       "<style scoped>\n",
       "    .dataframe tbody tr th:only-of-type {\n",
       "        vertical-align: middle;\n",
       "    }\n",
       "\n",
       "    .dataframe tbody tr th {\n",
       "        vertical-align: top;\n",
       "    }\n",
       "\n",
       "    .dataframe thead th {\n",
       "        text-align: right;\n",
       "    }\n",
       "</style>\n",
       "<table border=\"1\" class=\"dataframe\">\n",
       "  <thead>\n",
       "    <tr style=\"text-align: right;\">\n",
       "      <th></th>\n",
       "      <th>0</th>\n",
       "      <th>1</th>\n",
       "      <th>2</th>\n",
       "      <th>3</th>\n",
       "      <th>4</th>\n",
       "      <th>5</th>\n",
       "      <th>6</th>\n",
       "      <th>7</th>\n",
       "      <th>8</th>\n",
       "      <th>9</th>\n",
       "      <th>10</th>\n",
       "    </tr>\n",
       "  </thead>\n",
       "  <tbody>\n",
       "    <tr>\n",
       "      <th>^GSPC_std_u</th>\n",
       "      <td>2239.071587</td>\n",
       "      <td>2506.570761</td>\n",
       "      <td>2805.862370</td>\n",
       "      <td>3140.707947</td>\n",
       "      <td>3515.312312</td>\n",
       "      <td>3934.375630</td>\n",
       "      <td>4403.151563</td>\n",
       "      <td>4927.512223</td>\n",
       "      <td>5514.020738</td>\n",
       "      <td>6170.012288</td>\n",
       "      <td>6903.684629</td>\n",
       "    </tr>\n",
       "    <tr>\n",
       "      <th>^GSPC</th>\n",
       "      <td>2221.749704</td>\n",
       "      <td>2468.085873</td>\n",
       "      <td>2741.734528</td>\n",
       "      <td>3045.723938</td>\n",
       "      <td>3383.418128</td>\n",
       "      <td>3758.554111</td>\n",
       "      <td>4175.283241</td>\n",
       "      <td>4638.217152</td>\n",
       "      <td>5152.478791</td>\n",
       "      <td>5723.759114</td>\n",
       "      <td>6358.380057</td>\n",
       "    </tr>\n",
       "    <tr>\n",
       "      <th>^GSPC_std_d</th>\n",
       "      <td>2204.427821</td>\n",
       "      <td>2429.600984</td>\n",
       "      <td>2677.606686</td>\n",
       "      <td>2950.739928</td>\n",
       "      <td>3251.523944</td>\n",
       "      <td>3582.732592</td>\n",
       "      <td>3947.414920</td>\n",
       "      <td>4348.922081</td>\n",
       "      <td>4790.936844</td>\n",
       "      <td>5277.505940</td>\n",
       "      <td>5813.075486</td>\n",
       "    </tr>\n",
       "  </tbody>\n",
       "</table>\n",
       "</div>"
      ],
      "text/plain": [
       "                      0            1            2            3            4   \\\n",
       "^GSPC_std_u  2239.071587  2506.570761  2805.862370  3140.707947  3515.312312   \n",
       "^GSPC        2221.749704  2468.085873  2741.734528  3045.723938  3383.418128   \n",
       "^GSPC_std_d  2204.427821  2429.600984  2677.606686  2950.739928  3251.523944   \n",
       "\n",
       "                      5            6            7            8            9   \\\n",
       "^GSPC_std_u  3934.375630  4403.151563  4927.512223  5514.020738  6170.012288   \n",
       "^GSPC        3758.554111  4175.283241  4638.217152  5152.478791  5723.759114   \n",
       "^GSPC_std_d  3582.732592  3947.414920  4348.922081  4790.936844  5277.505940   \n",
       "\n",
       "                      10  \n",
       "^GSPC_std_u  6903.684629  \n",
       "^GSPC        6358.380057  \n",
       "^GSPC_std_d  5813.075486  "
      ]
     },
     "execution_count": 56,
     "metadata": {},
     "output_type": "execute_result"
    }
   ],
   "source": [
    "df_final_return_by_active_T = df_final_return_by_active.T # for plot and df streamlit\n",
    "df_final_return_by_active_T"
   ]
  },
  {
   "cell_type": "code",
   "execution_count": 57,
   "id": "f71406c7",
   "metadata": {},
   "outputs": [
    {
     "data": {
      "text/plain": [
       "2204.4278205976157"
      ]
     },
     "execution_count": 57,
     "metadata": {},
     "output_type": "execute_result"
    }
   ],
   "source": [
    "df_final_return_by_active.iloc[0][1*3-1] # i = len_etf*3"
   ]
  },
  {
   "cell_type": "code",
   "execution_count": 58,
   "id": "fd8821c7",
   "metadata": {},
   "outputs": [
    {
     "data": {
      "text/plain": [
       "11"
      ]
     },
     "execution_count": 58,
     "metadata": {},
     "output_type": "execute_result"
    }
   ],
   "source": [
    "len(df_final_return_by_active)"
   ]
  },
  {
   "cell_type": "code",
   "execution_count": 59,
   "id": "bf389797",
   "metadata": {},
   "outputs": [],
   "source": [
    "final_sum_return_all = {}\n",
    "for i in range(years_maintained):\n",
    "    list_values_u = []\n",
    "    list_values = []\n",
    "    list_values_d = []\n",
    "    count = 0\n",
    "    for j in range(len(list_etf)):\n",
    "        list_values_u.append(df_final_return_by_active_T[i][count])\n",
    "        list_values.append(df_final_return_by_active_T[i][count+1])\n",
    "        list_values_d.append(df_final_return_by_active_T[i][count+2])\n",
    "        count = count + 3\n",
    "        if j == len(list_etf)-1:\n",
    "            if i+1 <10:\n",
    "                final_sum_return_all[f'0{i+1}_year'] = [sum(list_values_u), sum(list_values), sum(list_values_d)]\n",
    "            else:\n",
    "                final_sum_return_all[f'{i+1}_year'] = [sum(list_values_u), sum(list_values), sum(list_values_d)]"
   ]
  },
  {
   "cell_type": "code",
   "execution_count": 60,
   "id": "5dbd894f",
   "metadata": {},
   "outputs": [
    {
     "data": {
      "text/plain": [
       "{'01_year': [2239.071586614444, 2221.74970360603, 2204.4278205976157],\n",
       " '02_year': [2506.570761176583, 2468.085872736741, 2429.600984296899],\n",
       " '03_year': [2805.8623702269397, 2741.7345281135417, 2677.606686000144],\n",
       " '04_year': [3140.7079470735634, 3045.72393760134, 2950.739928129116],\n",
       " '05_year': [3515.3123121234244, 3383.4181278157835, 3251.523943508142],\n",
       " '06_year': [3934.375630260709, 3758.554111324992, 3582.7325923892754],\n",
       " '07_year': [4403.15156250184, 4175.283241411763, 3947.4149203216857],\n",
       " '08_year': [4927.512223377809, 4638.217152038904, 4348.922080699999],\n",
       " '09_year': [5514.020738339987, 5152.47879140142, 4790.936844462853],\n",
       " '10_year': [6170.012287956179, 5723.75911381623, 5277.50593967628],\n",
       " '11_year': [6903.684628875036, 6358.38005731676, 5813.075485758484]}"
      ]
     },
     "execution_count": 60,
     "metadata": {},
     "output_type": "execute_result"
    }
   ],
   "source": [
    "final_sum_return_all"
   ]
  },
  {
   "cell_type": "code",
   "execution_count": 61,
   "id": "e89a5c38",
   "metadata": {},
   "outputs": [],
   "source": [
    "df_final_full_std_by_year = pd.DataFrame(final_sum_return_all)"
   ]
  },
  {
   "cell_type": "code",
   "execution_count": 62,
   "id": "fd22899e",
   "metadata": {},
   "outputs": [],
   "source": [
    "row_names = {0 : 'std_up',\n",
    "             1 : 'normal',\n",
    "             2 : 'std_down'}"
   ]
  },
  {
   "cell_type": "code",
   "execution_count": 63,
   "id": "251725d3",
   "metadata": {},
   "outputs": [
    {
     "data": {
      "text/html": [
       "<div>\n",
       "<style scoped>\n",
       "    .dataframe tbody tr th:only-of-type {\n",
       "        vertical-align: middle;\n",
       "    }\n",
       "\n",
       "    .dataframe tbody tr th {\n",
       "        vertical-align: top;\n",
       "    }\n",
       "\n",
       "    .dataframe thead th {\n",
       "        text-align: right;\n",
       "    }\n",
       "</style>\n",
       "<table border=\"1\" class=\"dataframe\">\n",
       "  <thead>\n",
       "    <tr style=\"text-align: right;\">\n",
       "      <th></th>\n",
       "      <th>01_year</th>\n",
       "      <th>02_year</th>\n",
       "      <th>03_year</th>\n",
       "      <th>04_year</th>\n",
       "      <th>05_year</th>\n",
       "      <th>06_year</th>\n",
       "      <th>07_year</th>\n",
       "      <th>08_year</th>\n",
       "      <th>09_year</th>\n",
       "      <th>10_year</th>\n",
       "      <th>11_year</th>\n",
       "    </tr>\n",
       "  </thead>\n",
       "  <tbody>\n",
       "    <tr>\n",
       "      <th>0</th>\n",
       "      <td>2239.071587</td>\n",
       "      <td>2506.570761</td>\n",
       "      <td>2805.862370</td>\n",
       "      <td>3140.707947</td>\n",
       "      <td>3515.312312</td>\n",
       "      <td>3934.375630</td>\n",
       "      <td>4403.151563</td>\n",
       "      <td>4927.512223</td>\n",
       "      <td>5514.020738</td>\n",
       "      <td>6170.012288</td>\n",
       "      <td>6903.684629</td>\n",
       "    </tr>\n",
       "    <tr>\n",
       "      <th>1</th>\n",
       "      <td>2221.749704</td>\n",
       "      <td>2468.085873</td>\n",
       "      <td>2741.734528</td>\n",
       "      <td>3045.723938</td>\n",
       "      <td>3383.418128</td>\n",
       "      <td>3758.554111</td>\n",
       "      <td>4175.283241</td>\n",
       "      <td>4638.217152</td>\n",
       "      <td>5152.478791</td>\n",
       "      <td>5723.759114</td>\n",
       "      <td>6358.380057</td>\n",
       "    </tr>\n",
       "    <tr>\n",
       "      <th>2</th>\n",
       "      <td>2204.427821</td>\n",
       "      <td>2429.600984</td>\n",
       "      <td>2677.606686</td>\n",
       "      <td>2950.739928</td>\n",
       "      <td>3251.523944</td>\n",
       "      <td>3582.732592</td>\n",
       "      <td>3947.414920</td>\n",
       "      <td>4348.922081</td>\n",
       "      <td>4790.936844</td>\n",
       "      <td>5277.505940</td>\n",
       "      <td>5813.075486</td>\n",
       "    </tr>\n",
       "  </tbody>\n",
       "</table>\n",
       "</div>"
      ],
      "text/plain": [
       "       01_year      02_year      03_year      04_year      05_year  \\\n",
       "0  2239.071587  2506.570761  2805.862370  3140.707947  3515.312312   \n",
       "1  2221.749704  2468.085873  2741.734528  3045.723938  3383.418128   \n",
       "2  2204.427821  2429.600984  2677.606686  2950.739928  3251.523944   \n",
       "\n",
       "       06_year      07_year      08_year      09_year      10_year  \\\n",
       "0  3934.375630  4403.151563  4927.512223  5514.020738  6170.012288   \n",
       "1  3758.554111  4175.283241  4638.217152  5152.478791  5723.759114   \n",
       "2  3582.732592  3947.414920  4348.922081  4790.936844  5277.505940   \n",
       "\n",
       "       11_year  \n",
       "0  6903.684629  \n",
       "1  6358.380057  \n",
       "2  5813.075486  "
      ]
     },
     "execution_count": 63,
     "metadata": {},
     "output_type": "execute_result"
    }
   ],
   "source": [
    "df_final_full_std_by_year"
   ]
  },
  {
   "cell_type": "code",
   "execution_count": 64,
   "id": "8581469b",
   "metadata": {},
   "outputs": [
    {
     "data": {
      "text/html": [
       "<div>\n",
       "<style scoped>\n",
       "    .dataframe tbody tr th:only-of-type {\n",
       "        vertical-align: middle;\n",
       "    }\n",
       "\n",
       "    .dataframe tbody tr th {\n",
       "        vertical-align: top;\n",
       "    }\n",
       "\n",
       "    .dataframe thead th {\n",
       "        text-align: right;\n",
       "    }\n",
       "</style>\n",
       "<table border=\"1\" class=\"dataframe\">\n",
       "  <thead>\n",
       "    <tr style=\"text-align: right;\">\n",
       "      <th></th>\n",
       "      <th>01_year</th>\n",
       "      <th>02_year</th>\n",
       "      <th>03_year</th>\n",
       "      <th>04_year</th>\n",
       "      <th>05_year</th>\n",
       "      <th>06_year</th>\n",
       "      <th>07_year</th>\n",
       "      <th>08_year</th>\n",
       "      <th>09_year</th>\n",
       "      <th>10_year</th>\n",
       "      <th>11_year</th>\n",
       "    </tr>\n",
       "  </thead>\n",
       "  <tbody>\n",
       "    <tr>\n",
       "      <th>std_up</th>\n",
       "      <td>2239.071587</td>\n",
       "      <td>2506.570761</td>\n",
       "      <td>2805.862370</td>\n",
       "      <td>3140.707947</td>\n",
       "      <td>3515.312312</td>\n",
       "      <td>3934.375630</td>\n",
       "      <td>4403.151563</td>\n",
       "      <td>4927.512223</td>\n",
       "      <td>5514.020738</td>\n",
       "      <td>6170.012288</td>\n",
       "      <td>6903.684629</td>\n",
       "    </tr>\n",
       "    <tr>\n",
       "      <th>normal</th>\n",
       "      <td>2221.749704</td>\n",
       "      <td>2468.085873</td>\n",
       "      <td>2741.734528</td>\n",
       "      <td>3045.723938</td>\n",
       "      <td>3383.418128</td>\n",
       "      <td>3758.554111</td>\n",
       "      <td>4175.283241</td>\n",
       "      <td>4638.217152</td>\n",
       "      <td>5152.478791</td>\n",
       "      <td>5723.759114</td>\n",
       "      <td>6358.380057</td>\n",
       "    </tr>\n",
       "    <tr>\n",
       "      <th>std_down</th>\n",
       "      <td>2204.427821</td>\n",
       "      <td>2429.600984</td>\n",
       "      <td>2677.606686</td>\n",
       "      <td>2950.739928</td>\n",
       "      <td>3251.523944</td>\n",
       "      <td>3582.732592</td>\n",
       "      <td>3947.414920</td>\n",
       "      <td>4348.922081</td>\n",
       "      <td>4790.936844</td>\n",
       "      <td>5277.505940</td>\n",
       "      <td>5813.075486</td>\n",
       "    </tr>\n",
       "  </tbody>\n",
       "</table>\n",
       "</div>"
      ],
      "text/plain": [
       "              01_year      02_year      03_year      04_year      05_year  \\\n",
       "std_up    2239.071587  2506.570761  2805.862370  3140.707947  3515.312312   \n",
       "normal    2221.749704  2468.085873  2741.734528  3045.723938  3383.418128   \n",
       "std_down  2204.427821  2429.600984  2677.606686  2950.739928  3251.523944   \n",
       "\n",
       "              06_year      07_year      08_year      09_year      10_year  \\\n",
       "std_up    3934.375630  4403.151563  4927.512223  5514.020738  6170.012288   \n",
       "normal    3758.554111  4175.283241  4638.217152  5152.478791  5723.759114   \n",
       "std_down  3582.732592  3947.414920  4348.922081  4790.936844  5277.505940   \n",
       "\n",
       "              11_year  \n",
       "std_up    6903.684629  \n",
       "normal    6358.380057  \n",
       "std_down  5813.075486  "
      ]
     },
     "execution_count": 64,
     "metadata": {},
     "output_type": "execute_result"
    }
   ],
   "source": [
    "df_final_full_std_by_year = df_final_full_std_by_year.rename(index = row_names)\n",
    "df_final_full_std_by_year"
   ]
  },
  {
   "cell_type": "code",
   "execution_count": 65,
   "id": "5cc7e940",
   "metadata": {},
   "outputs": [
    {
     "data": {
      "text/plain": [
       "3"
      ]
     },
     "execution_count": 65,
     "metadata": {},
     "output_type": "execute_result"
    }
   ],
   "source": [
    "len(df_final_full_std_by_year)"
   ]
  },
  {
   "cell_type": "code",
   "execution_count": 66,
   "id": "bf5e5a26",
   "metadata": {},
   "outputs": [
    {
     "data": {
      "text/plain": [
       "'01_year'"
      ]
     },
     "execution_count": 66,
     "metadata": {},
     "output_type": "execute_result"
    }
   ],
   "source": [
    "df_final_full_std_by_year.columns[0]"
   ]
  },
  {
   "cell_type": "code",
   "execution_count": 67,
   "id": "d90c48bd",
   "metadata": {},
   "outputs": [
    {
     "data": {
      "text/html": [
       "<div>\n",
       "<style scoped>\n",
       "    .dataframe tbody tr th:only-of-type {\n",
       "        vertical-align: middle;\n",
       "    }\n",
       "\n",
       "    .dataframe tbody tr th {\n",
       "        vertical-align: top;\n",
       "    }\n",
       "\n",
       "    .dataframe thead th {\n",
       "        text-align: right;\n",
       "    }\n",
       "</style>\n",
       "<table border=\"1\" class=\"dataframe\">\n",
       "  <thead>\n",
       "    <tr style=\"text-align: right;\">\n",
       "      <th></th>\n",
       "      <th>01_year</th>\n",
       "      <th>02_year</th>\n",
       "      <th>03_year</th>\n",
       "      <th>04_year</th>\n",
       "      <th>05_year</th>\n",
       "      <th>06_year</th>\n",
       "      <th>07_year</th>\n",
       "      <th>08_year</th>\n",
       "      <th>09_year</th>\n",
       "      <th>10_year</th>\n",
       "      <th>11_year</th>\n",
       "    </tr>\n",
       "  </thead>\n",
       "  <tbody>\n",
       "    <tr>\n",
       "      <th>std_up</th>\n",
       "      <td>2239.071587</td>\n",
       "      <td>2506.570761</td>\n",
       "      <td>2805.862370</td>\n",
       "      <td>3140.707947</td>\n",
       "      <td>3515.312312</td>\n",
       "      <td>3934.375630</td>\n",
       "      <td>4403.151563</td>\n",
       "      <td>4927.512223</td>\n",
       "      <td>5514.020738</td>\n",
       "      <td>6170.012288</td>\n",
       "      <td>6903.684629</td>\n",
       "    </tr>\n",
       "    <tr>\n",
       "      <th>normal</th>\n",
       "      <td>2221.749704</td>\n",
       "      <td>2468.085873</td>\n",
       "      <td>2741.734528</td>\n",
       "      <td>3045.723938</td>\n",
       "      <td>3383.418128</td>\n",
       "      <td>3758.554111</td>\n",
       "      <td>4175.283241</td>\n",
       "      <td>4638.217152</td>\n",
       "      <td>5152.478791</td>\n",
       "      <td>5723.759114</td>\n",
       "      <td>6358.380057</td>\n",
       "    </tr>\n",
       "    <tr>\n",
       "      <th>std_down</th>\n",
       "      <td>2204.427821</td>\n",
       "      <td>2429.600984</td>\n",
       "      <td>2677.606686</td>\n",
       "      <td>2950.739928</td>\n",
       "      <td>3251.523944</td>\n",
       "      <td>3582.732592</td>\n",
       "      <td>3947.414920</td>\n",
       "      <td>4348.922081</td>\n",
       "      <td>4790.936844</td>\n",
       "      <td>5277.505940</td>\n",
       "      <td>5813.075486</td>\n",
       "    </tr>\n",
       "  </tbody>\n",
       "</table>\n",
       "</div>"
      ],
      "text/plain": [
       "              01_year      02_year      03_year      04_year      05_year  \\\n",
       "std_up    2239.071587  2506.570761  2805.862370  3140.707947  3515.312312   \n",
       "normal    2221.749704  2468.085873  2741.734528  3045.723938  3383.418128   \n",
       "std_down  2204.427821  2429.600984  2677.606686  2950.739928  3251.523944   \n",
       "\n",
       "              06_year      07_year      08_year      09_year      10_year  \\\n",
       "std_up    3934.375630  4403.151563  4927.512223  5514.020738  6170.012288   \n",
       "normal    3758.554111  4175.283241  4638.217152  5152.478791  5723.759114   \n",
       "std_down  3582.732592  3947.414920  4348.922081  4790.936844  5277.505940   \n",
       "\n",
       "              11_year  \n",
       "std_up    6903.684629  \n",
       "normal    6358.380057  \n",
       "std_down  5813.075486  "
      ]
     },
     "execution_count": 67,
     "metadata": {},
     "output_type": "execute_result"
    }
   ],
   "source": [
    "df_final_full_std_by_year_for_plot = df_final_full_std_by_year\n",
    "df_final_full_std_by_year_for_plot"
   ]
  },
  {
   "cell_type": "code",
   "execution_count": 68,
   "id": "140cc3dc",
   "metadata": {},
   "outputs": [
    {
     "data": {
      "text/plain": [
       "{'^GSPC': 2000}"
      ]
     },
     "execution_count": 68,
     "metadata": {},
     "output_type": "execute_result"
    }
   ],
   "source": [
    "dict_money_to_ticker # money to each ticker"
   ]
  },
  {
   "cell_type": "code",
   "execution_count": 69,
   "id": "83486e99",
   "metadata": {},
   "outputs": [],
   "source": [
    "# add percentage, according the invested_amount\n",
    "def percentage_diff(df):\n",
    "    x = return_/initial\n",
    "    return x"
   ]
  },
  {
   "cell_type": "code",
   "execution_count": 70,
   "id": "10765935",
   "metadata": {},
   "outputs": [
    {
     "data": {
      "text/plain": [
       "std_up      2239.071587\n",
       "normal      2221.749704\n",
       "std_down    2204.427821\n",
       "Name: 01_year, dtype: float64"
      ]
     },
     "execution_count": 70,
     "metadata": {},
     "output_type": "execute_result"
    }
   ],
   "source": [
    "df_final_full_std_by_year[df_final_full_std_by_year.columns[0]]"
   ]
  },
  {
   "cell_type": "code",
   "execution_count": 71,
   "id": "217696e0",
   "metadata": {},
   "outputs": [],
   "source": [
    "for i in range(len(df_final_full_std_by_year.columns)):\n",
    "    df_final_full_std_by_year[f'{df_final_full_std_by_year.columns[i]}_%'] = (df_final_full_std_by_year[df_final_full_std_by_year.columns[i]]/invested_amount-1)*100"
   ]
  },
  {
   "cell_type": "code",
   "execution_count": 72,
   "id": "b353c373",
   "metadata": {},
   "outputs": [
    {
     "data": {
      "text/html": [
       "<div>\n",
       "<style scoped>\n",
       "    .dataframe tbody tr th:only-of-type {\n",
       "        vertical-align: middle;\n",
       "    }\n",
       "\n",
       "    .dataframe tbody tr th {\n",
       "        vertical-align: top;\n",
       "    }\n",
       "\n",
       "    .dataframe thead th {\n",
       "        text-align: right;\n",
       "    }\n",
       "</style>\n",
       "<table border=\"1\" class=\"dataframe\">\n",
       "  <thead>\n",
       "    <tr style=\"text-align: right;\">\n",
       "      <th></th>\n",
       "      <th>01_year</th>\n",
       "      <th>02_year</th>\n",
       "      <th>03_year</th>\n",
       "      <th>04_year</th>\n",
       "      <th>05_year</th>\n",
       "      <th>06_year</th>\n",
       "      <th>07_year</th>\n",
       "      <th>08_year</th>\n",
       "      <th>09_year</th>\n",
       "      <th>10_year</th>\n",
       "      <th>...</th>\n",
       "      <th>02_year_%</th>\n",
       "      <th>03_year_%</th>\n",
       "      <th>04_year_%</th>\n",
       "      <th>05_year_%</th>\n",
       "      <th>06_year_%</th>\n",
       "      <th>07_year_%</th>\n",
       "      <th>08_year_%</th>\n",
       "      <th>09_year_%</th>\n",
       "      <th>10_year_%</th>\n",
       "      <th>11_year_%</th>\n",
       "    </tr>\n",
       "  </thead>\n",
       "  <tbody>\n",
       "    <tr>\n",
       "      <th>std_up</th>\n",
       "      <td>2239.071587</td>\n",
       "      <td>2506.570761</td>\n",
       "      <td>2805.862370</td>\n",
       "      <td>3140.707947</td>\n",
       "      <td>3515.312312</td>\n",
       "      <td>3934.375630</td>\n",
       "      <td>4403.151563</td>\n",
       "      <td>4927.512223</td>\n",
       "      <td>5514.020738</td>\n",
       "      <td>6170.012288</td>\n",
       "      <td>...</td>\n",
       "      <td>25.328538</td>\n",
       "      <td>40.293119</td>\n",
       "      <td>57.035397</td>\n",
       "      <td>75.765616</td>\n",
       "      <td>96.718782</td>\n",
       "      <td>120.157578</td>\n",
       "      <td>146.375611</td>\n",
       "      <td>175.701037</td>\n",
       "      <td>208.500614</td>\n",
       "      <td>245.184231</td>\n",
       "    </tr>\n",
       "    <tr>\n",
       "      <th>normal</th>\n",
       "      <td>2221.749704</td>\n",
       "      <td>2468.085873</td>\n",
       "      <td>2741.734528</td>\n",
       "      <td>3045.723938</td>\n",
       "      <td>3383.418128</td>\n",
       "      <td>3758.554111</td>\n",
       "      <td>4175.283241</td>\n",
       "      <td>4638.217152</td>\n",
       "      <td>5152.478791</td>\n",
       "      <td>5723.759114</td>\n",
       "      <td>...</td>\n",
       "      <td>23.404294</td>\n",
       "      <td>37.086726</td>\n",
       "      <td>52.286197</td>\n",
       "      <td>69.170906</td>\n",
       "      <td>87.927706</td>\n",
       "      <td>108.764162</td>\n",
       "      <td>131.910858</td>\n",
       "      <td>157.623940</td>\n",
       "      <td>186.187956</td>\n",
       "      <td>217.919003</td>\n",
       "    </tr>\n",
       "    <tr>\n",
       "      <th>std_down</th>\n",
       "      <td>2204.427821</td>\n",
       "      <td>2429.600984</td>\n",
       "      <td>2677.606686</td>\n",
       "      <td>2950.739928</td>\n",
       "      <td>3251.523944</td>\n",
       "      <td>3582.732592</td>\n",
       "      <td>3947.414920</td>\n",
       "      <td>4348.922081</td>\n",
       "      <td>4790.936844</td>\n",
       "      <td>5277.505940</td>\n",
       "      <td>...</td>\n",
       "      <td>21.480049</td>\n",
       "      <td>33.880334</td>\n",
       "      <td>47.536996</td>\n",
       "      <td>62.576197</td>\n",
       "      <td>79.136630</td>\n",
       "      <td>97.370746</td>\n",
       "      <td>117.446104</td>\n",
       "      <td>139.546842</td>\n",
       "      <td>163.875297</td>\n",
       "      <td>190.653774</td>\n",
       "    </tr>\n",
       "  </tbody>\n",
       "</table>\n",
       "<p>3 rows × 22 columns</p>\n",
       "</div>"
      ],
      "text/plain": [
       "              01_year      02_year      03_year      04_year      05_year  \\\n",
       "std_up    2239.071587  2506.570761  2805.862370  3140.707947  3515.312312   \n",
       "normal    2221.749704  2468.085873  2741.734528  3045.723938  3383.418128   \n",
       "std_down  2204.427821  2429.600984  2677.606686  2950.739928  3251.523944   \n",
       "\n",
       "              06_year      07_year      08_year      09_year      10_year  \\\n",
       "std_up    3934.375630  4403.151563  4927.512223  5514.020738  6170.012288   \n",
       "normal    3758.554111  4175.283241  4638.217152  5152.478791  5723.759114   \n",
       "std_down  3582.732592  3947.414920  4348.922081  4790.936844  5277.505940   \n",
       "\n",
       "          ...  02_year_%  03_year_%  04_year_%  05_year_%  06_year_%  \\\n",
       "std_up    ...  25.328538  40.293119  57.035397  75.765616  96.718782   \n",
       "normal    ...  23.404294  37.086726  52.286197  69.170906  87.927706   \n",
       "std_down  ...  21.480049  33.880334  47.536996  62.576197  79.136630   \n",
       "\n",
       "           07_year_%   08_year_%   09_year_%   10_year_%   11_year_%  \n",
       "std_up    120.157578  146.375611  175.701037  208.500614  245.184231  \n",
       "normal    108.764162  131.910858  157.623940  186.187956  217.919003  \n",
       "std_down   97.370746  117.446104  139.546842  163.875297  190.653774  \n",
       "\n",
       "[3 rows x 22 columns]"
      ]
     },
     "execution_count": 72,
     "metadata": {},
     "output_type": "execute_result"
    }
   ],
   "source": [
    "df_final_full_std_by_year"
   ]
  },
  {
   "cell_type": "code",
   "execution_count": 73,
   "id": "a4508fb7",
   "metadata": {},
   "outputs": [
    {
     "data": {
      "text/plain": [
       "'01_year_%'"
      ]
     },
     "execution_count": 73,
     "metadata": {},
     "output_type": "execute_result"
    }
   ],
   "source": [
    "df_final_full_std_by_year.columns[0+years_maintained]"
   ]
  },
  {
   "cell_type": "code",
   "execution_count": 74,
   "id": "67c265af",
   "metadata": {},
   "outputs": [],
   "source": [
    "df_final_full_std_by_year.columns\n",
    "list_cols = []\n",
    "for i in range(years_maintained):\n",
    "    list_cols.append(df_final_full_std_by_year.columns[i])\n",
    "    list_cols.append(df_final_full_std_by_year.columns[i+years_maintained])"
   ]
  },
  {
   "cell_type": "code",
   "execution_count": 75,
   "id": "3cf0d61d",
   "metadata": {},
   "outputs": [],
   "source": [
    "df_final_full_std_by_year = df_final_full_std_by_year[list_cols]"
   ]
  },
  {
   "cell_type": "code",
   "execution_count": 76,
   "id": "2292b445",
   "metadata": {},
   "outputs": [
    {
     "data": {
      "text/html": [
       "<div>\n",
       "<style scoped>\n",
       "    .dataframe tbody tr th:only-of-type {\n",
       "        vertical-align: middle;\n",
       "    }\n",
       "\n",
       "    .dataframe tbody tr th {\n",
       "        vertical-align: top;\n",
       "    }\n",
       "\n",
       "    .dataframe thead th {\n",
       "        text-align: right;\n",
       "    }\n",
       "</style>\n",
       "<table border=\"1\" class=\"dataframe\">\n",
       "  <thead>\n",
       "    <tr style=\"text-align: right;\">\n",
       "      <th></th>\n",
       "      <th>01_year</th>\n",
       "      <th>01_year_%</th>\n",
       "      <th>02_year</th>\n",
       "      <th>02_year_%</th>\n",
       "      <th>03_year</th>\n",
       "      <th>03_year_%</th>\n",
       "      <th>04_year</th>\n",
       "      <th>04_year_%</th>\n",
       "      <th>05_year</th>\n",
       "      <th>05_year_%</th>\n",
       "      <th>...</th>\n",
       "      <th>07_year</th>\n",
       "      <th>07_year_%</th>\n",
       "      <th>08_year</th>\n",
       "      <th>08_year_%</th>\n",
       "      <th>09_year</th>\n",
       "      <th>09_year_%</th>\n",
       "      <th>10_year</th>\n",
       "      <th>10_year_%</th>\n",
       "      <th>11_year</th>\n",
       "      <th>11_year_%</th>\n",
       "    </tr>\n",
       "  </thead>\n",
       "  <tbody>\n",
       "    <tr>\n",
       "      <th>std_up</th>\n",
       "      <td>2239.071587</td>\n",
       "      <td>11.953579</td>\n",
       "      <td>2506.570761</td>\n",
       "      <td>25.328538</td>\n",
       "      <td>2805.862370</td>\n",
       "      <td>40.293119</td>\n",
       "      <td>3140.707947</td>\n",
       "      <td>57.035397</td>\n",
       "      <td>3515.312312</td>\n",
       "      <td>75.765616</td>\n",
       "      <td>...</td>\n",
       "      <td>4403.151563</td>\n",
       "      <td>120.157578</td>\n",
       "      <td>4927.512223</td>\n",
       "      <td>146.375611</td>\n",
       "      <td>5514.020738</td>\n",
       "      <td>175.701037</td>\n",
       "      <td>6170.012288</td>\n",
       "      <td>208.500614</td>\n",
       "      <td>6903.684629</td>\n",
       "      <td>245.184231</td>\n",
       "    </tr>\n",
       "    <tr>\n",
       "      <th>normal</th>\n",
       "      <td>2221.749704</td>\n",
       "      <td>11.087485</td>\n",
       "      <td>2468.085873</td>\n",
       "      <td>23.404294</td>\n",
       "      <td>2741.734528</td>\n",
       "      <td>37.086726</td>\n",
       "      <td>3045.723938</td>\n",
       "      <td>52.286197</td>\n",
       "      <td>3383.418128</td>\n",
       "      <td>69.170906</td>\n",
       "      <td>...</td>\n",
       "      <td>4175.283241</td>\n",
       "      <td>108.764162</td>\n",
       "      <td>4638.217152</td>\n",
       "      <td>131.910858</td>\n",
       "      <td>5152.478791</td>\n",
       "      <td>157.623940</td>\n",
       "      <td>5723.759114</td>\n",
       "      <td>186.187956</td>\n",
       "      <td>6358.380057</td>\n",
       "      <td>217.919003</td>\n",
       "    </tr>\n",
       "    <tr>\n",
       "      <th>std_down</th>\n",
       "      <td>2204.427821</td>\n",
       "      <td>10.221391</td>\n",
       "      <td>2429.600984</td>\n",
       "      <td>21.480049</td>\n",
       "      <td>2677.606686</td>\n",
       "      <td>33.880334</td>\n",
       "      <td>2950.739928</td>\n",
       "      <td>47.536996</td>\n",
       "      <td>3251.523944</td>\n",
       "      <td>62.576197</td>\n",
       "      <td>...</td>\n",
       "      <td>3947.414920</td>\n",
       "      <td>97.370746</td>\n",
       "      <td>4348.922081</td>\n",
       "      <td>117.446104</td>\n",
       "      <td>4790.936844</td>\n",
       "      <td>139.546842</td>\n",
       "      <td>5277.505940</td>\n",
       "      <td>163.875297</td>\n",
       "      <td>5813.075486</td>\n",
       "      <td>190.653774</td>\n",
       "    </tr>\n",
       "  </tbody>\n",
       "</table>\n",
       "<p>3 rows × 22 columns</p>\n",
       "</div>"
      ],
      "text/plain": [
       "              01_year  01_year_%      02_year  02_year_%      03_year  \\\n",
       "std_up    2239.071587  11.953579  2506.570761  25.328538  2805.862370   \n",
       "normal    2221.749704  11.087485  2468.085873  23.404294  2741.734528   \n",
       "std_down  2204.427821  10.221391  2429.600984  21.480049  2677.606686   \n",
       "\n",
       "          03_year_%      04_year  04_year_%      05_year  05_year_%  ...  \\\n",
       "std_up    40.293119  3140.707947  57.035397  3515.312312  75.765616  ...   \n",
       "normal    37.086726  3045.723938  52.286197  3383.418128  69.170906  ...   \n",
       "std_down  33.880334  2950.739928  47.536996  3251.523944  62.576197  ...   \n",
       "\n",
       "              07_year   07_year_%      08_year   08_year_%      09_year  \\\n",
       "std_up    4403.151563  120.157578  4927.512223  146.375611  5514.020738   \n",
       "normal    4175.283241  108.764162  4638.217152  131.910858  5152.478791   \n",
       "std_down  3947.414920   97.370746  4348.922081  117.446104  4790.936844   \n",
       "\n",
       "           09_year_%      10_year   10_year_%      11_year   11_year_%  \n",
       "std_up    175.701037  6170.012288  208.500614  6903.684629  245.184231  \n",
       "normal    157.623940  5723.759114  186.187956  6358.380057  217.919003  \n",
       "std_down  139.546842  5277.505940  163.875297  5813.075486  190.653774  \n",
       "\n",
       "[3 rows x 22 columns]"
      ]
     },
     "execution_count": 76,
     "metadata": {},
     "output_type": "execute_result"
    }
   ],
   "source": [
    "df_final_full_std_by_year"
   ]
  },
  {
   "cell_type": "code",
   "execution_count": null,
   "id": "d815c157",
   "metadata": {},
   "outputs": [],
   "source": []
  }
 ],
 "metadata": {
  "kernelspec": {
   "display_name": "Python [conda env:tf]",
   "language": "python",
   "name": "conda-env-tf-py"
  },
  "language_info": {
   "codemirror_mode": {
    "name": "ipython",
    "version": 3
   },
   "file_extension": ".py",
   "mimetype": "text/x-python",
   "name": "python",
   "nbconvert_exporter": "python",
   "pygments_lexer": "ipython3",
   "version": "3.9.16"
  }
 },
 "nbformat": 4,
 "nbformat_minor": 5
}
