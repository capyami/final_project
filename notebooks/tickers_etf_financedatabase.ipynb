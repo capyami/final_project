{
 "cells": [
  {
   "cell_type": "markdown",
   "id": "e4b61b4c",
   "metadata": {},
   "source": [
    "### inputs:\n",
    "\n",
    "currency (list)\n",
    "\n",
    "country (list)\n",
    "\n",
    "category (list)\n",
    "\n",
    "category_group (list)\n",
    "\n",
    "market (list)\n",
    "\n",
    "summary (example: biotech)\n",
    "\n",
    "name (example:ucits, if ucits, no category, category_group, but yes currecency and market)\n",
    "\n",
    "summary as info of ETF in final data frame"
   ]
  },
  {
   "cell_type": "code",
   "execution_count": 1,
   "id": "3629b779",
   "metadata": {},
   "outputs": [],
   "source": [
    "import financedatabase as fd\n",
    "import pandas as pd\n",
    "import numpy as np"
   ]
  },
  {
   "cell_type": "code",
   "execution_count": 2,
   "id": "383e4ad4",
   "metadata": {},
   "outputs": [],
   "source": [
    "etfs = fd.ETFs()"
   ]
  },
  {
   "cell_type": "code",
   "execution_count": null,
   "id": "f65ea67e",
   "metadata": {},
   "outputs": [],
   "source": []
  },
  {
   "cell_type": "code",
   "execution_count": 3,
   "id": "b8349fa5",
   "metadata": {},
   "outputs": [],
   "source": [
    "etfs = etfs.search()"
   ]
  },
  {
   "cell_type": "code",
   "execution_count": 4,
   "id": "8374a7eb",
   "metadata": {},
   "outputs": [
    {
     "data": {
      "text/html": [
       "<div>\n",
       "<style scoped>\n",
       "    .dataframe tbody tr th:only-of-type {\n",
       "        vertical-align: middle;\n",
       "    }\n",
       "\n",
       "    .dataframe tbody tr th {\n",
       "        vertical-align: top;\n",
       "    }\n",
       "\n",
       "    .dataframe thead th {\n",
       "        text-align: right;\n",
       "    }\n",
       "</style>\n",
       "<table border=\"1\" class=\"dataframe\">\n",
       "  <thead>\n",
       "    <tr style=\"text-align: right;\">\n",
       "      <th></th>\n",
       "      <th>symbol</th>\n",
       "      <th>currency</th>\n",
       "      <th>summary</th>\n",
       "      <th>category_group</th>\n",
       "      <th>category</th>\n",
       "      <th>family</th>\n",
       "      <th>exchange</th>\n",
       "      <th>market</th>\n",
       "    </tr>\n",
       "    <tr>\n",
       "      <th>name</th>\n",
       "      <th></th>\n",
       "      <th></th>\n",
       "      <th></th>\n",
       "      <th></th>\n",
       "      <th></th>\n",
       "      <th></th>\n",
       "      <th></th>\n",
       "      <th></th>\n",
       "    </tr>\n",
       "  </thead>\n",
       "  <tbody>\n",
       "    <tr>\n",
       "      <th>ISHARES TRUST</th>\n",
       "      <td>^ACWI</td>\n",
       "      <td>USD</td>\n",
       "      <td>NaN</td>\n",
       "      <td>NaN</td>\n",
       "      <td>NaN</td>\n",
       "      <td>NaN</td>\n",
       "      <td>NIM</td>\n",
       "      <td>us_market</td>\n",
       "    </tr>\n",
       "    <tr>\n",
       "      <th>NFIELD DYNAMIC FIXED INCOME ETF</th>\n",
       "      <td>^ADFI-IV</td>\n",
       "      <td>USD</td>\n",
       "      <td>NaN</td>\n",
       "      <td>NaN</td>\n",
       "      <td>NaN</td>\n",
       "      <td>NaN</td>\n",
       "      <td>ASE</td>\n",
       "      <td>us_market</td>\n",
       "    </tr>\n",
       "    <tr>\n",
       "      <th>INVESCO ACTIVELY M</th>\n",
       "      <td>^ADRE</td>\n",
       "      <td>USD</td>\n",
       "      <td>NaN</td>\n",
       "      <td>NaN</td>\n",
       "      <td>NaN</td>\n",
       "      <td>NaN</td>\n",
       "      <td>NIM</td>\n",
       "      <td>us_market</td>\n",
       "    </tr>\n",
       "    <tr>\n",
       "      <th>ALTSHARES MERGER ARBITRAGE ETF</th>\n",
       "      <td>^ARB-EU</td>\n",
       "      <td>USD</td>\n",
       "      <td>NaN</td>\n",
       "      <td>NaN</td>\n",
       "      <td>NaN</td>\n",
       "      <td>NaN</td>\n",
       "      <td>ASE</td>\n",
       "      <td>us_market</td>\n",
       "    </tr>\n",
       "    <tr>\n",
       "      <th>ALTSHARES MERGER ARBITRAGE ETF</th>\n",
       "      <td>^ARB-IV</td>\n",
       "      <td>USD</td>\n",
       "      <td>NaN</td>\n",
       "      <td>NaN</td>\n",
       "      <td>NaN</td>\n",
       "      <td>NaN</td>\n",
       "      <td>ASE</td>\n",
       "      <td>us_market</td>\n",
       "    </tr>\n",
       "    <tr>\n",
       "      <th>...</th>\n",
       "      <td>...</td>\n",
       "      <td>...</td>\n",
       "      <td>...</td>\n",
       "      <td>...</td>\n",
       "      <td>...</td>\n",
       "      <td>...</td>\n",
       "      <td>...</td>\n",
       "      <td>...</td>\n",
       "    </tr>\n",
       "    <tr>\n",
       "      <th>Vanguard Funds Public Limited Company - Vanguard S&amp;P 500 UCITS ETF</th>\n",
       "      <td>VGFPF</td>\n",
       "      <td>NaN</td>\n",
       "      <td>NaN</td>\n",
       "      <td>NaN</td>\n",
       "      <td>NaN</td>\n",
       "      <td>NaN</td>\n",
       "      <td>NaN</td>\n",
       "      <td>NaN</td>\n",
       "    </tr>\n",
       "    <tr>\n",
       "      <th>Vanguard Funds Public Limited Company - Vanguard FTSE Developed Europe UCITS ETF</th>\n",
       "      <td>VFDEF</td>\n",
       "      <td>NaN</td>\n",
       "      <td>NaN</td>\n",
       "      <td>NaN</td>\n",
       "      <td>NaN</td>\n",
       "      <td>NaN</td>\n",
       "      <td>NaN</td>\n",
       "      <td>NaN</td>\n",
       "    </tr>\n",
       "    <tr>\n",
       "      <th>WisdomTree Issuer ICAV - WisdomTree Europe Equity UCITS ETF</th>\n",
       "      <td>WSDMF</td>\n",
       "      <td>NaN</td>\n",
       "      <td>NaN</td>\n",
       "      <td>NaN</td>\n",
       "      <td>NaN</td>\n",
       "      <td>NaN</td>\n",
       "      <td>NaN</td>\n",
       "      <td>NaN</td>\n",
       "    </tr>\n",
       "    <tr>\n",
       "      <th>WisdomTree Issuer ICAV - WisdomTree US Quality Dividend Growth UCITS ETF</th>\n",
       "      <td>WDSSF</td>\n",
       "      <td>NaN</td>\n",
       "      <td>NaN</td>\n",
       "      <td>NaN</td>\n",
       "      <td>NaN</td>\n",
       "      <td>NaN</td>\n",
       "      <td>NaN</td>\n",
       "      <td>NaN</td>\n",
       "    </tr>\n",
       "    <tr>\n",
       "      <th>ZKB Gold ETF</th>\n",
       "      <td>ZKBHF</td>\n",
       "      <td>NaN</td>\n",
       "      <td>NaN</td>\n",
       "      <td>NaN</td>\n",
       "      <td>NaN</td>\n",
       "      <td>NaN</td>\n",
       "      <td>NaN</td>\n",
       "      <td>NaN</td>\n",
       "    </tr>\n",
       "  </tbody>\n",
       "</table>\n",
       "<p>36786 rows × 8 columns</p>\n",
       "</div>"
      ],
      "text/plain": [
       "                                                      symbol currency summary  \\\n",
       "name                                                                            \n",
       "ISHARES TRUST                                          ^ACWI      USD     NaN   \n",
       "NFIELD DYNAMIC FIXED INCOME ETF                     ^ADFI-IV      USD     NaN   \n",
       "INVESCO ACTIVELY M                                     ^ADRE      USD     NaN   \n",
       "ALTSHARES MERGER ARBITRAGE ETF                       ^ARB-EU      USD     NaN   \n",
       "ALTSHARES MERGER ARBITRAGE ETF                       ^ARB-IV      USD     NaN   \n",
       "...                                                      ...      ...     ...   \n",
       "Vanguard Funds Public Limited Company - Vanguar...     VGFPF      NaN     NaN   \n",
       "Vanguard Funds Public Limited Company - Vanguar...     VFDEF      NaN     NaN   \n",
       "WisdomTree Issuer ICAV - WisdomTree Europe Equi...     WSDMF      NaN     NaN   \n",
       "WisdomTree Issuer ICAV - WisdomTree US Quality ...     WDSSF      NaN     NaN   \n",
       "ZKB Gold ETF                                           ZKBHF      NaN     NaN   \n",
       "\n",
       "                                                   category_group category  \\\n",
       "name                                                                         \n",
       "ISHARES TRUST                                                 NaN      NaN   \n",
       "NFIELD DYNAMIC FIXED INCOME ETF                               NaN      NaN   \n",
       "INVESCO ACTIVELY M                                            NaN      NaN   \n",
       "ALTSHARES MERGER ARBITRAGE ETF                                NaN      NaN   \n",
       "ALTSHARES MERGER ARBITRAGE ETF                                NaN      NaN   \n",
       "...                                                           ...      ...   \n",
       "Vanguard Funds Public Limited Company - Vanguar...            NaN      NaN   \n",
       "Vanguard Funds Public Limited Company - Vanguar...            NaN      NaN   \n",
       "WisdomTree Issuer ICAV - WisdomTree Europe Equi...            NaN      NaN   \n",
       "WisdomTree Issuer ICAV - WisdomTree US Quality ...            NaN      NaN   \n",
       "ZKB Gold ETF                                                  NaN      NaN   \n",
       "\n",
       "                                                   family exchange     market  \n",
       "name                                                                           \n",
       "ISHARES TRUST                                         NaN      NIM  us_market  \n",
       "NFIELD DYNAMIC FIXED INCOME ETF                       NaN      ASE  us_market  \n",
       "INVESCO ACTIVELY M                                    NaN      NIM  us_market  \n",
       "ALTSHARES MERGER ARBITRAGE ETF                        NaN      ASE  us_market  \n",
       "ALTSHARES MERGER ARBITRAGE ETF                        NaN      ASE  us_market  \n",
       "...                                                   ...      ...        ...  \n",
       "Vanguard Funds Public Limited Company - Vanguar...    NaN      NaN        NaN  \n",
       "Vanguard Funds Public Limited Company - Vanguar...    NaN      NaN        NaN  \n",
       "WisdomTree Issuer ICAV - WisdomTree Europe Equi...    NaN      NaN        NaN  \n",
       "WisdomTree Issuer ICAV - WisdomTree US Quality ...    NaN      NaN        NaN  \n",
       "ZKB Gold ETF                                          NaN      NaN        NaN  \n",
       "\n",
       "[36786 rows x 8 columns]"
      ]
     },
     "execution_count": 4,
     "metadata": {},
     "output_type": "execute_result"
    }
   ],
   "source": [
    "etfs_name = etfs.reset_index()\n",
    "\n",
    "etfs_name = etfs_name.set_index('name')\n",
    "etfs_name"
   ]
  },
  {
   "cell_type": "code",
   "execution_count": 5,
   "id": "440ea842",
   "metadata": {},
   "outputs": [
    {
     "data": {
      "text/html": [
       "<div>\n",
       "<style scoped>\n",
       "    .dataframe tbody tr th:only-of-type {\n",
       "        vertical-align: middle;\n",
       "    }\n",
       "\n",
       "    .dataframe tbody tr th {\n",
       "        vertical-align: top;\n",
       "    }\n",
       "\n",
       "    .dataframe thead th {\n",
       "        text-align: right;\n",
       "    }\n",
       "</style>\n",
       "<table border=\"1\" class=\"dataframe\">\n",
       "  <thead>\n",
       "    <tr style=\"text-align: right;\">\n",
       "      <th></th>\n",
       "      <th>name</th>\n",
       "      <th>currency</th>\n",
       "      <th>summary</th>\n",
       "      <th>category_group</th>\n",
       "      <th>category</th>\n",
       "      <th>family</th>\n",
       "      <th>exchange</th>\n",
       "      <th>market</th>\n",
       "    </tr>\n",
       "    <tr>\n",
       "      <th>symbol</th>\n",
       "      <th></th>\n",
       "      <th></th>\n",
       "      <th></th>\n",
       "      <th></th>\n",
       "      <th></th>\n",
       "      <th></th>\n",
       "      <th></th>\n",
       "      <th></th>\n",
       "    </tr>\n",
       "  </thead>\n",
       "  <tbody>\n",
       "    <tr>\n",
       "      <th>^ARB-EU</th>\n",
       "      <td>ALTSHARES MERGER ARBITRAGE ETF</td>\n",
       "      <td>USD</td>\n",
       "      <td>NaN</td>\n",
       "      <td>NaN</td>\n",
       "      <td>NaN</td>\n",
       "      <td>NaN</td>\n",
       "      <td>ASE</td>\n",
       "      <td>us_market</td>\n",
       "    </tr>\n",
       "    <tr>\n",
       "      <th>^ARB-IV</th>\n",
       "      <td>ALTSHARES MERGER ARBITRAGE ETF</td>\n",
       "      <td>USD</td>\n",
       "      <td>NaN</td>\n",
       "      <td>NaN</td>\n",
       "      <td>NaN</td>\n",
       "      <td>NaN</td>\n",
       "      <td>ASE</td>\n",
       "      <td>us_market</td>\n",
       "    </tr>\n",
       "    <tr>\n",
       "      <th>^ARB-NV</th>\n",
       "      <td>ALTSHARES MERGER ARBITRAGE ETF</td>\n",
       "      <td>USD</td>\n",
       "      <td>NaN</td>\n",
       "      <td>NaN</td>\n",
       "      <td>NaN</td>\n",
       "      <td>NaN</td>\n",
       "      <td>ASE</td>\n",
       "      <td>us_market</td>\n",
       "    </tr>\n",
       "    <tr>\n",
       "      <th>^ARB-TC</th>\n",
       "      <td>ALTSHARES MERGER ARBITRAGE ETF</td>\n",
       "      <td>USD</td>\n",
       "      <td>NaN</td>\n",
       "      <td>NaN</td>\n",
       "      <td>NaN</td>\n",
       "      <td>NaN</td>\n",
       "      <td>ASE</td>\n",
       "      <td>us_market</td>\n",
       "    </tr>\n",
       "  </tbody>\n",
       "</table>\n",
       "</div>"
      ],
      "text/plain": [
       "                                   name currency summary category_group  \\\n",
       "symbol                                                                    \n",
       "^ARB-EU  ALTSHARES MERGER ARBITRAGE ETF      USD     NaN            NaN   \n",
       "^ARB-IV  ALTSHARES MERGER ARBITRAGE ETF      USD     NaN            NaN   \n",
       "^ARB-NV  ALTSHARES MERGER ARBITRAGE ETF      USD     NaN            NaN   \n",
       "^ARB-TC  ALTSHARES MERGER ARBITRAGE ETF      USD     NaN            NaN   \n",
       "\n",
       "        category family exchange     market  \n",
       "symbol                                       \n",
       "^ARB-EU      NaN    NaN      ASE  us_market  \n",
       "^ARB-IV      NaN    NaN      ASE  us_market  \n",
       "^ARB-NV      NaN    NaN      ASE  us_market  \n",
       "^ARB-TC      NaN    NaN      ASE  us_market  "
      ]
     },
     "execution_count": 5,
     "metadata": {},
     "output_type": "execute_result"
    }
   ],
   "source": [
    "etfs[etfs['name']=='ALTSHARES MERGER ARBITRAGE ETF']"
   ]
  },
  {
   "cell_type": "code",
   "execution_count": 8,
   "id": "e830ce5c",
   "metadata": {},
   "outputs": [
    {
     "name": "stdout",
     "output_type": "stream",
     "text": [
      "Introduce una compañía: CALF\n"
     ]
    }
   ],
   "source": [
    "name_input = str(input(\"Introduce una compañía: \"))"
   ]
  },
  {
   "cell_type": "code",
   "execution_count": null,
   "id": "d17e2aee",
   "metadata": {},
   "outputs": [],
   "source": [
    "etfs_name.filter(like=name_input, axis=0)"
   ]
  },
  {
   "cell_type": "code",
   "execution_count": 11,
   "id": "a6fa43fd",
   "metadata": {},
   "outputs": [
    {
     "data": {
      "text/plain": [
       "'Pacer US Small Cap Cash Cows 100 ETF'"
      ]
     },
     "execution_count": 11,
     "metadata": {},
     "output_type": "execute_result"
    }
   ],
   "source": [
    "etfs.filter(like=name_input, axis=0)['name'][0]"
   ]
  },
  {
   "cell_type": "code",
   "execution_count": null,
   "id": "d2008be3",
   "metadata": {},
   "outputs": [],
   "source": []
  },
  {
   "cell_type": "code",
   "execution_count": null,
   "id": "9348def6",
   "metadata": {},
   "outputs": [],
   "source": []
  },
  {
   "cell_type": "code",
   "execution_count": null,
   "id": "114954a2",
   "metadata": {},
   "outputs": [],
   "source": [
    "ucits['market'].unique()"
   ]
  },
  {
   "cell_type": "code",
   "execution_count": null,
   "id": "85951ab4",
   "metadata": {},
   "outputs": [],
   "source": [
    "ucits['category'].unique()"
   ]
  },
  {
   "cell_type": "code",
   "execution_count": null,
   "id": "3a6fe7b1",
   "metadata": {},
   "outputs": [],
   "source": [
    "etfs.select()['category'].unique()"
   ]
  },
  {
   "cell_type": "code",
   "execution_count": null,
   "id": "45c0d79a",
   "metadata": {},
   "outputs": [],
   "source": [
    "etfs.select()['summary'].unique()[1]"
   ]
  },
  {
   "cell_type": "code",
   "execution_count": null,
   "id": "db3a4924",
   "metadata": {},
   "outputs": [],
   "source": [
    "len(etfs.options('category'))"
   ]
  },
  {
   "cell_type": "code",
   "execution_count": null,
   "id": "b30d2131",
   "metadata": {},
   "outputs": [],
   "source": [
    "etfs.options('summary')"
   ]
  },
  {
   "cell_type": "code",
   "execution_count": null,
   "id": "d808e45a",
   "metadata": {},
   "outputs": [],
   "source": [
    "etfs.options('category_group')"
   ]
  },
  {
   "cell_type": "code",
   "execution_count": null,
   "id": "0d2c97f4",
   "metadata": {},
   "outputs": [],
   "source": [
    "etfs.options('exchange')"
   ]
  },
  {
   "cell_type": "code",
   "execution_count": null,
   "id": "d3ebec46",
   "metadata": {},
   "outputs": [],
   "source": [
    "etfs.options('market')"
   ]
  },
  {
   "cell_type": "code",
   "execution_count": null,
   "id": "9f4d4d17",
   "metadata": {},
   "outputs": [],
   "source": [
    "etfs.options('currency')"
   ]
  },
  {
   "cell_type": "code",
   "execution_count": null,
   "id": "8a9aca5c",
   "metadata": {},
   "outputs": [],
   "source": [
    "etfs.options('category')"
   ]
  },
  {
   "cell_type": "code",
   "execution_count": null,
   "id": "fa619f21",
   "metadata": {},
   "outputs": [],
   "source": [
    "tickers = list(etfs.index)"
   ]
  },
  {
   "cell_type": "code",
   "execution_count": null,
   "id": "83f7aa4b",
   "metadata": {},
   "outputs": [],
   "source": [
    "list_etf = yf.download(tickers, start=\"2020-01-01\", end=\"2020-06-01\")['Adj Close']\n",
    "list_etf = stock_data_biotech.dropna(axis='columns')"
   ]
  },
  {
   "cell_type": "code",
   "execution_count": null,
   "id": "346ee6ca",
   "metadata": {},
   "outputs": [],
   "source": [
    "prueba_ucits = ucits.reset_index()"
   ]
  },
  {
   "cell_type": "code",
   "execution_count": null,
   "id": "b6d3737c",
   "metadata": {},
   "outputs": [],
   "source": [
    "prueba_ucits.search(name='Metals')"
   ]
  },
  {
   "cell_type": "code",
   "execution_count": null,
   "id": "916216c2",
   "metadata": {},
   "outputs": [],
   "source": [
    "prueba_etfs = etfs.select().reset_index()"
   ]
  },
  {
   "cell_type": "code",
   "execution_count": null,
   "id": "55410276",
   "metadata": {},
   "outputs": [],
   "source": [
    "prueba_etfs"
   ]
  },
  {
   "cell_type": "code",
   "execution_count": null,
   "id": "681d62b3",
   "metadata": {},
   "outputs": [],
   "source": []
  }
 ],
 "metadata": {
  "kernelspec": {
   "display_name": "Python [conda env:tf]",
   "language": "python",
   "name": "conda-env-tf-py"
  },
  "language_info": {
   "codemirror_mode": {
    "name": "ipython",
    "version": 3
   },
   "file_extension": ".py",
   "mimetype": "text/x-python",
   "name": "python",
   "nbconvert_exporter": "python",
   "pygments_lexer": "ipython3",
   "version": "3.9.16"
  }
 },
 "nbformat": 4,
 "nbformat_minor": 5
}
