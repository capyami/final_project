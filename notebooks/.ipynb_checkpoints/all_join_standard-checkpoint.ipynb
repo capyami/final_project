{
 "cells": [
  {
   "cell_type": "markdown",
   "id": "b86e0e19",
   "metadata": {},
   "source": [
    "# Percentage and standard"
   ]
  },
  {
   "cell_type": "code",
   "execution_count": 1,
   "id": "40367876",
   "metadata": {},
   "outputs": [],
   "source": [
    "import yfinance as yf\n",
    "import pandas as pd\n",
    "import datetime\n",
    "from datetime import date\n",
    "import financedatabase as fd\n",
    "import streamlit as st\n",
    "import numpy as np\n",
    "import seaborn as sns\n",
    "from pylab import rcParams\n",
    "import matplotlib.pyplot as plt\n",
    "from matplotlib import rc\n",
    "%matplotlib inline\n",
    "import statistics"
   ]
  },
  {
   "cell_type": "code",
   "execution_count": 23,
   "id": "97279365",
   "metadata": {},
   "outputs": [],
   "source": [
    "initial_amount = 5000"
   ]
  },
  {
   "cell_type": "markdown",
   "id": "8a436d07",
   "metadata": {},
   "source": [
    "Select list "
   ]
  },
  {
   "cell_type": "code",
   "execution_count": 24,
   "id": "52e01530",
   "metadata": {},
   "outputs": [],
   "source": [
    "# select a list of investments\n",
    "if initial_amount < 5000:\n",
    "    list_etf = ['^GSPC']\n",
    "elif initial_amount < 10000:\n",
    "    list_etf = ['^GSPC', 'GC=F']\n",
    "elif initial_amount < 25000:\n",
    "    list_etf = ['^GSPC', 'GC=F', '^IXIC', '^TNX']\n",
    "elif initial_amount < 50000:\n",
    "    list_etf = ['^GSPC', 'GC=F', '^IXIC', '^TNX', '^FTSE', '^N225', '^GDAXI', '^FCHI','^STOXX50E'] # global indexes\n",
    "else:\n",
    "    list_etf = ['^GSPC', 'GC=F', '^IXIC', '^TNX', '^FTSE', '^N225', '^GDAXI', '^FCHI','^STOXX50E', 'EMQQ', 'FEM'] # emergents\n",
    "    "
   ]
  },
  {
   "cell_type": "code",
   "execution_count": 25,
   "id": "8c0c56c3",
   "metadata": {},
   "outputs": [],
   "source": [
    "# dates of data of actives\n",
    "start = \"2012-06-30\"\n",
    "today = date.today().strftime(\"%Y-%m-%d\")"
   ]
  },
  {
   "cell_type": "code",
   "execution_count": 26,
   "id": "119ddf20",
   "metadata": {},
   "outputs": [
    {
     "name": "stdout",
     "output_type": "stream",
     "text": [
      "0\n",
      "[*********************100%***********************]  1 of 1 completed\n",
      "1\n",
      "[*********************100%***********************]  1 of 1 completed\n"
     ]
    }
   ],
   "source": [
    "# download the data\n",
    "list_etf_data = []\n",
    "for i in range(len(list_etf)):\n",
    "    print(i)\n",
    "    etf = yf.download(list_etf[i], start, today)\n",
    "    list_etf_data.append(etf)"
   ]
  },
  {
   "cell_type": "code",
   "execution_count": 27,
   "id": "4d6e55ef",
   "metadata": {},
   "outputs": [
    {
     "data": {
      "text/plain": [
       "1.1366348283115313"
      ]
     },
     "execution_count": 27,
     "metadata": {},
     "output_type": "execute_result"
    }
   ],
   "source": [
    "initial_amount/list_etf_data[count]['Adj Close'][-1]"
   ]
  },
  {
   "cell_type": "code",
   "execution_count": 28,
   "id": "6f5d7e70",
   "metadata": {},
   "outputs": [],
   "source": [
    "# percentage of each investment\n",
    "\n",
    "dict_initial_amount = {}\n",
    "count = 0\n",
    "\n",
    "if initial_amount < 5000: # only sp500\n",
    "    investment1 = initial_amount/list_etf_data[count]['Adj Close'][-1]\n",
    "    dict_initial_amount[list_etf[0]] = investment1\n",
    "\n",
    "elif initial_amount < 10000: # Gold and sp\n",
    "    investment1 = 0.8*initial_amount/list_etf_data[count]['Adj Close'][-1]\n",
    "    count = count +1\n",
    "    dict_initial_amount[list_etf[0]] = investment1\n",
    "    investment2 = 0.2*initial_amount/list_etf_data[count]['Adj Close'][-1]\n",
    "    dict_initial_amount[list_etf[1]] = investment2\n",
    "    \n",
    "elif initial_amount < 25000: # Gold, nq and sp\n",
    "    investment1 = 0.4*initial_amount/list_etf_data[count]['Adj Close'][-1]\n",
    "    dict_initial_amount[list_etf[0]] = investment1\n",
    "    count = count +1\n",
    "    \n",
    "    investment2 = 0.2*initial_amount/list_etf_data[count]['Adj Close'].iloc[-1]\n",
    "    dict_initial_amount[list_etf[1]] = investment2\n",
    "    count = count +1\n",
    "    \n",
    "    investment3 = 0.2*initial_amount/list_etf_data[count]['Adj Close'].iloc[-1]\n",
    "    dict_initial_amount[list_etf[2]] = investment3\n",
    "    count = count +1\n",
    "    \n",
    "    investment4 = 0.2*initial_amount/list_etf_data[count]['Adj Close'].iloc[-1]\n",
    "    dict_initial_amount[list_etf[3]] = investment4\n",
    "    \n",
    "elif initial_amount < 50000: # Gold, nq and sp\n",
    "    investment1 = 0.2*initial_amount/list_etf_data[count]['Adj Close'].iloc[-1]\n",
    "    dict_initial_amount[list_etf[0]] = investment1\n",
    "    count = count +1\n",
    "    \n",
    "    investment2 = 0.1*initial_amount/list_etf_data[count]['Adj Close'].iloc[-1]\n",
    "    dict_initial_amount[list_etf[1]] = investment2\n",
    "    count = count +1\n",
    "    \n",
    "    investment3 = 0.1*initial_amount/list_etf_data[count]['Adj Close'].iloc[-1]\n",
    "    dict_initial_amount[list_etf[2]] = investment3\n",
    "    count = count +1\n",
    "    \n",
    "    investment4 = 0.1*initial_amount/list_etf_data[count]['Adj Close'].iloc[-1]\n",
    "    dict_initial_amount[list_etf[3]] = investment4\n",
    "    count = count +1\n",
    "    \n",
    "    investment5 = 0.1*initial_amount/list_etf_data[count]['Adj Close'].iloc[-1]\n",
    "    dict_initial_amount[list_etf[4]] = investment5\n",
    "    count = count +1\n",
    "    \n",
    "    investment6 = 0.1*initial_amount/list_etf_data[count]['Adj Close'].iloc[-1]\n",
    "    dict_initial_amount[list_etf[5]] = investment6\n",
    "    count = count +1\n",
    "    \n",
    "    investment7 = 0.1*initial_amount/list_etf_data[count]['Adj Close'].iloc[-1]\n",
    "    dict_initial_amount[list_etf[6]] = investment7\n",
    "    count = count +1\n",
    "    \n",
    "    investment8 = 0.1*initial_amount/list_etf_data[count]['Adj Close'].iloc[-1]\n",
    "    dict_initial_amount[list_etf[7]] = investment8\n",
    "    count = count +1\n",
    "    \n",
    "    investment9 = 0.1*initial_amount/list_etf_data[count]['Adj Close'].iloc[-1]\n",
    "    dict_initial_amount[list_etf[8]] = investment9\n",
    "    \n",
    "else: # Gold, nq and sp\n",
    "    investment1 = 0.2*initial_amount/list_etf_data[count]['Adj Close'].iloc[-1]\n",
    "    dict_initial_amount[list_etf[0]] = investment1\n",
    "    count = count +1\n",
    "    \n",
    "    investment2 = 0.1*initial_amount/list_etf_data[count]['Adj Close'].iloc[-1]\n",
    "    dict_initial_amount[list_etf[1]] = investment2\n",
    "    count = count +1\n",
    "    \n",
    "    investment3 = 0.1*initial_amount/list_etf_data[count]['Adj Close'].iloc[-1]\n",
    "    dict_initial_amount[list_etf[2]] = investment3\n",
    "    count = count +1\n",
    "    \n",
    "    investment4 = 0.08*initial_amount/list_etf_data[count]['Adj Close'].iloc[-1]\n",
    "    dict_initial_amount[list_etf[3]] = investment4\n",
    "    count = count +1\n",
    "    \n",
    "    investment5 = 0.08*initial_amount/list_etf_data[count]['Adj Close'].iloc[-1]\n",
    "    dict_initial_amount[list_etf[4]] = investment5\n",
    "    count = count +1\n",
    "    \n",
    "    investment6 = 0.08*initial_amount/list_etf_data[count]['Adj Close'].iloc[-1]\n",
    "    dict_initial_amount[list_etf[5]] = investment6\n",
    "    count = count +1\n",
    "    \n",
    "    investment7 = 0.08*initial_amount/list_etf_data[count]['Adj Close'].iloc[-1]\n",
    "    dict_initial_amount[list_etf[6]] = investment7\n",
    "    count = count +1\n",
    "    \n",
    "    investment8 = 0.08*initial_amount/list_etf_data[count]['Adj Close'].iloc[-1]\n",
    "    dict_initial_amount[list_etf[7]] = investment8\n",
    "    count = count +1\n",
    "    \n",
    "    investment9 = 0.08*initial_amount/list_etf_data[count]['Adj Close'].iloc[-1]\n",
    "    dict_initial_amount[list_etf[8]] = investment9\n",
    "    count = count +1\n",
    "    \n",
    "    investment10 = 0.06*initial_amount/list_etf_data[count]['Adj Close'].iloc[-1]\n",
    "    dict_initial_amount[list_etf[9]] = investment10\n",
    "    count = count +1\n",
    "    \n",
    "    investment11 = 0.06*initial_amount/list_etf_data[count]['Adj Close'].iloc[-1]\n",
    "    dict_initial_amount[list_etf[10]] = investment11"
   ]
  },
  {
   "cell_type": "code",
   "execution_count": 29,
   "id": "fdd50516",
   "metadata": {},
   "outputs": [
    {
     "data": {
      "text/plain": [
       "{'^GSPC': 0.9093078626492249, 'GC=F': 0.5191569023722656}"
      ]
     },
     "execution_count": 29,
     "metadata": {},
     "output_type": "execute_result"
    }
   ],
   "source": [
    "dict_initial_amount"
   ]
  },
  {
   "cell_type": "code",
   "execution_count": 22,
   "id": "bc011f9d",
   "metadata": {},
   "outputs": [
    {
     "ename": "IndexError",
     "evalue": "invalid index to scalar variable.",
     "output_type": "error",
     "traceback": [
      "\u001b[1;31m---------------------------------------------------------------------------\u001b[0m",
      "\u001b[1;31mIndexError\u001b[0m                                Traceback (most recent call last)",
      "Cell \u001b[1;32mIn[22], line 1\u001b[0m\n\u001b[1;32m----> 1\u001b[0m \u001b[38;5;241m0.06\u001b[39m\u001b[38;5;241m*\u001b[39minitial_amount\u001b[38;5;241m/\u001b[39m\u001b[43mlist_etf_data\u001b[49m\u001b[43m[\u001b[49m\u001b[43mcount\u001b[49m\u001b[43m]\u001b[49m\u001b[43m[\u001b[49m\u001b[38;5;124;43m'\u001b[39;49m\u001b[38;5;124;43mAdj Close\u001b[39;49m\u001b[38;5;124;43m'\u001b[39;49m\u001b[43m]\u001b[49m\u001b[38;5;241;43m.\u001b[39;49m\u001b[43miloc\u001b[49m\u001b[43m[\u001b[49m\u001b[38;5;241;43m-\u001b[39;49m\u001b[38;5;241;43m1\u001b[39;49m\u001b[43m]\u001b[49m\u001b[43m[\u001b[49m\u001b[38;5;241;43m-\u001b[39;49m\u001b[38;5;241;43m1\u001b[39;49m\u001b[43m]\u001b[49m\n",
      "\u001b[1;31mIndexError\u001b[0m: invalid index to scalar variable."
     ]
    }
   ],
   "source": [
    "0.06*initial_amount/list_etf_data[count]['Adj Close'].iloc[-1][-1]"
   ]
  },
  {
   "cell_type": "code",
   "execution_count": 11,
   "id": "6165e1a4",
   "metadata": {},
   "outputs": [
    {
     "data": {
      "text/plain": [
       "4398.9501953125"
      ]
     },
     "execution_count": 11,
     "metadata": {},
     "output_type": "execute_result"
    }
   ],
   "source": [
    "list_etf_data[count]['Adj Close'].iloc[-1]"
   ]
  },
  {
   "cell_type": "code",
   "execution_count": null,
   "id": "5ab8a24a",
   "metadata": {},
   "outputs": [],
   "source": []
  },
  {
   "cell_type": "code",
   "execution_count": 8,
   "id": "2bc02813",
   "metadata": {},
   "outputs": [
    {
     "ename": "NameError",
     "evalue": "name 's' is not defined",
     "output_type": "error",
     "traceback": [
      "\u001b[1;31m---------------------------------------------------------------------------\u001b[0m",
      "\u001b[1;31mNameError\u001b[0m                                 Traceback (most recent call last)",
      "Cell \u001b[1;32mIn[8], line 1\u001b[0m\n\u001b[1;32m----> 1\u001b[0m \u001b[43ms\u001b[49m\n",
      "\u001b[1;31mNameError\u001b[0m: name 's' is not defined"
     ]
    }
   ],
   "source": [
    "s"
   ]
  },
  {
   "cell_type": "code",
   "execution_count": null,
   "id": "0c91a133",
   "metadata": {},
   "outputs": [],
   "source": [
    "# Preprocessing the data, create function for add more features\n",
    "def add_features(df):\n",
    "    df = df.reset_index()\n",
    "    df['HL_pct'] = (df['High'] - df['Low']) / df['Low']\n",
    "    df['pct_change'] = (df['Close'] - df['Open']) / df['Open']\n",
    "    df['Date'] = pd.to_datetime(df['Date'])\n",
    "    df['year'] = df['Date'].dt.year\n",
    "    df['month'] = df['Date'].dt.month\n",
    "    df['day'] = df['Date'].dt.day\n",
    "    df['day_of_week'] = df['Date'].dt.dayofweek\n",
    "\n",
    "    # Mapping day of week to actual day names\n",
    "    day_names = ['Monday', 'Tuesday', 'Wednesday', 'Thursday', 'Friday', 'Saturday', 'Sunday']\n",
    "    df['day_of_week'] = df['day_of_week'].map(lambda x: day_names[x])\n",
    "    return df"
   ]
  },
  {
   "cell_type": "code",
   "execution_count": null,
   "id": "4290712d",
   "metadata": {},
   "outputs": [],
   "source": [
    "# use the function each active, return a list of df with new features\n",
    "for i in range(len(list_etf_data)):\n",
    "    list_etf_data[i] = add_features(list_etf_data[i])\n"
   ]
  },
  {
   "cell_type": "code",
   "execution_count": null,
   "id": "2ce1e86f",
   "metadata": {},
   "outputs": [],
   "source": [
    "# separate by year the data of each active, return a dict with key the active and values the df of the active by year\n",
    "list_etf_data_years = {}\n",
    "\n",
    "for i in range(len(list_etf_data)):\n",
    "    years = list_etf_data[i]['year'].unique()\n",
    "    list_values = []\n",
    "    for j in range(len(years)):\n",
    "        x = list_etf_data[i][list_etf_data[i]['year']==years[j]]\n",
    "        list_values.append(x)\n",
    "        if j == len(years)-1:\n",
    "            list_etf_data_years[list_etf[i]] = list_values\n",
    "        \n",
    "        \n",
    "len(list_etf_data_years)"
   ]
  },
  {
   "cell_type": "code",
   "execution_count": null,
   "id": "159c0ff4",
   "metadata": {},
   "outputs": [],
   "source": [
    "# return a dict of mean of standard deviation of each active of all years\n",
    "\n",
    "list_etf_data_years_std = {}\n",
    "for i in range(len(list_etf_data_years)):\n",
    "    list_values = []\n",
    "    for j in range(len(list_etf_data_years[list_etf[i]])):  # keys\n",
    "        x = list_etf_data_years[list_etf[i]][j].describe()['pct_change'].loc['std']\n",
    "        print(x)\n",
    "        if x == np.float64('Nan'):\n",
    "            print(x == np.float64('Nan'))\n",
    "            x = list_etf_data_years[list_etf[i]][j].describe()['pct_change'].iloc[6]\n",
    "        x = np.mean(x)\n",
    "        list_values.append(x)\n",
    "        if j == len(list_etf_data_years[list_etf[i]])-1:\n",
    "            list_etf_data_years_std[list_etf[i]] = x\n",
    "        \n",
    "list_etf_data_years_std"
   ]
  },
  {
   "cell_type": "code",
   "execution_count": null,
   "id": "89cca91e",
   "metadata": {},
   "outputs": [],
   "source": [
    "np.float64(np.NaN)"
   ]
  },
  {
   "cell_type": "code",
   "execution_count": null,
   "id": "beb12bb6",
   "metadata": {},
   "outputs": [],
   "source": [
    "np.float64('NaN')"
   ]
  },
  {
   "cell_type": "code",
   "execution_count": null,
   "id": "59588c00",
   "metadata": {},
   "outputs": [],
   "source": [
    "list_etf_data[0].describe()"
   ]
  },
  {
   "cell_type": "code",
   "execution_count": null,
   "id": "368b471c",
   "metadata": {},
   "outputs": [],
   "source": [
    "list_etf_data[0].describe()['pct_change'].iloc[0]"
   ]
  },
  {
   "cell_type": "code",
   "execution_count": null,
   "id": "afeed8c4",
   "metadata": {},
   "outputs": [],
   "source": [
    "# return a dict of percentage of each years of each active\n",
    "\n",
    "pct_by_years = {}\n",
    "for i in range(len(list_etf_data_years)): # dict\n",
    "    list_values = []\n",
    "    for j in range(len(list_etf_data_years[list_etf[i]])):  # keys\n",
    "            x = float(list_etf_data_years[list_etf[i]][j][-1:]['Close'])/float(list_etf_data_years[list_etf[i]][j][:1]['Close'])\n",
    "            list_values.append(x)\n",
    "            if j == len(list_etf_data_years[list_etf[i]])-1:\n",
    "                pct_by_years[list_etf[i]] = list_values \n",
    "            \n",
    "\n",
    "\n",
    "pct_by_years"
   ]
  },
  {
   "cell_type": "code",
   "execution_count": null,
   "id": "4d637ac1",
   "metadata": {},
   "outputs": [],
   "source": [
    "# return a dict of mean of percentage of each active by year\n",
    "pct_by_active = {}\n",
    "\n",
    "for i in range(len(pct_by_years)):\n",
    "    list_values = []\n",
    "    for j in range(len(pct_by_years[list_etf[i]])):\n",
    "        x = pct_by_years[list_etf[i]][j]\n",
    "        list_values.append(x)\n",
    "        if j == len(pct_by_years[list_etf[i]])-1:\n",
    "            pct_by_active[list_etf[i]] = statistics.mean(list_values)\n",
    "            \n",
    "            \n",
    "pct_by_active"
   ]
  },
  {
   "cell_type": "markdown",
   "id": "8f4f9699",
   "metadata": {},
   "source": [
    "# <font color ='brown'> Total of return "
   ]
  },
  {
   "cell_type": "code",
   "execution_count": null,
   "id": "106e603d",
   "metadata": {},
   "outputs": [],
   "source": [
    "years_maintenance = 7"
   ]
  },
  {
   "cell_type": "code",
   "execution_count": null,
   "id": "2787e944",
   "metadata": {},
   "outputs": [],
   "source": [
    "# values of investment year to year and final investment, NO MONEY!!\n",
    "\n",
    "dict_investments = {}\n",
    "dict_all_values_investments = {}\n",
    "for i in range(len(list_etf)):\n",
    "    x = list_etf_data[i]['Adj Close'].iloc[-1]\n",
    "    list_values = []\n",
    "    for j in range(years_maintenance):\n",
    "        x = x*pct_by_active[list_etf[i]]\n",
    "        list_values.append(x)\n",
    "        dict_investments[list_etf[i]] = x\n",
    "        if j == years_maintenance-1:\n",
    "            dict_all_values_investments[list_etf[i]] = list_values\n",
    "\n",
    "dict_investments "
   ]
  },
  {
   "cell_type": "code",
   "execution_count": null,
   "id": "5ab26afc",
   "metadata": {},
   "outputs": [],
   "source": [
    "dict_investments "
   ]
  },
  {
   "cell_type": "code",
   "execution_count": null,
   "id": "736b814e",
   "metadata": {},
   "outputs": [],
   "source": [
    "# NO MONEY!! value final active to the selected year\n",
    "dict_all_values_investments"
   ]
  },
  {
   "cell_type": "code",
   "execution_count": null,
   "id": "a14f11a0",
   "metadata": {},
   "outputs": [],
   "source": [
    "# return of investment, MONEY!!\n",
    "\n",
    "final_amount ={}\n",
    "\n",
    "for i in range(len(dict_initial_amount)):\n",
    "    final_amount[list_etf[i]] = dict_initial_amount[list_etf[i]]*dict_investments[list_etf[i]]"
   ]
  },
  {
   "cell_type": "code",
   "execution_count": null,
   "id": "5042f017",
   "metadata": {},
   "outputs": [],
   "source": [
    "dict_initial_amount[list_etf[0]][0]"
   ]
  },
  {
   "cell_type": "code",
   "execution_count": null,
   "id": "952d31cb",
   "metadata": {},
   "outputs": [],
   "source": [
    "dict_initial_amount[list_etf[0]][0]"
   ]
  },
  {
   "cell_type": "code",
   "execution_count": null,
   "id": "52bc0008",
   "metadata": {
    "scrolled": true
   },
   "outputs": [],
   "source": [
    "dict_initial_amount[list_etf[0]]"
   ]
  },
  {
   "cell_type": "code",
   "execution_count": null,
   "id": "032f3985",
   "metadata": {},
   "outputs": [],
   "source": [
    "type(dict_initial_amount[list_etf[0]])"
   ]
  },
  {
   "cell_type": "code",
   "execution_count": null,
   "id": "da013d28",
   "metadata": {},
   "outputs": [],
   "source": [
    "dict_investments[list_etf[0]]"
   ]
  },
  {
   "cell_type": "code",
   "execution_count": null,
   "id": "1c25be59",
   "metadata": {},
   "outputs": [],
   "source": [
    "type(dict_investments[list_etf[0]])"
   ]
  },
  {
   "cell_type": "code",
   "execution_count": null,
   "id": "226e9839",
   "metadata": {},
   "outputs": [],
   "source": [
    "dict_initial_amount[list_etf[0]] * dict_investments[list_etf[0]]"
   ]
  },
  {
   "cell_type": "code",
   "execution_count": null,
   "id": "667c51a0",
   "metadata": {},
   "outputs": [],
   "source": [
    "type(dict_initial_amount[list_etf[0]] * dict_investments[list_etf[0]])"
   ]
  },
  {
   "cell_type": "code",
   "execution_count": null,
   "id": "a3eb700f",
   "metadata": {},
   "outputs": [],
   "source": [
    "len(dict_investments)"
   ]
  },
  {
   "cell_type": "code",
   "execution_count": null,
   "id": "2bb88fac",
   "metadata": {},
   "outputs": [],
   "source": [
    "len(dict_initial_amount)"
   ]
  },
  {
   "cell_type": "code",
   "execution_count": null,
   "id": "d86d020e",
   "metadata": {},
   "outputs": [],
   "source": []
  },
  {
   "cell_type": "code",
   "execution_count": null,
   "id": "c9fba791",
   "metadata": {},
   "outputs": [],
   "source": [
    "# amount of money by each active, FINAL MONEY!!!\n",
    "final_amount"
   ]
  },
  {
   "cell_type": "code",
   "execution_count": null,
   "id": "094bd25a",
   "metadata": {},
   "outputs": [],
   "source": [
    "# purchased units of each active\n",
    "dict_initial_amount"
   ]
  },
  {
   "cell_type": "code",
   "execution_count": null,
   "id": "4b8c63d1",
   "metadata": {},
   "outputs": [],
   "source": [
    "# final value of actives\n",
    "dict_investments"
   ]
  },
  {
   "cell_type": "code",
   "execution_count": null,
   "id": "1b25bf4c",
   "metadata": {},
   "outputs": [],
   "source": [
    "# sum of all actives, in money\n",
    "\n",
    "final_total = []\n",
    "for i in range(len(list_etf)):\n",
    "    final_total.append(final_amount[list_etf[i]])\n",
    "    \n",
    "final_total = sum(final_total)\n",
    "final_total"
   ]
  },
  {
   "cell_type": "code",
   "execution_count": null,
   "id": "1bd9fcf5",
   "metadata": {},
   "outputs": [],
   "source": [
    "# value of each active, not final investment, no money invest\n",
    "df_final = pd.DataFrame(dict_all_values_investments)\n",
    "df_final"
   ]
  },
  {
   "cell_type": "code",
   "execution_count": null,
   "id": "f96d1884",
   "metadata": {},
   "outputs": [],
   "source": [
    "# create functions for add standard deviation to the data\n",
    "def standard_plus(price, st):\n",
    "    x = price*st\n",
    "    x = price + x\n",
    "    return x\n",
    "\n",
    "def standard_minus(price, st):\n",
    "    x = price*st\n",
    "    x = price - x\n",
    "    return x"
   ]
  },
  {
   "cell_type": "code",
   "execution_count": null,
   "id": "ca3a7652",
   "metadata": {},
   "outputs": [],
   "source": [
    "# string for add with the name of the active to the column\n",
    "string_std = '_std_u' # % up\n",
    "string_std_ = '_std_d' # down\n",
    "string_std_value = '_std_plus_value' # value\n",
    "string_std_value_ = '_std_minus_value'\n",
    "f'{list_etf[0]}{string_std}'"
   ]
  },
  {
   "cell_type": "code",
   "execution_count": null,
   "id": "96b309b2",
   "metadata": {},
   "outputs": [],
   "source": [
    "for i in range(len(list_etf)):\n",
    "    df_final[f'{list_etf[i]}{string_std}'] = list_etf_data_years_std[list_etf[i]]"
   ]
  },
  {
   "cell_type": "code",
   "execution_count": null,
   "id": "83c25d6d",
   "metadata": {},
   "outputs": [],
   "source": [
    "# final price of each acrive, not money invest\n",
    "df_final"
   ]
  },
  {
   "cell_type": "code",
   "execution_count": null,
   "id": "cb94f84f",
   "metadata": {},
   "outputs": [],
   "source": [
    "# copy the dataframe for add columns of standard deviation, not money invest\n",
    "df_final_std = df_final\n",
    "df_final_std"
   ]
  },
  {
   "cell_type": "code",
   "execution_count": null,
   "id": "5b2531f5",
   "metadata": {},
   "outputs": [],
   "source": [
    "# add columns of standard deviation\n",
    "for i in range(len(list_etf)):\n",
    "    df_final_std[f'{list_etf[i]}{string_std}'] = df_final.apply(lambda x: standard_plus(x[list_etf[i]],\n",
    "                                                                                    list_etf_data_years_std[list_etf[i]]),\n",
    "                                                           axis=1)\n",
    "    df_final_std[f'{list_etf[i]}{string_std_}'] = df_final.apply(lambda x: standard_minus(x[list_etf[i]],\n",
    "                                                                                      list_etf_data_years_std[list_etf[i]]),\n",
    "                                                            axis=1)\n"
   ]
  },
  {
   "cell_type": "code",
   "execution_count": null,
   "id": "f54fdce4",
   "metadata": {},
   "outputs": [],
   "source": [
    "df_final_std"
   ]
  },
  {
   "cell_type": "code",
   "execution_count": null,
   "id": "c4a82c34",
   "metadata": {},
   "outputs": [],
   "source": [
    "# sort the columns\n",
    "'''0,4,8,1,5,9,2,6,10,3,7,11\n",
    "i, i+4, i+4+4, '''\n",
    "cols = []\n",
    "#count = 0\n",
    "\n",
    "for i in range(len(list_etf)):\n",
    "    cols.append(df_final_std.columns[i+len(list_etf)])\n",
    "    cols.append(df_final_std.columns[i])\n",
    "    cols.append(df_final_std.columns[i+len(list_etf)*2])\n",
    "\n",
    "#    count = count +1\n",
    "cols\n",
    "\n"
   ]
  },
  {
   "cell_type": "code",
   "execution_count": null,
   "id": "f8ae23b2",
   "metadata": {},
   "outputs": [],
   "source": [
    "df_final_std = df_final[cols]\n",
    "\n",
    "df_final_std"
   ]
  },
  {
   "cell_type": "code",
   "execution_count": null,
   "id": "91af45a0",
   "metadata": {},
   "outputs": [],
   "source": [
    "# copy df for amount of invest for each active\n",
    "df_final_std_invest = df_final_std\n",
    "#df_final_std_invest.iloc[5]#[0] # row, column"
   ]
  },
  {
   "cell_type": "code",
   "execution_count": null,
   "id": "55c85c56",
   "metadata": {},
   "outputs": [],
   "source": [
    "df_final_std_invest.columns"
   ]
  },
  {
   "cell_type": "code",
   "execution_count": null,
   "id": "9c222009",
   "metadata": {},
   "outputs": [],
   "source": [
    "dict_initial_amount"
   ]
  },
  {
   "cell_type": "code",
   "execution_count": null,
   "id": "7a5bb679",
   "metadata": {},
   "outputs": [],
   "source": [
    "list_etf[0]"
   ]
  },
  {
   "cell_type": "code",
   "execution_count": null,
   "id": "7bd290a6",
   "metadata": {},
   "outputs": [],
   "source": [
    "df_final_std_invest[list_etf[0]]*dict_initial_amount[list_etf[0]][-1]\n",
    "# df_final_std_invest.iloc[1] *invest"
   ]
  },
  {
   "cell_type": "code",
   "execution_count": null,
   "id": "0e37ca10",
   "metadata": {},
   "outputs": [],
   "source": [
    "dict_initial_amount[list_etf[0]][-1]"
   ]
  },
  {
   "cell_type": "code",
   "execution_count": null,
   "id": "42d25f6b",
   "metadata": {},
   "outputs": [],
   "source": [
    "df_final_std_invest"
   ]
  },
  {
   "cell_type": "code",
   "execution_count": null,
   "id": "04f4acb3",
   "metadata": {},
   "outputs": [],
   "source": [
    "df_final_std_invest.columns[0]"
   ]
  },
  {
   "cell_type": "code",
   "execution_count": null,
   "id": "fe51e46a",
   "metadata": {},
   "outputs": [],
   "source": [
    "# amount of invest for each invest\n",
    "# list_values_confirm = []\n",
    "df_final_std_invest.columns\n",
    "count = 0\n",
    "for i in range(len(list_etf)):\n",
    "    #i = i*3 # 012,345,678\n",
    "    df_final_std_invest[df_final_std_invest.columns[count]] = df_final_std_invest[df_final_std_invest.columns[count]]*dict_initial_amount[list_etf[i]]\n",
    "    df_final_std_invest[df_final_std_invest.columns[count+1]] = df_final_std_invest[df_final_std_invest.columns[count+1]]*dict_initial_amount[list_etf[i]]\n",
    "    df_final_std_invest[df_final_std_invest.columns[count+2]] = df_final_std_invest[df_final_std_invest.columns[count+2]]*dict_initial_amount[list_etf[i]]\n",
    "    count = count + 3 # columns of value an std\n",
    "df_final_std_invest"
   ]
  },
  {
   "cell_type": "code",
   "execution_count": null,
   "id": "9f217e49",
   "metadata": {},
   "outputs": [],
   "source": [
    "df_final_std_invest"
   ]
  },
  {
   "cell_type": "code",
   "execution_count": null,
   "id": "23290433",
   "metadata": {},
   "outputs": [],
   "source": [
    "df_final_std_invest.columns"
   ]
  },
  {
   "cell_type": "code",
   "execution_count": null,
   "id": "b966c3b8",
   "metadata": {},
   "outputs": [],
   "source": [
    "df_final_std_invest_plot = df_final_std_invest[list_etf]\n",
    "df_final_std_invest_plot\n",
    "len(df_final_std_invest_plot)"
   ]
  },
  {
   "cell_type": "code",
   "execution_count": null,
   "id": "b2d632d1",
   "metadata": {},
   "outputs": [],
   "source": [
    "sum(df_final_std_invest_plot[list_etf[0]])"
   ]
  },
  {
   "cell_type": "code",
   "execution_count": null,
   "id": "b1ed204c",
   "metadata": {},
   "outputs": [],
   "source": [
    "df_final_std_invest_plot.iloc[0].sum()"
   ]
  },
  {
   "cell_type": "code",
   "execution_count": null,
   "id": "acf2d88f",
   "metadata": {},
   "outputs": [],
   "source": [
    "list_final_invest = []"
   ]
  },
  {
   "cell_type": "code",
   "execution_count": null,
   "id": "988b4d20",
   "metadata": {},
   "outputs": [],
   "source": [
    "for i in range(len(df_final_std_invest_plot)):\n",
    "    list_final_invest.append(df_final_std_invest_plot.iloc[i].sum())"
   ]
  },
  {
   "cell_type": "code",
   "execution_count": null,
   "id": "42eee9ad",
   "metadata": {},
   "outputs": [],
   "source": [
    "final_result_invest_by_year = pd.DataFrame(list_final_invest)"
   ]
  },
  {
   "cell_type": "code",
   "execution_count": null,
   "id": "0ba5a6f3",
   "metadata": {},
   "outputs": [],
   "source": [
    "pd.options.plotting.backend = \"plotly\"\n",
    "\n",
    "fig = final_result_invest_by_year.plot(title=\"Return of each active\", template=\"simple_white\",\n",
    "              labels=dict(index=\"time\", value=\"money\", variable=\"Tickers\"))\n",
    "fig.update_yaxes(tickprefix=\"$\")\n",
    "fig.show()"
   ]
  },
  {
   "cell_type": "code",
   "execution_count": null,
   "id": "8a739aa1",
   "metadata": {},
   "outputs": [],
   "source": [
    "final_amount"
   ]
  },
  {
   "cell_type": "code",
   "execution_count": null,
   "id": "78a65b3a",
   "metadata": {},
   "outputs": [],
   "source": [
    "pd.options.plotting.backend = \"plotly\"\n",
    "\n",
    "fig = df_final_std_invest_plot.plot(title=\"Return of each active\", template=\"simple_white\",\n",
    "              labels=dict(index=\"time\", value=\"money\", variable=\"Tickers\"))\n",
    "fig.update_yaxes(tickprefix=\"$\")\n",
    "fig.show()"
   ]
  },
  {
   "cell_type": "code",
   "execution_count": null,
   "id": "77682b70",
   "metadata": {},
   "outputs": [],
   "source": [
    "fig = df_final_std.plot()\n",
    "fig.show()"
   ]
  },
  {
   "cell_type": "code",
   "execution_count": null,
   "id": "52891a06",
   "metadata": {},
   "outputs": [],
   "source": []
  },
  {
   "cell_type": "markdown",
   "id": "b9c6b0a5",
   "metadata": {},
   "source": [
    "## Disclaimer"
   ]
  },
  {
   "cell_type": "code",
   "execution_count": null,
   "id": "7e455ef7",
   "metadata": {},
   "outputs": [],
   "source": []
  },
  {
   "cell_type": "code",
   "execution_count": null,
   "id": "2bb84c43",
   "metadata": {},
   "outputs": [],
   "source": [
    "stop"
   ]
  },
  {
   "cell_type": "code",
   "execution_count": null,
   "id": "ce5d9503",
   "metadata": {},
   "outputs": [],
   "source": [
    "4999\t%\ttotal\t\t5000\t%\ttotal\t\t10000\t%\ttotal\t\t25000\t%\t total\t\t50000\t%\ttotal\t\t100000\t%\ttotal\t\n",
    "Sp500\t1\t4999\t\tSp500\t0,8\t4000\t\tSP500\t0,5\t 5000\t\tSP500\t0,3\t 7500\t\tSP500\t0,2\t10000\t\tSP500\t0,15\t15000\t\n",
    "                        Gold\t0,2\t1000\t\tGold\t0,2\t 2000\t\tGold\t0,2\t 5000\t\tGold\t0,1\t5000\t\tGold\t0,05\t5000\t\n",
    "                                                Bonds   0,15 1500\t\tBonds\t0,1\t 2500\t\tBonds\t0,1\t5000\t\tBonds\t0,05\t5000\t\n",
    "                                                NQ\t    0,15 1500\t\tNQ\t    0,1\t2500\t\tNQ\t    0,1\t5000\t\tNQ\t    0,1\t    10000\t\n",
    "                                                                        Indexes\t0,3\t7500\t  Diversify\t0,2\t10000      Diversify0,1\t   10000\t\n",
    "                                                                                                Global\t0,3\t15000\t\tGlobal\t0,25\t25000\t\n",
    "                                                                                                                        Stocks\t0,3\t    30000\t\n",
    "\n"
   ]
  },
  {
   "cell_type": "code",
   "execution_count": null,
   "id": "d4fd036d",
   "metadata": {},
   "outputs": [],
   "source": [
    "# streamlit run .py"
   ]
  },
  {
   "cell_type": "code",
   "execution_count": null,
   "id": "840024db",
   "metadata": {},
   "outputs": [],
   "source": []
  },
  {
   "cell_type": "code",
   "execution_count": null,
   "id": "0d302dee",
   "metadata": {},
   "outputs": [],
   "source": []
  },
  {
   "cell_type": "code",
   "execution_count": null,
   "id": "9b3711f6",
   "metadata": {},
   "outputs": [],
   "source": []
  },
  {
   "cell_type": "code",
   "execution_count": null,
   "id": "69bce3c4",
   "metadata": {},
   "outputs": [],
   "source": []
  },
  {
   "cell_type": "code",
   "execution_count": null,
   "id": "1b14e498",
   "metadata": {},
   "outputs": [],
   "source": []
  },
  {
   "cell_type": "code",
   "execution_count": null,
   "id": "2c801576",
   "metadata": {},
   "outputs": [],
   "source": []
  },
  {
   "cell_type": "code",
   "execution_count": null,
   "id": "4980526a",
   "metadata": {},
   "outputs": [],
   "source": []
  },
  {
   "cell_type": "code",
   "execution_count": null,
   "id": "71789a7e",
   "metadata": {},
   "outputs": [],
   "source": []
  },
  {
   "cell_type": "code",
   "execution_count": null,
   "id": "e2c9a604",
   "metadata": {},
   "outputs": [],
   "source": []
  }
 ],
 "metadata": {
  "kernelspec": {
   "display_name": "Python [conda env:tf]",
   "language": "python",
   "name": "conda-env-tf-py"
  },
  "language_info": {
   "codemirror_mode": {
    "name": "ipython",
    "version": 3
   },
   "file_extension": ".py",
   "mimetype": "text/x-python",
   "name": "python",
   "nbconvert_exporter": "python",
   "pygments_lexer": "ipython3",
   "version": "3.9.16"
  }
 },
 "nbformat": 4,
 "nbformat_minor": 5
}
