{
 "cells": [
  {
   "cell_type": "code",
   "execution_count": 1,
   "id": "a813fe66",
   "metadata": {},
   "outputs": [],
   "source": [
    "import yfinance as yf\n",
    "import pandas as pd\n",
    "import numpy as np\n",
    "from selenium import webdriver\n",
    "from selenium.webdriver.common.by import By\n",
    "from selenium.webdriver.common.keys import Keys\n",
    "from selenium.webdriver.edge.service import Service\n",
    "from selenium.webdriver.support.ui import WebDriverWait\n",
    "import time"
   ]
  },
  {
   "cell_type": "code",
   "execution_count": 2,
   "id": "b2a8ee37",
   "metadata": {},
   "outputs": [
    {
     "data": {
      "text/plain": [
       "selenium.webdriver.edge.webdriver.WebDriver"
      ]
     },
     "execution_count": 2,
     "metadata": {},
     "output_type": "execute_result"
    }
   ],
   "source": [
    "path = './requirements/msedgedriver.exe'\n",
    "service = Service(executable_path=path)\n",
    "driver = webdriver.Edge(service=service)\n",
    "type(driver)"
   ]
  },
  {
   "cell_type": "code",
   "execution_count": 3,
   "id": "2b7fba66",
   "metadata": {},
   "outputs": [],
   "source": [
    "#driver.implicitly_wait(2)\n",
    "time.sleep(2)"
   ]
  },
  {
   "cell_type": "code",
   "execution_count": 4,
   "id": "e1f9bf19",
   "metadata": {},
   "outputs": [],
   "source": [
    "url = 'https://es.finance.yahoo.com/screener/etf/new/'\n",
    "driver.get(url)\n",
    "driver.maximize_window()"
   ]
  },
  {
   "cell_type": "code",
   "execution_count": 5,
   "id": "bbf1fcab",
   "metadata": {},
   "outputs": [],
   "source": [
    "time.sleep(2)"
   ]
  },
  {
   "cell_type": "code",
   "execution_count": 6,
   "id": "a0612fbd",
   "metadata": {},
   "outputs": [],
   "source": [
    "#By.XPATH, \"//button[@aria-label='Next']\""
   ]
  },
  {
   "cell_type": "code",
   "execution_count": 7,
   "id": "e7d057ad",
   "metadata": {
    "scrolled": true
   },
   "outputs": [],
   "source": [
    "# click cookies\n",
    "driver.find_element(By.XPATH, \"//button[@id='scroll-down-btn']\").click()"
   ]
  },
  {
   "cell_type": "code",
   "execution_count": 8,
   "id": "f63255ef",
   "metadata": {},
   "outputs": [],
   "source": [
    "time.sleep(2)"
   ]
  },
  {
   "cell_type": "code",
   "execution_count": 9,
   "id": "a11f2e21",
   "metadata": {
    "scrolled": true
   },
   "outputs": [],
   "source": [
    "# click cookies\n",
    "driver.find_element(By.XPATH, \"//button[@class='btn secondary reject-all']\").click()"
   ]
  },
  {
   "cell_type": "code",
   "execution_count": 10,
   "id": "89ccb4de",
   "metadata": {},
   "outputs": [],
   "source": [
    "time.sleep(1)"
   ]
  },
  {
   "cell_type": "code",
   "execution_count": 11,
   "id": "e327b7a6",
   "metadata": {},
   "outputs": [],
   "source": [
    "# click for delete filter of NasdaqGM\n",
    "driver.find_element(By.XPATH, \"//button[@title='Eliminar NasdaqGM']\").click()"
   ]
  },
  {
   "cell_type": "code",
   "execution_count": 12,
   "id": "86b0e2af",
   "metadata": {},
   "outputs": [],
   "source": [
    "time.sleep(1)"
   ]
  },
  {
   "cell_type": "code",
   "execution_count": 13,
   "id": "76e55422",
   "metadata": {},
   "outputs": [],
   "source": [
    "title=\"★★★★★\"\n",
    "driver.find_element(By.XPATH, \"//button[@title='★★★★★']\").click()"
   ]
  },
  {
   "cell_type": "code",
   "execution_count": 14,
   "id": "d6c7848c",
   "metadata": {},
   "outputs": [],
   "source": [
    "time.sleep(1)"
   ]
  },
  {
   "cell_type": "code",
   "execution_count": 15,
   "id": "f15beba4",
   "metadata": {},
   "outputs": [],
   "source": [
    "buttons = driver.find_elements(By.XPATH, '//div[@class=\"D(ib) Pt(6px) Pb(7px) Pstart(6px) Pend(7px) C($tertiaryColor) Fz(s) Cur(p)\"]')"
   ]
  },
  {
   "cell_type": "code",
   "execution_count": 16,
   "id": "ee59058a",
   "metadata": {},
   "outputs": [],
   "source": [
    "buttons[1].click()"
   ]
  },
  {
   "cell_type": "code",
   "execution_count": 17,
   "id": "cd65d3d3",
   "metadata": {},
   "outputs": [],
   "source": [
    "time.sleep(1)"
   ]
  },
  {
   "cell_type": "code",
   "execution_count": 18,
   "id": "5fd955cd",
   "metadata": {},
   "outputs": [],
   "source": [
    "input_field = driver.find_element(By.XPATH, '//input[@placeholder=\"Buscar filtros\"]')"
   ]
  },
  {
   "cell_type": "code",
   "execution_count": 19,
   "id": "20b4f626",
   "metadata": {},
   "outputs": [],
   "source": [
    "input_field.clear()  # Clear "
   ]
  },
  {
   "cell_type": "code",
   "execution_count": 20,
   "id": "bdff5f11",
   "metadata": {},
   "outputs": [],
   "source": [
    "#category = str(input())\n",
    "category = ['Growth', 'Blend']"
   ]
  },
  {
   "cell_type": "code",
   "execution_count": 21,
   "id": "b7267dd7",
   "metadata": {},
   "outputs": [],
   "source": [
    "time.sleep(1)"
   ]
  },
  {
   "cell_type": "code",
   "execution_count": 22,
   "id": "af8e05b8",
   "metadata": {},
   "outputs": [
    {
     "data": {
      "text/plain": [
       "'   time.sleep(1)\\n    input_field.clear()\\n    input_field.send_keys(\"Europe\")\\n    time.sleep(1)\\n    buttons = driver.find_elements(By.XPATH, \\'//input[@type=\"checkbox\"]\\')\\n    for i in range(len(buttons)):\\n        buttons[i].click()\\n'"
      ]
     },
     "execution_count": 22,
     "metadata": {},
     "output_type": "execute_result"
    }
   ],
   "source": [
    "for i in range(len(category)):\n",
    "\n",
    "    if category[i] == 'Value':\n",
    "        input_field.clear()\n",
    "        time.sleep(0.5)\n",
    "        input_field.send_keys(\"Value\")\n",
    "        time.sleep(1)\n",
    "        buttons = driver.find_elements(By.XPATH, '//input[@type=\"checkbox\"]')\n",
    "        time.sleep(1)\n",
    "        for i in range(len(buttons)):\n",
    "            buttons[i].click()\n",
    "            time.sleep(1)\n",
    "    \n",
    "    elif category[i] == 'Growth':\n",
    "        input_field.clear()\n",
    "        time.sleep(0.5)\n",
    "        input_field.send_keys(\"Growth\")\n",
    "        time.sleep(1)\n",
    "        buttons = driver.find_elements(By.XPATH, '//input[@type=\"checkbox\"]')\n",
    "        time.sleep(1)\n",
    "        for i in range(len(buttons)):\n",
    "            buttons[i].click()\n",
    "            time.sleep(1)\n",
    "    \n",
    "    elif category[i] == 'Blend':\n",
    "        input_field.clear()\n",
    "        time.sleep(0.5)\n",
    "        input_field.send_keys(\"Blend\")\n",
    "        time.sleep(1)\n",
    "        buttons = driver.find_elements(By.XPATH, '//input[@type=\"checkbox\"]')\n",
    "        time.sleep(1)\n",
    "        for i in range(len(buttons)):\n",
    "            buttons[i].click()\n",
    "            time.sleep(1)\n",
    "    \n",
    "    elif category[i] == 'Financial':\n",
    "        input_field.clear()\n",
    "        time.sleep(0.5)\n",
    "        input_field.send_keys(\"Financial\")\n",
    "        time.sleep(1)\n",
    "        buttons = driver.find_elements(By.XPATH, '//input[@type=\"checkbox\"]')\n",
    "        time.sleep(1)\n",
    "        for i in range(len(buttons)):\n",
    "            buttons[i].click()\n",
    "            time.sleep(1)\n",
    "    \n",
    "    elif category[i] == 'Technology':\n",
    "        input_field.clear()\n",
    "        time.sleep(0.5)\n",
    "        input_field.send_keys(\"Technology\")\n",
    "        time.sleep(1)\n",
    "        buttons = driver.find_elements(By.XPATH, '//input[@type=\"checkbox\"]')\n",
    "        time.sleep(1)\n",
    "        for i in range(len(buttons)):\n",
    "            buttons[i].click()\n",
    "            time.sleep(1)\n",
    "    \n",
    "    elif category[i] == 'Commodities':\n",
    "        input_field.clear()\n",
    "        time.sleep(0.5)\n",
    "        input_field.send_keys(\"Commodities\")\n",
    "        time.sleep(1)\n",
    "        buttons = driver.find_elements(By.XPATH, '//input[@type=\"checkbox\"]')\n",
    "        time.sleep(1)\n",
    "        for i in range(len(buttons)):\n",
    "            buttons[i].click()\n",
    "            time.sleep(1)\n",
    "    \n",
    "    elif category[i] == 'Bonds':\n",
    "        input_field.clear()\n",
    "        time.sleep(0.5)\n",
    "        input_field.send_keys(\"Bonds\")\n",
    "        time.sleep(1)\n",
    "        buttons = driver.find_elements(By.XPATH, '//input[@type=\"checkbox\"]')\n",
    "        time.sleep(1)\n",
    "        for i in range(len(buttons)):\n",
    "            buttons[i].click()\n",
    "            time.sleep(1)\n",
    "        input_field.send_keys(\"goverment\")\n",
    "        time.sleep(1)\n",
    "        buttons = driver.find_elements(By.XPATH, '//input[@type=\"checkbox\"]')\n",
    "        time.sleep(1)\n",
    "        for i in range(len(buttons)):\n",
    "            buttons[i].click()\n",
    "            time.sleep(1)\n",
    "    \n",
    "    elif category[i] == 'Large':\n",
    "        input_field.clear()\n",
    "        time.sleep(0.5)\n",
    "        input_field.send_keys(\"Large\")\n",
    "        time.sleep(1)\n",
    "        buttons = driver.find_elements(By.XPATH, '//input[@type=\"checkbox\"]')\n",
    "        time.sleep(1)\n",
    "        for i in range(len(buttons)):\n",
    "            buttons[i].click()\n",
    "            time.sleep(1)\n",
    "    \n",
    "    elif category[i] == 'Mid':\n",
    "        input_field.clear()\n",
    "        time.sleep(0.5)\n",
    "        input_field.send_keys(\"Mid\")\n",
    "        time.sleep(1)\n",
    "        buttons = driver.find_elements(By.XPATH, '//input[@type=\"checkbox\"]')\n",
    "        time.sleep(1)\n",
    "        for i in range(len(buttons)):\n",
    "            buttons[i].click()\n",
    "            time.sleep(1)\n",
    "    \n",
    "    elif category[i] == 'Small':\n",
    "        input_field.clear()\n",
    "        time.sleep(0.5)\n",
    "        input_field.send_keys(\"Small\")\n",
    "        time.sleep(1)\n",
    "        buttons = driver.find_elements(By.XPATH, '//input[@type=\"checkbox\"]')\n",
    "        time.sleep(1)\n",
    "        for i in range(len(buttons)):\n",
    "            buttons[i].click()\n",
    "            time.sleep(1)\n",
    "    \n",
    "    elif category[i] == 'Health':\n",
    "        input_field.clear()\n",
    "        time.sleep(0.5)\n",
    "        input_field.send_keys(\"Health\")\n",
    "        time.sleep(1)\n",
    "        buttons = driver.find_elements(By.XPATH, '//input[@type=\"checkbox\"]')\n",
    "        time.sleep(1)\n",
    "        for i in range(len(buttons)):\n",
    "            buttons[i].click()\n",
    "            time.sleep(1)\n",
    "        \n",
    "    elif category[i] == 'Real Estate':\n",
    "        input_field.clear()\n",
    "        time.sleep(0.5)\n",
    "        input_field.send_keys(\"Real Estate\")\n",
    "        time.sleep(1)\n",
    "        buttons = driver.find_elements(By.XPATH, '//input[@type=\"checkbox\"]')\n",
    "        time.sleep(1)\n",
    "        for i in range(len(buttons)):\n",
    "            buttons[i].click()\n",
    "            time.sleep(1)\n",
    "    \n",
    "    elif category[i] == 'Emerging':\n",
    "        input_field.clear()\n",
    "        time.sleep(0.5)\n",
    "        input_field.send_keys(\"Emerging\")\n",
    "        time.sleep(1)\n",
    "        buttons = driver.find_elements(By.XPATH, '//input[@type=\"checkbox\"]')\n",
    "        time.sleep(1)\n",
    "        buttons[0]\n",
    "        for i in range(len(buttons)):\n",
    "            buttons[i].click()\n",
    "            time.sleep(1)\n",
    "    \n",
    "    elif category[i] == 'Inflaction':\n",
    "        input_field.clear()\n",
    "        time.sleep(0.5)\n",
    "        input_field.send_keys(\"Inflaction\")\n",
    "        time.sleep(1)  \n",
    "        buttons = driver.find_elements(By.XPATH, '//input[@type=\"checkbox\"]')\n",
    "        time.sleep(1)\n",
    "        for i in range(len(buttons)):\n",
    "            buttons[i].click()\n",
    "            time.sleep(1)\n",
    "    \n",
    "    elif category[i] == 'Utilities':\n",
    "        input_field.clear()\n",
    "        time.sleep(0.5)\n",
    "        input_field.send_keys(\"Utilities\")\n",
    "        time.sleep(1)    \n",
    "        buttons = driver.find_elements(By.XPATH, '//input[@type=\"checkbox\"]')\n",
    "        time.sleep(1)\n",
    "        for i in range(len(buttons)):\n",
    "            buttons[i].click()\n",
    "            time.sleep(1)\n",
    "    else:\n",
    "    #if category[i] == 'Global':\n",
    "        input_field.send_keys(\"China\")\n",
    "        time.sleep(1.5)\n",
    "        buttons = driver.find_elements(By.XPATH, '//input[@type=\"checkbox\"]')\n",
    "        for i in range(len(buttons)):\n",
    "            buttons[i].click()\n",
    "            time.sleep(0.5)\n",
    "        input_field.clear()\n",
    "        input_field.send_keys(\"Stock\")\n",
    "        time.sleep(1.5)\n",
    "        buttons = driver.find_elements(By.XPATH, '//input[@type=\"checkbox\"]')\n",
    "        for i in range(len(buttons)):\n",
    "            buttons[i].click()\n",
    "            time.sleep(0.5)\n",
    "        input_field.clear()\n",
    "        input_field.send_keys(\"Asia\")\n",
    "        time.sleep(1.5)\n",
    "        buttons = driver.find_elements(By.XPATH, '//input[@type=\"checkbox\"]')\n",
    "        for i in range(len(buttons)):\n",
    "            buttons[i].click()\n",
    "            time.sleep(0.5)\n",
    "        input_field.clear()\n",
    "        input_field.send_keys(\"Foreign\")\n",
    "        time.sleep(1.5)\n",
    "        buttons = driver.find_elements(By.XPATH, '//input[@type=\"checkbox\"]')\n",
    "        for i in range(len(buttons)):\n",
    "            buttons[i].click()\n",
    "            time.sleep(0.5)\n",
    "'''   time.sleep(1)\n",
    "    input_field.clear()\n",
    "    input_field.send_keys(\"Europe\")\n",
    "    time.sleep(1)\n",
    "    buttons = driver.find_elements(By.XPATH, '//input[@type=\"checkbox\"]')\n",
    "    for i in range(len(buttons)):\n",
    "        buttons[i].click()\n",
    "'''"
   ]
  },
  {
   "cell_type": "code",
   "execution_count": 23,
   "id": "c675005b",
   "metadata": {},
   "outputs": [],
   "source": [
    "#input_search.send_keys(Keys.RETURN)\n",
    "time.sleep(2)"
   ]
  },
  {
   "cell_type": "markdown",
   "id": "3586b484",
   "metadata": {},
   "source": [
    "---"
   ]
  },
  {
   "cell_type": "markdown",
   "id": "bd623117",
   "metadata": {},
   "source": [
    "buttons = driver.find_elements(By.XPATH, '//input[@type=\"checkbox\"]')\n",
    "time.sleep(1)\n",
    "\n",
    "buttons[0]\n",
    "\n",
    "for i in range(len(buttons)):\n",
    "    buttons[i].click()\n",
    "time.sleep(1)"
   ]
  },
  {
   "cell_type": "markdown",
   "id": "8fa288b4",
   "metadata": {},
   "source": [
    "---"
   ]
  },
  {
   "cell_type": "code",
   "execution_count": 24,
   "id": "3bcb3ed0",
   "metadata": {},
   "outputs": [],
   "source": [
    "button = driver.find_elements(By.XPATH, '//button[@data-test=\"find-stock\"]')[0]\n",
    "button.click()"
   ]
  },
  {
   "cell_type": "code",
   "execution_count": 25,
   "id": "12c5f956",
   "metadata": {},
   "outputs": [],
   "source": [
    "time.sleep(2)"
   ]
  },
  {
   "cell_type": "markdown",
   "id": "456dc42d",
   "metadata": {},
   "source": [
    "<th class=\"Ta(end) Pstart(20px) Fz(xs) Py(5px)! Bgc($lv3BgColor) Va(m)  Cur(p) Bgc($hoverBgColor):h  Fw(400)!\">\n",
    "Volumen</th>"
   ]
  },
  {
   "cell_type": "code",
   "execution_count": 26,
   "id": "86b930ca",
   "metadata": {},
   "outputs": [],
   "source": [
    "buttons = driver.find_elements(By.XPATH, '//th[@class=\"Ta(end) Pstart(20px) Fz(xs) Py(5px)! Bgc($lv3BgColor) Va(m)  Cur(p) Bgc($hoverBgColor):h  Fw(400)!\"]')"
   ]
  },
  {
   "cell_type": "code",
   "execution_count": 27,
   "id": "a0b06098",
   "metadata": {},
   "outputs": [],
   "source": [
    "buttons[3].click()\n",
    "time.sleep(2)"
   ]
  },
  {
   "cell_type": "code",
   "execution_count": 28,
   "id": "1d2de9b2",
   "metadata": {},
   "outputs": [],
   "source": [
    "buttons[3].click()\n",
    "time.sleep(2)"
   ]
  },
  {
   "cell_type": "code",
   "execution_count": 29,
   "id": "98b6ef9a",
   "metadata": {},
   "outputs": [],
   "source": [
    "# Find the <a> element\n",
    "a_element = driver.find_elements(By.XPATH, '//a[@data-test=\"quoteLink\"]')"
   ]
  },
  {
   "cell_type": "code",
   "execution_count": 30,
   "id": "0f5c5e51",
   "metadata": {},
   "outputs": [
    {
     "data": {
      "text/plain": [
       "25"
      ]
     },
     "execution_count": 30,
     "metadata": {},
     "output_type": "execute_result"
    }
   ],
   "source": [
    "len(a_element)"
   ]
  },
  {
   "cell_type": "code",
   "execution_count": 31,
   "id": "a452cd58",
   "metadata": {},
   "outputs": [
    {
     "data": {
      "text/plain": [
       "'text = a_element[0].text\\ntext'"
      ]
     },
     "execution_count": 31,
     "metadata": {},
     "output_type": "execute_result"
    }
   ],
   "source": [
    "# extract the text from the <a> element\n",
    "'''text = a_element[0].text\n",
    "text'''"
   ]
  },
  {
   "cell_type": "code",
   "execution_count": 32,
   "id": "22f94474",
   "metadata": {},
   "outputs": [],
   "source": [
    "list_etf = []\n",
    "for i in range(len(a_element)):\n",
    "    list_tickers.append(a_element[i].text)"
   ]
  },
  {
   "cell_type": "code",
   "execution_count": 33,
   "id": "d385ed5f",
   "metadata": {},
   "outputs": [],
   "source": [
    "if len(list_etf) > 10:\n",
    "    list_tickers = list_tickers[:10]"
   ]
  },
  {
   "cell_type": "code",
   "execution_count": 34,
   "id": "2b92c124",
   "metadata": {},
   "outputs": [
    {
     "data": {
      "text/plain": [
       "['QQQ', 'MOAT', 'QQQE', 'OMFL', 'HEFA', 'IWF', 'IQLT', 'SPHB', 'VONG', 'SPHQ']"
      ]
     },
     "execution_count": 34,
     "metadata": {},
     "output_type": "execute_result"
    }
   ],
   "source": [
    "list_etf"
   ]
  },
  {
   "cell_type": "code",
   "execution_count": 35,
   "id": "fffd0374",
   "metadata": {},
   "outputs": [
    {
     "ename": "NameError",
     "evalue": "name 'stop' is not defined",
     "output_type": "error",
     "traceback": [
      "\u001b[1;31m---------------------------------------------------------------------------\u001b[0m",
      "\u001b[1;31mNameError\u001b[0m                                 Traceback (most recent call last)",
      "Cell \u001b[1;32mIn[35], line 1\u001b[0m\n\u001b[1;32m----> 1\u001b[0m \u001b[43mstop\u001b[49m\n",
      "\u001b[1;31mNameError\u001b[0m: name 'stop' is not defined"
     ]
    }
   ],
   "source": [
    "stop"
   ]
  },
  {
   "cell_type": "code",
   "execution_count": null,
   "id": "25c7f540",
   "metadata": {},
   "outputs": [],
   "source": []
  },
  {
   "cell_type": "code",
   "execution_count": null,
   "id": "85e7ad76",
   "metadata": {},
   "outputs": [],
   "source": []
  },
  {
   "cell_type": "code",
   "execution_count": null,
   "id": "f1288971",
   "metadata": {},
   "outputs": [],
   "source": []
  },
  {
   "cell_type": "code",
   "execution_count": null,
   "id": "a9ba664a",
   "metadata": {},
   "outputs": [],
   "source": []
  },
  {
   "cell_type": "code",
   "execution_count": null,
   "id": "c20bf4f8",
   "metadata": {},
   "outputs": [],
   "source": []
  },
  {
   "cell_type": "code",
   "execution_count": null,
   "id": "273c2829",
   "metadata": {},
   "outputs": [],
   "source": []
  },
  {
   "cell_type": "code",
   "execution_count": null,
   "id": "9f9b0557",
   "metadata": {},
   "outputs": [],
   "source": []
  },
  {
   "cell_type": "code",
   "execution_count": null,
   "id": "b00fae97",
   "metadata": {},
   "outputs": [],
   "source": [
    "\n",
    "Bank Loan\n",
    "\n",
    "Bear Market\n",
    "\n",
    "China Region\n",
    "\n",
    "Commodities Agriculture\n",
    "\n",
    "Commodities Broad Basket\n",
    "\n",
    "Convertibles\n",
    "\n",
    "Corporate Bond\n",
    "\n",
    "Diversified Emerging Mkts\n",
    "\n",
    "Diversified Pacific/Asia\n",
    "\n",
    "Emerging Markets Bond\n",
    "\n",
    "Emerging-Markets Local-Currency Bond\n",
    "\n",
    "Energy Limited Partnership\n",
    "\n",
    "Equity Energy\n",
    "\n",
    "Equity Precious Metals\n",
    "\n",
    "Europe Stock\n",
    "\n",
    "Financial\n",
    "\n",
    "Foreign Large Blend\n",
    "\n",
    "Foreign Large Growth\n",
    "\n",
    "Foreign Large Value\n",
    "\n",
    "Foreign Small/Mid Blend\n",
    "\n",
    "Foreign Small/Mid Growth\n",
    "\n",
    "Foreign Small/Mid Value\n",
    "\n",
    "Global Real Estate\n",
    "\n",
    "Health\n",
    "\n",
    "High Yield Bond\n",
    "\n",
    "High Yield Muni\n",
    "\n",
    "Inflation-Protected Bond\n",
    "\n",
    "Infrastructure\n",
    "\n",
    "Intermediate Government\n",
    "\n",
    "Intermediate-Term Bond\n",
    "\n",
    "Japan Stock\n",
    "\n",
    "Large Blend\n",
    "\n",
    "Large Growth\n",
    "\n",
    "Large Value\n",
    "\n",
    "Long Government\n",
    "\n",
    "Long-Short Credit\n",
    "\n",
    "Long-Short Equity\n",
    "\n",
    "Long-Term Bond\n",
    "\n",
    "Managed Futures\n",
    "\n",
    "Market Neutral\n",
    "\n",
    "Mid-Cap Blend\n",
    "\n",
    "Mid-Cap Growth\n",
    "\n",
    "Mid-Cap Value\n",
    "\n",
    "Miscellaneous Region\n",
    "\n",
    "Multialternative\n",
    "\n",
    "Multicurrency\n",
    "\n",
    "Multisector Bond\n",
    "\n",
    "Muni California Intermediate\n",
    "\n",
    "Muni California Long\n",
    "\n",
    "Muni Massachusetts\n",
    "\n",
    "Muni Minnesota\n",
    "\n",
    "Muni National Interm\n",
    "\n",
    "Muni National Long\n",
    "\n",
    "Muni National Short\n",
    "\n",
    "Muni New Jersey\n",
    "\n",
    "Muni New York Intermediate\n",
    "\n",
    "Muni New York Long\n",
    "\n",
    "Muni Ohio\n",
    "\n",
    "Muni Pennsylvania\n",
    "\n",
    "Muni Single State Interm\n",
    "\n",
    "Muni Single State Long\n",
    "\n",
    "Muni Single State Short\n",
    "\n",
    "Natural Resources\n",
    "\n",
    "Nontraditional Bond\n",
    "\n",
    "Option Writing\n",
    "\n",
    "OtherOther Allocation\n",
    "\n",
    "Pacific/Asia ex-Japan Stk\n",
    "\n",
    "Preferred Stock\n",
    "\n",
    "Real Estate\n",
    "\n",
    "Short Government\n",
    "\n",
    "Short-Term Bond\n",
    "\n",
    "Small Blend\n",
    "\n",
    "Small Growth\n",
    "\n",
    "Small Value\n",
    "\n",
    "Tactical Allocation\n",
    "\n",
    "Target-Date 2000-2010\n",
    "\n",
    "Target-Date 2015\n",
    "\n",
    "Target-Date 2020\n",
    "\n",
    "Target-Date 2025\n",
    "\n",
    "Target-Date 2030\n",
    "\n",
    "Target-Date 2035\n",
    "\n",
    "Target-Date 2040\n",
    "\n",
    "Target-Date 2045\n",
    "\n",
    "Target-Date 2050\n",
    "\n",
    "Target-Date 2055\n",
    "\n",
    "Target-Date 2060+\n",
    "\n",
    "Target-Date Retirement\n",
    "\n",
    "Technology\n",
    "\n",
    "Trading - Leveraged/Inverse Commodities\n",
    "\n",
    "Trading - Leveraged/Inverse Equity\n",
    "\n",
    "Trading--Inverse Equity\n",
    "\n",
    "Trading--Leveraged Equity\n",
    "\n",
    "Ultrashort Bond\n",
    "\n",
    "Utilities"
   ]
  }
 ],
 "metadata": {
  "kernelspec": {
   "display_name": "Python [conda env:tf]",
   "language": "python",
   "name": "conda-env-tf-py"
  },
  "language_info": {
   "codemirror_mode": {
    "name": "ipython",
    "version": 3
   },
   "file_extension": ".py",
   "mimetype": "text/x-python",
   "name": "python",
   "nbconvert_exporter": "python",
   "pygments_lexer": "ipython3",
   "version": "3.9.16"
  }
 },
 "nbformat": 4,
 "nbformat_minor": 5
}
