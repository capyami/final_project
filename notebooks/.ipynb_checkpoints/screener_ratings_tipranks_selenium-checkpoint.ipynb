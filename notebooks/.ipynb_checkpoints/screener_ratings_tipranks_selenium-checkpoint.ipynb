{
 "cells": [
  {
   "cell_type": "code",
   "execution_count": 1,
   "id": "a813fe66",
   "metadata": {},
   "outputs": [],
   "source": [
    "import yfinance as yf\n",
    "import pandas as pd\n",
    "import numpy as np\n",
    "from selenium import webdriver\n",
    "from selenium.webdriver.common.by import By\n",
    "from selenium.webdriver.common.keys import Keys\n",
    "from selenium.webdriver.edge.service import Service\n",
    "from selenium.webdriver.support.ui import WebDriverWait\n",
    "import time"
   ]
  },
  {
   "cell_type": "code",
   "execution_count": 2,
   "id": "b2a8ee37",
   "metadata": {},
   "outputs": [
    {
     "data": {
      "text/plain": [
       "selenium.webdriver.edge.webdriver.WebDriver"
      ]
     },
     "execution_count": 2,
     "metadata": {},
     "output_type": "execute_result"
    }
   ],
   "source": [
    "path = './requirements/msedgedriver.exe'\n",
    "service = Service(executable_path=path)\n",
    "driver = webdriver.Edge(service=service)\n",
    "type(driver)"
   ]
  },
  {
   "cell_type": "code",
   "execution_count": 3,
   "id": "2b7fba66",
   "metadata": {},
   "outputs": [],
   "source": [
    "#driver.implicitly_wait(2)\n",
    "time.sleep(2)"
   ]
  },
  {
   "cell_type": "code",
   "execution_count": 4,
   "id": "e1f9bf19",
   "metadata": {},
   "outputs": [],
   "source": [
    "url = 'https://www.tipranks.com/stocks/googl'\n",
    "driver.get(url)\n",
    "#driver.maximize_window()"
   ]
  },
  {
   "cell_type": "code",
   "execution_count": 5,
   "id": "bbf1fcab",
   "metadata": {},
   "outputs": [],
   "source": [
    "time.sleep(10)"
   ]
  },
  {
   "cell_type": "code",
   "execution_count": 6,
   "id": "175bf21d",
   "metadata": {
    "scrolled": true
   },
   "outputs": [],
   "source": [
    "# click cookies\n",
    "driver.find_element(By.XPATH, '//button[@title=\"Scroll to the bottom of the text below to enable this button\"]').click()\n",
    "time.sleep(4)"
   ]
  },
  {
   "cell_type": "code",
   "execution_count": 7,
   "id": "e7d057ad",
   "metadata": {
    "scrolled": true
   },
   "outputs": [],
   "source": [
    "# click cookies\n",
    "# driver.find_element(By.XPATH, '//button[@title=\"Scroll to the bottom of the text below to enable this button\"]').click()"
   ]
  },
  {
   "cell_type": "code",
   "execution_count": 8,
   "id": "f63255ef",
   "metadata": {},
   "outputs": [],
   "source": [
    "time.sleep(4)"
   ]
  },
  {
   "cell_type": "code",
   "execution_count": 9,
   "id": "e4e90140",
   "metadata": {},
   "outputs": [],
   "source": [
    "# click for to write\n",
    "lens = driver.find_element(By.XPATH, '//button[@class=\"colorgray-3 displaynone fontSize6 px4 laptop_displayflex\"]')"
   ]
  },
  {
   "cell_type": "code",
   "execution_count": 10,
   "id": "6b8567ae",
   "metadata": {},
   "outputs": [],
   "source": [
    "lens.click()"
   ]
  },
  {
   "cell_type": "code",
   "execution_count": 11,
   "id": "8237d3df",
   "metadata": {},
   "outputs": [],
   "source": [
    "#input_field.send_keys(ticker)"
   ]
  },
  {
   "cell_type": "code",
   "execution_count": 12,
   "id": "bd235763",
   "metadata": {},
   "outputs": [],
   "source": [
    "# clilk lens with bar\n",
    "search_input = driver.find_element(By.XPATH, '//input[@placeholder=\"Search ...\"]')"
   ]
  },
  {
   "cell_type": "code",
   "execution_count": 13,
   "id": "33bb03d6",
   "metadata": {},
   "outputs": [],
   "source": [
    "search_input.click()"
   ]
  },
  {
   "cell_type": "code",
   "execution_count": 14,
   "id": "a0af01a2",
   "metadata": {},
   "outputs": [],
   "source": [
    "ticker = 'spy'"
   ]
  },
  {
   "cell_type": "code",
   "execution_count": 15,
   "id": "8eea3cda",
   "metadata": {},
   "outputs": [],
   "source": [
    "search_input.send_keys(ticker)"
   ]
  },
  {
   "cell_type": "code",
   "execution_count": 16,
   "id": "e5d993a8",
   "metadata": {},
   "outputs": [],
   "source": [
    "time.sleep(2)"
   ]
  },
  {
   "cell_type": "code",
   "execution_count": 17,
   "id": "1a8ef0e0",
   "metadata": {},
   "outputs": [],
   "source": [
    "#search_input.clear()"
   ]
  },
  {
   "cell_type": "code",
   "execution_count": 18,
   "id": "c435c2c3",
   "metadata": {},
   "outputs": [],
   "source": [
    "# select th first\n",
    "first_ticker = driver.find_element(By.XPATH, '//div[@class=\"flexrsb w5    displayflex\"]')"
   ]
  },
  {
   "cell_type": "code",
   "execution_count": 19,
   "id": "79f6f607",
   "metadata": {},
   "outputs": [],
   "source": [
    "first_ticker.click()\n",
    "time.sleep(4)"
   ]
  },
  {
   "cell_type": "code",
   "execution_count": 20,
   "id": "7fe23218",
   "metadata": {},
   "outputs": [],
   "source": [
    "# select anlysis if stock\n",
    "#click_analysis = driver.find_element(By.XPATH, '//a[@class=\"borderColortransparent br3_solid w12 positionrelative flexrsc h_px1 hoverColorblack hoverBgwhite-8 whiteSpacenormal displayflex pt1 px2 laptop_flexccc laptop_aligncenter laptop_maxWparent laptop_fontWeightsemibold laptop_fontSize9 laptop_h_pxmedium laptop_px3\"]')"
   ]
  },
  {
   "cell_type": "code",
   "execution_count": 21,
   "id": "c03bb59d",
   "metadata": {
    "scrolled": true
   },
   "outputs": [],
   "source": [
    "# click cookies\n",
    "driver.find_element(By.XPATH, '//button[@title=\"Scroll to the bottom of the text below to enable this button\"]').click()\n",
    "time.sleep(4)"
   ]
  },
  {
   "cell_type": "code",
   "execution_count": 22,
   "id": "774272f6",
   "metadata": {},
   "outputs": [],
   "source": [
    "# select analysis if etf\n",
    "#click_analysis = driver.find_element(By.XPATH, '//a[@class=\"borderColortransparent br3_solid w12 positionrelative flexrsc h_px1 hoverColorblack hoverBgwhite-8 whiteSpacenormal pt1 px2 laptop_flexccc laptop_aligncenter laptop_maxWparent laptop_fontWeightsemibold laptop_fontSize9 laptop_h_pxmedium laptop_px3\"]')"
   ]
  },
  {
   "cell_type": "code",
   "execution_count": 23,
   "id": "953f5aea",
   "metadata": {},
   "outputs": [],
   "source": [
    "#click_analysis.click()\n",
    "#time.sleep(4)"
   ]
  },
  {
   "cell_type": "code",
   "execution_count": 24,
   "id": "2c06fda1",
   "metadata": {},
   "outputs": [],
   "source": [
    "button_outperform = driver.find_element(By.XPATH, '//span[@class=\"fontSizebig fontWeightbold    h_pxsmall  mb1\"]')"
   ]
  },
  {
   "cell_type": "code",
   "execution_count": 25,
   "id": "e456ec2a",
   "metadata": {},
   "outputs": [
    {
     "data": {
      "text/plain": [
       "'8'"
      ]
     },
     "execution_count": 25,
     "metadata": {},
     "output_type": "execute_result"
    }
   ],
   "source": [
    "button_outperform.text"
   ]
  },
  {
   "cell_type": "code",
   "execution_count": 26,
   "id": "1734a737",
   "metadata": {},
   "outputs": [],
   "source": [
    "button_analysts = driver.find_element(By.XPATH, '//div[@class=\"textTransformcapitalize fontWeightbold truncate ipadpro_fontSize7 fontSize6 colorerr whiteSpacenowrap  colorpale\"]')"
   ]
  },
  {
   "cell_type": "code",
   "execution_count": 27,
   "id": "672b2d37",
   "metadata": {},
   "outputs": [
    {
     "data": {
      "text/plain": [
       "'Moderate Buy'"
      ]
     },
     "execution_count": 27,
     "metadata": {},
     "output_type": "execute_result"
    }
   ],
   "source": [
    "button_analysts.text"
   ]
  },
  {
   "cell_type": "code",
   "execution_count": 28,
   "id": "4d73d7a5",
   "metadata": {},
   "outputs": [],
   "source": [
    "button_ratings = driver.find_elements(By.XPATH, '//div[@class=\"textTransformcapitalize fontWeightbold truncate ipadpro_fontSize7 fontSize6 colorerr whiteSpacenowrap  colorpale\"]')"
   ]
  },
  {
   "cell_type": "code",
   "execution_count": 29,
   "id": "0b0cd223",
   "metadata": {},
   "outputs": [
    {
     "data": {
      "text/plain": [
       "4"
      ]
     },
     "execution_count": 29,
     "metadata": {},
     "output_type": "execute_result"
    }
   ],
   "source": [
    "len(button_ratings)"
   ]
  },
  {
   "cell_type": "code",
   "execution_count": 30,
   "id": "03779941",
   "metadata": {},
   "outputs": [
    {
     "data": {
      "text/plain": [
       "'Moderate Buy'"
      ]
     },
     "execution_count": 30,
     "metadata": {},
     "output_type": "execute_result"
    }
   ],
   "source": [
    "# [0] is analyst\n",
    "button_ratings[0].text"
   ]
  },
  {
   "cell_type": "code",
   "execution_count": 31,
   "id": "1e80f233",
   "metadata": {},
   "outputs": [
    {
     "data": {
      "text/plain": [
       "'Bullish'"
      ]
     },
     "execution_count": 31,
     "metadata": {},
     "output_type": "execute_result"
    }
   ],
   "source": [
    "# blogger sentiment\n",
    "button_ratings[1].text"
   ]
  },
  {
   "cell_type": "code",
   "execution_count": 32,
   "id": "ead36a4a",
   "metadata": {},
   "outputs": [
    {
     "data": {
      "text/plain": [
       "'Very Positive'"
      ]
     },
     "execution_count": 32,
     "metadata": {},
     "output_type": "execute_result"
    }
   ],
   "source": [
    "# crowd wisdom\n",
    "button_ratings[2].text"
   ]
  },
  {
   "cell_type": "code",
   "execution_count": 33,
   "id": "f054df7a",
   "metadata": {},
   "outputs": [
    {
     "data": {
      "text/plain": [
       "'Positive'"
      ]
     },
     "execution_count": 33,
     "metadata": {},
     "output_type": "execute_result"
    }
   ],
   "source": [
    "# news sentiment\n",
    "button_ratings[3].text"
   ]
  },
  {
   "cell_type": "code",
   "execution_count": 34,
   "id": "4f066d5a",
   "metadata": {},
   "outputs": [],
   "source": [
    "# technical sma, only stocks\n",
    "#button_ratings[4].text"
   ]
  },
  {
   "cell_type": "code",
   "execution_count": 35,
   "id": "0e2534b6",
   "metadata": {},
   "outputs": [],
   "source": [
    "# momentum, only stocks\n",
    "#button_ratings[5].text"
   ]
  },
  {
   "cell_type": "code",
   "execution_count": 36,
   "id": "efba4c9d",
   "metadata": {},
   "outputs": [],
   "source": [
    "# [6] not button_blogger[6].text"
   ]
  },
  {
   "cell_type": "code",
   "execution_count": 37,
   "id": "58140ede",
   "metadata": {},
   "outputs": [],
   "source": [
    "button_ratings1 = driver.find_elements(By.XPATH, '//span[@class=\"colorblack fonth10_semibold\"]')"
   ]
  },
  {
   "cell_type": "code",
   "execution_count": 38,
   "id": "bd775ad2",
   "metadata": {},
   "outputs": [
    {
     "data": {
      "text/plain": [
       "1"
      ]
     },
     "execution_count": 38,
     "metadata": {},
     "output_type": "execute_result"
    }
   ],
   "source": [
    "len(button_ratings1)"
   ]
  },
  {
   "cell_type": "code",
   "execution_count": 39,
   "id": "0a122cd3",
   "metadata": {},
   "outputs": [
    {
     "data": {
      "text/plain": [
       "'$481.64'"
      ]
     },
     "execution_count": 39,
     "metadata": {},
     "output_type": "execute_result"
    }
   ],
   "source": [
    "# average price target\n",
    "button_ratings1[0].text"
   ]
  },
  {
   "cell_type": "code",
   "execution_count": 40,
   "id": "f5776ba7",
   "metadata": {},
   "outputs": [],
   "source": [
    "# only stocks\n",
    "#button_ratings1[1].text + ' sentiment ' + button_ratings1[2].text"
   ]
  },
  {
   "cell_type": "code",
   "execution_count": 41,
   "id": "2cd7abbc",
   "metadata": {},
   "outputs": [],
   "source": [
    "# sector average, only stocks\n",
    "#button_ratings1[3].text"
   ]
  },
  {
   "cell_type": "code",
   "execution_count": 42,
   "id": "ff047bf9",
   "metadata": {},
   "outputs": [],
   "source": [
    "# Hedge fund trend: 'By 'text' Shares', only stocks\n",
    "#button_ratings1[4].text"
   ]
  },
  {
   "cell_type": "code",
   "execution_count": 43,
   "id": "d7fade98",
   "metadata": {},
   "outputs": [],
   "source": [
    "# Insider transactions: Worth 'text' over, only stocks\n",
    "#button_ratings1[5].text"
   ]
  },
  {
   "cell_type": "code",
   "execution_count": 44,
   "id": "a9b3d62b",
   "metadata": {},
   "outputs": [],
   "source": [
    "# news sentiment: bullish news, only stocks\n",
    "#button_ratings1[6].text"
   ]
  },
  {
   "cell_type": "code",
   "execution_count": 45,
   "id": "8d9bddf5",
   "metadata": {},
   "outputs": [],
   "source": [
    "# news sentiment: bearish news, only stocks\n",
    "#button_ratings1[7].text"
   ]
  },
  {
   "cell_type": "code",
   "execution_count": 46,
   "id": "af8efa12",
   "metadata": {},
   "outputs": [],
   "source": [
    "# buttons header reatings\n",
    "button_ratings2 = driver.find_elements(By.XPATH, '//div[@class=\"flexrcc     displayflex\"]')"
   ]
  },
  {
   "cell_type": "code",
   "execution_count": 47,
   "id": "c7fdb412",
   "metadata": {},
   "outputs": [
    {
     "data": {
      "text/plain": [
       "15"
      ]
     },
     "execution_count": 47,
     "metadata": {},
     "output_type": "execute_result"
    }
   ],
   "source": [
    "len(button_ratings2)"
   ]
  },
  {
   "cell_type": "code",
   "execution_count": 48,
   "id": "4153cf59",
   "metadata": {},
   "outputs": [],
   "source": [
    "ratings = {'Analyst consensus': button_ratings2[4].text,\n",
    "           'Blogger Sentiment': button_ratings2[5].text,\n",
    "           'Hedge Fund Ttrend': button_ratings2[6].text,\n",
    "           'Crowd Wisdom': button_ratings2[7].text,\n",
    "           'News Sentiment': button_ratings2[8].text,\n",
    "           'Technical SMA': button_ratings2[9].text,\n",
    "           'Technical Momentum':button_ratings2[10].text\n",
    "          }"
   ]
  },
  {
   "cell_type": "code",
   "execution_count": 52,
   "id": "b9364044",
   "metadata": {},
   "outputs": [
    {
     "data": {
      "text/plain": [
       "{'Analyst consensus': 'Moderate Buy',\n",
       " 'Blogger Sentiment': 'Bullish',\n",
       " 'Hedge Fund Ttrend': 'Decreased',\n",
       " 'Crowd Wisdom': 'Very Positive',\n",
       " 'News Sentiment': 'Positive',\n",
       " 'Technical SMA': 'Positive',\n",
       " 'Technical Momentum': '14.96%'}"
      ]
     },
     "execution_count": 52,
     "metadata": {},
     "output_type": "execute_result"
    }
   ],
   "source": [
    "ratings"
   ]
  },
  {
   "cell_type": "code",
   "execution_count": 49,
   "id": "b6cea055",
   "metadata": {},
   "outputs": [
    {
     "name": "stdout",
     "output_type": "stream",
     "text": [
      "Advanced Chart >\n",
      "\n",
      "\n",
      "\n",
      "Moderate Buy\n",
      "Bullish\n",
      "Decreased\n",
      "Very Positive\n",
      "Positive\n",
      "Positive\n",
      "14.96%\n",
      "\n",
      "\n",
      "\n",
      "\n"
     ]
    }
   ],
   "source": [
    "for i in range(len(button_ratings2)):\n",
    "    print(button_ratings2[i].text)"
   ]
  },
  {
   "cell_type": "code",
   "execution_count": 50,
   "id": "f0f2c791",
   "metadata": {},
   "outputs": [
    {
     "data": {
      "text/plain": [
       "'Moderate Buy'"
      ]
     },
     "execution_count": 50,
     "metadata": {},
     "output_type": "execute_result"
    }
   ],
   "source": [
    "button_ratings2[4].text"
   ]
  },
  {
   "cell_type": "code",
   "execution_count": 51,
   "id": "30c7ab04",
   "metadata": {},
   "outputs": [
    {
     "ename": "NameError",
     "evalue": "name 'stop' is not defined",
     "output_type": "error",
     "traceback": [
      "\u001b[1;31m---------------------------------------------------------------------------\u001b[0m",
      "\u001b[1;31mNameError\u001b[0m                                 Traceback (most recent call last)",
      "Cell \u001b[1;32mIn[51], line 1\u001b[0m\n\u001b[1;32m----> 1\u001b[0m \u001b[43mstop\u001b[49m\n",
      "\u001b[1;31mNameError\u001b[0m: name 'stop' is not defined"
     ]
    }
   ],
   "source": [
    "stop"
   ]
  },
  {
   "cell_type": "code",
   "execution_count": null,
   "id": "3593e360",
   "metadata": {},
   "outputs": [],
   "source": [
    "name_lupa = driver.find_element(By.XPATH, '//a[@class=\"colorblack-4 fontFamilyregular truncate flexrsb displayflex hoverCursorpointer w12 px4 py3 fontWeightsemibold\"]')"
   ]
  },
  {
   "cell_type": "code",
   "execution_count": null,
   "id": "fe9d1949",
   "metadata": {},
   "outputs": [],
   "source": [
    "name_lupa.click()"
   ]
  },
  {
   "cell_type": "code",
   "execution_count": null,
   "id": "140f1a0a",
   "metadata": {},
   "outputs": [],
   "source": []
  },
  {
   "cell_type": "code",
   "execution_count": null,
   "id": "36b69bed",
   "metadata": {},
   "outputs": [],
   "source": [
    "button_outperform"
   ]
  },
  {
   "cell_type": "code",
   "execution_count": null,
   "id": "2e1b719a",
   "metadata": {},
   "outputs": [],
   "source": [
    "button_analysts"
   ]
  },
  {
   "cell_type": "code",
   "execution_count": null,
   "id": "0d66d461",
   "metadata": {},
   "outputs": [],
   "source": [
    "button_analysts.text"
   ]
  },
  {
   "cell_type": "code",
   "execution_count": null,
   "id": "e10dca9d",
   "metadata": {},
   "outputs": [],
   "source": [
    "button_blogger"
   ]
  },
  {
   "cell_type": "code",
   "execution_count": null,
   "id": "990c856e",
   "metadata": {},
   "outputs": [],
   "source": [
    "button_blogger.text"
   ]
  },
  {
   "cell_type": "code",
   "execution_count": null,
   "id": "9df96186",
   "metadata": {},
   "outputs": [],
   "source": []
  },
  {
   "cell_type": "code",
   "execution_count": null,
   "id": "6093a40b",
   "metadata": {},
   "outputs": [],
   "source": []
  },
  {
   "cell_type": "code",
   "execution_count": null,
   "id": "f9913bf7",
   "metadata": {},
   "outputs": [],
   "source": []
  },
  {
   "cell_type": "code",
   "execution_count": null,
   "id": "bb9b980f",
   "metadata": {},
   "outputs": [],
   "source": []
  },
  {
   "cell_type": "code",
   "execution_count": null,
   "id": "02d4593b",
   "metadata": {},
   "outputs": [],
   "source": []
  },
  {
   "cell_type": "code",
   "execution_count": null,
   "id": "1f9b2961",
   "metadata": {},
   "outputs": [],
   "source": []
  },
  {
   "cell_type": "code",
   "execution_count": null,
   "id": "59c37472",
   "metadata": {},
   "outputs": [],
   "source": [
    "stop"
   ]
  },
  {
   "cell_type": "code",
   "execution_count": null,
   "id": "a11f2e21",
   "metadata": {
    "scrolled": true
   },
   "outputs": [],
   "source": [
    "# click cookies\n",
    "driver.find_element(By.XPATH, \"//button[@class='btn secondary reject-all']\").click()"
   ]
  },
  {
   "cell_type": "code",
   "execution_count": null,
   "id": "89ccb4de",
   "metadata": {},
   "outputs": [],
   "source": [
    "time.sleep(1)"
   ]
  },
  {
   "cell_type": "code",
   "execution_count": null,
   "id": "e327b7a6",
   "metadata": {},
   "outputs": [],
   "source": [
    "# click for delete filter of NasdaqGM\n",
    "driver.find_element(By.XPATH, \"//button[@title='Eliminar NasdaqGM']\").click()"
   ]
  },
  {
   "cell_type": "code",
   "execution_count": null,
   "id": "86b0e2af",
   "metadata": {},
   "outputs": [],
   "source": [
    "time.sleep(1)"
   ]
  },
  {
   "cell_type": "code",
   "execution_count": null,
   "id": "76e55422",
   "metadata": {},
   "outputs": [],
   "source": [
    "# title=\"★★★★★\" stars morningstars\n",
    "stars5 = driver.find_element(By.XPATH, \"//button[@title='★★★★★']\")\n",
    "stars4 = driver.find_element(By.XPATH, \"//button[@title='★★★★']\")\n",
    "stars3 = driver.find_element(By.XPATH, \"//button[@title='★★★']\")\n",
    "stars2 = driver.find_element(By.XPATH, \"//button[@title='★★']\")\n",
    "stars1 = driver.find_element(By.XPATH, \"//button[@title='★']\")"
   ]
  },
  {
   "cell_type": "code",
   "execution_count": null,
   "id": "3ca5ce50",
   "metadata": {},
   "outputs": [],
   "source": [
    "stars5.click()\n",
    "time.sleep(0.5)\n",
    "stars4.click()"
   ]
  },
  {
   "cell_type": "code",
   "execution_count": null,
   "id": "d6c7848c",
   "metadata": {},
   "outputs": [],
   "source": [
    "time.sleep(1)"
   ]
  },
  {
   "cell_type": "code",
   "execution_count": null,
   "id": "f15beba4",
   "metadata": {},
   "outputs": [],
   "source": [
    "# desplegable categorías\n",
    "buttons = driver.find_elements(By.XPATH, '//div[@class=\"D(ib) Pt(6px) Pb(7px) Pstart(6px) Pend(7px) C($tertiaryColor) Fz(s) Cur(p)\"]')"
   ]
  },
  {
   "cell_type": "code",
   "execution_count": null,
   "id": "ee59058a",
   "metadata": {},
   "outputs": [],
   "source": [
    "buttons[1].click()"
   ]
  },
  {
   "cell_type": "code",
   "execution_count": null,
   "id": "cd65d3d3",
   "metadata": {},
   "outputs": [],
   "source": [
    "time.sleep(1)"
   ]
  },
  {
   "cell_type": "code",
   "execution_count": null,
   "id": "5fd955cd",
   "metadata": {},
   "outputs": [],
   "source": [
    "input_field = driver.find_element(By.XPATH, '//input[@placeholder=\"Buscar filtros\"]')"
   ]
  },
  {
   "cell_type": "code",
   "execution_count": null,
   "id": "20b4f626",
   "metadata": {},
   "outputs": [],
   "source": [
    "input_field.clear()  # Clear "
   ]
  },
  {
   "cell_type": "code",
   "execution_count": null,
   "id": "bdff5f11",
   "metadata": {},
   "outputs": [],
   "source": [
    "#category = str(input())\n",
    "category = ['Growth', 'Blend']"
   ]
  },
  {
   "cell_type": "code",
   "execution_count": null,
   "id": "b7267dd7",
   "metadata": {},
   "outputs": [],
   "source": [
    "time.sleep(1)"
   ]
  },
  {
   "cell_type": "code",
   "execution_count": null,
   "id": "9c648316",
   "metadata": {},
   "outputs": [],
   "source": [
    "check_cat = driver.find_elements(By.XPATH, '//input[@type=\"checkbox\"]')"
   ]
  },
  {
   "cell_type": "code",
   "execution_count": null,
   "id": "510523a8",
   "metadata": {},
   "outputs": [],
   "source": [
    "#check_cat[12].click()"
   ]
  },
  {
   "cell_type": "code",
   "execution_count": null,
   "id": "34181175",
   "metadata": {},
   "outputs": [],
   "source": [
    "check_cat1 = driver.find_elements(By.XPATH, '//span[@class=\"C($tertiaryColor) Mstart(12px) Cur(p) Va(m)\"]')"
   ]
  },
  {
   "cell_type": "code",
   "execution_count": null,
   "id": "fd2be762",
   "metadata": {},
   "outputs": [],
   "source": [
    "list_cats = []\n",
    "for i in range(len(check_cat1)):\n",
    "    list_cats.append(check_cat1[i].text)"
   ]
  },
  {
   "cell_type": "code",
   "execution_count": null,
   "id": "18c0bad4",
   "metadata": {},
   "outputs": [],
   "source": [
    "#list_cats"
   ]
  },
  {
   "cell_type": "code",
   "execution_count": null,
   "id": "08994abc",
   "metadata": {},
   "outputs": [],
   "source": [
    "#check_cat1[102].click()"
   ]
  },
  {
   "cell_type": "code",
   "execution_count": null,
   "id": "39a34292",
   "metadata": {},
   "outputs": [],
   "source": [
    "input_categories = [ 'Bank Loan', 'Bear Market', 'China Region', 'Financial']"
   ]
  },
  {
   "cell_type": "code",
   "execution_count": null,
   "id": "2549ac88",
   "metadata": {},
   "outputs": [],
   "source": [
    "for i in range(len(input_categories)):\n",
    "    if input_categories[i] in list_cats:\n",
    "        input_field.clear()\n",
    "        time.sleep(0.5)\n",
    "        input_field.send_keys(input_categories[i])\n",
    "        time.sleep(1)\n",
    "        buttons = driver.find_elements(By.XPATH, '//input[@type=\"checkbox\"]')\n",
    "        time.sleep(1)\n",
    "        for i in range(len(buttons)):\n",
    "            buttons[i].click()\n",
    "            time.sleep(1)"
   ]
  },
  {
   "cell_type": "code",
   "execution_count": null,
   "id": "c675005b",
   "metadata": {},
   "outputs": [],
   "source": [
    "#input_search.send_keys(Keys.RETURN)\n",
    "time.sleep(2)"
   ]
  },
  {
   "cell_type": "code",
   "execution_count": null,
   "id": "3bcb3ed0",
   "metadata": {},
   "outputs": [],
   "source": [
    "button = driver.find_elements(By.XPATH, '//button[@data-test=\"find-stock\"]')[0]\n",
    "button.click()"
   ]
  },
  {
   "cell_type": "code",
   "execution_count": null,
   "id": "12c5f956",
   "metadata": {},
   "outputs": [],
   "source": [
    "time.sleep(2)"
   ]
  },
  {
   "cell_type": "code",
   "execution_count": null,
   "id": "86b930ca",
   "metadata": {},
   "outputs": [],
   "source": [
    "buttons = driver.find_elements(By.XPATH, '//th[@class=\"Ta(end) Pstart(20px) Fz(xs) Py(5px)! Bgc($lv3BgColor) Va(m)  Cur(p) Bgc($hoverBgColor):h  Fw(400)!\"]')"
   ]
  },
  {
   "cell_type": "code",
   "execution_count": null,
   "id": "a0b06098",
   "metadata": {},
   "outputs": [],
   "source": [
    "# sort tickers by volume\n",
    "buttons[3].click()\n",
    "time.sleep(2)\n",
    "buttons[3].click()\n",
    "time.sleep(2)"
   ]
  },
  {
   "cell_type": "code",
   "execution_count": null,
   "id": "98b6ef9a",
   "metadata": {},
   "outputs": [],
   "source": [
    "# Find the <a> element\n",
    "a_element = driver.find_elements(By.XPATH, '//a[@data-test=\"quoteLink\"]')"
   ]
  },
  {
   "cell_type": "code",
   "execution_count": null,
   "id": "0f5c5e51",
   "metadata": {},
   "outputs": [],
   "source": [
    "len(a_element)"
   ]
  },
  {
   "cell_type": "code",
   "execution_count": null,
   "id": "22f94474",
   "metadata": {},
   "outputs": [],
   "source": [
    "list_etf = []\n",
    "for i in range(len(a_element)):\n",
    "    list_etf.append(a_element[i].text)"
   ]
  },
  {
   "cell_type": "code",
   "execution_count": null,
   "id": "d385ed5f",
   "metadata": {},
   "outputs": [],
   "source": [
    "if len(list_etf) > 10:\n",
    "    list_etf = list_etf[:10]"
   ]
  },
  {
   "cell_type": "code",
   "execution_count": null,
   "id": "2b92c124",
   "metadata": {},
   "outputs": [],
   "source": [
    "list_etf"
   ]
  },
  {
   "cell_type": "code",
   "execution_count": null,
   "id": "fffd0374",
   "metadata": {},
   "outputs": [],
   "source": [
    "stop"
   ]
  },
  {
   "cell_type": "code",
   "execution_count": null,
   "id": "25c7f540",
   "metadata": {},
   "outputs": [],
   "source": []
  },
  {
   "cell_type": "code",
   "execution_count": null,
   "id": "85e7ad76",
   "metadata": {},
   "outputs": [],
   "source": []
  },
  {
   "cell_type": "code",
   "execution_count": null,
   "id": "f1288971",
   "metadata": {},
   "outputs": [],
   "source": []
  },
  {
   "cell_type": "code",
   "execution_count": null,
   "id": "a9ba664a",
   "metadata": {},
   "outputs": [],
   "source": []
  },
  {
   "cell_type": "code",
   "execution_count": null,
   "id": "c20bf4f8",
   "metadata": {},
   "outputs": [],
   "source": []
  },
  {
   "cell_type": "code",
   "execution_count": null,
   "id": "273c2829",
   "metadata": {},
   "outputs": [],
   "source": []
  },
  {
   "cell_type": "code",
   "execution_count": null,
   "id": "9f9b0557",
   "metadata": {},
   "outputs": [],
   "source": []
  }
 ],
 "metadata": {
  "kernelspec": {
   "display_name": "Python [conda env:tf]",
   "language": "python",
   "name": "conda-env-tf-py"
  },
  "language_info": {
   "codemirror_mode": {
    "name": "ipython",
    "version": 3
   },
   "file_extension": ".py",
   "mimetype": "text/x-python",
   "name": "python",
   "nbconvert_exporter": "python",
   "pygments_lexer": "ipython3",
   "version": "3.9.16"
  }
 },
 "nbformat": 4,
 "nbformat_minor": 5
}
