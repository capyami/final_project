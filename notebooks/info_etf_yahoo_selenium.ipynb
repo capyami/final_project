{
 "cells": [
  {
   "cell_type": "code",
   "execution_count": 1,
   "id": "a813fe66",
   "metadata": {},
   "outputs": [],
   "source": [
    "import yfinance as yf\n",
    "import pandas as pd\n",
    "import numpy as np\n",
    "from selenium import webdriver\n",
    "from selenium.webdriver.common.by import By\n",
    "from selenium.webdriver.common.keys import Keys\n",
    "from selenium.webdriver.edge.service import Service\n",
    "from selenium.webdriver.support.ui import WebDriverWait\n",
    "import time\n",
    "import random"
   ]
  },
  {
   "cell_type": "code",
   "execution_count": 2,
   "id": "b2a8ee37",
   "metadata": {},
   "outputs": [
    {
     "data": {
      "text/plain": [
       "selenium.webdriver.edge.webdriver.WebDriver"
      ]
     },
     "execution_count": 2,
     "metadata": {},
     "output_type": "execute_result"
    }
   ],
   "source": [
    "path = './requirements/msedgedriver.exe'\n",
    "service = Service(executable_path=path)\n",
    "driver = webdriver.Edge(service=service)\n",
    "type(driver)"
   ]
  },
  {
   "cell_type": "code",
   "execution_count": 3,
   "id": "91accd50",
   "metadata": {},
   "outputs": [],
   "source": [
    "#driver.implicitly_wait(2)\n",
    "secs1 = random.uniform(1.08, 2.1)\n",
    "secs2 = random.uniform(2.09, 3.3)\n",
    "secs3 = random.uniform(3.15, 4.7)\n",
    "secs4 = random.uniform(4.1, 5.15)\n",
    "secs5 = random.uniform(4.8, 6.21)\n",
    "secs6 = random.uniform(6.4, 7.77)\n",
    "secs7 = random.uniform(6.9, 7.8)\n",
    "secs8 = random.uniform(7.8, 8.5)\n",
    "secs9 = random.uniform(9.1, 10.5)\n",
    "secs10 = random.uniform(10.2, 11.5)"
   ]
  },
  {
   "cell_type": "code",
   "execution_count": 4,
   "id": "ea9cc139",
   "metadata": {},
   "outputs": [],
   "source": [
    "ticker = 'SPY'"
   ]
  },
  {
   "cell_type": "code",
   "execution_count": 5,
   "id": "2b7fba66",
   "metadata": {},
   "outputs": [],
   "source": [
    "time.sleep(secs1)"
   ]
  },
  {
   "cell_type": "code",
   "execution_count": 6,
   "id": "e1f9bf19",
   "metadata": {},
   "outputs": [],
   "source": [
    "url = 'https://finance.yahoo.com/'\n",
    "driver.get(url)\n",
    "driver.maximize_window()"
   ]
  },
  {
   "cell_type": "code",
   "execution_count": 7,
   "id": "bbf1fcab",
   "metadata": {},
   "outputs": [],
   "source": [
    "time.sleep(secs2)"
   ]
  },
  {
   "cell_type": "code",
   "execution_count": 8,
   "id": "78b54721",
   "metadata": {},
   "outputs": [],
   "source": [
    "driver.find_element(By.XPATH, \"//button[@id='scroll-down-btn']\").click()"
   ]
  },
  {
   "cell_type": "code",
   "execution_count": 9,
   "id": "d0649474",
   "metadata": {},
   "outputs": [],
   "source": [
    "# click cookies\n",
    "driver.find_element(By.XPATH, \"//button[@class='btn secondary reject-all']\").click()"
   ]
  },
  {
   "cell_type": "code",
   "execution_count": 10,
   "id": "4b6fe5b1",
   "metadata": {},
   "outputs": [],
   "source": [
    "time.sleep(secs2)"
   ]
  },
  {
   "cell_type": "code",
   "execution_count": 11,
   "id": "91e398c1",
   "metadata": {},
   "outputs": [],
   "source": [
    "driver.find_element(By.XPATH, '//input[@aria-label=\"Search for news, symbols or companies\"]').click()"
   ]
  },
  {
   "cell_type": "code",
   "execution_count": 12,
   "id": "f2d5a519",
   "metadata": {},
   "outputs": [],
   "source": [
    "time.sleep(secs2)"
   ]
  },
  {
   "cell_type": "code",
   "execution_count": 13,
   "id": "94451f97",
   "metadata": {},
   "outputs": [],
   "source": [
    "driver.find_element(By.XPATH, '//input[@aria-label=\"Search for news, symbols or companies\"]').send_keys(ticker)"
   ]
  },
  {
   "cell_type": "code",
   "execution_count": 14,
   "id": "ef7b6bc4",
   "metadata": {},
   "outputs": [],
   "source": [
    "time.sleep(secs2)"
   ]
  },
  {
   "cell_type": "code",
   "execution_count": 15,
   "id": "26a2cab8",
   "metadata": {},
   "outputs": [],
   "source": [
    "driver.find_element(By.XPATH, '//li[@data-id=\"result-quotes-0\"]').click()"
   ]
  },
  {
   "cell_type": "code",
   "execution_count": 16,
   "id": "79d84351",
   "metadata": {},
   "outputs": [],
   "source": [
    "time.sleep(secs2)"
   ]
  },
  {
   "cell_type": "code",
   "execution_count": 17,
   "id": "76b2b9dc",
   "metadata": {},
   "outputs": [
    {
     "data": {
      "text/plain": [
       "'SPDR S&P 500 ETF Trust (SPY)'"
      ]
     },
     "execution_count": 17,
     "metadata": {},
     "output_type": "execute_result"
    }
   ],
   "source": [
    "# Name of ticker\n",
    "name_ticker = driver.find_element(By.XPATH, '//h1[@class=\"D(ib) Fz(18px)\"]').text\n",
    "name_ticker"
   ]
  },
  {
   "cell_type": "code",
   "execution_count": 18,
   "id": "4bdc9891",
   "metadata": {},
   "outputs": [
    {
     "data": {
      "text/plain": [
       "'22.63'"
      ]
     },
     "execution_count": 18,
     "metadata": {},
     "output_type": "execute_result"
    }
   ],
   "source": [
    "PE_ticker = driver.find_element(By.XPATH, '//td[@data-test=\"PE_RATIO-value\"]').text\n",
    "PE_ticker"
   ]
  },
  {
   "cell_type": "code",
   "execution_count": 19,
   "id": "44ad215b",
   "metadata": {},
   "outputs": [
    {
     "data": {
      "text/plain": [
       "'1.47%'"
      ]
     },
     "execution_count": 19,
     "metadata": {},
     "output_type": "execute_result"
    }
   ],
   "source": [
    "yield_ticker = driver.find_element(By.XPATH, '//td[@data-test=\"TD_YIELD-value\"]').text\n",
    "yield_ticker"
   ]
  },
  {
   "cell_type": "code",
   "execution_count": 20,
   "id": "ee5e8234",
   "metadata": {},
   "outputs": [
    {
     "data": {
      "text/plain": [
       "'18.37%'"
      ]
     },
     "execution_count": 20,
     "metadata": {},
     "output_type": "execute_result"
    }
   ],
   "source": [
    "# YTD Daily Total Return\n",
    "ytd_ticker = driver.find_element(By.XPATH, '//td[@data-test=\"YTD_DTR-value\"]').text\n",
    "ytd_ticker"
   ]
  },
  {
   "cell_type": "code",
   "execution_count": 21,
   "id": "a93153ab",
   "metadata": {},
   "outputs": [
    {
     "data": {
      "text/plain": [
       "'1.00'"
      ]
     },
     "execution_count": 21,
     "metadata": {},
     "output_type": "execute_result"
    }
   ],
   "source": [
    "beta_5y_ticker = driver.find_element(By.XPATH, '//td[@data-test=\"BETA_5Y-value\"]').text\n",
    "beta_5y_ticker"
   ]
  },
  {
   "cell_type": "code",
   "execution_count": 22,
   "id": "3d0f0a18",
   "metadata": {},
   "outputs": [
    {
     "data": {
      "text/plain": [
       "'0.09%'"
      ]
     },
     "execution_count": 22,
     "metadata": {},
     "output_type": "execute_result"
    }
   ],
   "source": [
    "expense_ratio_ticker = driver.find_element(By.XPATH, '//td[@data-test=\"EXPENSE_RATIO-value\"]').text\n",
    "expense_ratio_ticker"
   ]
  },
  {
   "cell_type": "code",
   "execution_count": 23,
   "id": "403a4a0b",
   "metadata": {},
   "outputs": [
    {
     "data": {
      "text/plain": [
       "'1993-01-22'"
      ]
     },
     "execution_count": 23,
     "metadata": {},
     "output_type": "execute_result"
    }
   ],
   "source": [
    "fund_inception_date_ticker = driver.find_element(By.XPATH, '//td[@data-test=\"FUND_INCEPTION_DATE-value\"]').text\n",
    "fund_inception_date_ticker"
   ]
  },
  {
   "cell_type": "code",
   "execution_count": 24,
   "id": "6c5d8afb",
   "metadata": {},
   "outputs": [],
   "source": [
    "# scroll down\n",
    "driver.execute_script(\"window.scrollTo(0,document.body.scrollHeight)\")\n",
    "time.sleep(secs1)"
   ]
  },
  {
   "cell_type": "code",
   "execution_count": 25,
   "id": "9f8a4167",
   "metadata": {},
   "outputs": [],
   "source": [
    "top_holdings_ticker = driver.find_elements(By.XPATH, '//td[@class=\"Ta(start)\"]')"
   ]
  },
  {
   "cell_type": "code",
   "execution_count": 26,
   "id": "6e3eebe6",
   "metadata": {},
   "outputs": [
    {
     "name": "stdout",
     "output_type": "stream",
     "text": [
      "0 Apple Inc\n",
      "1 AAPL\n",
      "2 Microsoft Corp\n",
      "3 MSFT\n",
      "4 Amazon.com Inc\n",
      "5 AMZN\n",
      "6 NVIDIA Corp\n",
      "7 NVDA\n",
      "8 Alphabet Inc Class A\n",
      "9 GOOGL\n",
      "10 Tesla Inc\n",
      "11 TSLA\n",
      "12 Meta Platforms Inc Class A\n",
      "13 META\n",
      "14 Alphabet Inc Class C\n",
      "15 GOOG\n",
      "16 Berkshire Hathaway Inc Class B\n",
      "17 BRK.B\n",
      "18 UnitedHealth Group Inc\n",
      "19 UNH\n"
     ]
    }
   ],
   "source": [
    "for i in range(len(top_holdings_ticker)):\n",
    "    print(str(i) + ' ' + top_holdings_ticker[i].text)"
   ]
  },
  {
   "cell_type": "code",
   "execution_count": 27,
   "id": "a50c0e68",
   "metadata": {},
   "outputs": [],
   "source": [
    "top_holdings_all_ticker = driver.find_elements(By.XPATH, '//tr[@class=\"Ta(end) BdT Bdc($seperatorColor) H(36px)\"]')"
   ]
  },
  {
   "cell_type": "code",
   "execution_count": 28,
   "id": "ac7f799b",
   "metadata": {},
   "outputs": [
    {
     "name": "stdout",
     "output_type": "stream",
     "text": [
      "0 Apple Inc AAPL 7.69%\n",
      "1 Microsoft Corp MSFT 6.79%\n",
      "2 Amazon.com Inc AMZN 3.12%\n",
      "3 NVIDIA Corp NVDA 2.81%\n",
      "4 Alphabet Inc Class A GOOGL 1.91%\n",
      "5 Tesla Inc TSLA 1.89%\n",
      "6 Meta Platforms Inc Class A META 1.70%\n",
      "7 Alphabet Inc Class C GOOG 1.66%\n",
      "8 Berkshire Hathaway Inc Class B BRK.B 1.63%\n",
      "9 UnitedHealth Group Inc UNH 1.20%\n"
     ]
    }
   ],
   "source": [
    "for i in range(len(top_holdings_all_ticker)):\n",
    "    print(str(i) + ' ' + top_holdings_all_ticker[i].text)"
   ]
  },
  {
   "cell_type": "code",
   "execution_count": 29,
   "id": "197715e6",
   "metadata": {},
   "outputs": [
    {
     "data": {
      "text/plain": [
       "[['Apple Inc', 'AAPL', '7.69%'],\n",
       " ['Microsoft Corp', 'MSFT', '6.79%'],\n",
       " ['Amazon.com Inc', 'AMZN', '3.12%'],\n",
       " ['NVIDIA Corp', 'NVDA', '2.81%'],\n",
       " ['Alphabet Inc Class A', 'GOOGL', '1.91%'],\n",
       " ['Tesla Inc', 'TSLA', '1.89%'],\n",
       " ['Meta Platforms Inc Class A', 'META', '1.70%'],\n",
       " ['Alphabet Inc Class C', 'GOOG', '1.66%'],\n",
       " ['Berkshire Hathaway Inc Class B', 'BRK.B', '1.63%'],\n",
       " ['UnitedHealth Group Inc', 'UNH', '1.20%']]"
      ]
     },
     "execution_count": 29,
     "metadata": {},
     "output_type": "execute_result"
    }
   ],
   "source": [
    "list_top_holdings_all_ticker = []\n",
    "for i in range(len(top_holdings_all_ticker)):\n",
    "    top_holdings_stocks_weight = top_holdings_all_ticker[i].text\n",
    "    #print(top_holdings_stocks_weight)\n",
    "    top_holdings_stocks_weight = top_holdings_stocks_weight.split(' ')\n",
    "    #print(top_holdings_stocks_weight)\n",
    "    if len(top_holdings_stocks_weight) >= 4:\n",
    "        top_holdings_stocks_weight = [' '.join(top_holdings_stocks_weight[:-2])] + top_holdings_stocks_weight[-2:]\n",
    "    list_top_holdings_all_ticker.append(top_holdings_stocks_weight)\n",
    "    \n",
    "list_top_holdings_all_ticker"
   ]
  },
  {
   "cell_type": "code",
   "execution_count": 30,
   "id": "9613c890",
   "metadata": {},
   "outputs": [],
   "source": [
    "top_holdings_all_ticker7 = top_holdings_all_ticker[7].text"
   ]
  },
  {
   "cell_type": "code",
   "execution_count": 31,
   "id": "26d0222d",
   "metadata": {},
   "outputs": [],
   "source": [
    "top_holdings_all_ticker7 = top_holdings_all_ticker7.split(' ')"
   ]
  },
  {
   "cell_type": "code",
   "execution_count": 32,
   "id": "3e7e4e67",
   "metadata": {},
   "outputs": [
    {
     "data": {
      "text/plain": [
       "['Alphabet Inc Class C', 'GOOG', '1.66%']"
      ]
     },
     "execution_count": 32,
     "metadata": {},
     "output_type": "execute_result"
    }
   ],
   "source": [
    "if len(top_holdings_all_ticker7) >= 4:\n",
    "    top_holdings_all_ticker7 = [' '.join(top_holdings_all_ticker7[:-2])] + top_holdings_all_ticker7[-2:]\n",
    "\n",
    "top_holdings_all_ticker7"
   ]
  },
  {
   "cell_type": "code",
   "execution_count": null,
   "id": "823ba977",
   "metadata": {},
   "outputs": [],
   "source": []
  },
  {
   "cell_type": "code",
   "execution_count": 33,
   "id": "59090088",
   "metadata": {},
   "outputs": [],
   "source": [
    "top_holdings_percentage_ticker = driver.find_elements(By.XPATH, '//td[@class=\"\"]')"
   ]
  },
  {
   "cell_type": "code",
   "execution_count": 34,
   "id": "a3d50721",
   "metadata": {},
   "outputs": [
    {
     "name": "stdout",
     "output_type": "stream",
     "text": [
      "0 7.69%\n",
      "1 6.79%\n",
      "2 3.12%\n",
      "3 2.81%\n",
      "4 1.91%\n",
      "5 1.89%\n",
      "6 1.70%\n",
      "7 1.66%\n",
      "8 1.63%\n",
      "9 1.20%\n"
     ]
    }
   ],
   "source": [
    "for i in range(len(top_holdings_percentage_ticker)):\n",
    "    print(str(i) + ' ' + top_holdings_percentage_ticker[i].text)"
   ]
  },
  {
   "cell_type": "code",
   "execution_count": 35,
   "id": "d1df5ecb",
   "metadata": {},
   "outputs": [
    {
     "data": {
      "text/plain": [
       "'The Trust seeks to achieve its investment objective by holding a portfolio of the common stocks that are included in the index (the “Portfolio”), with the weight of each stock in the Portfolio substantially corresponding to the weight of such stock in the index.'"
      ]
     },
     "execution_count": 35,
     "metadata": {},
     "output_type": "execute_result"
    }
   ],
   "source": [
    "summary_ticker = driver.find_element(By.XPATH, '//div[@class=\"Lh(21px)\"]').text\n",
    "summary_ticker"
   ]
  },
  {
   "cell_type": "code",
   "execution_count": 36,
   "id": "e98f006f",
   "metadata": {},
   "outputs": [],
   "source": [
    "time.sleep(secs1)"
   ]
  },
  {
   "cell_type": "markdown",
   "id": "1c473a7b",
   "metadata": {},
   "source": [
    "---"
   ]
  },
  {
   "cell_type": "markdown",
   "id": "cd2ffeca",
   "metadata": {},
   "source": [
    "holdings"
   ]
  },
  {
   "cell_type": "code",
   "execution_count": 37,
   "id": "36f92fd4",
   "metadata": {},
   "outputs": [],
   "source": [
    "# scroll up\n",
    "driver.execute_script(\"window.scrollBy(0,-500)\",\"\")\n",
    "time.sleep(secs1)"
   ]
  },
  {
   "cell_type": "code",
   "execution_count": 38,
   "id": "83582c2c",
   "metadata": {},
   "outputs": [],
   "source": [
    "# change of tab, holdings\n",
    "tabs = driver.find_elements(By.XPATH, '//a[@class=\"Lh(44px) Ta(c) Bdbw(3px) Bdbs(s) Px(12px) C($linkColor) Bdbc($seperatorColor) D(b) Td(n) selected_Bdbc($linkColor) selected_C($primaryColor) selected_Fw(b) \"]')"
   ]
  },
  {
   "cell_type": "code",
   "execution_count": 39,
   "id": "91f031f7",
   "metadata": {},
   "outputs": [
    {
     "name": "stdout",
     "output_type": "stream",
     "text": [
      "0 Summary\n",
      "1 Chart\n",
      "2 Conversations\n",
      "3 Historical Data\n",
      "4 Profile\n",
      "5 Options\n",
      "6 Holdings\n",
      "7 Performance\n",
      "8 Risk\n"
     ]
    }
   ],
   "source": [
    "for i in range(len(tabs)):\n",
    "    print(str(i) + ' ' + tabs[i].text)"
   ]
  },
  {
   "cell_type": "code",
   "execution_count": 40,
   "id": "01d07fa1",
   "metadata": {},
   "outputs": [],
   "source": [
    "tabs[6].click()\n",
    "time.sleep(secs1)"
   ]
  },
  {
   "cell_type": "code",
   "execution_count": 41,
   "id": "74b2b68a",
   "metadata": {},
   "outputs": [],
   "source": [
    "# overall and weightings equities\n",
    "overall_ticker = driver.find_elements(By.XPATH, '//div[@class=\"Bdbw(1px) Bdbc($seperatorColor) Bdbs(s) H(25px) Pt(10px)\"]')"
   ]
  },
  {
   "cell_type": "code",
   "execution_count": 42,
   "id": "b076095a",
   "metadata": {},
   "outputs": [
    {
     "name": "stdout",
     "output_type": "stream",
     "text": [
      "0 Stocks\n",
      "99.68%\n",
      "1 Bonds\n",
      "0.00%\n",
      "2 Basic Materials\n",
      "2.27%\n",
      "3 Consumer Cyclical\n",
      "10.79%\n",
      "4 Financial Services\n",
      "11.94%\n",
      "5 Real Estate\n",
      "2.48%\n",
      "6 Consumer Defensive\n",
      "6.59%\n",
      "7 Healthcare\n",
      "13.43%\n",
      "8 Utilities\n",
      "2.56%\n",
      "9 Communication Services\n",
      "8.37%\n",
      "10 Energy\n",
      "4.10%\n",
      "11 Industrials\n",
      "8.33%\n",
      "12 Technology\n",
      "28.82%\n",
      "13 Price/Earnings\n",
      "0.04\n",
      "14 Price/Book\n",
      "0.25\n",
      "15 Price/Sales\n",
      "0.39\n",
      "16 Price/Cashflow\n",
      "0.06\n",
      "17 Median Market Cap\n",
      "N/A\n",
      "18 3 Year Earnings Growth\n",
      "N/A\n",
      "19 US Government\n",
      "0.00%\n",
      "20 AAA\n",
      "N/A\n",
      "21 AA\n",
      "N/A\n",
      "22 A\n",
      "N/A\n",
      "23 BBB\n",
      "N/A\n",
      "24 BB\n",
      "N/A\n",
      "25 B\n",
      "N/A\n",
      "26 Below B\n",
      "N/A\n",
      "27 Others\n",
      "N/A\n"
     ]
    }
   ],
   "source": [
    "for i in range(len(overall_ticker)):\n",
    "    print(str(i) + ' ' + overall_ticker[i].text)"
   ]
  },
  {
   "cell_type": "code",
   "execution_count": 43,
   "id": "111b44a6",
   "metadata": {},
   "outputs": [
    {
     "data": {
      "text/plain": [
       "['Stocks', '99.68%']"
      ]
     },
     "execution_count": 43,
     "metadata": {},
     "output_type": "execute_result"
    }
   ],
   "source": [
    "overall_ticker[0].text.split('\\n')"
   ]
  },
  {
   "cell_type": "code",
   "execution_count": 44,
   "id": "185f7708",
   "metadata": {},
   "outputs": [],
   "source": [
    "driver.execute_script(\"window.scrollTo(0,document.body.scrollHeight)\")\n",
    "time.sleep(secs1)"
   ]
  },
  {
   "cell_type": "code",
   "execution_count": 45,
   "id": "f5998822",
   "metadata": {},
   "outputs": [],
   "source": [
    "holdings_ticker = driver.find_elements(By.XPATH, '//div[@class=\"Bdbw(1px) Bdbc($seperatorColor) Bdbs(s) H(25px) Pt(10px)\"]')"
   ]
  },
  {
   "cell_type": "code",
   "execution_count": 46,
   "id": "fe2bbc2b",
   "metadata": {},
   "outputs": [
    {
     "name": "stdout",
     "output_type": "stream",
     "text": [
      "0 Stocks\n",
      "99.68%\n",
      "1 Bonds\n",
      "0.00%\n",
      "2 Basic Materials\n",
      "2.27%\n",
      "3 Consumer Cyclical\n",
      "10.79%\n",
      "4 Financial Services\n",
      "11.94%\n",
      "5 Real Estate\n",
      "2.48%\n",
      "6 Consumer Defensive\n",
      "6.59%\n",
      "7 Healthcare\n",
      "13.43%\n",
      "8 Utilities\n",
      "2.56%\n",
      "9 Communication Services\n",
      "8.37%\n",
      "10 Energy\n",
      "4.10%\n",
      "11 Industrials\n",
      "8.33%\n",
      "12 Technology\n",
      "28.82%\n",
      "13 Price/Earnings\n",
      "0.04\n",
      "14 Price/Book\n",
      "0.25\n",
      "15 Price/Sales\n",
      "0.39\n",
      "16 Price/Cashflow\n",
      "0.06\n",
      "17 Median Market Cap\n",
      "N/A\n",
      "18 3 Year Earnings Growth\n",
      "N/A\n",
      "19 US Government\n",
      "0.00%\n",
      "20 AAA\n",
      "N/A\n",
      "21 AA\n",
      "N/A\n",
      "22 A\n",
      "N/A\n",
      "23 BBB\n",
      "N/A\n",
      "24 BB\n",
      "N/A\n",
      "25 B\n",
      "N/A\n",
      "26 Below B\n",
      "N/A\n",
      "27 Others\n",
      "N/A\n",
      "28 Category\n",
      "Large Blend\n",
      "29 Fund Family\n",
      "SPDR State Street Global Advisors\n",
      "30 Net Assets\n",
      "422.72B\n",
      "31 YTD Daily Total Return\n",
      "18.37%\n",
      "32 Yield\n",
      "1.47%\n",
      "33 Legal Type\n",
      "Exchange Traded Fund\n"
     ]
    }
   ],
   "source": [
    "for i in range(len(holdings_ticker)):\n",
    "    print(str(i) + ' ' + holdings_ticker[i].text)"
   ]
  },
  {
   "cell_type": "code",
   "execution_count": 47,
   "id": "3066f6a2",
   "metadata": {},
   "outputs": [],
   "source": [
    "category_ticker = holdings_ticker[-6].text\n"
   ]
  },
  {
   "cell_type": "code",
   "execution_count": 48,
   "id": "b0b9bb7d",
   "metadata": {},
   "outputs": [
    {
     "data": {
      "text/plain": [
       "'Category\\nLarge Blend'"
      ]
     },
     "execution_count": 48,
     "metadata": {},
     "output_type": "execute_result"
    }
   ],
   "source": [
    "category_ticker"
   ]
  },
  {
   "cell_type": "code",
   "execution_count": 49,
   "id": "0ad3ca7c",
   "metadata": {},
   "outputs": [],
   "source": [
    "per_ticker =  holdings_ticker[-21].text"
   ]
  },
  {
   "cell_type": "code",
   "execution_count": 50,
   "id": "e5d2e406",
   "metadata": {},
   "outputs": [],
   "source": [
    "per_ticker = per_ticker.split('\\n')"
   ]
  },
  {
   "cell_type": "code",
   "execution_count": 51,
   "id": "c05011bd",
   "metadata": {},
   "outputs": [],
   "source": [
    "per_ticker = per_ticker[1]"
   ]
  },
  {
   "cell_type": "code",
   "execution_count": 52,
   "id": "bafdf7e5",
   "metadata": {},
   "outputs": [
    {
     "data": {
      "text/plain": [
       "'0.04'"
      ]
     },
     "execution_count": 52,
     "metadata": {},
     "output_type": "execute_result"
    }
   ],
   "source": [
    "per_ticker"
   ]
  },
  {
   "cell_type": "code",
   "execution_count": 53,
   "id": "db14fdb8",
   "metadata": {},
   "outputs": [],
   "source": [
    "stocks_ticker = holdings_ticker[0].text\n",
    "stocks_ticker = stocks_ticker.replace('\\n', ' ')"
   ]
  },
  {
   "cell_type": "code",
   "execution_count": 54,
   "id": "ded74960",
   "metadata": {},
   "outputs": [],
   "source": [
    "bonds_ticker = holdings_ticker[1].text\n",
    "bonds_ticker = bonds_ticker.replace('\\n', ' ')"
   ]
  },
  {
   "cell_type": "code",
   "execution_count": 55,
   "id": "a0d9d5ca",
   "metadata": {},
   "outputs": [
    {
     "data": {
      "text/plain": [
       "['Basic Materials 2.27%',\n",
       " 'Consumer Cyclical 10.79%',\n",
       " 'Financial Services 11.94%',\n",
       " 'Real Estate 2.48%',\n",
       " 'Consumer Defensive 6.59%',\n",
       " 'Healthcare 13.43%',\n",
       " 'Utilities 2.56%',\n",
       " 'Communication Services 8.37%',\n",
       " 'Energy 4.10%',\n",
       " 'Industrials 8.33%',\n",
       " 'Technology 28.82%']"
      ]
     },
     "execution_count": 55,
     "metadata": {},
     "output_type": "execute_result"
    }
   ],
   "source": [
    "sector_stocks_ticker = []\n",
    "for i in range(len(holdings_ticker[2:-21])):\n",
    "    sector = holdings_ticker[2:-21][i].text\n",
    "    sector = sector.replace('\\n', ' ')\n",
    "    sector_stocks_ticker.append(sector)\n",
    "sector_stocks_ticker"
   ]
  },
  {
   "cell_type": "code",
   "execution_count": 56,
   "id": "b37d8f32",
   "metadata": {},
   "outputs": [
    {
     "data": {
      "text/plain": [
       "['US Government 0.00%',\n",
       " 'AAA N/A',\n",
       " 'AA N/A',\n",
       " 'A N/A',\n",
       " 'BBB N/A',\n",
       " 'BB N/A',\n",
       " 'B N/A',\n",
       " 'Below B N/A',\n",
       " 'Others N/A']"
      ]
     },
     "execution_count": 56,
     "metadata": {},
     "output_type": "execute_result"
    }
   ],
   "source": [
    "class_bonds_ticker = []\n",
    "for i in range(len(holdings_ticker[-15:-6])):\n",
    "    class_bond = holdings_ticker[-15:-6][i].text\n",
    "    class_bond = class_bond.replace('\\n', ' ')\n",
    "    class_bonds_ticker.append(class_bond)\n",
    "class_bonds_ticker"
   ]
  },
  {
   "cell_type": "markdown",
   "id": "20bf014a",
   "metadata": {},
   "source": [
    "---"
   ]
  },
  {
   "cell_type": "markdown",
   "id": "9b466094",
   "metadata": {},
   "source": [
    "## Risk"
   ]
  },
  {
   "cell_type": "code",
   "execution_count": 57,
   "id": "2d157dba",
   "metadata": {},
   "outputs": [],
   "source": [
    "driver.execute_script(\"window.scrollBy(0,-500)\",\"\")\n",
    "time.sleep(secs1)"
   ]
  },
  {
   "cell_type": "code",
   "execution_count": 58,
   "id": "ccfbb849",
   "metadata": {},
   "outputs": [],
   "source": [
    "tabs = driver.find_elements(By.XPATH, '//a[@class=\"Lh(44px) Ta(c) Bdbw(3px) Bdbs(s) Px(12px) C($linkColor) Bdbc($seperatorColor) D(b) Td(n) selected_Bdbc($linkColor) selected_C($primaryColor) selected_Fw(b) \"]')"
   ]
  },
  {
   "cell_type": "code",
   "execution_count": 59,
   "id": "e9f26dee",
   "metadata": {},
   "outputs": [
    {
     "name": "stdout",
     "output_type": "stream",
     "text": [
      "0 Summary\n",
      "1 Chart\n",
      "2 Conversations\n",
      "3 Historical Data\n",
      "4 Profile\n",
      "5 Options\n",
      "6 Holdings\n",
      "7 Performance\n",
      "8 Risk\n"
     ]
    }
   ],
   "source": [
    "for i in range(len(tabs)):\n",
    "    print(str(i) + ' ' + tabs[i].text)"
   ]
  },
  {
   "cell_type": "code",
   "execution_count": 60,
   "id": "65bd360d",
   "metadata": {},
   "outputs": [],
   "source": [
    "# change of tab\n",
    "tabs[8].click()\n",
    "time.sleep(secs2)"
   ]
  },
  {
   "cell_type": "code",
   "execution_count": 61,
   "id": "b9f9bd5b",
   "metadata": {},
   "outputs": [],
   "source": [
    "risk_ticker = driver.find_elements(By.XPATH, '//span[@class=\"W(39%) Fl(start)\"]')"
   ]
  },
  {
   "cell_type": "code",
   "execution_count": 62,
   "id": "abba24b5",
   "metadata": {},
   "outputs": [
    {
     "name": "stdout",
     "output_type": "stream",
     "text": [
      "0 1\n",
      "\n",
      "1 1\n",
      "\n",
      "2 1\n",
      "\n",
      "3 1.27\n",
      "\n",
      "4 1.11\n",
      "\n",
      "5 1.1\n",
      "\n",
      "6 100\n",
      "\n",
      "7 100\n",
      "\n",
      "8 100\n",
      "\n",
      "9 18.16\n",
      "\n",
      "10 18.74\n",
      "\n",
      "11 14.89\n",
      "\n",
      "12 0.75\n",
      "\n",
      "13 0.62\n",
      "\n",
      "14 0.81\n",
      "\n",
      "15 12.94\n",
      "\n",
      "16 10.58\n",
      "\n",
      "17 11.72\n",
      "\n"
     ]
    }
   ],
   "source": [
    "for i in range(len(risk_ticker)):\n",
    "    print(str(i) + ' ' + risk_ticker[i].text +'\\n')"
   ]
  },
  {
   "cell_type": "code",
   "execution_count": 63,
   "id": "cd8e0494",
   "metadata": {},
   "outputs": [],
   "source": [
    "risk_ticker = driver.find_elements(By.XPATH, '//div[@class=\"Bdbw(1px) Bdbc($seperatorColor) Bdbs(s) H(25px) Pt(10px)\"]')"
   ]
  },
  {
   "cell_type": "code",
   "execution_count": 64,
   "id": "5e3957d1",
   "metadata": {},
   "outputs": [
    {
     "name": "stdout",
     "output_type": "stream",
     "text": [
      "0 Alpha\n",
      "-0.06\n",
      "-0.65\n",
      "-0.05\n",
      "-0.48\n",
      "-0.07\n",
      "0.15\n",
      "\n",
      "1 BETA\n",
      "1\n",
      "0.98\n",
      "1\n",
      "1\n",
      "1\n",
      "1\n",
      "\n",
      "2 Mean Annual Return\n",
      "1.27\n",
      "0.86\n",
      "1.11\n",
      "1.28\n",
      "1.1\n",
      "0.69\n",
      "\n",
      "3 R-squared\n",
      "100\n",
      "94.06\n",
      "100\n",
      "95.34\n",
      "100\n",
      "96.99\n",
      "\n",
      "4 Standard Deviation\n",
      "18.16\n",
      "10.9\n",
      "18.74\n",
      "11.38\n",
      "14.89\n",
      "15.42\n",
      "\n",
      "5 Sharpe Ratio\n",
      "0.75\n",
      "0.94\n",
      "0.62\n",
      "1.34\n",
      "0.81\n",
      "0.48\n",
      "\n",
      "6 Treynor Ratio\n",
      "12.94\n",
      "10.38\n",
      "10.58\n",
      "15.73\n",
      "11.72\n",
      "6.54\n",
      "\n"
     ]
    }
   ],
   "source": [
    "for i in range(len(risk_ticker)):\n",
    "    print(str(i) + ' ' + risk_ticker[i].text +'\\n')"
   ]
  },
  {
   "cell_type": "code",
   "execution_count": 65,
   "id": "3a0ffbf6",
   "metadata": {},
   "outputs": [],
   "source": [
    "alpha_ticker = risk_ticker[0].text"
   ]
  },
  {
   "cell_type": "code",
   "execution_count": 66,
   "id": "c52e6a11",
   "metadata": {},
   "outputs": [],
   "source": [
    "beta_ticker = risk_ticker[1].text"
   ]
  },
  {
   "cell_type": "code",
   "execution_count": 67,
   "id": "3afa067d",
   "metadata": {},
   "outputs": [],
   "source": [
    "mean_annual_return_ticker = risk_ticker[2].text"
   ]
  },
  {
   "cell_type": "code",
   "execution_count": 68,
   "id": "f4c7cb0d",
   "metadata": {},
   "outputs": [],
   "source": [
    "r_squared_ticker = risk_ticker[3].text"
   ]
  },
  {
   "cell_type": "code",
   "execution_count": 69,
   "id": "026f0a76",
   "metadata": {},
   "outputs": [],
   "source": [
    "sharpe_ratio_ticker = risk_ticker[5].text"
   ]
  },
  {
   "cell_type": "code",
   "execution_count": 70,
   "id": "0c844c53",
   "metadata": {},
   "outputs": [],
   "source": [
    "treynor_ratio_ticker = risk_ticker[6].text"
   ]
  },
  {
   "cell_type": "code",
   "execution_count": null,
   "id": "7cf77a83",
   "metadata": {},
   "outputs": [],
   "source": []
  },
  {
   "cell_type": "code",
   "execution_count": 71,
   "id": "5aa07b83",
   "metadata": {},
   "outputs": [
    {
     "data": {
      "text/plain": [
       "'Alpha\\n-0.06\\n-0.65\\n-0.05\\n-0.48\\n-0.07\\n0.15'"
      ]
     },
     "execution_count": 71,
     "metadata": {},
     "output_type": "execute_result"
    }
   ],
   "source": [
    "alpha_ticker"
   ]
  },
  {
   "cell_type": "code",
   "execution_count": 72,
   "id": "544da3d7",
   "metadata": {},
   "outputs": [
    {
     "data": {
      "text/plain": [
       "'BETA\\n1\\n0.98\\n1\\n1\\n1\\n1'"
      ]
     },
     "execution_count": 72,
     "metadata": {},
     "output_type": "execute_result"
    }
   ],
   "source": [
    "beta_ticker"
   ]
  },
  {
   "cell_type": "code",
   "execution_count": 73,
   "id": "eaabfda6",
   "metadata": {},
   "outputs": [
    {
     "data": {
      "text/plain": [
       "'Mean Annual Return\\n1.27\\n0.86\\n1.11\\n1.28\\n1.1\\n0.69'"
      ]
     },
     "execution_count": 73,
     "metadata": {},
     "output_type": "execute_result"
    }
   ],
   "source": [
    "mean_annual_return_ticker"
   ]
  },
  {
   "cell_type": "code",
   "execution_count": 74,
   "id": "8bd2bf60",
   "metadata": {},
   "outputs": [
    {
     "data": {
      "text/plain": [
       "'R-squared\\n100\\n94.06\\n100\\n95.34\\n100\\n96.99'"
      ]
     },
     "execution_count": 74,
     "metadata": {},
     "output_type": "execute_result"
    }
   ],
   "source": [
    "r_squared_ticker"
   ]
  },
  {
   "cell_type": "code",
   "execution_count": 75,
   "id": "fea44839",
   "metadata": {},
   "outputs": [
    {
     "data": {
      "text/plain": [
       "'Sharpe Ratio\\n0.75\\n0.94\\n0.62\\n1.34\\n0.81\\n0.48'"
      ]
     },
     "execution_count": 75,
     "metadata": {},
     "output_type": "execute_result"
    }
   ],
   "source": [
    "sharpe_ratio_ticker"
   ]
  },
  {
   "cell_type": "code",
   "execution_count": 76,
   "id": "6854fd3d",
   "metadata": {},
   "outputs": [
    {
     "data": {
      "text/plain": [
       "'Treynor Ratio\\n12.94\\n10.38\\n10.58\\n15.73\\n11.72\\n6.54'"
      ]
     },
     "execution_count": 76,
     "metadata": {},
     "output_type": "execute_result"
    }
   ],
   "source": [
    "treynor_ratio_ticker"
   ]
  },
  {
   "cell_type": "code",
   "execution_count": null,
   "id": "bda77b6c",
   "metadata": {},
   "outputs": [],
   "source": []
  },
  {
   "cell_type": "code",
   "execution_count": 77,
   "id": "ce51940d",
   "metadata": {},
   "outputs": [],
   "source": [
    "alpha_ticker = alpha_ticker.split('\\n')\n",
    "alpha_ticker = alpha_ticker[1]"
   ]
  },
  {
   "cell_type": "code",
   "execution_count": 78,
   "id": "660910ab",
   "metadata": {},
   "outputs": [],
   "source": [
    "beta_ticker = beta_ticker.split('\\n')\n",
    "beta_ticker = beta_ticker[1]"
   ]
  },
  {
   "cell_type": "code",
   "execution_count": 79,
   "id": "3805b3a8",
   "metadata": {},
   "outputs": [],
   "source": [
    "mean_annual_return_ticker = mean_annual_return_ticker.split('\\n')\n",
    "mean_annual_return_ticker = mean_annual_return_ticker[1]"
   ]
  },
  {
   "cell_type": "code",
   "execution_count": 80,
   "id": "b652682c",
   "metadata": {},
   "outputs": [],
   "source": [
    "r_squared_ticker = r_squared_ticker.split('\\n')\n",
    "r_squared_ticker = r_squared_ticker[1]"
   ]
  },
  {
   "cell_type": "code",
   "execution_count": 81,
   "id": "3c25b396",
   "metadata": {},
   "outputs": [],
   "source": [
    "sharpe_ratio_ticker = sharpe_ratio_ticker.split('\\n')\n",
    "sharpe_ratio_ticker = sharpe_ratio_ticker[1]"
   ]
  },
  {
   "cell_type": "code",
   "execution_count": 82,
   "id": "75d753b0",
   "metadata": {},
   "outputs": [],
   "source": [
    "treynor_ratio_ticker = treynor_ratio_ticker.split('\\n')\n",
    "treynor_ratio_ticker = treynor_ratio_ticker[1]"
   ]
  },
  {
   "cell_type": "code",
   "execution_count": null,
   "id": "de7e0309",
   "metadata": {},
   "outputs": [],
   "source": []
  },
  {
   "cell_type": "markdown",
   "id": "bcad0698",
   "metadata": {},
   "source": [
    "---"
   ]
  },
  {
   "cell_type": "markdown",
   "id": "b26adaff",
   "metadata": {},
   "source": [
    "## Create the dataframes"
   ]
  },
  {
   "cell_type": "code",
   "execution_count": 83,
   "id": "4cab254a",
   "metadata": {},
   "outputs": [],
   "source": [
    "basic_info = pd.DataFrame(columns=['Name','Category','P/E','expense_ratio','inception_date'])\n",
    "\n",
    "technic_info = pd.DataFrame(columns=['alpha','beta','Mean_Annual_Return','R-Squared','Sharpe_Ratio','Treynor_Ratio'])\n",
    "\n",
    "asset_info = pd.DataFrame(columns=['Stocks','Sector_Stocks','Bonds', 'Class_Bonds'])\n",
    "\n",
    "top_stocks = pd.DataFrame(columns=['1', '2', '3', '4', '5', '6', '7', '8', '9','10'])\n",
    "#\n",
    "basic_info.loc[ticker] = [name_ticker,category_ticker,PE_ticker,expense_ratio_ticker, fund_inception_date_ticker]\n",
    "technic_info.loc[ticker] = [alpha_ticker, alpha_ticker, mean_annual_return_ticker, r_squared_ticker, sharpe_ratio_ticker, treynor_ratio_ticker]\n",
    "asset_info.loc[ticker] = [stocks_ticker, sector_stocks_ticker, bonds_ticker, class_bonds_ticker]\n",
    "top_stocks.loc[ticker] = [list_top_holdings_all_ticker[0], list_top_holdings_all_ticker[1], list_top_holdings_all_ticker[2], list_top_holdings_all_ticker[3], list_top_holdings_all_ticker[4], list_top_holdings_all_ticker[5], list_top_holdings_all_ticker[6], list_top_holdings_all_ticker[7], list_top_holdings_all_ticker[8],list_top_holdings_all_ticker[9]]\n",
    "\n"
   ]
  },
  {
   "cell_type": "code",
   "execution_count": 84,
   "id": "3276ee6e",
   "metadata": {},
   "outputs": [
    {
     "ename": "NameError",
     "evalue": "name 'stop' is not defined",
     "output_type": "error",
     "traceback": [
      "\u001b[1;31m---------------------------------------------------------------------------\u001b[0m",
      "\u001b[1;31mNameError\u001b[0m                                 Traceback (most recent call last)",
      "Cell \u001b[1;32mIn[84], line 1\u001b[0m\n\u001b[1;32m----> 1\u001b[0m \u001b[43mstop\u001b[49m\n",
      "\u001b[1;31mNameError\u001b[0m: name 'stop' is not defined"
     ]
    }
   ],
   "source": [
    "stop"
   ]
  },
  {
   "cell_type": "code",
   "execution_count": null,
   "id": "cf1e91b2",
   "metadata": {},
   "outputs": [],
   "source": [
    "basic_info"
   ]
  },
  {
   "cell_type": "code",
   "execution_count": null,
   "id": "290f09e8",
   "metadata": {},
   "outputs": [],
   "source": [
    "technic_info"
   ]
  },
  {
   "cell_type": "code",
   "execution_count": null,
   "id": "01966a89",
   "metadata": {},
   "outputs": [],
   "source": [
    "asset_info"
   ]
  },
  {
   "cell_type": "code",
   "execution_count": null,
   "id": "c6de8343",
   "metadata": {},
   "outputs": [],
   "source": [
    "top_stocks"
   ]
  },
  {
   "cell_type": "code",
   "execution_count": null,
   "id": "c2fc10b0",
   "metadata": {},
   "outputs": [],
   "source": []
  },
  {
   "cell_type": "code",
   "execution_count": null,
   "id": "58470ce5",
   "metadata": {},
   "outputs": [],
   "source": []
  },
  {
   "cell_type": "code",
   "execution_count": null,
   "id": "1af0cd3d",
   "metadata": {},
   "outputs": [],
   "source": []
  },
  {
   "cell_type": "code",
   "execution_count": null,
   "id": "1ddcb5ab",
   "metadata": {},
   "outputs": [],
   "source": []
  },
  {
   "cell_type": "code",
   "execution_count": null,
   "id": "658ec317",
   "metadata": {},
   "outputs": [],
   "source": []
  },
  {
   "cell_type": "code",
   "execution_count": null,
   "id": "ea46895f",
   "metadata": {},
   "outputs": [],
   "source": []
  },
  {
   "cell_type": "code",
   "execution_count": null,
   "id": "1edc0493",
   "metadata": {},
   "outputs": [],
   "source": []
  },
  {
   "cell_type": "code",
   "execution_count": null,
   "id": "cea59164",
   "metadata": {},
   "outputs": [],
   "source": [
    "STOP"
   ]
  },
  {
   "cell_type": "code",
   "execution_count": null,
   "id": "1a7ee834",
   "metadata": {},
   "outputs": [],
   "source": [
    "df = pd.DataFrame(columns=['A','B','C','D','E','F','G'])"
   ]
  },
  {
   "cell_type": "code",
   "execution_count": null,
   "id": "e1cb51b3",
   "metadata": {},
   "outputs": [],
   "source": [
    "df.set_index('A')"
   ]
  },
  {
   "cell_type": "code",
   "execution_count": null,
   "id": "7c53352c",
   "metadata": {},
   "outputs": [],
   "source": []
  },
  {
   "cell_type": "code",
   "execution_count": null,
   "id": "4f48c7f1",
   "metadata": {
    "scrolled": true
   },
   "outputs": [],
   "source": [
    "# click cookies\n",
    "driver.find_element(By.XPATH, '//button[@title=\"Scroll to the bottom of the text below to enable this button\"]').click()\n",
    "time.sleep(4)"
   ]
  },
  {
   "cell_type": "code",
   "execution_count": null,
   "id": "e4e90140",
   "metadata": {},
   "outputs": [],
   "source": [
    "# click for to write\n",
    "lens = driver.find_element(By.XPATH, '//button[@class=\"colorgray-3 displaynone fontSize6 px4 laptop_displayflex\"]')"
   ]
  },
  {
   "cell_type": "code",
   "execution_count": null,
   "id": "6b8567ae",
   "metadata": {},
   "outputs": [],
   "source": [
    "lens.click()"
   ]
  },
  {
   "cell_type": "code",
   "execution_count": null,
   "id": "bd235763",
   "metadata": {},
   "outputs": [],
   "source": [
    "# clilk lens with bar\n",
    "search_input = driver.find_element(By.XPATH, '//input[@placeholder=\"Search ...\"]')"
   ]
  },
  {
   "cell_type": "code",
   "execution_count": null,
   "id": "33bb03d6",
   "metadata": {},
   "outputs": [],
   "source": [
    "search_input.click()"
   ]
  },
  {
   "cell_type": "code",
   "execution_count": null,
   "id": "a0af01a2",
   "metadata": {},
   "outputs": [],
   "source": [
    "ticker = 'spy'"
   ]
  },
  {
   "cell_type": "code",
   "execution_count": null,
   "id": "8eea3cda",
   "metadata": {},
   "outputs": [],
   "source": [
    "search_input.send_keys(ticker)"
   ]
  },
  {
   "cell_type": "code",
   "execution_count": null,
   "id": "030b43c4",
   "metadata": {},
   "outputs": [],
   "source": [
    "time.sleep(2)"
   ]
  },
  {
   "cell_type": "code",
   "execution_count": null,
   "id": "c435c2c3",
   "metadata": {},
   "outputs": [],
   "source": [
    "# select th first\n",
    "first_ticker = driver.find_element(By.XPATH, '//div[@class=\"flexrsb w5    displayflex\"]')"
   ]
  },
  {
   "cell_type": "code",
   "execution_count": null,
   "id": "79f6f607",
   "metadata": {},
   "outputs": [],
   "source": [
    "first_ticker.click()\n",
    "time.sleep(4)"
   ]
  },
  {
   "cell_type": "code",
   "execution_count": null,
   "id": "fd7543c3",
   "metadata": {
    "scrolled": true
   },
   "outputs": [],
   "source": [
    "# click cookies\n",
    "driver.find_element(By.XPATH, '//button[@title=\"Scroll to the bottom of the text below to enable this button\"]').click()\n",
    "time.sleep(4)"
   ]
  },
  {
   "cell_type": "code",
   "execution_count": null,
   "id": "2c06fda1",
   "metadata": {},
   "outputs": [],
   "source": [
    "button_outperform = driver.find_element(By.XPATH, '//span[@class=\"fontSizebig fontWeightbold    h_pxsmall  mb1\"]')"
   ]
  },
  {
   "cell_type": "code",
   "execution_count": null,
   "id": "e456ec2a",
   "metadata": {},
   "outputs": [],
   "source": [
    "button_outperform.text"
   ]
  },
  {
   "cell_type": "code",
   "execution_count": null,
   "id": "01257b16",
   "metadata": {},
   "outputs": [],
   "source": [
    "button_ratings1 = driver.find_elements(By.XPATH, '//span[@class=\"colorblack fonth10_semibold\"]')"
   ]
  },
  {
   "cell_type": "code",
   "execution_count": null,
   "id": "d48eec9d",
   "metadata": {},
   "outputs": [],
   "source": [
    "# average price target\n",
    "button_ratings1[0].text"
   ]
  },
  {
   "cell_type": "code",
   "execution_count": null,
   "id": "6b408c17",
   "metadata": {},
   "outputs": [],
   "source": [
    "# buttons header reatings\n",
    "button_ratings2 = driver.find_elements(By.XPATH, '//div[@class=\"flexrcc     displayflex\"]')"
   ]
  },
  {
   "cell_type": "code",
   "execution_count": null,
   "id": "6243fcd6",
   "metadata": {},
   "outputs": [],
   "source": [
    "ratings = {'01Outperform': button_outperform.text,\n",
    "           '02Analyst consensus': button_ratings2[4].text,\n",
    "           '06Average Price Target': button_ratings1[0].text,\n",
    "           '10Blogger Sentiment': button_ratings2[5].text,\n",
    "           '11Hedge Fund Ttrend': button_ratings2[6].text,\n",
    "           '12Crowd Wisdom': button_ratings2[7].text,\n",
    "           '13News Sentiment': button_ratings2[8].text,\n",
    "           '14Technical SMA': button_ratings2[9].text,\n",
    "           '15Technical Momentum':button_ratings2[10].text\n",
    "          }"
   ]
  },
  {
   "cell_type": "code",
   "execution_count": null,
   "id": "024bd4be",
   "metadata": {},
   "outputs": [],
   "source": [
    "# change to analysis forecast\n",
    "to_forecast = driver.find_elements(By.XPATH, '//a[@data-link=\"etf-forecast\"]')"
   ]
  },
  {
   "cell_type": "code",
   "execution_count": null,
   "id": "fc310e16",
   "metadata": {},
   "outputs": [],
   "source": [
    "to_forecast[1].text"
   ]
  },
  {
   "cell_type": "code",
   "execution_count": null,
   "id": "2a5c80b4",
   "metadata": {},
   "outputs": [],
   "source": [
    "to_forecast[1].click()\n",
    "time.sleep(3)"
   ]
  },
  {
   "cell_type": "code",
   "execution_count": null,
   "id": "f9e0dd3b",
   "metadata": {},
   "outputs": [],
   "source": [
    "buttons_forecast_b = driver.find_elements(By.XPATH, '//span[@class=\"mr2\"]')"
   ]
  },
  {
   "cell_type": "code",
   "execution_count": null,
   "id": "f3b6a270",
   "metadata": {},
   "outputs": [],
   "source": [
    "# buy \n",
    "buttons_forecast_b[0].text"
   ]
  },
  {
   "cell_type": "code",
   "execution_count": null,
   "id": "39ced965",
   "metadata": {},
   "outputs": [],
   "source": [
    "# hold\n",
    "buttons_forecast_b[1].text"
   ]
  },
  {
   "cell_type": "code",
   "execution_count": null,
   "id": "c533f1b5",
   "metadata": {},
   "outputs": [],
   "source": [
    "# sell\n",
    "buttons_forecast_b[2].text"
   ]
  },
  {
   "cell_type": "code",
   "execution_count": null,
   "id": "b9b72397",
   "metadata": {},
   "outputs": [],
   "source": [
    "ratings['03Buy'] = buttons_forecast_b[0].text\n",
    "ratings['04Hold'] =  buttons_forecast_b[1].text\n",
    "ratings['05Sell'] = buttons_forecast_b[2].text"
   ]
  },
  {
   "cell_type": "code",
   "execution_count": null,
   "id": "bb22cee7",
   "metadata": {},
   "outputs": [],
   "source": [
    "ratings"
   ]
  },
  {
   "cell_type": "code",
   "execution_count": null,
   "id": "7b3f8ebb",
   "metadata": {},
   "outputs": [],
   "source": [
    "price_forecast = driver.find_elements(By.XPATH, '//tr[@class=\"w12 fontSize5 fontWeightsemibold flexrs_ maxW480 laptop_px0 laptop_fontSize7 laptop_flexrb_\"]')"
   ]
  },
  {
   "cell_type": "code",
   "execution_count": null,
   "id": "197f98b0",
   "metadata": {},
   "outputs": [],
   "source": [
    "for i in range(len(price_forecast)):\n",
    "    print(price_forecast[i].text)\n",
    "    print('--------------------')"
   ]
  },
  {
   "cell_type": "code",
   "execution_count": null,
   "id": "58b3b293",
   "metadata": {},
   "outputs": [],
   "source": [
    "ratings['Price Target'] = price_forecast[0].text"
   ]
  },
  {
   "cell_type": "code",
   "execution_count": null,
   "id": "3b129e96",
   "metadata": {},
   "outputs": [],
   "source": [
    "ratings"
   ]
  },
  {
   "cell_type": "code",
   "execution_count": null,
   "id": "a55a765e",
   "metadata": {},
   "outputs": [],
   "source": [
    "ratings_forecast = driver.find_elements(By.XPATH, '//div[@class=\"flexccc     displayflex ipad_flexrc_ ipad_pb4\"]')\n",
    "#<div class=\"flexccc     displayflex ipad_flexrc_ ipad_pb4\"><div class=\"flexrsc     displayflex h_px4\" title=\"\"><svg viewBox=\"0 0 64 64\" class=\"h11 fontSize5\"><path d=\"M32,0 A32,32 0 1,1 13.928163045135296,58.408496910592746 L17.542530436108237,53.1267975284742 A25.6,25.6 0 1,0 32,6.399999999999999 Z\" fill=\"#199ca5\" stroke=\"white\" stroke-width=\"0.8\"></path><path d=\"M13.928163045135296,58.408496910592746 A32,32 0 0,1 21.312815317853353,1.837372734297663 L23.45025225428268,7.869898187438128 A25.6,25.6 0 0,0 17.542530436108237,53.1267975284742 Z\" fill=\"#999999\" stroke=\"white\" stroke-width=\"0.8\"></path><path d=\"M21.312815317853353,1.837372734297663 A32,32 0 0,1 31.999999999999993,0 L31.999999999999993,6.399999999999999 A25.6,25.6 0 0,0 23.45025225428268,7.869898187438128 Z\" fill=\"#912767\" stroke=\"white\" stroke-width=\"0.8\"></path><g class=\"override  fontSize6\"><text class=\"override  fontWeightbold fontSize6\" x=\"50%\" y=\"50%\" text-anchor=\"middle\" dy=\"0.20em\">6K</text><text class=\"fontSizesmaller fontWeightlight colorblack\" x=\"50%\" y=\"50%\" fill=\"#000000\" text-anchor=\"middle\" dy=\"1.55em\">Ratings</text></g></svg></div><div class=\"flexracf w12   mt4 displayflex ml4 ipad_flexcc_\"><div class=\"flexrsc     displayflex  mb3  fontSize7 colorpale  mr4\"><i class=\"m2_qQF44 icon-rect  mr2   displayinline-flex  h12 flexccc\" style=\"color: rgb(25, 156, 165);\"></i><div class=\"flexrsc colorpale\"><span class=\"mr2\">59.55%</span> Buy</div></div><div class=\"flexrsc     displayflex  mb3  fontSize7 colorgray-1  mr4\"><i class=\"m2_qQF44 icon-rect  mr2   displayinline-flex  h12 flexccc\" style=\"color: rgb(153, 153, 153);\"></i><div class=\"flexrsc colorgray-1\"><span class=\"mr2\">35.03%</span> Hold</div></div><div class=\"flexrsc     displayflex  mb3  fontSize7 colorpurple-dark  mr4\"><i class=\"m2_qQF44 icon-rect  mr2   displayinline-flex  h12 flexccc\" style=\"color: rgb(145, 39, 103);\"></i><div class=\"flexrsc colorpurple-dark\"><span class=\"mr2\">5.42%</span> Sell</div></div></div> </div>"
   ]
  },
  {
   "cell_type": "code",
   "execution_count": null,
   "id": "381d85e8",
   "metadata": {},
   "outputs": [],
   "source": [
    "len(ratings_forecast)"
   ]
  },
  {
   "cell_type": "code",
   "execution_count": null,
   "id": "5afe8ab8",
   "metadata": {},
   "outputs": [],
   "source": [
    "ratings_forecast[0].text"
   ]
  },
  {
   "cell_type": "code",
   "execution_count": null,
   "id": "dea4d1ab",
   "metadata": {},
   "outputs": [],
   "source": [
    "stop"
   ]
  },
  {
   "cell_type": "code",
   "execution_count": null,
   "id": "78e823f9",
   "metadata": {},
   "outputs": [],
   "source": [
    "<svg viewBox=\"0 0 64 64\" class=\"h11 fontSize5\"><path d=\"M32,0 A32,32 0 1,1 13.928163045135296,58.408496910592746 L17.542530436108237,53.1267975284742 A25.6,25.6 0 1,0 32,6.399999999999999 Z\" fill=\"#199ca5\" stroke=\"white\" stroke-width=\"0.8\"></path><path d=\"M13.928163045135296,58.408496910592746 A32,32 0 0,1 21.312815317853353,1.837372734297663 L23.45025225428268,7.869898187438128 A25.6,25.6 0 0,0 17.542530436108237,53.1267975284742 Z\" fill=\"#999999\" stroke=\"white\" stroke-width=\"0.8\"></path><path d=\"M21.312815317853353,1.837372734297663 A32,32 0 0,1 31.999999999999993,0 L31.999999999999993,6.399999999999999 A25.6,25.6 0 0,0 23.45025225428268,7.869898187438128 Z\" fill=\"#912767\" stroke=\"white\" stroke-width=\"0.8\"></path><g class=\"override  fontSize6\"><text class=\"override  fontWeightbold fontSize6\" x=\"50%\" y=\"50%\" text-anchor=\"middle\" dy=\"0.20em\">6K</text><text class=\"fontSizesmaller fontWeightlight colorblack\" x=\"50%\" y=\"50%\" fill=\"#000000\" text-anchor=\"middle\" dy=\"1.55em\">Ratings</text></g></svg>"
   ]
  },
  {
   "cell_type": "code",
   "execution_count": null,
   "id": "3379fba6",
   "metadata": {},
   "outputs": [],
   "source": []
  },
  {
   "cell_type": "code",
   "execution_count": null,
   "id": "a1396dd0",
   "metadata": {},
   "outputs": [],
   "source": []
  },
  {
   "cell_type": "code",
   "execution_count": null,
   "id": "e1bf362c",
   "metadata": {},
   "outputs": [],
   "source": []
  },
  {
   "cell_type": "code",
   "execution_count": null,
   "id": "dd93133e",
   "metadata": {},
   "outputs": [],
   "source": []
  },
  {
   "cell_type": "code",
   "execution_count": null,
   "id": "99c3c096",
   "metadata": {},
   "outputs": [],
   "source": []
  },
  {
   "cell_type": "code",
   "execution_count": null,
   "id": "753d4e1c",
   "metadata": {},
   "outputs": [],
   "source": [
    "stop"
   ]
  },
  {
   "cell_type": "code",
   "execution_count": null,
   "id": "24994079",
   "metadata": {},
   "outputs": [],
   "source": [
    "cssCopy codemy_dict = {'key': [1, 2, 3]}\n",
    "my_dict['key'].append(4)\n",
    "print(my_dict)  # Output: {'key': [1, 2, 3, 4]}"
   ]
  },
  {
   "cell_type": "code",
   "execution_count": null,
   "id": "c20bf4f8",
   "metadata": {},
   "outputs": [],
   "source": []
  },
  {
   "cell_type": "code",
   "execution_count": null,
   "id": "273c2829",
   "metadata": {},
   "outputs": [],
   "source": []
  },
  {
   "cell_type": "code",
   "execution_count": null,
   "id": "9f9b0557",
   "metadata": {},
   "outputs": [],
   "source": []
  }
 ],
 "metadata": {
  "kernelspec": {
   "display_name": "Python [conda env:tf]",
   "language": "python",
   "name": "conda-env-tf-py"
  },
  "language_info": {
   "codemirror_mode": {
    "name": "ipython",
    "version": 3
   },
   "file_extension": ".py",
   "mimetype": "text/x-python",
   "name": "python",
   "nbconvert_exporter": "python",
   "pygments_lexer": "ipython3",
   "version": "3.9.16"
  }
 },
 "nbformat": 4,
 "nbformat_minor": 5
}
