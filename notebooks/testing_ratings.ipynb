{
 "cells": [
  {
   "cell_type": "code",
   "execution_count": 1,
   "id": "2f91a51f",
   "metadata": {},
   "outputs": [],
   "source": [
    "import yfinance as yf\n",
    "import pandas as pd\n",
    "import numpy as np\n",
    "from selenium import webdriver\n",
    "from selenium.webdriver.common.by import By\n",
    "from selenium.webdriver.common.keys import Keys\n",
    "from selenium.webdriver.edge.service import Service\n",
    "from selenium.webdriver.support.ui import WebDriverWait\n",
    "import time\n",
    "from selenium.common.exceptions import NoSuchElementException\n",
    "import financedatabase as fd"
   ]
  },
  {
   "cell_type": "code",
   "execution_count": 2,
   "id": "25bbd17a",
   "metadata": {},
   "outputs": [
    {
     "data": {
      "text/plain": [
       "selenium.webdriver.edge.webdriver.WebDriver"
      ]
     },
     "execution_count": 2,
     "metadata": {},
     "output_type": "execute_result"
    }
   ],
   "source": [
    "# def ratings_etf(list_etf):\n",
    "path = './requirements/msedgedriver.exe'\n",
    "service = Service(executable_path=path)\n",
    "driver = webdriver.Edge(service=service)\n",
    "type(driver)"
   ]
  },
  {
   "cell_type": "code",
   "execution_count": 3,
   "id": "b3f2630d",
   "metadata": {},
   "outputs": [],
   "source": [
    "#driver.implicitly_wait(2)\n",
    "time.sleep(2)"
   ]
  },
  {
   "cell_type": "code",
   "execution_count": 4,
   "id": "8b580696",
   "metadata": {},
   "outputs": [],
   "source": [
    "url = 'https://www.tipranks.com/stocks/googl'\n",
    "driver.get(url)\n",
    "#driver.maximize_window()"
   ]
  },
  {
   "cell_type": "code",
   "execution_count": 5,
   "id": "e0712ad3",
   "metadata": {},
   "outputs": [],
   "source": [
    "time.sleep(20)"
   ]
  },
  {
   "cell_type": "code",
   "execution_count": 6,
   "id": "6eba3647",
   "metadata": {},
   "outputs": [],
   "source": [
    "# click cookies\n",
    "driver.find_element(By.XPATH, '//button[@title=\"Scroll to the bottom of the text below to enable this button\"]').click()\n",
    "time.sleep(4)"
   ]
  },
  {
   "cell_type": "code",
   "execution_count": 7,
   "id": "5a128c22",
   "metadata": {},
   "outputs": [],
   "source": [
    "valuation_ratings = pd.DataFrame(columns=['Outperform','Analyst_consensus', 'Buy', 'Hold', 'Sell', 'Highest_price_target','Average_price_target','Lowest_price_target'])\n",
    " "
   ]
  },
  {
   "cell_type": "code",
   "execution_count": 8,
   "id": "d07a6128",
   "metadata": {},
   "outputs": [],
   "source": [
    "   \n",
    "technic_ratings = pd.DataFrame(columns=['Blogger_sentiment','Hedge_Fund_Trend','Crowd_Wisdom','News_Sentiment','Technical_SMA','Technical_Momentum'])\n",
    " "
   ]
  },
  {
   "cell_type": "code",
   "execution_count": 9,
   "id": "c75ddd21",
   "metadata": {},
   "outputs": [],
   "source": [
    "   \n",
    "etf_description = pd.DataFrame(columns=['ETF_description'])"
   ]
  },
  {
   "cell_type": "code",
   "execution_count": 10,
   "id": "6e185470",
   "metadata": {},
   "outputs": [],
   "source": [
    "#for i in range(len(list_etf)):"
   ]
  },
  {
   "cell_type": "code",
   "execution_count": 11,
   "id": "bc210081",
   "metadata": {},
   "outputs": [],
   "source": [
    "list_etf = ['URNJ', 'LIT', 'CGW', 'SPY', 'EFA', 'VEA', 'IEFA', 'RSP', 'IVV', 'VOO', 'VTI', 'SCHF', 'VXUS', 'AAXJ']"
   ]
  },
  {
   "cell_type": "code",
   "execution_count": 12,
   "id": "bdb06b5e",
   "metadata": {},
   "outputs": [
    {
     "data": {
      "text/plain": [
       "'URNJ'"
      ]
     },
     "execution_count": 12,
     "metadata": {},
     "output_type": "execute_result"
    }
   ],
   "source": [
    "list_etf[0]"
   ]
  },
  {
   "cell_type": "code",
   "execution_count": 13,
   "id": "eafe68dc",
   "metadata": {},
   "outputs": [],
   "source": [
    "# etfs = fd.ETFs()\n",
    "# etfs = etfs.search()\n",
    "# name_ticker = etfs.filter(like=list_etf[i], axis=0)['name'][0]\n",
    "ticker = list_etf[0]\n",
    "#if '.' in list_etf[1]:\n",
    "    #continue\n",
    "#ticker = ticker.split('.')\n",
    "#ticker = ticker[0]\n",
    "# click for to write"
   ]
  },
  {
   "cell_type": "code",
   "execution_count": 14,
   "id": "fd3f0e85",
   "metadata": {},
   "outputs": [],
   "source": [
    "lens = driver.find_element(By.XPATH, '//button[@class=\"colorgray-3 displaynone fontSize6 px4 laptop_displayflex\"]')"
   ]
  },
  {
   "cell_type": "code",
   "execution_count": 15,
   "id": "efd30f80",
   "metadata": {},
   "outputs": [],
   "source": [
    "lens.click()\n",
    "time.sleep(1.5)\n",
    "# clilk lens with bar\n",
    "search_input = driver.find_element(By.XPATH, '//input[@placeholder=\"Search ...\"]')"
   ]
  },
  {
   "cell_type": "code",
   "execution_count": 16,
   "id": "77116d81",
   "metadata": {},
   "outputs": [],
   "source": [
    "search_input.click()\n",
    "\n",
    "# ticker = 'spy'"
   ]
  },
  {
   "cell_type": "code",
   "execution_count": 17,
   "id": "79fbc79f",
   "metadata": {},
   "outputs": [],
   "source": [
    "search_input.send_keys(list_etf[0])\n",
    "# search_input.send_keys(name_ticker+f'({ticker})')\n",
    "time.sleep(2)"
   ]
  },
  {
   "cell_type": "code",
   "execution_count": 18,
   "id": "80237c5f",
   "metadata": {},
   "outputs": [],
   "source": [
    "test_elements = driver.find_elements(By.XPATH, '//a[@class=\"colorblack-4 fontFamilyregular truncate flexrsb displayflex hoverCursorpointer w12 px4 py3 fontWeightsemibold\"]')\n",
    "for i in range(len(test_elements)):\n",
    "    if 'ETF' in test_elements[i].text or 'Trust' in test_elements[i].text or 'Fund' in test_elements[i].text or 'Hedge' in test_elements[i].text or 'Etf' in test_elements[i].text:\n",
    "        test_elements[i].click()\n",
    "        break\n",
    "# select th first"
   ]
  },
  {
   "cell_type": "code",
   "execution_count": 19,
   "id": "8fed929f",
   "metadata": {},
   "outputs": [],
   "source": [
    "'''        try:\n",
    "    first_ticker = driver.find_element(By.XPATH, '//div[@class=\"flexrsb w5    displayflex\"]')\n",
    "\n",
    "    first_ticker.click()\n",
    "    #time.sleep(5)\n",
    "except NoSuchElementException:\n",
    "    search_input.click()\n",
    "    time.sleep(2)\n",
    "    search_input.clear()\n",
    "    time.sleep(0.5)\n",
    "    search_input.send_keys(ticker)\n",
    "    time.sleep(2)\n",
    "    first_ticker = driver.find_element(By.XPATH, '//div[@class=\"flexrsb w5    displayflex\"]')\n",
    "    first_ticker.click()'''\n",
    "time.sleep(9.5)"
   ]
  },
  {
   "cell_type": "code",
   "execution_count": 20,
   "id": "c2df8739",
   "metadata": {},
   "outputs": [],
   "source": [
    "# click cookies\n",
    "driver.find_element(By.XPATH, '//button[@title=\"Scroll to the bottom of the text below to enable this button\"]').click()\n",
    "time.sleep(4)"
   ]
  },
  {
   "cell_type": "code",
   "execution_count": 21,
   "id": "ebfdf689",
   "metadata": {},
   "outputs": [],
   "source": [
    "try:\n",
    "    button_outperform = driver.find_element(By.XPATH, '//span[@class=\"fontSizebig fontWeightbold    h_pxsmall  mb1\"]')\n",
    "    Outperform = button_outperform.text\n",
    "except NoSuchElementException:\n",
    "    Outperform = ' '\n",
    "    # button_outperform = ' '"
   ]
  },
  {
   "cell_type": "code",
   "execution_count": 22,
   "id": "b7f5572b",
   "metadata": {},
   "outputs": [
    {
     "data": {
      "text/plain": [
       "'6'"
      ]
     },
     "execution_count": 22,
     "metadata": {},
     "output_type": "execute_result"
    }
   ],
   "source": [
    "Outperform"
   ]
  },
  {
   "cell_type": "code",
   "execution_count": 23,
   "id": "913a86b3",
   "metadata": {},
   "outputs": [],
   "source": [
    "button_ratings241 = driver.find_elements(By.XPATH, '//div[@class=\"pt4 px3 grow1 flexr_sf ipad_px0 ipad_pl4 ipad_w_px9 mobile_pl3 mobile_pr3 mobile_w12\"]')\n",
    "#<div class=\"pt4 px3 grow1 flexr_sf ipad_px0 ipad_pl4 ipad_w_px9 mobile_pl3 mobile_pr3 mobile_w12\"><a class=\"flexc_c radiilarge borderColorgray px2   hoverColorlink hoverCursorpointer mb3 w6 ipad_w_px4 ipad_h_px3 mobile_w6\" data-link=\"etf-forecast\" href=\"/etf/cgw/forecast\"><div class=\"flexc__ w12    displayflex hoverBgwhite-2 h_px3 shadow1 radiilarge\"><h3 class=\"borderColorgray  w12 aligncenter fontSize7small colorblack-6 fontWeightsemibold pt3  ipadpro_fontSize9\">Analyst Consensus</h3><div class=\"radiilarge w12 h12 aligncenter flexrbb\"><div class=\"flexca_ w12    displayflex h12   borderColorgray laptop_mr2\" title=\"\"><span class=\"fontSize11 fontWeightsemibold  colorblack-5  whiteSpacenowrap ipad_fontSizesmall\"></span><div class=\"flexrcc     displayflex\"><i class=\"m2_qQF44 icon-rhombus   colorgray-2 fontSize8 displayflex  pr3\"></i><div class=\"textTransformcapitalize fontWeightbold truncate ipadpro_fontSize7 fontSize6 colorerr whiteSpacenowrap  colorgray-2\" title=\"Hold\">Hold</div></div><div class=\"mt2 truncate2 pb3 fonth10_normal colorgray-3 whiteSpacepre-wrap\">Average Price Target:<br style=\"line-height: 1;\"> <span class=\"colorblack fonth10_semibold\">$60.35</span> (<span class=\"colorpale fonth10_semibold\">15.62% Upside</span>)</div></div></div></div></a><a class=\"flexc_c radiilarge borderColorgray px2   hoverColorlink hoverCursorpointer mb3 w6 ipad_w_px4 ipad_h_px3 mobile_w6\" data-link=\"etf-hedge-funds\" href=\"/etf/cgw/hedge-funds\"><div class=\"flexc__ w12    displayflex hoverBgwhite-2 h_px3 shadow1 radiilarge\"><h3 class=\"borderColorgray  w12 aligncenter fontSize7small colorblack-6 fontWeightsemibold pt3  ipadpro_fontSize9\">Hedge Fund Trend</h3><div class=\"radiilarge w12 h12 aligncenter flexrbb\"><div class=\"flexccc w12    displayflex h12   borderColorgray laptop_mr2\" title=\"\"><span class=\"fontSize11 fontWeightsemibold  colorblack-5  whiteSpacenowrap ipad_fontSizesmall\"></span><div class=\"flexrcc     displayflex\"><i class=\"m2_qQF44 icon-triangle   colorpurple-1 fontSize9 displayinline-flex  transformflipY pr2\"></i><i class=\"m2_qQF44 icon-rhombus   colorpurple-1 fontSize8 displaynone  transformflipY pr2\"></i><div class=\"textTransformcapitalize fontWeightbold truncate ipadpro_fontSize7 fontSize6 colorerr whiteSpacenowrap  colorpurple-1\" title=\"Decreased\">Decreased</div></div></div></div></div></a></div>"
   ]
  },
  {
   "cell_type": "code",
   "execution_count": 24,
   "id": "c124c21e",
   "metadata": {},
   "outputs": [
    {
     "data": {
      "text/plain": [
       "1"
      ]
     },
     "execution_count": 24,
     "metadata": {},
     "output_type": "execute_result"
    }
   ],
   "source": [
    "len(button_ratings241)"
   ]
  },
  {
   "cell_type": "code",
   "execution_count": 25,
   "id": "c849c5de",
   "metadata": {},
   "outputs": [
    {
     "data": {
      "text/plain": [
       "'Analyst Consensus\\nHold\\nAverage Price Target:\\n $26.36 (51.07% Upside)'"
      ]
     },
     "execution_count": 25,
     "metadata": {},
     "output_type": "execute_result"
    }
   ],
   "source": [
    "button_ratings241[0].text"
   ]
  },
  {
   "cell_type": "code",
   "execution_count": 26,
   "id": "371a8fd8",
   "metadata": {},
   "outputs": [],
   "source": [
    "button_ratings1 = driver.find_elements(By.XPATH, '//span[@class=\"colorblack fonth10_semibold\"]')"
   ]
  },
  {
   "cell_type": "code",
   "execution_count": 27,
   "id": "5cabdc6d",
   "metadata": {},
   "outputs": [
    {
     "data": {
      "text/plain": [
       "1"
      ]
     },
     "execution_count": 27,
     "metadata": {},
     "output_type": "execute_result"
    }
   ],
   "source": [
    "len(button_ratings1)"
   ]
  },
  {
   "cell_type": "code",
   "execution_count": 28,
   "id": "0e62e768",
   "metadata": {},
   "outputs": [
    {
     "data": {
      "text/plain": [
       "'$26.36'"
      ]
     },
     "execution_count": 28,
     "metadata": {},
     "output_type": "execute_result"
    }
   ],
   "source": [
    "button_ratings1[0].text"
   ]
  },
  {
   "cell_type": "code",
   "execution_count": 29,
   "id": "19ff6adc",
   "metadata": {},
   "outputs": [],
   "source": [
    "try:\n",
    "    button_ratings1 = driver.find_elements(By.XPATH, '//span[@class=\"colorblack fonth10_semibold\"]')\n",
    "    if len(button_ratings1) != 0:\n",
    "        Average_Price_Target = button_ratings1[0].text\n",
    "    else:\n",
    "        Average_Price_Target = ' '\n",
    "except NoSuchElementException:\n",
    "    variable_test = ' '\n",
    "    Average_Price_Target = ' '\n",
    "# buttons header reatings"
   ]
  },
  {
   "cell_type": "code",
   "execution_count": 30,
   "id": "0c7c61c0",
   "metadata": {},
   "outputs": [
    {
     "data": {
      "text/plain": [
       "'$26.36'"
      ]
     },
     "execution_count": 30,
     "metadata": {},
     "output_type": "execute_result"
    }
   ],
   "source": [
    "Average_Price_Target"
   ]
  },
  {
   "cell_type": "code",
   "execution_count": 31,
   "id": "3143f253",
   "metadata": {},
   "outputs": [],
   "source": [
    "button_ratings2 = driver.find_elements(By.XPATH, '//div[@class=\"flexrcc     displayflex\"]')"
   ]
  },
  {
   "cell_type": "code",
   "execution_count": 32,
   "id": "7c01d29e",
   "metadata": {},
   "outputs": [
    {
     "name": "stdout",
     "output_type": "stream",
     "text": [
      "0 Advanced Chart >\n",
      "1 \n",
      "2 \n",
      "3 \n",
      "4 Hold\n",
      "5 ―\n",
      "6 300.00%\n",
      "7 \n",
      "8 \n",
      "9 \n",
      "10 \n"
     ]
    }
   ],
   "source": [
    "for i in range(len(button_ratings2)):\n",
    "    print(str(i) + ' ' + button_ratings2[i].text)"
   ]
  },
  {
   "cell_type": "code",
   "execution_count": 33,
   "id": "01c8ab21",
   "metadata": {},
   "outputs": [
    {
     "name": "stdout",
     "output_type": "stream",
     "text": [
      "Advanced Chart >\n",
      "\n",
      "\n",
      "\n",
      "Hold\n",
      "―\n",
      "300.00%\n",
      "\n",
      "\n",
      "\n",
      "\n"
     ]
    }
   ],
   "source": [
    "for i in range(len(button_ratings2)):\n",
    "    print(button_ratings2[i].text)"
   ]
  },
  {
   "cell_type": "code",
   "execution_count": 45,
   "id": "166fb247",
   "metadata": {},
   "outputs": [
    {
     "data": {
      "text/plain": [
       "11"
      ]
     },
     "execution_count": 45,
     "metadata": {},
     "output_type": "execute_result"
    }
   ],
   "source": [
    "len(button_ratings2)"
   ]
  },
  {
   "cell_type": "code",
   "execution_count": 34,
   "id": "b401fe1f",
   "metadata": {},
   "outputs": [],
   "source": [
    "try:\n",
    "    button_ratings2 = driver.find_elements(By.XPATH, '//div[@class=\"flexrcc     displayflex\"]')\n",
    "    if len(button_ratings2) == 15:\n",
    "        Analyst_consensus = button_ratings2[4].text\n",
    "        Blogger_Sentiment = button_ratings2[5].text\n",
    "        Hedge_Fund_Trend = button_ratings2[6].text\n",
    "        Crowd_Wisdom = button_ratings2[7].text\n",
    "        News_Sentiment = button_ratings2[8].text\n",
    "        Technical_SMA = button_ratings2[9].text\n",
    "        Technical_Momentum = button_ratings2[10].text\n",
    "        \n",
    "    elif len(button_ratings2) > 12:\n",
    "        Analyst_consensus = button_ratings2[4].text\n",
    "        Blogger_Sentiment = button_ratings2[5].text\n",
    "        Hedge_Fund_Trend = button_ratings2[6].text\n",
    "        Crowd_Wisdom = button_ratings2[7].text\n",
    "        News_Sentiment = ' '\n",
    "        Technical_SMA = button_ratings2[-6].text\n",
    "        Technical_Momentum = button_ratings2[-5].text\n",
    "        \n",
    "    elif len(button_ratings2) < 13 and len(button_ratings2) > 7:\n",
    "        Analyst_consensus = button_ratings2[4].text\n",
    "        Blogger_Sentiment = ' '\n",
    "        Hedge_Fund_Trend = button_ratings2[5].text\n",
    "        Crowd_Wisdom = ' '\n",
    "        News_Sentiment = ' '\n",
    "        Technical_SMA = button_ratings2[6].text\n",
    "        Technical_Momentum = button_ratings2[7].text\n",
    "        \n",
    "    else:\n",
    "        variable_test = ' '\n",
    "        Analyst_consensus = ' '\n",
    "        Blogger_Sentiment = ' '\n",
    "        Hedge_Fund_Trend = ' '\n",
    "        Crowd_Wisdom = ' '\n",
    "        News_Sentiment = ' ' \n",
    "        Technical_SMA = ' '\n",
    "        Technical_Momentum = ' '\n",
    "        \n",
    "except NoSuchElementException:\n",
    "    variable_test = ' '\n",
    "    Analyst_consensus = ' '\n",
    "    Blogger_Sentiment = ' '\n",
    "    Hedge_Fund_Trend = ' '\n",
    "    Crowd_Wisdom = ' '\n",
    "    News_Sentiment = ' ' \n",
    "    Technical_SMA = ' '\n",
    "    Technical_Momentum = ' '"
   ]
  },
  {
   "cell_type": "code",
   "execution_count": 35,
   "id": "e5dc9d3c",
   "metadata": {},
   "outputs": [
    {
     "data": {
      "text/plain": [
       "\"if len(button_ratings2) == 15:\\ntry:\\n    Outperform = button_outperform.text\\nexcept NoSuchElementException:\\n    Outperform = ' '\\ntry:\\n    Analyst_consensus = button_ratings2[4].text\\nexcept NoSuchElementException:\\n    Analyst_consensus = ' '\\ntry:\\n    Average_Price_Target = button_ratings1[0].text\\nexcept NoSuchElementException:\\n    Average_Price_Target = ' '\\ntry:\\n    Blogger_Sentiment = button_ratings2[5].text\\nexcept NoSuchElementException:\\n    Blogger_Sentiment = ' '\\ntry:\\n    Hedge_Fund_Trend = button_ratings2[6].text\\nexcept NoSuchElementException:\\n    Hedge_Fund_Trend = ' '\\ntry:\\n    Crowd_Wisdom = button_ratings2[7].text\\nexcept NoSuchElementException:\\n    Crowd_Wisdom = ' '\\ntry:\\n    News_Sentiment = button_ratings2[8].text\\nexcept NoSuchElementException:\\n    News_Sentiment = ' '    \\ntry:\\n    Technical_SMA = button_ratings2[9].text\\nexcept NoSuchElementException:\\n    Technical_SMA = ' '\\ntry:\\n    Technical_Momentum = button_ratings2[10].text\\nexcept NoSuchElementException:\\n    Technical_Momentum = ' '\\n\\nelse:\\ntry:\\n    Outperform = button_outperform.text\\nexcept NoSuchElementException:\\n    Outperform = ' '\\ntry:\\n    Analyst_consensus = button_ratings2[4].text\\nexcept NoSuchElementException:\\n    Analyst_consensus = ' '\\ntry:\\n    Average_Price_Target = button_ratings1[0].text\\nexcept NoSuchElementException:\\n    Average_Price_Target = ' '\\ntry:\\n    Blogger_Sentiment = button_ratings2[5].text\\nexcept NoSuchElementException:\\n    Blogger_Sentiment = ' '\\ntry:\\n    Hedge_Fund_Trend = button_ratings2[6].text\\nexcept NoSuchElementException:\\n    Hedge_Fund_Trend = ' '\\ntry:\\n    Crowd_Wisdom = button_ratings2[7].text\\nexcept NoSuchElementException:\\n    Crowd_Wisdom = ' '\\nNews_Sentiment = ' '\\n    \\ntry:\\n    Technical_SMA = button_ratings2[-6].text\\nexcept NoSuchElementException:\\n    Technical_SMA = ' '\\ntry:\\n    Technical_Momentum = button_ratings2[-5].text\\nexcept NoSuchElementException:\\n    Technical_Momentum = ' '\""
      ]
     },
     "execution_count": 35,
     "metadata": {},
     "output_type": "execute_result"
    }
   ],
   "source": [
    "    \"\"\"if len(button_ratings2) == 15:\n",
    "    try:\n",
    "        Outperform = button_outperform.text\n",
    "    except NoSuchElementException:\n",
    "        Outperform = ' '\n",
    "    try:\n",
    "        Analyst_consensus = button_ratings2[4].text\n",
    "    except NoSuchElementException:\n",
    "        Analyst_consensus = ' '\n",
    "    try:\n",
    "        Average_Price_Target = button_ratings1[0].text\n",
    "    except NoSuchElementException:\n",
    "        Average_Price_Target = ' '\n",
    "    try:\n",
    "        Blogger_Sentiment = button_ratings2[5].text\n",
    "    except NoSuchElementException:\n",
    "        Blogger_Sentiment = ' '\n",
    "    try:\n",
    "        Hedge_Fund_Trend = button_ratings2[6].text\n",
    "    except NoSuchElementException:\n",
    "        Hedge_Fund_Trend = ' '\n",
    "    try:\n",
    "        Crowd_Wisdom = button_ratings2[7].text\n",
    "    except NoSuchElementException:\n",
    "        Crowd_Wisdom = ' '\n",
    "    try:\n",
    "        News_Sentiment = button_ratings2[8].text\n",
    "    except NoSuchElementException:\n",
    "        News_Sentiment = ' '    \n",
    "    try:\n",
    "        Technical_SMA = button_ratings2[9].text\n",
    "    except NoSuchElementException:\n",
    "        Technical_SMA = ' '\n",
    "    try:\n",
    "        Technical_Momentum = button_ratings2[10].text\n",
    "    except NoSuchElementException:\n",
    "        Technical_Momentum = ' '\n",
    "    \n",
    "else:\n",
    "    try:\n",
    "        Outperform = button_outperform.text\n",
    "    except NoSuchElementException:\n",
    "        Outperform = ' '\n",
    "    try:\n",
    "        Analyst_consensus = button_ratings2[4].text\n",
    "    except NoSuchElementException:\n",
    "        Analyst_consensus = ' '\n",
    "    try:\n",
    "        Average_Price_Target = button_ratings1[0].text\n",
    "    except NoSuchElementException:\n",
    "        Average_Price_Target = ' '\n",
    "    try:\n",
    "        Blogger_Sentiment = button_ratings2[5].text\n",
    "    except NoSuchElementException:\n",
    "        Blogger_Sentiment = ' '\n",
    "    try:\n",
    "        Hedge_Fund_Trend = button_ratings2[6].text\n",
    "    except NoSuchElementException:\n",
    "        Hedge_Fund_Trend = ' '\n",
    "    try:\n",
    "        Crowd_Wisdom = button_ratings2[7].text\n",
    "    except NoSuchElementException:\n",
    "        Crowd_Wisdom = ' '\n",
    "    News_Sentiment = ' '\n",
    "        \n",
    "    try:\n",
    "        Technical_SMA = button_ratings2[-6].text\n",
    "    except NoSuchElementException:\n",
    "        Technical_SMA = ' '\n",
    "    try:\n",
    "        Technical_Momentum = button_ratings2[-5].text\n",
    "    except NoSuchElementException:\n",
    "        Technical_Momentum = ' '\"\"\""
   ]
  },
  {
   "cell_type": "code",
   "execution_count": 36,
   "id": "25901dd4",
   "metadata": {},
   "outputs": [],
   "source": [
    "    \n",
    "etf_description_text = driver.find_element(By.XPATH, '//div[@class=\"px4\"]')\n",
    "etf_description_text = etf_description_text.text\n",
    "#<div class=\"px4\">SPY tracks a market cap-weighted index of US large- and mid-cap stocks selected by the S&amp;P Committee.</div>"
   ]
  },
  {
   "cell_type": "code",
   "execution_count": 37,
   "id": "75845e7a",
   "metadata": {},
   "outputs": [],
   "source": [
    "    \n",
    "# change to analysis forecast\n",
    "to_forecast = driver.find_elements(By.XPATH, '//a[@data-link=\"etf-forecast\"]')\n",
    "\n",
    "if len(to_forecast) > 0:\n",
    "\n",
    "    to_forecast[1].text\n",
    "    \n",
    "    to_forecast[1].click()\n",
    "    time.sleep(3)\n",
    "    \n",
    "    buttons_forecast_b = driver.find_elements(By.XPATH, '//span[@class=\"mr2\"]')\n",
    "    \n",
    "    ratings_Buy = buttons_forecast_b[0].text\n",
    "    ratings_Hold =  buttons_forecast_b[1].text\n",
    "    ratings_Sell = buttons_forecast_b[2].text\n",
    "    \n",
    "    price_forecast = driver.find_elements(By.XPATH, '//tr[@class=\"w12 fontSize5 fontWeightsemibold flexrs_ maxW480 laptop_px0 laptop_fontSize7 laptop_flexrb_\"]')\n",
    "    \n",
    "    price_consensus = price_forecast[0].text\n",
    "    price_consensus\n",
    "    \n",
    "    list_price_target = price_consensus.split('\\n')\n",
    "    \n",
    "    Highest_Price_Target = list_price_target[1]\n",
    "    \n",
    "    Average_Price_Target = list_price_target[3]\n",
    "    \n",
    "    Lowest_Price_Target = list_price_target[5]\n",
    "else:    \n",
    "    ratings_Buy = ' '\n",
    "    ratings_Hold = ' '\n",
    "    ratings_Sell = ' '\n",
    "    price_forecast = ' '\n",
    "    price_consensus = ' '\n",
    "    list_price_target =  ' '\n",
    "    Highest_Price_Target =  ' '\n",
    "    Average_Price_Target =  ' '\n",
    "    Lowest_Price_Target =  ' '"
   ]
  },
  {
   "cell_type": "code",
   "execution_count": 38,
   "id": "9ad952f7",
   "metadata": {},
   "outputs": [],
   "source": [
    "#ratings_forecast = driver.find_elements(By.XPATH, '//div[@class=\"flexccc     displayflex ipad_flexrc_ ipad_pb4\"]')\n",
    "#<div class=\"flexccc     displayflex ipad_flexrc_ ipad_pb4\"><div class=\"flexrsc     displayflex h_px4\" title=\"\"><svg viewBox=\"0 0 64 64\" class=\"h11 fontSize5\"><path d=\"M32,0 A32,32 0 1,1 13.928163045135296,58.408496910592746 L17.542530436108237,53.1267975284742 A25.6,25.6 0 1,0 32,6.399999999999999 Z\" fill=\"#199ca5\" stroke=\"white\" stroke-width=\"0.8\"></path><path d=\"M13.928163045135296,58.408496910592746 A32,32 0 0,1 21.312815317853353,1.837372734297663 L23.45025225428268,7.869898187438128 A25.6,25.6 0 0,0 17.542530436108237,53.1267975284742 Z\" fill=\"#999999\" stroke=\"white\" stroke-width=\"0.8\"></path><path d=\"M21.312815317853353,1.837372734297663 A32,32 0 0,1 31.999999999999993,0 L31.999999999999993,6.399999999999999 A25.6,25.6 0 0,0 23.45025225428268,7.869898187438128 Z\" fill=\"#912767\" stroke=\"white\" stroke-width=\"0.8\"></path><g class=\"override  fontSize6\"><text class=\"override  fontWeightbold fontSize6\" x=\"50%\" y=\"50%\" text-anchor=\"middle\" dy=\"0.20em\">6K</text><text class=\"fontSizesmaller fontWeightlight colorblack\" x=\"50%\" y=\"50%\" fill=\"#000000\" text-anchor=\"middle\" dy=\"1.55em\">Ratings</text></g></svg></div><div class=\"flexracf w12   mt4 displayflex ml4 ipad_flexcc_\"><div class=\"flexrsc     displayflex  mb3  fontSize7 colorpale  mr4\"><i class=\"m2_qQF44 icon-rect  mr2   displayinline-flex  h12 flexccc\" style=\"color: rgb(25, 156, 165);\"></i><div class=\"flexrsc colorpale\"><span class=\"mr2\">59.55%</span> Buy</div></div><div class=\"flexrsc     displayflex  mb3  fontSize7 colorgray-1  mr4\"><i class=\"m2_qQF44 icon-rect  mr2   displayinline-flex  h12 flexccc\" style=\"color: rgb(153, 153, 153);\"></i><div class=\"flexrsc colorgray-1\"><span class=\"mr2\">35.03%</span> Hold</div></div><div class=\"flexrsc     displayflex  mb3  fontSize7 colorpurple-dark  mr4\"><i class=\"m2_qQF44 icon-rect  mr2   displayinline-flex  h12 flexccc\" style=\"color: rgb(145, 39, 103);\"></i><div class=\"flexrsc colorpurple-dark\"><span class=\"mr2\">5.42%</span> Sell</div></div></div> </div>"
   ]
  },
  {
   "cell_type": "code",
   "execution_count": 39,
   "id": "76d60243",
   "metadata": {},
   "outputs": [],
   "source": [
    "valuation_ratings.loc[ticker] = [Outperform, Analyst_consensus, ratings_Buy, ratings_Hold, ratings_Sell, Highest_Price_Target, Average_Price_Target, Lowest_Price_Target]"
   ]
  },
  {
   "cell_type": "code",
   "execution_count": 40,
   "id": "2cd6fd58",
   "metadata": {},
   "outputs": [],
   "source": [
    "technic_ratings.loc[ticker] = [Blogger_Sentiment, Hedge_Fund_Trend, Crowd_Wisdom, News_Sentiment, Technical_SMA, Technical_Momentum]"
   ]
  },
  {
   "cell_type": "code",
   "execution_count": 41,
   "id": "bc5cb777",
   "metadata": {},
   "outputs": [],
   "source": [
    "etf_description.loc[ticker] = [etf_description_text]"
   ]
  },
  {
   "cell_type": "code",
   "execution_count": 42,
   "id": "c672d9f5",
   "metadata": {},
   "outputs": [
    {
     "data": {
      "text/html": [
       "<div>\n",
       "<style scoped>\n",
       "    .dataframe tbody tr th:only-of-type {\n",
       "        vertical-align: middle;\n",
       "    }\n",
       "\n",
       "    .dataframe tbody tr th {\n",
       "        vertical-align: top;\n",
       "    }\n",
       "\n",
       "    .dataframe thead th {\n",
       "        text-align: right;\n",
       "    }\n",
       "</style>\n",
       "<table border=\"1\" class=\"dataframe\">\n",
       "  <thead>\n",
       "    <tr style=\"text-align: right;\">\n",
       "      <th></th>\n",
       "      <th>Outperform</th>\n",
       "      <th>Analyst_consensus</th>\n",
       "      <th>Buy</th>\n",
       "      <th>Hold</th>\n",
       "      <th>Sell</th>\n",
       "      <th>Highest_price_target</th>\n",
       "      <th>Average_price_target</th>\n",
       "      <th>Lowest_price_target</th>\n",
       "    </tr>\n",
       "  </thead>\n",
       "  <tbody>\n",
       "    <tr>\n",
       "      <th>URNJ</th>\n",
       "      <td>6</td>\n",
       "      <td>Hold</td>\n",
       "      <td>89.29%</td>\n",
       "      <td>10.71%</td>\n",
       "      <td>0.00%</td>\n",
       "      <td>$27.83</td>\n",
       "      <td>$26.36</td>\n",
       "      <td>$24.80</td>\n",
       "    </tr>\n",
       "  </tbody>\n",
       "</table>\n",
       "</div>"
      ],
      "text/plain": [
       "     Outperform Analyst_consensus     Buy    Hold   Sell Highest_price_target  \\\n",
       "URNJ          6              Hold  89.29%  10.71%  0.00%               $27.83   \n",
       "\n",
       "     Average_price_target Lowest_price_target  \n",
       "URNJ               $26.36              $24.80  "
      ]
     },
     "execution_count": 42,
     "metadata": {},
     "output_type": "execute_result"
    }
   ],
   "source": [
    "valuation_ratings"
   ]
  },
  {
   "cell_type": "code",
   "execution_count": 43,
   "id": "44ed256d",
   "metadata": {},
   "outputs": [
    {
     "data": {
      "text/html": [
       "<div>\n",
       "<style scoped>\n",
       "    .dataframe tbody tr th:only-of-type {\n",
       "        vertical-align: middle;\n",
       "    }\n",
       "\n",
       "    .dataframe tbody tr th {\n",
       "        vertical-align: top;\n",
       "    }\n",
       "\n",
       "    .dataframe thead th {\n",
       "        text-align: right;\n",
       "    }\n",
       "</style>\n",
       "<table border=\"1\" class=\"dataframe\">\n",
       "  <thead>\n",
       "    <tr style=\"text-align: right;\">\n",
       "      <th></th>\n",
       "      <th>Blogger_sentiment</th>\n",
       "      <th>Hedge_Fund_Trend</th>\n",
       "      <th>Crowd_Wisdom</th>\n",
       "      <th>News_Sentiment</th>\n",
       "      <th>Technical_SMA</th>\n",
       "      <th>Technical_Momentum</th>\n",
       "    </tr>\n",
       "  </thead>\n",
       "  <tbody>\n",
       "    <tr>\n",
       "      <th>URNJ</th>\n",
       "      <td></td>\n",
       "      <td>―</td>\n",
       "      <td></td>\n",
       "      <td></td>\n",
       "      <td>300.00%</td>\n",
       "      <td></td>\n",
       "    </tr>\n",
       "  </tbody>\n",
       "</table>\n",
       "</div>"
      ],
      "text/plain": [
       "     Blogger_sentiment Hedge_Fund_Trend Crowd_Wisdom News_Sentiment  \\\n",
       "URNJ                                  ―                               \n",
       "\n",
       "     Technical_SMA Technical_Momentum  \n",
       "URNJ       300.00%                     "
      ]
     },
     "execution_count": 43,
     "metadata": {},
     "output_type": "execute_result"
    }
   ],
   "source": [
    "technic_ratings"
   ]
  },
  {
   "cell_type": "code",
   "execution_count": 44,
   "id": "1bdca4c7",
   "metadata": {},
   "outputs": [
    {
     "data": {
      "text/html": [
       "<div>\n",
       "<style scoped>\n",
       "    .dataframe tbody tr th:only-of-type {\n",
       "        vertical-align: middle;\n",
       "    }\n",
       "\n",
       "    .dataframe tbody tr th {\n",
       "        vertical-align: top;\n",
       "    }\n",
       "\n",
       "    .dataframe thead th {\n",
       "        text-align: right;\n",
       "    }\n",
       "</style>\n",
       "<table border=\"1\" class=\"dataframe\">\n",
       "  <thead>\n",
       "    <tr style=\"text-align: right;\">\n",
       "      <th></th>\n",
       "      <th>ETF_description</th>\n",
       "    </tr>\n",
       "  </thead>\n",
       "  <tbody>\n",
       "    <tr>\n",
       "      <th>URNJ</th>\n",
       "      <td>URNJ seeks to track an index of small cap uran...</td>\n",
       "    </tr>\n",
       "  </tbody>\n",
       "</table>\n",
       "</div>"
      ],
      "text/plain": [
       "                                        ETF_description\n",
       "URNJ  URNJ seeks to track an index of small cap uran..."
      ]
     },
     "execution_count": 44,
     "metadata": {},
     "output_type": "execute_result"
    }
   ],
   "source": [
    "etf_description\n",
    "    "
   ]
  },
  {
   "cell_type": "code",
   "execution_count": null,
   "id": "bddc8d4f",
   "metadata": {},
   "outputs": [],
   "source": []
  },
  {
   "cell_type": "code",
   "execution_count": null,
   "id": "3224e2fd",
   "metadata": {},
   "outputs": [],
   "source": []
  }
 ],
 "metadata": {
  "kernelspec": {
   "display_name": "Python [conda env:tf]",
   "language": "python",
   "name": "conda-env-tf-py"
  },
  "language_info": {
   "codemirror_mode": {
    "name": "ipython",
    "version": 3
   },
   "file_extension": ".py",
   "mimetype": "text/x-python",
   "name": "python",
   "nbconvert_exporter": "python",
   "pygments_lexer": "ipython3",
   "version": "3.9.16"
  }
 },
 "nbformat": 4,
 "nbformat_minor": 5
}
