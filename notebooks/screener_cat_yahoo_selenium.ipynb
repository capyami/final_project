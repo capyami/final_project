{
 "cells": [
  {
   "cell_type": "code",
   "execution_count": 1,
   "id": "a813fe66",
   "metadata": {},
   "outputs": [],
   "source": [
    "import yfinance as yf\n",
    "import pandas as pd\n",
    "import numpy as np\n",
    "from selenium import webdriver\n",
    "from selenium.webdriver.common.by import By\n",
    "from selenium.webdriver.common.keys import Keys\n",
    "from selenium.webdriver.edge.service import Service\n",
    "from selenium.webdriver.support.ui import WebDriverWait\n",
    "import time"
   ]
  },
  {
   "cell_type": "code",
   "execution_count": 2,
   "id": "b2a8ee37",
   "metadata": {},
   "outputs": [
    {
     "data": {
      "text/plain": [
       "selenium.webdriver.edge.webdriver.WebDriver"
      ]
     },
     "execution_count": 2,
     "metadata": {},
     "output_type": "execute_result"
    }
   ],
   "source": [
    "path = './requirements/msedgedriver.exe'\n",
    "service = Service(executable_path=path)\n",
    "driver = webdriver.Edge(service=service)\n",
    "type(driver)"
   ]
  },
  {
   "cell_type": "code",
   "execution_count": 3,
   "id": "2b7fba66",
   "metadata": {},
   "outputs": [],
   "source": [
    "#driver.implicitly_wait(2)\n",
    "time.sleep(2)"
   ]
  },
  {
   "cell_type": "code",
   "execution_count": 4,
   "id": "e1f9bf19",
   "metadata": {},
   "outputs": [],
   "source": [
    "url = 'https://es.finance.yahoo.com/screener/etf/new/'\n",
    "driver.get(url)\n",
    "driver.maximize_window()"
   ]
  },
  {
   "cell_type": "code",
   "execution_count": 5,
   "id": "bbf1fcab",
   "metadata": {},
   "outputs": [],
   "source": [
    "time.sleep(2)"
   ]
  },
  {
   "cell_type": "code",
   "execution_count": 6,
   "id": "a0612fbd",
   "metadata": {},
   "outputs": [],
   "source": [
    "#By.XPATH, \"//button[@aria-label='Next']\""
   ]
  },
  {
   "cell_type": "code",
   "execution_count": 7,
   "id": "e7d057ad",
   "metadata": {
    "scrolled": true
   },
   "outputs": [],
   "source": [
    "# click cookies\n",
    "driver.find_element(By.XPATH, \"//button[@id='scroll-down-btn']\").click()"
   ]
  },
  {
   "cell_type": "code",
   "execution_count": 8,
   "id": "f63255ef",
   "metadata": {},
   "outputs": [],
   "source": [
    "time.sleep(2)"
   ]
  },
  {
   "cell_type": "code",
   "execution_count": 9,
   "id": "a11f2e21",
   "metadata": {
    "scrolled": true
   },
   "outputs": [],
   "source": [
    "# click cookies\n",
    "driver.find_element(By.XPATH, \"//button[@class='btn secondary reject-all']\").click()"
   ]
  },
  {
   "cell_type": "code",
   "execution_count": 10,
   "id": "89ccb4de",
   "metadata": {},
   "outputs": [],
   "source": [
    "time.sleep(1)"
   ]
  },
  {
   "cell_type": "code",
   "execution_count": 11,
   "id": "e327b7a6",
   "metadata": {},
   "outputs": [],
   "source": [
    "# click for delete filter of NasdaqGM\n",
    "driver.find_element(By.XPATH, \"//button[@title='Eliminar NasdaqGM']\").click()"
   ]
  },
  {
   "cell_type": "code",
   "execution_count": 12,
   "id": "86b0e2af",
   "metadata": {},
   "outputs": [],
   "source": [
    "time.sleep(1)"
   ]
  },
  {
   "cell_type": "code",
   "execution_count": 13,
   "id": "76e55422",
   "metadata": {},
   "outputs": [],
   "source": [
    "# title=\"★★★★★\" stars morningstars\n",
    "stars5 = driver.find_element(By.XPATH, \"//button[@title='★★★★★']\")\n",
    "stars4 = driver.find_element(By.XPATH, \"//button[@title='★★★★']\")\n",
    "stars3 = driver.find_element(By.XPATH, \"//button[@title='★★★']\")\n",
    "stars2 = driver.find_element(By.XPATH, \"//button[@title='★★']\")\n",
    "stars1 = driver.find_element(By.XPATH, \"//button[@title='★']\")"
   ]
  },
  {
   "cell_type": "code",
   "execution_count": 14,
   "id": "3ca5ce50",
   "metadata": {},
   "outputs": [],
   "source": [
    "stars5.click()\n",
    "time.sleep(0.5)\n",
    "stars4.click()"
   ]
  },
  {
   "cell_type": "code",
   "execution_count": 15,
   "id": "d6c7848c",
   "metadata": {},
   "outputs": [],
   "source": [
    "time.sleep(1)"
   ]
  },
  {
   "cell_type": "code",
   "execution_count": 16,
   "id": "f15beba4",
   "metadata": {},
   "outputs": [],
   "source": [
    "# desplegable categorías\n",
    "buttons = driver.find_elements(By.XPATH, '//div[@class=\"D(ib) Pt(6px) Pb(7px) Pstart(6px) Pend(7px) C($tertiaryColor) Fz(s) Cur(p)\"]')"
   ]
  },
  {
   "cell_type": "code",
   "execution_count": 17,
   "id": "ee59058a",
   "metadata": {},
   "outputs": [],
   "source": [
    "buttons[1].click()"
   ]
  },
  {
   "cell_type": "code",
   "execution_count": 18,
   "id": "cd65d3d3",
   "metadata": {},
   "outputs": [],
   "source": [
    "time.sleep(1)"
   ]
  },
  {
   "cell_type": "code",
   "execution_count": 19,
   "id": "5fd955cd",
   "metadata": {},
   "outputs": [],
   "source": [
    "input_field = driver.find_element(By.XPATH, '//input[@placeholder=\"Buscar filtros\"]')"
   ]
  },
  {
   "cell_type": "code",
   "execution_count": 20,
   "id": "20b4f626",
   "metadata": {},
   "outputs": [],
   "source": [
    "input_field.clear()  # Clear "
   ]
  },
  {
   "cell_type": "code",
   "execution_count": 21,
   "id": "bdff5f11",
   "metadata": {},
   "outputs": [],
   "source": [
    "#category = str(input())\n",
    "category = ['Growth', 'Blend']"
   ]
  },
  {
   "cell_type": "code",
   "execution_count": 22,
   "id": "b7267dd7",
   "metadata": {},
   "outputs": [],
   "source": [
    "time.sleep(1)"
   ]
  },
  {
   "cell_type": "code",
   "execution_count": 23,
   "id": "9c648316",
   "metadata": {},
   "outputs": [],
   "source": [
    "check_cat = driver.find_elements(By.XPATH, '//input[@type=\"checkbox\"]')"
   ]
  },
  {
   "cell_type": "code",
   "execution_count": 24,
   "id": "510523a8",
   "metadata": {},
   "outputs": [],
   "source": [
    "#check_cat[12].click()"
   ]
  },
  {
   "cell_type": "code",
   "execution_count": 25,
   "id": "34181175",
   "metadata": {},
   "outputs": [],
   "source": [
    "check_cat1 = driver.find_elements(By.XPATH, '//span[@class=\"C($tertiaryColor) Mstart(12px) Cur(p) Va(m)\"]')"
   ]
  },
  {
   "cell_type": "code",
   "execution_count": 26,
   "id": "fd2be762",
   "metadata": {},
   "outputs": [],
   "source": [
    "list_cats = []\n",
    "for i in range(len(check_cat1)):\n",
    "    list_cats.append(check_cat1[i].text)"
   ]
  },
  {
   "cell_type": "code",
   "execution_count": 27,
   "id": "18c0bad4",
   "metadata": {},
   "outputs": [],
   "source": [
    "#list_cats"
   ]
  },
  {
   "cell_type": "code",
   "execution_count": 28,
   "id": "08994abc",
   "metadata": {},
   "outputs": [],
   "source": [
    "#check_cat1[102].click()"
   ]
  },
  {
   "cell_type": "code",
   "execution_count": 29,
   "id": "39a34292",
   "metadata": {},
   "outputs": [],
   "source": [
    "input_categories = [ 'Bank Loan', 'Bear Market', 'China Region', 'Financial']"
   ]
  },
  {
   "cell_type": "code",
   "execution_count": 30,
   "id": "2549ac88",
   "metadata": {},
   "outputs": [],
   "source": [
    "for i in range(len(input_categories)):\n",
    "    if input_categories[i] in list_cats:\n",
    "        input_field.clear()\n",
    "        time.sleep(0.5)\n",
    "        input_field.send_keys(input_categories[i])\n",
    "        time.sleep(1)\n",
    "        buttons = driver.find_elements(By.XPATH, '//input[@type=\"checkbox\"]')\n",
    "        time.sleep(1)\n",
    "        for i in range(len(buttons)):\n",
    "            buttons[i].click()\n",
    "            time.sleep(1)"
   ]
  },
  {
   "cell_type": "code",
   "execution_count": 31,
   "id": "c675005b",
   "metadata": {},
   "outputs": [],
   "source": [
    "#input_search.send_keys(Keys.RETURN)\n",
    "time.sleep(2)"
   ]
  },
  {
   "cell_type": "code",
   "execution_count": 32,
   "id": "3bcb3ed0",
   "metadata": {},
   "outputs": [],
   "source": [
    "button = driver.find_elements(By.XPATH, '//button[@data-test=\"find-stock\"]')[0]\n",
    "button.click()"
   ]
  },
  {
   "cell_type": "code",
   "execution_count": 33,
   "id": "12c5f956",
   "metadata": {},
   "outputs": [],
   "source": [
    "time.sleep(2)"
   ]
  },
  {
   "cell_type": "code",
   "execution_count": 34,
   "id": "86b930ca",
   "metadata": {},
   "outputs": [],
   "source": [
    "buttons = driver.find_elements(By.XPATH, '//th[@class=\"Ta(end) Pstart(20px) Fz(xs) Py(5px)! Bgc($lv3BgColor) Va(m)  Cur(p) Bgc($hoverBgColor):h  Fw(400)!\"]')"
   ]
  },
  {
   "cell_type": "code",
   "execution_count": 35,
   "id": "a0b06098",
   "metadata": {},
   "outputs": [],
   "source": [
    "# sort tickers by volume\n",
    "buttons[3].click()\n",
    "time.sleep(2)\n",
    "buttons[3].click()\n",
    "time.sleep(2)"
   ]
  },
  {
   "cell_type": "code",
   "execution_count": 36,
   "id": "98b6ef9a",
   "metadata": {},
   "outputs": [],
   "source": [
    "# Find the <a> element\n",
    "a_element = driver.find_elements(By.XPATH, '//a[@data-test=\"quoteLink\"]')"
   ]
  },
  {
   "cell_type": "code",
   "execution_count": 37,
   "id": "0f5c5e51",
   "metadata": {},
   "outputs": [
    {
     "data": {
      "text/plain": [
       "25"
      ]
     },
     "execution_count": 37,
     "metadata": {},
     "output_type": "execute_result"
    }
   ],
   "source": [
    "len(a_element)"
   ]
  },
  {
   "cell_type": "code",
   "execution_count": 38,
   "id": "22f94474",
   "metadata": {},
   "outputs": [],
   "source": [
    "list_etf = []\n",
    "for i in range(len(a_element)):\n",
    "    list_etf.append(a_element[i].text)"
   ]
  },
  {
   "cell_type": "code",
   "execution_count": 39,
   "id": "d385ed5f",
   "metadata": {},
   "outputs": [],
   "source": [
    "if len(list_etf) > 10:\n",
    "    list_etf = list_etf[:10]"
   ]
  },
  {
   "cell_type": "code",
   "execution_count": 40,
   "id": "2b92c124",
   "metadata": {},
   "outputs": [
    {
     "data": {
      "text/plain": [
       "['XLF', 'EWT', 'VFH', 'IAI', 'KIE', 'BIZD', 'FTSL', 'IYF', 'CNYA', 'CHIQ']"
      ]
     },
     "execution_count": 40,
     "metadata": {},
     "output_type": "execute_result"
    }
   ],
   "source": [
    "list_etf"
   ]
  },
  {
   "cell_type": "code",
   "execution_count": 41,
   "id": "fffd0374",
   "metadata": {},
   "outputs": [
    {
     "ename": "NameError",
     "evalue": "name 'stop' is not defined",
     "output_type": "error",
     "traceback": [
      "\u001b[1;31m---------------------------------------------------------------------------\u001b[0m",
      "\u001b[1;31mNameError\u001b[0m                                 Traceback (most recent call last)",
      "Cell \u001b[1;32mIn[41], line 1\u001b[0m\n\u001b[1;32m----> 1\u001b[0m \u001b[43mstop\u001b[49m\n",
      "\u001b[1;31mNameError\u001b[0m: name 'stop' is not defined"
     ]
    }
   ],
   "source": [
    "stop"
   ]
  },
  {
   "cell_type": "code",
   "execution_count": null,
   "id": "25c7f540",
   "metadata": {},
   "outputs": [],
   "source": []
  },
  {
   "cell_type": "code",
   "execution_count": null,
   "id": "85e7ad76",
   "metadata": {},
   "outputs": [],
   "source": []
  },
  {
   "cell_type": "code",
   "execution_count": null,
   "id": "f1288971",
   "metadata": {},
   "outputs": [],
   "source": []
  },
  {
   "cell_type": "code",
   "execution_count": null,
   "id": "a9ba664a",
   "metadata": {},
   "outputs": [],
   "source": []
  },
  {
   "cell_type": "code",
   "execution_count": null,
   "id": "c20bf4f8",
   "metadata": {},
   "outputs": [],
   "source": []
  },
  {
   "cell_type": "code",
   "execution_count": null,
   "id": "273c2829",
   "metadata": {},
   "outputs": [],
   "source": []
  },
  {
   "cell_type": "code",
   "execution_count": null,
   "id": "9f9b0557",
   "metadata": {},
   "outputs": [],
   "source": []
  },
  {
   "cell_type": "code",
   "execution_count": null,
   "id": "b00fae97",
   "metadata": {},
   "outputs": [],
   "source": [
    "Bank Loan\n",
    "Bear Market\n",
    "China Region\n",
    "Commodities Agriculture\n",
    "Commodities Broad Basket\n",
    "Convertibles\n",
    "Corporate Bond\n",
    "Diversified Emerging Mkts\n",
    "Diversified Pacific/Asia\n",
    "Emerging Markets Bond\n",
    "Emerging-Markets Local-Currency Bond\n",
    "Energy Limited Partnership\n",
    "Equity Energy\n",
    "Equity Precious Metals\n",
    "Europe Stock\n",
    "Financial\n",
    "Foreign Large Blend\n",
    "Foreign Large Growth\n",
    "Foreign Large Value\n",
    "Foreign Small/Mid Blend\n",
    "Foreign Small/Mid Growth\n",
    "Foreign Small/Mid Value\n",
    "Global Real Estate\n",
    "Health\n",
    "High Yield Bond\n",
    "High Yield Muni\n",
    "Inflation-Protected Bond\n",
    "Infrastructure\n",
    "Intermediate Government\n",
    "Intermediate-Term Bond\n",
    "Japan Stock\n",
    "Large Blend\n",
    "Large Growth\n",
    "Large Value\n",
    "Long Government\n",
    "Long-Short Credit\n",
    "Long-Short Equity\n",
    "Long-Term Bond\n",
    "Managed Futures\n",
    "Market Neutral\n",
    "Mid-Cap Blend\n",
    "Mid-Cap Growth\n",
    "Mid-Cap Value\n",
    "Miscellaneous Region\n",
    "Multialternative\n",
    "Multicurrency\n",
    "Multisector Bond\n",
    "Muni California Intermediate\n",
    "Muni California Long\n",
    "Muni Massachusetts\n",
    "Muni Minnesota\n",
    "Muni National Interm\n",
    "Muni National Long\n",
    "Muni National Short\n",
    "Muni New Jersey\n",
    "Muni New York Intermediate\n",
    "Muni New York Long\n",
    "Muni Ohio\n",
    "Muni Pennsylvania\n",
    "Muni Single State Interm\n",
    "Muni Single State Long\n",
    "Muni Single State Short\n",
    "Natural Resources\n",
    "Nontraditional Bond\n",
    "Option Writing\n",
    "OtherOther Allocation\n",
    "Pacific/Asia ex-Japan Stk\n",
    "Preferred Stock\n",
    "Real Estate\n",
    "Short Government\n",
    "Short-Term Bond\n",
    "Small Blend\n",
    "Small Growth\n",
    "Small Value\n",
    "Tactical Allocation\n",
    "Target-Date 2000-2010\n",
    "Target-Date 2015\n",
    "Target-Date 2020\n",
    "Target-Date 2025\n",
    "Target-Date 2030\n",
    "Target-Date 2035\n",
    "Target-Date 2040\n",
    "Target-Date 2045\n",
    "Target-Date 2050\n",
    "Target-Date 2055\n",
    "Target-Date 2060+\n",
    "Target-Date Retirement\n",
    "Technology\n",
    "Trading - Leveraged/Inverse Commodities\n",
    "Trading - Leveraged/Inverse Equity\n",
    "Trading--Inverse Equity\n",
    "Trading--Leveraged Equity\n",
    "Ultrashort Bond\n",
    "Utilities"
   ]
  },
  {
   "cell_type": "code",
   "execution_count": null,
   "id": "af8e05b8",
   "metadata": {},
   "outputs": [],
   "source": [
    "for i in range(len(category)):\n",
    "\n",
    "    if category[i] == 'Bank Loan':\n",
    "        input_field.clear()\n",
    "        time.sleep(0.5)\n",
    "        input_field.send_keys(\"Bank Loan\")\n",
    "        time.sleep(1)\n",
    "        buttons = driver.find_elements(By.XPATH, '//input[@type=\"checkbox\"]')\n",
    "        time.sleep(1)\n",
    "        for i in range(len(buttons)):\n",
    "            buttons[i].click()\n",
    "            time.sleep(1)\n",
    "    \n",
    "    elif category[i] == 'Bear Market':\n",
    "        input_field.clear()\n",
    "        time.sleep(0.5)\n",
    "        input_field.send_keys(\"Bear Market\")\n",
    "        time.sleep(1)\n",
    "        buttons = driver.find_elements(By.XPATH, '//input[@type=\"checkbox\"]')\n",
    "        time.sleep(1)\n",
    "        for i in range(len(buttons)):\n",
    "            buttons[i].click()\n",
    "            time.sleep(1)\n",
    "            \n",
    "    elif category[i] == 'China Region':\n",
    "        input_field.clear()\n",
    "        time.sleep(0.5)\n",
    "        input_field.send_keys(\"China Region\")\n",
    "        time.sleep(1)\n",
    "        buttons = driver.find_elements(By.XPATH, '//input[@type=\"checkbox\"]')\n",
    "        time.sleep(1)\n",
    "        for i in range(len(buttons)):\n",
    "            buttons[i].click()\n",
    "            time.sleep(1)\n",
    "            \n",
    "    elif category[i] == 'Commodities Agriculture':\n",
    "        input_field.clear()\n",
    "        time.sleep(0.5)\n",
    "        input_field.send_keys(\"Commodities Agriculture\")\n",
    "        time.sleep(1)\n",
    "        buttons = driver.find_elements(By.XPATH, '//input[@type=\"checkbox\"]')\n",
    "        time.sleep(1)\n",
    "        for i in range(len(buttons)):\n",
    "            buttons[i].click()\n",
    "            time.sleep(1\n",
    "                       \n",
    "    elif category[i] == 'Commodities Broad Basket':\n",
    "        input_field.clear()\n",
    "        time.sleep(0.5)\n",
    "        input_field.send_keys(\"Commodities Broad Basket\")\n",
    "        time.sleep(1)\n",
    "        buttons = driver.find_elements(By.XPATH, '//input[@type=\"checkbox\"]')\n",
    "        time.sleep(1)\n",
    "        for i in range(len(buttons)):\n",
    "            buttons[i].click()\n",
    "            time.sleep(1)\n",
    "                       \n",
    "    elif category[i] == 'Convertibles':\n",
    "        input_field.clear()\n",
    "        time.sleep(0.5)\n",
    "        input_field.send_keys(\"Convertibles\")\n",
    "        time.sleep(1)\n",
    "        buttons = driver.find_elements(By.XPATH, '//input[@type=\"checkbox\"]')\n",
    "        time.sleep(1)\n",
    "        for i in range(len(buttons)):\n",
    "            buttons[i].click()\n",
    "            time.sleep(1)\n",
    "                       \n",
    "    elif category[i] == 'Corporate Bond':\n",
    "        input_field.clear()\n",
    "        time.sleep(0.5)\n",
    "        input_field.send_keys(\"Corporate Bond\")\n",
    "        time.sleep(1)\n",
    "        buttons = driver.find_elements(By.XPATH, '//input[@type=\"checkbox\"]')\n",
    "        time.sleep(1)\n",
    "        for i in range(len(buttons)):\n",
    "            buttons[i].click()\n",
    "            time.sleep(1)\n",
    "                       \n",
    "    elif category[i] == 'Diversified Emerging Mkts':\n",
    "        input_field.clear()\n",
    "        time.sleep(0.5)\n",
    "        input_field.send_keys(\"Diversified Emerging Mkts\")\n",
    "        time.sleep(1)\n",
    "        buttons = driver.find_elements(By.XPATH, '//input[@type=\"checkbox\"]')\n",
    "        time.sleep(1)\n",
    "        for i in range(len(buttons)):\n",
    "            buttons[i].click()\n",
    "            time.sleep(1)\n",
    "                       \n",
    "                       \n",
    "    elif category[i] == 'Diversified Emerging Mkts':\n",
    "        input_field.clear()\n",
    "        time.sleep(0.5)\n",
    "        input_field.send_keys(\"Diversified Emerging Mkts\")\n",
    "        time.sleep(1)\n",
    "        buttons = driver.find_elements(By.XPATH, '//input[@type=\"checkbox\"]')\n",
    "        time.sleep(1)\n",
    "        for i in range(len(buttons)):\n",
    "            buttons[i].click()\n",
    "            time.sleep(1)"
   ]
  }
 ],
 "metadata": {
  "kernelspec": {
   "display_name": "Python [conda env:tf]",
   "language": "python",
   "name": "conda-env-tf-py"
  },
  "language_info": {
   "codemirror_mode": {
    "name": "ipython",
    "version": 3
   },
   "file_extension": ".py",
   "mimetype": "text/x-python",
   "name": "python",
   "nbconvert_exporter": "python",
   "pygments_lexer": "ipython3",
   "version": "3.9.16"
  }
 },
 "nbformat": 4,
 "nbformat_minor": 5
}
