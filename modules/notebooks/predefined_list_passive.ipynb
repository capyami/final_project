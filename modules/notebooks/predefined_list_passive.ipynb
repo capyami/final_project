{
 "cells": [
  {
   "cell_type": "markdown",
   "id": "aff59cfe",
   "metadata": {},
   "source": [
    "### List for passive investments"
   ]
  },
  {
   "cell_type": "code",
   "execution_count": 2,
   "id": "183487cb",
   "metadata": {},
   "outputs": [],
   "source": [
    "def predefined_list(invested_amount):\n",
    "    if invested_amount < 5000:\n",
    "        list_etf = ['^GSPC']\n",
    "    elif invested_amount < 10000:\n",
    "        list_etf = ['^GSPC', 'GC=F']\n",
    "    elif invested_amount < 25000:\n",
    "        list_etf = ['^GSPC', 'GC=F', '^IXIC', '^TNX']\n",
    "    elif invested_amount < 50000:\n",
    "        list_etf = ['^GSPC', 'GC=F', '^IXIC', '^TNX', '^FTSE', '^N225', '^GDAXI', '^FCHI','^STOXX50E'] # global indexes\n",
    "    else:\n",
    "        list_etf = ['^GSPC', 'GC=F', '^IXIC', '^TNX', '^FTSE', '^N225', '^GDAXI', '^FCHI','^STOXX50E', 'EMQQ', 'FEM'] # emergents\n",
    "    return list_etf"
   ]
  }
 ],
 "metadata": {
  "kernelspec": {
   "display_name": "Python [conda env:tf]",
   "language": "python",
   "name": "conda-env-tf-py"
  },
  "language_info": {
   "codemirror_mode": {
    "name": "ipython",
    "version": 3
   },
   "file_extension": ".py",
   "mimetype": "text/x-python",
   "name": "python",
   "nbconvert_exporter": "python",
   "pygments_lexer": "ipython3",
   "version": "3.9.16"
  }
 },
 "nbformat": 4,
 "nbformat_minor": 5
}
