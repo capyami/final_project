{
 "cells": [
  {
   "cell_type": "code",
   "execution_count": 1,
   "id": "a813fe66",
   "metadata": {},
   "outputs": [],
   "source": [
    "import yfinance as yf\n",
    "import pandas as pd\n",
    "import numpy as np\n",
    "from selenium import webdriver\n",
    "from selenium.webdriver.common.by import By\n",
    "from selenium.webdriver.common.keys import Keys\n",
    "from selenium.webdriver.edge.service import Service\n",
    "from selenium.webdriver.support.ui import WebDriverWait\n",
    "import time"
   ]
  },
  {
   "cell_type": "code",
   "execution_count": 2,
   "id": "e92864f8",
   "metadata": {},
   "outputs": [
    {
     "data": {
      "text/plain": [
       "selenium.webdriver.edge.webdriver.WebDriver"
      ]
     },
     "execution_count": 2,
     "metadata": {},
     "output_type": "execute_result"
    }
   ],
   "source": [
    "#def ratings_etf(list_etf):\n",
    "\n",
    "\n",
    "\n",
    "path = './requirements/msedgedriver.exe'\n",
    "service = Service(executable_path=path)\n",
    "driver = webdriver.Edge(service=service)\n",
    "type(driver)"
   ]
  },
  {
   "cell_type": "code",
   "execution_count": 3,
   "id": "10c82ec0",
   "metadata": {},
   "outputs": [],
   "source": [
    "#driver.implicitly_wait(2)\n",
    "time.sleep(2)"
   ]
  },
  {
   "cell_type": "code",
   "execution_count": 4,
   "id": "6e77c91f",
   "metadata": {},
   "outputs": [],
   "source": [
    "url = 'https://www.tipranks.com/stocks/googl'\n",
    "driver.get(url)\n",
    "#driver.maximize_window()"
   ]
  },
  {
   "cell_type": "code",
   "execution_count": 5,
   "id": "a03a29a9",
   "metadata": {},
   "outputs": [],
   "source": [
    "time.sleep(25)"
   ]
  },
  {
   "cell_type": "code",
   "execution_count": 6,
   "id": "ce541dfe",
   "metadata": {},
   "outputs": [],
   "source": [
    "# click cookies\n",
    "driver.find_element(By.XPATH, '//button[@title=\"Scroll to the bottom of the text below to enable this button\"]').click()\n",
    "time.sleep(4)"
   ]
  },
  {
   "cell_type": "code",
   "execution_count": 7,
   "id": "1f0267d8",
   "metadata": {},
   "outputs": [],
   "source": [
    "# click for to write\n",
    "lens = driver.find_element(By.XPATH, '//button[@class=\"colorgray-3 displaynone fontSize6 px4 laptop_displayflex\"]')"
   ]
  },
  {
   "cell_type": "code",
   "execution_count": 8,
   "id": "1e555c45",
   "metadata": {},
   "outputs": [],
   "source": [
    "lens.click()"
   ]
  },
  {
   "cell_type": "code",
   "execution_count": 9,
   "id": "910784b9",
   "metadata": {},
   "outputs": [],
   "source": [
    "time.sleep(1.5)\n",
    "# clilk lens with bar\n",
    "search_input = driver.find_element(By.XPATH, '//input[@placeholder=\"Search ...\"]')"
   ]
  },
  {
   "cell_type": "code",
   "execution_count": 10,
   "id": "82eba533",
   "metadata": {},
   "outputs": [],
   "source": [
    "search_input.click()"
   ]
  },
  {
   "cell_type": "code",
   "execution_count": 11,
   "id": "0f524478",
   "metadata": {},
   "outputs": [],
   "source": [
    "# ticker = 'spy'"
   ]
  },
  {
   "cell_type": "code",
   "execution_count": 12,
   "id": "be65a107",
   "metadata": {},
   "outputs": [],
   "source": [
    "search_input.send_keys('spy')\n",
    "# search_input.send_keys(name_ticker+f'({ticker})')\n",
    "time.sleep(2)"
   ]
  },
  {
   "cell_type": "code",
   "execution_count": 13,
   "id": "49d49337",
   "metadata": {},
   "outputs": [],
   "source": [
    "test_elements = driver.find_elements(By.XPATH, '//a[@class=\"colorblack-4 fontFamilyregular truncate flexrsb displayflex hoverCursorpointer w12 px4 py3 fontWeightsemibold\"]')"
   ]
  },
  {
   "cell_type": "code",
   "execution_count": 14,
   "id": "880e0ba4",
   "metadata": {},
   "outputs": [
    {
     "data": {
      "text/plain": [
       "6"
      ]
     },
     "execution_count": 14,
     "metadata": {},
     "output_type": "execute_result"
    }
   ],
   "source": [
    "len(test_elements)"
   ]
  },
  {
   "cell_type": "code",
   "execution_count": 15,
   "id": "a9cae248",
   "metadata": {},
   "outputs": [
    {
     "data": {
      "text/plain": [
       "str"
      ]
     },
     "execution_count": 15,
     "metadata": {},
     "output_type": "execute_result"
    }
   ],
   "source": [
    "type(str(test_elements[0].text))"
   ]
  },
  {
   "cell_type": "code",
   "execution_count": 16,
   "id": "1e892dcd",
   "metadata": {},
   "outputs": [
    {
     "data": {
      "text/plain": [
       "str"
      ]
     },
     "execution_count": 16,
     "metadata": {},
     "output_type": "execute_result"
    }
   ],
   "source": [
    "type(test_elements[0].text)"
   ]
  },
  {
   "cell_type": "code",
   "execution_count": 17,
   "id": "f40b5fa2",
   "metadata": {},
   "outputs": [
    {
     "data": {
      "text/plain": [
       "'SPY\\nSPDR S&P 500 ETF Trust'"
      ]
     },
     "execution_count": 17,
     "metadata": {},
     "output_type": "execute_result"
    }
   ],
   "source": [
    "test_elements[0].text"
   ]
  },
  {
   "cell_type": "code",
   "execution_count": 18,
   "id": "acbbcbaa",
   "metadata": {},
   "outputs": [],
   "source": [
    "for i in range(len(test_elements)):\n",
    "    if 'ETF' in test_elements[i].text or 'Trust' in test_elements[i].text:\n",
    "        test_elements[i].click()\n",
    "        break"
   ]
  },
  {
   "cell_type": "code",
   "execution_count": 19,
   "id": "60dca256",
   "metadata": {},
   "outputs": [],
   "source": [
    "valuation_ratings = pd.DataFrame(columns=['Outperform','Analyst_consensus', 'Buy', 'Hold', 'Sell', 'Highest_price_target','Average_price_target','Lowest_price_target'])"
   ]
  },
  {
   "cell_type": "code",
   "execution_count": 20,
   "id": "2c47ecd2",
   "metadata": {},
   "outputs": [],
   "source": [
    "    \n",
    "technic_ratings = pd.DataFrame(columns=['Blogger_sentiment','Hedge_Fund_Trend','Crowd_Wisdom','News_Sentiment','Technical_SMA','Technical_Momentum'])"
   ]
  },
  {
   "cell_type": "code",
   "execution_count": 21,
   "id": "477ce483",
   "metadata": {},
   "outputs": [],
   "source": [
    "    \n",
    "etf_description = pd.DataFrame(columns=['ETF_description'])"
   ]
  },
  {
   "cell_type": "code",
   "execution_count": 22,
   "id": "483bb9de",
   "metadata": {},
   "outputs": [
    {
     "ename": "SyntaxError",
     "evalue": "invalid syntax (3818557051.py, line 1)",
     "output_type": "error",
     "traceback": [
      "\u001b[1;36m  Cell \u001b[1;32mIn[22], line 1\u001b[1;36m\u001b[0m\n\u001b[1;33m    <a class=\"colorblack-4 fontFamilyregular truncate flexrsb displayflex hoverCursorpointer w12 px4 py3 fontWeightsemibold\" data-id=\"FNDX\" href=\"/etf/fndx\"><div class=\"flexrsb w5    displayflex\"> <div title=\"United States\" class=\"Flag-flags-tr us-flags-tr shrink0 mr3\"></div><div class=\"displayblock truncate\"><span class=\"colororange-dark\">FNDX</span></div></div><div class=\"flexrsb w7    displayblock truncate pl3 shrink0\"><span>Schwab Fundamental US Large Co. Index ETF</span></div></a>\u001b[0m\n\u001b[1;37m    ^\u001b[0m\n\u001b[1;31mSyntaxError\u001b[0m\u001b[1;31m:\u001b[0m invalid syntax\n"
     ]
    }
   ],
   "source": [
    "<a class=\"colorblack-4 fontFamilyregular truncate flexrsb displayflex hoverCursorpointer w12 px4 py3 fontWeightsemibold\" data-id=\"FNDX\" href=\"/etf/fndx\"><div class=\"flexrsb w5    displayflex\"> <div title=\"United States\" class=\"Flag-flags-tr us-flags-tr shrink0 mr3\"></div><div class=\"displayblock truncate\"><span class=\"colororange-dark\">FNDX</span></div></div><div class=\"flexrsb w7    displayblock truncate pl3 shrink0\"><span>Schwab Fundamental US Large Co. Index ETF</span></div></a>"
   ]
  },
  {
   "cell_type": "code",
   "execution_count": null,
   "id": "ee5c14e5",
   "metadata": {},
   "outputs": [],
   "source": []
  },
  {
   "cell_type": "code",
   "execution_count": null,
   "id": "98ef194b",
   "metadata": {},
   "outputs": [],
   "source": []
  },
  {
   "cell_type": "code",
   "execution_count": null,
   "id": "0d16ecee",
   "metadata": {},
   "outputs": [],
   "source": []
  },
  {
   "cell_type": "code",
   "execution_count": 23,
   "id": "ccaf8b34",
   "metadata": {},
   "outputs": [],
   "source": [
    "time.sleep(1.5)\n",
    "# clilk lens with bar\n",
    "search_input = driver.find_element(By.XPATH, '//input[@placeholder=\"Search ...\"]')"
   ]
  },
  {
   "cell_type": "code",
   "execution_count": 25,
   "id": "e394fa52",
   "metadata": {},
   "outputs": [
    {
     "ename": "ElementNotInteractableException",
     "evalue": "Message: element not interactable\n  (Session info: MicrosoftEdge=114.0.1823.82)\nStacktrace:\nBacktrace:\n\tGetHandleVerifier [0x00007FF612B4AA52+64226]\n\tMicrosoft::Applications::Events::EventProperty::~EventProperty [0x00007FF612ADBC12+765378]\n\t(No symbol) [0x00007FF61289CAB0]\n\t(No symbol) [0x00007FF6128E2519]\n\t(No symbol) [0x00007FF6128D532C]\n\t(No symbol) [0x00007FF6128FEFFA]\n\t(No symbol) [0x00007FF6128D4BB1]\n\t(No symbol) [0x00007FF6128D4A81]\n\t(No symbol) [0x00007FF6128FF330]\n\t(No symbol) [0x00007FF6128D4BB1]\n\t(No symbol) [0x00007FF612917FC1]\n\t(No symbol) [0x00007FF6128FEDD3]\n\t(No symbol) [0x00007FF6128D3BEC]\n\t(No symbol) [0x00007FF6128D2DD6]\n\t(No symbol) [0x00007FF6128D4364]\n\tMicrosoft::Applications::Events::ILogManager::DispatchEventBroadcast [0x00007FF612D28359+1319033]\n\t(No symbol) [0x00007FF61294D298]\n\tMicrosoft::Applications::Events::EventProperty::~EventProperty [0x00007FF612A29161+33553]\n\tMicrosoft::Applications::Events::EventProperty::~EventProperty [0x00007FF612A2159F+1871]\n\tMicrosoft::Applications::Events::ILogManager::DispatchEventBroadcast [0x00007FF612D26F73+1313939]\n\tMicrosoft::Applications::Events::ILogConfiguration::operator* [0x00007FF612AE4248+20232]\n\tMicrosoft::Applications::Events::ILogConfiguration::operator* [0x00007FF612AE0864+5412]\n\tMicrosoft::Applications::Events::ILogConfiguration::operator* [0x00007FF612AE095C+5660]\n\tMicrosoft::Applications::Events::EventProperty::~EventProperty [0x00007FF612AD4611+735169]\n\tBaseThreadInitThunk [0x00007FFB892626AD+29]\n\tRtlUserThreadStart [0x00007FFB8B2AAA68+40]\n",
     "output_type": "error",
     "traceback": [
      "\u001b[1;31m---------------------------------------------------------------------------\u001b[0m",
      "\u001b[1;31mElementNotInteractableException\u001b[0m           Traceback (most recent call last)",
      "Cell \u001b[1;32mIn[25], line 1\u001b[0m\n\u001b[1;32m----> 1\u001b[0m \u001b[43msearch_input\u001b[49m\u001b[38;5;241;43m.\u001b[39;49m\u001b[43mclick\u001b[49m\u001b[43m(\u001b[49m\u001b[43m)\u001b[49m\n",
      "File \u001b[1;32m~\\miniconda3\\envs\\tf\\lib\\site-packages\\selenium\\webdriver\\remote\\webelement.py:94\u001b[0m, in \u001b[0;36mWebElement.click\u001b[1;34m(self)\u001b[0m\n\u001b[0;32m     92\u001b[0m \u001b[38;5;28;01mdef\u001b[39;00m \u001b[38;5;21mclick\u001b[39m(\u001b[38;5;28mself\u001b[39m) \u001b[38;5;241m-\u001b[39m\u001b[38;5;241m>\u001b[39m \u001b[38;5;28;01mNone\u001b[39;00m:\n\u001b[0;32m     93\u001b[0m \u001b[38;5;250m    \u001b[39m\u001b[38;5;124;03m\"\"\"Clicks the element.\"\"\"\u001b[39;00m\n\u001b[1;32m---> 94\u001b[0m     \u001b[38;5;28;43mself\u001b[39;49m\u001b[38;5;241;43m.\u001b[39;49m\u001b[43m_execute\u001b[49m\u001b[43m(\u001b[49m\u001b[43mCommand\u001b[49m\u001b[38;5;241;43m.\u001b[39;49m\u001b[43mCLICK_ELEMENT\u001b[49m\u001b[43m)\u001b[49m\n",
      "File \u001b[1;32m~\\miniconda3\\envs\\tf\\lib\\site-packages\\selenium\\webdriver\\remote\\webelement.py:395\u001b[0m, in \u001b[0;36mWebElement._execute\u001b[1;34m(self, command, params)\u001b[0m\n\u001b[0;32m    393\u001b[0m     params \u001b[38;5;241m=\u001b[39m {}\n\u001b[0;32m    394\u001b[0m params[\u001b[38;5;124m\"\u001b[39m\u001b[38;5;124mid\u001b[39m\u001b[38;5;124m\"\u001b[39m] \u001b[38;5;241m=\u001b[39m \u001b[38;5;28mself\u001b[39m\u001b[38;5;241m.\u001b[39m_id\n\u001b[1;32m--> 395\u001b[0m \u001b[38;5;28;01mreturn\u001b[39;00m \u001b[38;5;28;43mself\u001b[39;49m\u001b[38;5;241;43m.\u001b[39;49m\u001b[43m_parent\u001b[49m\u001b[38;5;241;43m.\u001b[39;49m\u001b[43mexecute\u001b[49m\u001b[43m(\u001b[49m\u001b[43mcommand\u001b[49m\u001b[43m,\u001b[49m\u001b[43m \u001b[49m\u001b[43mparams\u001b[49m\u001b[43m)\u001b[49m\n",
      "File \u001b[1;32m~\\miniconda3\\envs\\tf\\lib\\site-packages\\selenium\\webdriver\\remote\\webdriver.py:346\u001b[0m, in \u001b[0;36mWebDriver.execute\u001b[1;34m(self, driver_command, params)\u001b[0m\n\u001b[0;32m    344\u001b[0m response \u001b[38;5;241m=\u001b[39m \u001b[38;5;28mself\u001b[39m\u001b[38;5;241m.\u001b[39mcommand_executor\u001b[38;5;241m.\u001b[39mexecute(driver_command, params)\n\u001b[0;32m    345\u001b[0m \u001b[38;5;28;01mif\u001b[39;00m response:\n\u001b[1;32m--> 346\u001b[0m     \u001b[38;5;28;43mself\u001b[39;49m\u001b[38;5;241;43m.\u001b[39;49m\u001b[43merror_handler\u001b[49m\u001b[38;5;241;43m.\u001b[39;49m\u001b[43mcheck_response\u001b[49m\u001b[43m(\u001b[49m\u001b[43mresponse\u001b[49m\u001b[43m)\u001b[49m\n\u001b[0;32m    347\u001b[0m     response[\u001b[38;5;124m\"\u001b[39m\u001b[38;5;124mvalue\u001b[39m\u001b[38;5;124m\"\u001b[39m] \u001b[38;5;241m=\u001b[39m \u001b[38;5;28mself\u001b[39m\u001b[38;5;241m.\u001b[39m_unwrap_value(response\u001b[38;5;241m.\u001b[39mget(\u001b[38;5;124m\"\u001b[39m\u001b[38;5;124mvalue\u001b[39m\u001b[38;5;124m\"\u001b[39m, \u001b[38;5;28;01mNone\u001b[39;00m))\n\u001b[0;32m    348\u001b[0m     \u001b[38;5;28;01mreturn\u001b[39;00m response\n",
      "File \u001b[1;32m~\\miniconda3\\envs\\tf\\lib\\site-packages\\selenium\\webdriver\\remote\\errorhandler.py:245\u001b[0m, in \u001b[0;36mErrorHandler.check_response\u001b[1;34m(self, response)\u001b[0m\n\u001b[0;32m    243\u001b[0m         alert_text \u001b[38;5;241m=\u001b[39m value[\u001b[38;5;124m\"\u001b[39m\u001b[38;5;124malert\u001b[39m\u001b[38;5;124m\"\u001b[39m]\u001b[38;5;241m.\u001b[39mget(\u001b[38;5;124m\"\u001b[39m\u001b[38;5;124mtext\u001b[39m\u001b[38;5;124m\"\u001b[39m)\n\u001b[0;32m    244\u001b[0m     \u001b[38;5;28;01mraise\u001b[39;00m exception_class(message, screen, stacktrace, alert_text)  \u001b[38;5;66;03m# type: ignore[call-arg]  # mypy is not smart enough here\u001b[39;00m\n\u001b[1;32m--> 245\u001b[0m \u001b[38;5;28;01mraise\u001b[39;00m exception_class(message, screen, stacktrace)\n",
      "\u001b[1;31mElementNotInteractableException\u001b[0m: Message: element not interactable\n  (Session info: MicrosoftEdge=114.0.1823.82)\nStacktrace:\nBacktrace:\n\tGetHandleVerifier [0x00007FF612B4AA52+64226]\n\tMicrosoft::Applications::Events::EventProperty::~EventProperty [0x00007FF612ADBC12+765378]\n\t(No symbol) [0x00007FF61289CAB0]\n\t(No symbol) [0x00007FF6128E2519]\n\t(No symbol) [0x00007FF6128D532C]\n\t(No symbol) [0x00007FF6128FEFFA]\n\t(No symbol) [0x00007FF6128D4BB1]\n\t(No symbol) [0x00007FF6128D4A81]\n\t(No symbol) [0x00007FF6128FF330]\n\t(No symbol) [0x00007FF6128D4BB1]\n\t(No symbol) [0x00007FF612917FC1]\n\t(No symbol) [0x00007FF6128FEDD3]\n\t(No symbol) [0x00007FF6128D3BEC]\n\t(No symbol) [0x00007FF6128D2DD6]\n\t(No symbol) [0x00007FF6128D4364]\n\tMicrosoft::Applications::Events::ILogManager::DispatchEventBroadcast [0x00007FF612D28359+1319033]\n\t(No symbol) [0x00007FF61294D298]\n\tMicrosoft::Applications::Events::EventProperty::~EventProperty [0x00007FF612A29161+33553]\n\tMicrosoft::Applications::Events::EventProperty::~EventProperty [0x00007FF612A2159F+1871]\n\tMicrosoft::Applications::Events::ILogManager::DispatchEventBroadcast [0x00007FF612D26F73+1313939]\n\tMicrosoft::Applications::Events::ILogConfiguration::operator* [0x00007FF612AE4248+20232]\n\tMicrosoft::Applications::Events::ILogConfiguration::operator* [0x00007FF612AE0864+5412]\n\tMicrosoft::Applications::Events::ILogConfiguration::operator* [0x00007FF612AE095C+5660]\n\tMicrosoft::Applications::Events::EventProperty::~EventProperty [0x00007FF612AD4611+735169]\n\tBaseThreadInitThunk [0x00007FFB892626AD+29]\n\tRtlUserThreadStart [0x00007FFB8B2AAA68+40]\n"
     ]
    }
   ],
   "source": [
    "search_input.click()"
   ]
  },
  {
   "cell_type": "code",
   "execution_count": 26,
   "id": "d53a0498",
   "metadata": {},
   "outputs": [
    {
     "ename": "NameError",
     "evalue": "name 'ticker' is not defined",
     "output_type": "error",
     "traceback": [
      "\u001b[1;31m---------------------------------------------------------------------------\u001b[0m",
      "\u001b[1;31mNameError\u001b[0m                                 Traceback (most recent call last)",
      "Cell \u001b[1;32mIn[26], line 3\u001b[0m\n\u001b[0;32m      1\u001b[0m \u001b[38;5;66;03m# ticker = 'spy'\u001b[39;00m\n\u001b[1;32m----> 3\u001b[0m search_input\u001b[38;5;241m.\u001b[39msend_keys(\u001b[43mticker\u001b[49m)\n",
      "\u001b[1;31mNameError\u001b[0m: name 'ticker' is not defined"
     ]
    }
   ],
   "source": [
    "# ticker = 'spy'\n",
    "\n",
    "search_input.send_keys(ticker)"
   ]
  },
  {
   "cell_type": "code",
   "execution_count": 27,
   "id": "f836116c",
   "metadata": {},
   "outputs": [
    {
     "data": {
      "text/html": [
       "<div>\n",
       "<style scoped>\n",
       "    .dataframe tbody tr th:only-of-type {\n",
       "        vertical-align: middle;\n",
       "    }\n",
       "\n",
       "    .dataframe tbody tr th {\n",
       "        vertical-align: top;\n",
       "    }\n",
       "\n",
       "    .dataframe thead th {\n",
       "        text-align: right;\n",
       "    }\n",
       "</style>\n",
       "<table border=\"1\" class=\"dataframe\">\n",
       "  <thead>\n",
       "    <tr style=\"text-align: right;\">\n",
       "      <th></th>\n",
       "      <th>Blogger_sentiment</th>\n",
       "      <th>Hedge_Fund_Trend</th>\n",
       "      <th>Crowd_Wisdom</th>\n",
       "      <th>News_Sentiment</th>\n",
       "      <th>Technical_SMA</th>\n",
       "      <th>Technical_Momentum</th>\n",
       "    </tr>\n",
       "  </thead>\n",
       "  <tbody>\n",
       "  </tbody>\n",
       "</table>\n",
       "</div>"
      ],
      "text/plain": [
       "Empty DataFrame\n",
       "Columns: [Blogger_sentiment, Hedge_Fund_Trend, Crowd_Wisdom, News_Sentiment, Technical_SMA, Technical_Momentum]\n",
       "Index: []"
      ]
     },
     "execution_count": 27,
     "metadata": {},
     "output_type": "execute_result"
    }
   ],
   "source": [
    "technic_ratings"
   ]
  },
  {
   "cell_type": "code",
   "execution_count": 28,
   "id": "b2a8ee37",
   "metadata": {},
   "outputs": [
    {
     "data": {
      "text/html": [
       "<div>\n",
       "<style scoped>\n",
       "    .dataframe tbody tr th:only-of-type {\n",
       "        vertical-align: middle;\n",
       "    }\n",
       "\n",
       "    .dataframe tbody tr th {\n",
       "        vertical-align: top;\n",
       "    }\n",
       "\n",
       "    .dataframe thead th {\n",
       "        text-align: right;\n",
       "    }\n",
       "</style>\n",
       "<table border=\"1\" class=\"dataframe\">\n",
       "  <thead>\n",
       "    <tr style=\"text-align: right;\">\n",
       "      <th></th>\n",
       "      <th>ETF_description</th>\n",
       "    </tr>\n",
       "  </thead>\n",
       "  <tbody>\n",
       "  </tbody>\n",
       "</table>\n",
       "</div>"
      ],
      "text/plain": [
       "Empty DataFrame\n",
       "Columns: [ETF_description]\n",
       "Index: []"
      ]
     },
     "execution_count": 28,
     "metadata": {},
     "output_type": "execute_result"
    }
   ],
   "source": [
    "etf_description"
   ]
  },
  {
   "cell_type": "code",
   "execution_count": 29,
   "id": "5094e70d",
   "metadata": {},
   "outputs": [],
   "source": [
    "pd.set_option('display.max_colwidth', None)"
   ]
  },
  {
   "cell_type": "code",
   "execution_count": 30,
   "id": "575d1112",
   "metadata": {},
   "outputs": [],
   "source": [
    "list_etf = ['qqq', 'spy']"
   ]
  },
  {
   "cell_type": "code",
   "execution_count": 31,
   "id": "4891d160",
   "metadata": {},
   "outputs": [
    {
     "ename": "NameError",
     "evalue": "name 'ratings_etf' is not defined",
     "output_type": "error",
     "traceback": [
      "\u001b[1;31m---------------------------------------------------------------------------\u001b[0m",
      "\u001b[1;31mNameError\u001b[0m                                 Traceback (most recent call last)",
      "Cell \u001b[1;32mIn[31], line 1\u001b[0m\n\u001b[1;32m----> 1\u001b[0m valuation_ratings, technic_ratings, etf_description \u001b[38;5;241m=\u001b[39m \u001b[43mratings_etf\u001b[49m(list_etf)\n",
      "\u001b[1;31mNameError\u001b[0m: name 'ratings_etf' is not defined"
     ]
    }
   ],
   "source": [
    "valuation_ratings, technic_ratings, etf_description = ratings_etf(list_etf)"
   ]
  },
  {
   "cell_type": "code",
   "execution_count": 32,
   "id": "63597cd8",
   "metadata": {},
   "outputs": [
    {
     "data": {
      "text/html": [
       "<div>\n",
       "<style scoped>\n",
       "    .dataframe tbody tr th:only-of-type {\n",
       "        vertical-align: middle;\n",
       "    }\n",
       "\n",
       "    .dataframe tbody tr th {\n",
       "        vertical-align: top;\n",
       "    }\n",
       "\n",
       "    .dataframe thead th {\n",
       "        text-align: right;\n",
       "    }\n",
       "</style>\n",
       "<table border=\"1\" class=\"dataframe\">\n",
       "  <thead>\n",
       "    <tr style=\"text-align: right;\">\n",
       "      <th></th>\n",
       "      <th>Outperform</th>\n",
       "      <th>Analyst_consensus</th>\n",
       "      <th>Buy</th>\n",
       "      <th>Hold</th>\n",
       "      <th>Sell</th>\n",
       "      <th>Highest_price_target</th>\n",
       "      <th>Average_price_target</th>\n",
       "      <th>Lowest_price_target</th>\n",
       "    </tr>\n",
       "  </thead>\n",
       "  <tbody>\n",
       "  </tbody>\n",
       "</table>\n",
       "</div>"
      ],
      "text/plain": [
       "Empty DataFrame\n",
       "Columns: [Outperform, Analyst_consensus, Buy, Hold, Sell, Highest_price_target, Average_price_target, Lowest_price_target]\n",
       "Index: []"
      ]
     },
     "execution_count": 32,
     "metadata": {},
     "output_type": "execute_result"
    }
   ],
   "source": [
    "valuation_ratings"
   ]
  },
  {
   "cell_type": "code",
   "execution_count": null,
   "id": "9c246bef",
   "metadata": {},
   "outputs": [],
   "source": [
    "technic_ratings"
   ]
  },
  {
   "cell_type": "code",
   "execution_count": null,
   "id": "130c0359",
   "metadata": {},
   "outputs": [],
   "source": [
    "etf_description"
   ]
  },
  {
   "cell_type": "code",
   "execution_count": 33,
   "id": "a26a9ef8",
   "metadata": {},
   "outputs": [
    {
     "ename": "ElementClickInterceptedException",
     "evalue": "Message: element click intercepted: Element <button class=\"colorgray-3 displaynone fontSize6 px4 laptop_displayflex\">...</button> is not clickable at point (948, 29). Other element would receive the click: <div class=\"a__sc-np32r2-0 dalZPh\" style=\"z-index: 2147483647;\">...</div>\n  (Session info: MicrosoftEdge=114.0.1823.82)\nStacktrace:\nBacktrace:\n\tGetHandleVerifier [0x00007FF612B4AA52+64226]\n\tMicrosoft::Applications::Events::EventProperty::~EventProperty [0x00007FF612ADBC12+765378]\n\t(No symbol) [0x00007FF61289CC4C]\n\t(No symbol) [0x00007FF6128E82BA]\n\t(No symbol) [0x00007FF6128E5A43]\n\t(No symbol) [0x00007FF6128E3699]\n\t(No symbol) [0x00007FF6128E26F5]\n\t(No symbol) [0x00007FF6128D532C]\n\t(No symbol) [0x00007FF6128FEFFA]\n\t(No symbol) [0x00007FF6128D4BB1]\n\t(No symbol) [0x00007FF6128D4A81]\n\t(No symbol) [0x00007FF6128FF330]\n\t(No symbol) [0x00007FF6128D4BB1]\n\t(No symbol) [0x00007FF612917FC1]\n\t(No symbol) [0x00007FF6128FEDD3]\n\t(No symbol) [0x00007FF6128D3BEC]\n\t(No symbol) [0x00007FF6128D2DD6]\n\t(No symbol) [0x00007FF6128D4364]\n\tMicrosoft::Applications::Events::ILogManager::DispatchEventBroadcast [0x00007FF612D28359+1319033]\n\t(No symbol) [0x00007FF61294D298]\n\tMicrosoft::Applications::Events::EventProperty::~EventProperty [0x00007FF612A29161+33553]\n\tMicrosoft::Applications::Events::EventProperty::~EventProperty [0x00007FF612A2159F+1871]\n\tMicrosoft::Applications::Events::ILogManager::DispatchEventBroadcast [0x00007FF612D26F73+1313939]\n\tMicrosoft::Applications::Events::ILogConfiguration::operator* [0x00007FF612AE4248+20232]\n\tMicrosoft::Applications::Events::ILogConfiguration::operator* [0x00007FF612AE0864+5412]\n\tMicrosoft::Applications::Events::ILogConfiguration::operator* [0x00007FF612AE095C+5660]\n\tMicrosoft::Applications::Events::EventProperty::~EventProperty [0x00007FF612AD4611+735169]\n\tBaseThreadInitThunk [0x00007FFB892626AD+29]\n\tRtlUserThreadStart [0x00007FFB8B2AAA68+40]\n",
     "output_type": "error",
     "traceback": [
      "\u001b[1;31m---------------------------------------------------------------------------\u001b[0m",
      "\u001b[1;31mElementClickInterceptedException\u001b[0m          Traceback (most recent call last)",
      "Cell \u001b[1;32mIn[33], line 8\u001b[0m\n\u001b[0;32m      5\u001b[0m \u001b[38;5;66;03m# click for to write\u001b[39;00m\n\u001b[0;32m      6\u001b[0m lens \u001b[38;5;241m=\u001b[39m driver\u001b[38;5;241m.\u001b[39mfind_element(By\u001b[38;5;241m.\u001b[39mXPATH, \u001b[38;5;124m'\u001b[39m\u001b[38;5;124m//button[@class=\u001b[39m\u001b[38;5;124m\"\u001b[39m\u001b[38;5;124mcolorgray-3 displaynone fontSize6 px4 laptop_displayflex\u001b[39m\u001b[38;5;124m\"\u001b[39m\u001b[38;5;124m]\u001b[39m\u001b[38;5;124m'\u001b[39m)\n\u001b[1;32m----> 8\u001b[0m \u001b[43mlens\u001b[49m\u001b[38;5;241;43m.\u001b[39;49m\u001b[43mclick\u001b[49m\u001b[43m(\u001b[49m\u001b[43m)\u001b[49m\n\u001b[0;32m      9\u001b[0m time\u001b[38;5;241m.\u001b[39msleep(\u001b[38;5;241m1.5\u001b[39m)\n\u001b[0;32m     10\u001b[0m \u001b[38;5;66;03m# clilk lens with bar\u001b[39;00m\n",
      "File \u001b[1;32m~\\miniconda3\\envs\\tf\\lib\\site-packages\\selenium\\webdriver\\remote\\webelement.py:94\u001b[0m, in \u001b[0;36mWebElement.click\u001b[1;34m(self)\u001b[0m\n\u001b[0;32m     92\u001b[0m \u001b[38;5;28;01mdef\u001b[39;00m \u001b[38;5;21mclick\u001b[39m(\u001b[38;5;28mself\u001b[39m) \u001b[38;5;241m-\u001b[39m\u001b[38;5;241m>\u001b[39m \u001b[38;5;28;01mNone\u001b[39;00m:\n\u001b[0;32m     93\u001b[0m \u001b[38;5;250m    \u001b[39m\u001b[38;5;124;03m\"\"\"Clicks the element.\"\"\"\u001b[39;00m\n\u001b[1;32m---> 94\u001b[0m     \u001b[38;5;28;43mself\u001b[39;49m\u001b[38;5;241;43m.\u001b[39;49m\u001b[43m_execute\u001b[49m\u001b[43m(\u001b[49m\u001b[43mCommand\u001b[49m\u001b[38;5;241;43m.\u001b[39;49m\u001b[43mCLICK_ELEMENT\u001b[49m\u001b[43m)\u001b[49m\n",
      "File \u001b[1;32m~\\miniconda3\\envs\\tf\\lib\\site-packages\\selenium\\webdriver\\remote\\webelement.py:395\u001b[0m, in \u001b[0;36mWebElement._execute\u001b[1;34m(self, command, params)\u001b[0m\n\u001b[0;32m    393\u001b[0m     params \u001b[38;5;241m=\u001b[39m {}\n\u001b[0;32m    394\u001b[0m params[\u001b[38;5;124m\"\u001b[39m\u001b[38;5;124mid\u001b[39m\u001b[38;5;124m\"\u001b[39m] \u001b[38;5;241m=\u001b[39m \u001b[38;5;28mself\u001b[39m\u001b[38;5;241m.\u001b[39m_id\n\u001b[1;32m--> 395\u001b[0m \u001b[38;5;28;01mreturn\u001b[39;00m \u001b[38;5;28;43mself\u001b[39;49m\u001b[38;5;241;43m.\u001b[39;49m\u001b[43m_parent\u001b[49m\u001b[38;5;241;43m.\u001b[39;49m\u001b[43mexecute\u001b[49m\u001b[43m(\u001b[49m\u001b[43mcommand\u001b[49m\u001b[43m,\u001b[49m\u001b[43m \u001b[49m\u001b[43mparams\u001b[49m\u001b[43m)\u001b[49m\n",
      "File \u001b[1;32m~\\miniconda3\\envs\\tf\\lib\\site-packages\\selenium\\webdriver\\remote\\webdriver.py:346\u001b[0m, in \u001b[0;36mWebDriver.execute\u001b[1;34m(self, driver_command, params)\u001b[0m\n\u001b[0;32m    344\u001b[0m response \u001b[38;5;241m=\u001b[39m \u001b[38;5;28mself\u001b[39m\u001b[38;5;241m.\u001b[39mcommand_executor\u001b[38;5;241m.\u001b[39mexecute(driver_command, params)\n\u001b[0;32m    345\u001b[0m \u001b[38;5;28;01mif\u001b[39;00m response:\n\u001b[1;32m--> 346\u001b[0m     \u001b[38;5;28;43mself\u001b[39;49m\u001b[38;5;241;43m.\u001b[39;49m\u001b[43merror_handler\u001b[49m\u001b[38;5;241;43m.\u001b[39;49m\u001b[43mcheck_response\u001b[49m\u001b[43m(\u001b[49m\u001b[43mresponse\u001b[49m\u001b[43m)\u001b[49m\n\u001b[0;32m    347\u001b[0m     response[\u001b[38;5;124m\"\u001b[39m\u001b[38;5;124mvalue\u001b[39m\u001b[38;5;124m\"\u001b[39m] \u001b[38;5;241m=\u001b[39m \u001b[38;5;28mself\u001b[39m\u001b[38;5;241m.\u001b[39m_unwrap_value(response\u001b[38;5;241m.\u001b[39mget(\u001b[38;5;124m\"\u001b[39m\u001b[38;5;124mvalue\u001b[39m\u001b[38;5;124m\"\u001b[39m, \u001b[38;5;28;01mNone\u001b[39;00m))\n\u001b[0;32m    348\u001b[0m     \u001b[38;5;28;01mreturn\u001b[39;00m response\n",
      "File \u001b[1;32m~\\miniconda3\\envs\\tf\\lib\\site-packages\\selenium\\webdriver\\remote\\errorhandler.py:245\u001b[0m, in \u001b[0;36mErrorHandler.check_response\u001b[1;34m(self, response)\u001b[0m\n\u001b[0;32m    243\u001b[0m         alert_text \u001b[38;5;241m=\u001b[39m value[\u001b[38;5;124m\"\u001b[39m\u001b[38;5;124malert\u001b[39m\u001b[38;5;124m\"\u001b[39m]\u001b[38;5;241m.\u001b[39mget(\u001b[38;5;124m\"\u001b[39m\u001b[38;5;124mtext\u001b[39m\u001b[38;5;124m\"\u001b[39m)\n\u001b[0;32m    244\u001b[0m     \u001b[38;5;28;01mraise\u001b[39;00m exception_class(message, screen, stacktrace, alert_text)  \u001b[38;5;66;03m# type: ignore[call-arg]  # mypy is not smart enough here\u001b[39;00m\n\u001b[1;32m--> 245\u001b[0m \u001b[38;5;28;01mraise\u001b[39;00m exception_class(message, screen, stacktrace)\n",
      "\u001b[1;31mElementClickInterceptedException\u001b[0m: Message: element click intercepted: Element <button class=\"colorgray-3 displaynone fontSize6 px4 laptop_displayflex\">...</button> is not clickable at point (948, 29). Other element would receive the click: <div class=\"a__sc-np32r2-0 dalZPh\" style=\"z-index: 2147483647;\">...</div>\n  (Session info: MicrosoftEdge=114.0.1823.82)\nStacktrace:\nBacktrace:\n\tGetHandleVerifier [0x00007FF612B4AA52+64226]\n\tMicrosoft::Applications::Events::EventProperty::~EventProperty [0x00007FF612ADBC12+765378]\n\t(No symbol) [0x00007FF61289CC4C]\n\t(No symbol) [0x00007FF6128E82BA]\n\t(No symbol) [0x00007FF6128E5A43]\n\t(No symbol) [0x00007FF6128E3699]\n\t(No symbol) [0x00007FF6128E26F5]\n\t(No symbol) [0x00007FF6128D532C]\n\t(No symbol) [0x00007FF6128FEFFA]\n\t(No symbol) [0x00007FF6128D4BB1]\n\t(No symbol) [0x00007FF6128D4A81]\n\t(No symbol) [0x00007FF6128FF330]\n\t(No symbol) [0x00007FF6128D4BB1]\n\t(No symbol) [0x00007FF612917FC1]\n\t(No symbol) [0x00007FF6128FEDD3]\n\t(No symbol) [0x00007FF6128D3BEC]\n\t(No symbol) [0x00007FF6128D2DD6]\n\t(No symbol) [0x00007FF6128D4364]\n\tMicrosoft::Applications::Events::ILogManager::DispatchEventBroadcast [0x00007FF612D28359+1319033]\n\t(No symbol) [0x00007FF61294D298]\n\tMicrosoft::Applications::Events::EventProperty::~EventProperty [0x00007FF612A29161+33553]\n\tMicrosoft::Applications::Events::EventProperty::~EventProperty [0x00007FF612A2159F+1871]\n\tMicrosoft::Applications::Events::ILogManager::DispatchEventBroadcast [0x00007FF612D26F73+1313939]\n\tMicrosoft::Applications::Events::ILogConfiguration::operator* [0x00007FF612AE4248+20232]\n\tMicrosoft::Applications::Events::ILogConfiguration::operator* [0x00007FF612AE0864+5412]\n\tMicrosoft::Applications::Events::ILogConfiguration::operator* [0x00007FF612AE095C+5660]\n\tMicrosoft::Applications::Events::EventProperty::~EventProperty [0x00007FF612AD4611+735169]\n\tBaseThreadInitThunk [0x00007FFB892626AD+29]\n\tRtlUserThreadStart [0x00007FFB8B2AAA68+40]\n"
     ]
    }
   ],
   "source": [
    "for i in range(len(list_etf)):\n",
    "    \n",
    "    ticker = list_etf[i]\n",
    "\n",
    "    # click for to write\n",
    "    lens = driver.find_element(By.XPATH, '//button[@class=\"colorgray-3 displaynone fontSize6 px4 laptop_displayflex\"]')\n",
    "    \n",
    "    lens.click()\n",
    "    time.sleep(1.5)\n",
    "    # clilk lens with bar\n",
    "    search_input = driver.find_element(By.XPATH, '//input[@placeholder=\"Search ...\"]')\n",
    "    \n",
    "    search_input.click()\n",
    "    \n",
    "    # ticker = 'spy'\n",
    "    \n",
    "    search_input.send_keys(ticker)\n",
    "    \n",
    "    time.sleep(2)\n",
    "    \n",
    "    # select th first\n",
    "    first_ticker = driver.find_element(By.XPATH, '//div[@class=\"flexrsb w5    displayflex\"]')\n",
    "    \n",
    "    first_ticker.click()\n",
    "    time.sleep(4)\n",
    "    \n",
    "    # click cookies\n",
    "    driver.find_element(By.XPATH, '//button[@title=\"Scroll to the bottom of the text below to enable this button\"]').click()\n",
    "    time.sleep(4)\n",
    "    \n",
    "    button_outperform = driver.find_element(By.XPATH, '//span[@class=\"fontSizebig fontWeightbold    h_pxsmall  mb1\"]')\n",
    "    \n",
    "    button_ratings1 = driver.find_elements(By.XPATH, '//span[@class=\"colorblack fonth10_semibold\"]')\n",
    "    \n",
    "    # buttons header reatings\n",
    "    button_ratings2 = driver.find_elements(By.XPATH, '//div[@class=\"flexrcc     displayflex\"]')\n",
    "    \n",
    "    if len(button_ratings2) == 15:\n",
    "        Outperform = button_outperform.text\n",
    "        Analyst_consensus = button_ratings2[4].text\n",
    "        Average_Price_Target = button_ratings1[0].text\n",
    "        Blogger_Sentiment = button_ratings2[5].text\n",
    "        Hedge_Fund_Trend = button_ratings2[6].text\n",
    "        Crowd_Wisdom = button_ratings2[7].text\n",
    "        News_Sentiment = button_ratings2[8].text\n",
    "        Technical_SMA = button_ratings2[9].text\n",
    "        Technical_Momentum = button_ratings2[10].text\n",
    "    else:\n",
    "        Outperform = button_outperform.text\n",
    "        Analyst_consensus = button_ratings2[4].text\n",
    "        Average_Price_Target = button_ratings1[0].text\n",
    "        Blogger_Sentiment = button_ratings2[5].text\n",
    "        Hedge_Fund_Trend = button_ratings2[6].text\n",
    "        Crowd_Wisdom = button_ratings2[7].text\n",
    "        News_Sentiment = ' '\n",
    "        Technical_SMA = button_ratings2[-6].text\n",
    "        Technical_Momentum = button_ratings2[-5].text\n",
    "        \n",
    "    etf_description_text = driver.find_element(By.XPATH, '//div[@class=\"px4\"]')\n",
    "    etf_description_text = etf_description_text.text\n",
    "    #<div class=\"px4\">SPY tracks a market cap-weighted index of US large- and mid-cap stocks selected by the S&amp;P Committee.</div>\n",
    "        \n",
    "    # change to analysis forecast\n",
    "    to_forecast = driver.find_elements(By.XPATH, '//a[@data-link=\"etf-forecast\"]')\n",
    "    \n",
    "    to_forecast[1].text\n",
    "    \n",
    "    to_forecast[1].click()\n",
    "    time.sleep(3)\n",
    "    \n",
    "    buttons_forecast_b = driver.find_elements(By.XPATH, '//span[@class=\"mr2\"]')\n",
    "    \n",
    "    ratings_Buy = buttons_forecast_b[0].text\n",
    "    ratings_Hold =  buttons_forecast_b[1].text\n",
    "    ratings_Sell = buttons_forecast_b[2].text\n",
    "    \n",
    "    price_forecast = driver.find_elements(By.XPATH, '//tr[@class=\"w12 fontSize5 fontWeightsemibold flexrs_ maxW480 laptop_px0 laptop_fontSize7 laptop_flexrb_\"]')\n",
    "    \n",
    "    price_consensus = price_forecast[0].text\n",
    "    price_consensus\n",
    "    \n",
    "    list_price_target = price_consensus.split('\\n')\n",
    "    \n",
    "    Highest_Price_Target = list_price_target[1]\n",
    "    \n",
    "    Average_Price_Target = list_price_target[3]\n",
    "    \n",
    "    Lowest_Price_Target = list_price_target[5]\n",
    "    \n",
    "    #ratings_forecast = driver.find_elements(By.XPATH, '//div[@class=\"flexccc     displayflex ipad_flexrc_ ipad_pb4\"]')\n",
    "    #<div class=\"flexccc     displayflex ipad_flexrc_ ipad_pb4\"><div class=\"flexrsc     displayflex h_px4\" title=\"\"><svg viewBox=\"0 0 64 64\" class=\"h11 fontSize5\"><path d=\"M32,0 A32,32 0 1,1 13.928163045135296,58.408496910592746 L17.542530436108237,53.1267975284742 A25.6,25.6 0 1,0 32,6.399999999999999 Z\" fill=\"#199ca5\" stroke=\"white\" stroke-width=\"0.8\"></path><path d=\"M13.928163045135296,58.408496910592746 A32,32 0 0,1 21.312815317853353,1.837372734297663 L23.45025225428268,7.869898187438128 A25.6,25.6 0 0,0 17.542530436108237,53.1267975284742 Z\" fill=\"#999999\" stroke=\"white\" stroke-width=\"0.8\"></path><path d=\"M21.312815317853353,1.837372734297663 A32,32 0 0,1 31.999999999999993,0 L31.999999999999993,6.399999999999999 A25.6,25.6 0 0,0 23.45025225428268,7.869898187438128 Z\" fill=\"#912767\" stroke=\"white\" stroke-width=\"0.8\"></path><g class=\"override  fontSize6\"><text class=\"override  fontWeightbold fontSize6\" x=\"50%\" y=\"50%\" text-anchor=\"middle\" dy=\"0.20em\">6K</text><text class=\"fontSizesmaller fontWeightlight colorblack\" x=\"50%\" y=\"50%\" fill=\"#000000\" text-anchor=\"middle\" dy=\"1.55em\">Ratings</text></g></svg></div><div class=\"flexracf w12   mt4 displayflex ml4 ipad_flexcc_\"><div class=\"flexrsc     displayflex  mb3  fontSize7 colorpale  mr4\"><i class=\"m2_qQF44 icon-rect  mr2   displayinline-flex  h12 flexccc\" style=\"color: rgb(25, 156, 165);\"></i><div class=\"flexrsc colorpale\"><span class=\"mr2\">59.55%</span> Buy</div></div><div class=\"flexrsc     displayflex  mb3  fontSize7 colorgray-1  mr4\"><i class=\"m2_qQF44 icon-rect  mr2   displayinline-flex  h12 flexccc\" style=\"color: rgb(153, 153, 153);\"></i><div class=\"flexrsc colorgray-1\"><span class=\"mr2\">35.03%</span> Hold</div></div><div class=\"flexrsc     displayflex  mb3  fontSize7 colorpurple-dark  mr4\"><i class=\"m2_qQF44 icon-rect  mr2   displayinline-flex  h12 flexccc\" style=\"color: rgb(145, 39, 103);\"></i><div class=\"flexrsc colorpurple-dark\"><span class=\"mr2\">5.42%</span> Sell</div></div></div> </div>\n",
    "    \n",
    "    \n",
    "    valuation_ratings.loc[ticker] = [Outperform, Analyst_consensus, ratings_Buy, ratings_Hold, ratings_Sell, Highest_Price_Target, Average_Price_Target, Lowest_Price_Target]\n",
    "    \n",
    "    technic_ratings.loc[ticker] = [Blogger_Sentiment, Hedge_Fund_Trend, Crowd_Wisdom, News_Sentiment, Technical_SMA, Technical_Momentum]\n",
    "\n",
    "    etf_description.loc[ticker] = [etf_description_text]\n",
    "\n",
    "valuation_ratings"
   ]
  },
  {
   "cell_type": "code",
   "execution_count": null,
   "id": "9a990003",
   "metadata": {},
   "outputs": [],
   "source": []
  }
 ],
 "metadata": {
  "kernelspec": {
   "display_name": "Python [conda env:tf]",
   "language": "python",
   "name": "conda-env-tf-py"
  },
  "language_info": {
   "codemirror_mode": {
    "name": "ipython",
    "version": 3
   },
   "file_extension": ".py",
   "mimetype": "text/x-python",
   "name": "python",
   "nbconvert_exporter": "python",
   "pygments_lexer": "ipython3",
   "version": "3.9.16"
  }
 },
 "nbformat": 4,
 "nbformat_minor": 5
}
