{
 "cells": [
  {
   "cell_type": "code",
   "execution_count": 29,
   "id": "1487600f",
   "metadata": {},
   "outputs": [],
   "source": [
    "import yfinance as yf\n",
    "import pandas as pd\n",
    "import datetime\n",
    "from datetime import date\n",
    "import financedatabase as fd\n",
    "import streamlit as st\n",
    "import numpy as np\n",
    "import seaborn as sns\n",
    "import statistics\n",
    "pd.set_option('display.max_colwidth', None)\n",
    "import plotly.graph_objects as go\n"
   ]
  },
  {
   "cell_type": "code",
   "execution_count": 2,
   "id": "d9220178",
   "metadata": {},
   "outputs": [],
   "source": [
    "# Create function for add more features\n",
    "def add_features(df):\n",
    "    df = df.reset_index()\n",
    "    df['HL_pct'] = (df['High'] - df['Low']) / df['Low']\n",
    "    df['pct_change'] = (df['Close'] - df['Open']) / df['Open']\n",
    "    df['Date'] = pd.to_datetime(df['Date'])\n",
    "    df['year'] = df['Date'].dt.year\n",
    "    df['month'] = df['Date'].dt.month\n",
    "    df['day'] = df['Date'].dt.day\n",
    "    df['day_of_week'] = df['Date'].dt.dayofweek\n",
    "    # Mapping day of week to actual day names\n",
    "    day_names = ['Monday', 'Tuesday', 'Wednesday', 'Thursday', 'Friday', 'Saturday', 'Sunday']\n",
    "    df['day_of_week'] = df['day_of_week'].map(lambda x: day_names[x])\n",
    "    return df"
   ]
  },
  {
   "cell_type": "code",
   "execution_count": 3,
   "id": "53b508c1",
   "metadata": {},
   "outputs": [],
   "source": [
    "# forecast\n",
    "\n",
    "def forecast_etf(list_etf, invested_amount, type_investment, years_maintained):\n",
    "    \n",
    "    # dates of historical data of actives\n",
    "    start = \"2012-06-30\"\n",
    "    today = date.today().strftime(\"%Y-%m-%d\")\n",
    "        \n",
    "    dict_invested_amount_by_ticker = {}\n",
    "    dict_money_to_ticker = {}\n",
    "    \n",
    "    if type_investment == 'Passive':\n",
    "        if invested_amount < 5000:\n",
    "            list_etf = ['^GSPC']\n",
    "        elif invested_amount < 10000:\n",
    "            list_etf = ['^GSPC', 'GC=F']\n",
    "        elif invested_amount < 25000:\n",
    "            list_etf = ['^GSPC', 'GC=F', '^IXIC', '^TNX']\n",
    "        elif invested_amount < 50000:\n",
    "            list_etf = ['^GSPC', 'GC=F', '^IXIC', '^TNX', '^FTSE', '^N225', '^GDAXI', '^FCHI','^STOXX50E'] # global indexes\n",
    "        else:\n",
    "            list_etf = ['^GSPC', 'GC=F', '^IXIC', '^TNX', '^FTSE', '^N225', '^GDAXI', '^FCHI','^STOXX50E', 'EMQQ', 'FEM'] # emergents\n",
    "        \n",
    "    \n",
    "        # download the historical data of each active\n",
    "        list_etf_data = []\n",
    "        for i in range(len(list_etf)):\n",
    "            print(i)\n",
    "            etf = yf.download(list_etf[i], start, today)\n",
    "            list_etf_data.append(etf)\n",
    "            \n",
    "    \n",
    "        count = 0\n",
    "        \n",
    "        # add proportion of money to each ticker of list_etf in dict, its are units of active purchased\n",
    "        if invested_amount < 5000: # only sp500\n",
    "            investment1 = invested_amount/list_etf_data[count]['Adj Close'].iloc[-1]\n",
    "            dict_invested_amount_by_ticker[list_etf[0]] = investment1\n",
    "            dict_money_to_ticker[list_etf[0]] = invested_amount\n",
    "        \n",
    "            \n",
    "        elif invested_amount < 10000: # Gold and sp\n",
    "            investment1 = 0.8*invested_amount/list_etf_data[count]['Adj Close'].iloc[-1]\n",
    "            count = count +1\n",
    "            dict_invested_amount_by_ticker[list_etf[0]] = investment1\n",
    "            investment2 = 0.2*invested_amount/list_etf_data[count]['Adj Close'].iloc[-1]\n",
    "            dict_invested_amount_by_ticker[list_etf[1]] = investment2\n",
    "            dict_money_to_ticker[list_etf[0]] = invested_amount*0.8\n",
    "            dict_money_to_ticker[list_etf[1]] = invested_amount*0.2\n",
    "        \n",
    "        \n",
    "        elif invested_amount < 25000: # Gold, nq and sp\n",
    "            investment1 = 0.4*invested_amount/list_etf_data[count]['Adj Close'].iloc[-1]\n",
    "            dict_invested_amount_by_ticker[list_etf[0]] = investment1\n",
    "            count = count +1\n",
    "            \n",
    "            \n",
    "            investment2 = 0.2*invested_amount/list_etf_data[count]['Adj Close'].iloc[-1]\n",
    "            dict_invested_amount_by_ticker[list_etf[1]] = investment2\n",
    "            count = count +1\n",
    "            \n",
    "            investment3 = 0.2*invested_amount/list_etf_data[count]['Adj Close'].iloc[-1]\n",
    "            dict_invested_amount_by_ticker[list_etf[2]] = investment3\n",
    "            count = count +1\n",
    "            \n",
    "            investment4 = 0.2*invested_amount/list_etf_data[count]['Adj Close'].iloc[-1]\n",
    "            dict_invested_amount_by_ticker[list_etf[3]] = investment4\n",
    "            dict_money_to_ticker[list_etf[0]] = invested_amount*0.4\n",
    "            dict_money_to_ticker[list_etf[1]] = invested_amount*0.2\n",
    "            dict_money_to_ticker[list_etf[2]] = invested_amount*0.2\n",
    "            dict_money_to_ticker[list_etf[3]] = invested_amount*0.2\n",
    "            \n",
    "            \n",
    "        elif invested_amount < 50000: # Gold, nq and sp\n",
    "            investment1 = 0.2*invested_amount/list_etf_data[count]['Adj Close'].iloc[-1]\n",
    "            dict_invested_amount_by_ticker[list_etf[0]] = investment1\n",
    "            count = count +1\n",
    "            \n",
    "            investment2 = 0.1*invested_amount/list_etf_data[count]['Adj Close'].iloc[-1]\n",
    "            dict_invested_amount_by_ticker[list_etf[1]] = investment2\n",
    "            count = count +1\n",
    "            \n",
    "            investment3 = 0.1*invested_amount/list_etf_data[count]['Adj Close'].iloc[-1]\n",
    "            dict_invested_amount_by_ticker[list_etf[2]] = investment3\n",
    "            count = count +1\n",
    "            \n",
    "            investment4 = 0.1*invested_amount/list_etf_data[count]['Adj Close'].iloc[-1]\n",
    "            dict_invested_amount_by_ticker[list_etf[3]] = investment4\n",
    "            count = count +1\n",
    "            \n",
    "            investment5 = 0.1*invested_amount/list_etf_data[count]['Adj Close'].iloc[-1]\n",
    "            dict_invested_amount_by_ticker[list_etf[4]] = investment5\n",
    "            count = count +1\n",
    "            \n",
    "            investment6 = 0.1*invested_amount/list_etf_data[count]['Adj Close'].iloc[-1]\n",
    "            dict_invested_amount_by_ticker[list_etf[5]] = investment6\n",
    "            count = count +1\n",
    "            \n",
    "            investment7 = 0.1*invested_amount/list_etf_data[count]['Adj Close'].iloc[-1]\n",
    "            dict_invested_amount_by_ticker[list_etf[6]] = investment7\n",
    "            count = count +1\n",
    "            \n",
    "            investment8 = 0.1*invested_amount/list_etf_data[count]['Adj Close'].iloc[-1]\n",
    "            dict_invested_amount_by_ticker[list_etf[7]] = investment8\n",
    "            count = count +1\n",
    "            \n",
    "            investment9 = 0.1*invested_amount/list_etf_data[count]['Adj Close'].iloc[-1]\n",
    "            dict_invested_amount_by_ticker[list_etf[8]] = investment9\n",
    "            \n",
    "            dict_money_to_ticker[list_etf[0]] = invested_amount*0.2\n",
    "            dict_money_to_ticker[list_etf[1]] = invested_amount*0.1\n",
    "            dict_money_to_ticker[list_etf[2]] = invested_amount*0.1\n",
    "            dict_money_to_ticker[list_etf[3]] = invested_amount*0.1\n",
    "            dict_money_to_ticker[list_etf[4]] = invested_amount*0.1\n",
    "            dict_money_to_ticker[list_etf[5]] = invested_amount*0.1\n",
    "            dict_money_to_ticker[list_etf[6]] = invested_amount*0.1\n",
    "            dict_money_to_ticker[list_etf[7]] = invested_amount*0.1\n",
    "            dict_money_to_ticker[list_etf[8]] = invested_amount*0.1\n",
    "        \n",
    "            \n",
    "        else: # Gold, nq and sp\n",
    "            investment1 = 0.2*invested_amount/list_etf_data[count]['Adj Close'].iloc[-1]\n",
    "            dict_invested_amount_by_ticker[list_etf[0]] = investment1\n",
    "            count = count +1\n",
    "            \n",
    "            investment2 = 0.1*invested_amount/list_etf_data[count]['Adj Close'].iloc[-1]\n",
    "            dict_invested_amount_by_ticker[list_etf[1]] = investment2\n",
    "            count = count +1\n",
    "            \n",
    "            investment3 = 0.1*invested_amount/list_etf_data[count]['Adj Close'].iloc[-1]\n",
    "            dict_invested_amount_by_ticker[list_etf[2]] = investment3\n",
    "            count = count +1\n",
    "            \n",
    "            investment4 = 0.08*invested_amount/list_etf_data[count]['Adj Close'].iloc[-1]\n",
    "            dict_invested_amount_by_ticker[list_etf[3]] = investment4\n",
    "            count = count +1\n",
    "            \n",
    "            investment5 = 0.08*invested_amount/list_etf_data[count]['Adj Close'].iloc[-1]\n",
    "            dict_invested_amount_by_ticker[list_etf[4]] = investment5\n",
    "            count = count +1\n",
    "            \n",
    "            investment6 = 0.08*invested_amount/list_etf_data[count]['Adj Close'].iloc[-1]\n",
    "            dict_invested_amount_by_ticker[list_etf[5]] = investment6\n",
    "            count = count +1\n",
    "            \n",
    "            investment7 = 0.08*invested_amount/list_etf_data[count]['Adj Close'].iloc[-1]\n",
    "            dict_invested_amount_by_ticker[list_etf[6]] = investment7\n",
    "            count = count +1\n",
    "            \n",
    "            investment8 = 0.08*invested_amount/list_etf_data[count]['Adj Close'].iloc[-1]\n",
    "            dict_invested_amount_by_ticker[list_etf[7]] = investment8\n",
    "            count = count +1\n",
    "            \n",
    "            investment9 = 0.08*invested_amount/list_etf_data[count]['Adj Close'].iloc[-1]\n",
    "            dict_invested_amount_by_ticker[list_etf[8]] = investment9\n",
    "            count = count +1\n",
    "            \n",
    "            investment10 = 0.06*invested_amount/list_etf_data[count]['Adj Close'].iloc[-1]\n",
    "            dict_invested_amount_by_ticker[list_etf[9]] = investment10\n",
    "            count = count +1\n",
    "            \n",
    "            investment11 = 0.06*invested_amount/list_etf_data[count]['Adj Close'].iloc[-1]\n",
    "            dict_invested_amount_by_ticker[list_etf[10]] = investment11\n",
    "            \n",
    "            dict_money_to_ticker[list_etf[0]] = invested_amount*0.2\n",
    "            dict_money_to_ticker[list_etf[1]] = invested_amount*0.1\n",
    "            dict_money_to_ticker[list_etf[2]] = invested_amount*0.1\n",
    "            dict_money_to_ticker[list_etf[3]] = invested_amount*0.08\n",
    "            dict_money_to_ticker[list_etf[4]] = invested_amount*0.08\n",
    "            dict_money_to_ticker[list_etf[5]] = invested_amount*0.08\n",
    "            dict_money_to_ticker[list_etf[6]] = invested_amount*0.08\n",
    "            dict_money_to_ticker[list_etf[7]] = invested_amount*0.08\n",
    "            dict_money_to_ticker[list_etf[8]] = invested_amount*0.08\n",
    "            dict_money_to_ticker[list_etf[9]] = invested_amount*0.06\n",
    "            dict_money_to_ticker[list_etf[10]] = invested_amount*0.06\n",
    "            \n",
    "            \n",
    "    \n",
    "            \n",
    "    else:\n",
    "        # download the historical data of each active\n",
    "        list_etf_data = []\n",
    "        for i in range(len(list_etf)):\n",
    "            print(i)\n",
    "            etf = yf.download(list_etf[i], start, today)\n",
    "            list_etf_data.append(etf)\n",
    "        for i in range(len(list_etf)):\n",
    "            invested_amount_ticker = invested_amount/len(list_etf)\n",
    "            investment = invested_amount_ticker/list_etf_data[i]['Adj Close'].iloc[-1]\n",
    "            dict_invested_amount_by_ticker[list_etf[i]] = investment\n",
    "            dict_money_to_ticker[list_etf[i]] = invested_amount_ticker\n",
    "    \n",
    "    \n",
    "    \n",
    "    \n",
    "    \n",
    "    invested_amount_money_of_each_ticker = pd.DataFrame.from_dict(dict_money_to_ticker, orient='index', columns=['Amount'])\n",
    "    \n",
    "    \n",
    "    \n",
    "    # Create function for add more features\n",
    "    def add_features(df):\n",
    "        df = df.reset_index()\n",
    "        df['HL_pct'] = (df['High'] - df['Low']) / df['Low']\n",
    "        df['pct_change'] = (df['Close'] - df['Open']) / df['Open']\n",
    "        df['Date'] = pd.to_datetime(df['Date'])\n",
    "        df['year'] = df['Date'].dt.year\n",
    "        df['month'] = df['Date'].dt.month\n",
    "        df['day'] = df['Date'].dt.day\n",
    "        df['day_of_week'] = df['Date'].dt.dayofweek\n",
    "        # Mapping day of week to actual day names\n",
    "        day_names = ['Monday', 'Tuesday', 'Wednesday', 'Thursday', 'Friday', 'Saturday', 'Sunday']\n",
    "        df['day_of_week'] = df['day_of_week'].map(lambda x: day_names[x])\n",
    "        return df\n",
    "    \n",
    "    # use the function each active, return a list of df with new features\n",
    "    for i in range(len(list_etf_data)):\n",
    "        list_etf_data[i] = add_features(list_etf_data[i])\n",
    "    \n",
    "    \n",
    "    # separate by year the data of each active, return a dict with key the active and values the df of the active by year\n",
    "    dict_etf_data_years = {}\n",
    "    \n",
    "    for i in range(len(list_etf_data)):\n",
    "        years = list_etf_data[i]['year'].unique()\n",
    "        list_values = []\n",
    "        for j in range(len(years)):\n",
    "            x = list_etf_data[i][list_etf_data[i]['year']==years[j]]\n",
    "            list_values.append(x)\n",
    "            if j == len(years)-1:\n",
    "                dict_etf_data_years[list_etf[i]] = list_values\n",
    "    \n",
    "    \n",
    "    \n",
    "    # return a dict of percentage of each years of each active\n",
    "    \n",
    "    pct_each_year_by_active = {}\n",
    "    for i in range(len(dict_etf_data_years)): # dict\n",
    "        list_values = []\n",
    "        for j in range(len(dict_etf_data_years[list_etf[i]])):  # keys\n",
    "                x = float(dict_etf_data_years[list_etf[i]][j][-1:]['Close'])/float(dict_etf_data_years[list_etf[i]][j][:1]['Close'])\n",
    "                list_values.append(x)\n",
    "                if j == len(dict_etf_data_years[list_etf[i]])-1:\n",
    "                    pct_each_year_by_active[list_etf[i]] = list_values \n",
    "                \n",
    "    \n",
    "    \n",
    "    \n",
    "    # return a dict of mean of percentage of each active by year\n",
    "    pct_mean_active = {}\n",
    "    \n",
    "    for i in range(len(pct_each_year_by_active)):\n",
    "        list_values = []\n",
    "        for j in range(len(pct_each_year_by_active[list_etf[i]])):\n",
    "            x = pct_each_year_by_active[list_etf[i]][j]\n",
    "            list_values.append(x)\n",
    "            if j == len(pct_each_year_by_active[list_etf[i]])-1:\n",
    "                pct_mean_active[list_etf[i]] = statistics.mean(list_values)\n",
    "                \n",
    "    \n",
    "    \n",
    "    \n",
    "    # values of investment year to year and final investment, NO MONEY!!\n",
    "    \n",
    "    dict_final_result_active_value = {}\n",
    "    dict_futures_values_actives = {}\n",
    "    for i in range(len(list_etf)):\n",
    "        x = list_etf_data[i]['Adj Close'].iloc[-1]\n",
    "        list_values = []\n",
    "        for j in range(years_maintained):\n",
    "            x = x*pct_mean_active[list_etf[i]]\n",
    "            list_values.append(x)\n",
    "            dict_final_result_active_value[list_etf[i]] = x\n",
    "            if j == years_maintained-1:\n",
    "                dict_futures_values_actives[list_etf[i]] = list_values\n",
    "    \n",
    "    \n",
    "    \n",
    "    \n",
    "    \n",
    "    \n",
    "    final_invested_amount ={}\n",
    "    \n",
    "    for i in range(len(dict_invested_amount_by_ticker)):\n",
    "        final_invested_amount[list_etf[i]] = dict_invested_amount_by_ticker[list_etf[i]]*dict_final_result_active_value[list_etf[i]]\n",
    "    \n",
    "    \n",
    "    \n",
    "    \n",
    "    final_full_return = []\n",
    "    for i in range(len(list_etf)):\n",
    "        final_full_return.append(final_invested_amount[list_etf[i]])\n",
    "        \n",
    "    final_full_return = sum(final_full_return)\n",
    "    \n",
    "    \n",
    "    \n",
    "    df_final = pd.DataFrame(dict_futures_values_actives)\n",
    "    \n",
    "    \n",
    "    # return a dict of mean of standard deviation of each active of all years\n",
    "    \n",
    "    dict_etf_data_mean_std = {}\n",
    "    for i in range(len(dict_etf_data_years)):\n",
    "        list_values = []\n",
    "        for j in range(len(dict_etf_data_years[list_etf[i]])):  # keys\n",
    "            x = dict_etf_data_years[list_etf[i]][j].describe()['pct_change'].loc['std']\n",
    "            if x == np.float64('Nan'):\n",
    "                print(x == np.float64('Nan'))\n",
    "                x = dict_etf_data_years[list_etf[i]][j].describe()['pct_change'].iloc[6]\n",
    "            x = np.mean(x)\n",
    "            list_values.append(x)\n",
    "            if j == len(dict_etf_data_years[list_etf[i]])-1:\n",
    "                dict_etf_data_mean_std[list_etf[i]] = x\n",
    "    \n",
    "    \n",
    "    \n",
    "    # create functions for add standard deviation to the data\n",
    "    def standard_up(price, st):\n",
    "        x = price*st\n",
    "        x = price + x\n",
    "        return x\n",
    "    \n",
    "    def standard_down(price, st):\n",
    "        x = price*st\n",
    "        x = price - x\n",
    "        return x\n",
    "    \n",
    "    # string for add with the name of the active to the column\n",
    "    string_std = '_std'\n",
    "    string_std_u = '_std_u' # % up\n",
    "    string_std_d = '_std_d' # down\n",
    "    \n",
    "    # add standard deviation\n",
    "    for i in range(len(list_etf)):\n",
    "        df_final[f'{list_etf[i]}{string_std}'] = dict_etf_data_mean_std[list_etf[i]]\n",
    "        \n",
    "    \n",
    "    \n",
    "    \n",
    "    \n",
    "    # add the sum of standard deviation by year\n",
    "    for i in range(len(df_final[f'{list_etf[0]}{string_std}'])):\n",
    "        for j in range(len(list_etf)):\n",
    "            df_final[f'{list_etf[j]}{string_std}'][i] = df_final[f'{list_etf[j]}{string_std}'][i]+df_final[f'{list_etf[j]}{string_std}'][i]*i\n",
    "    \n",
    "    \n",
    "    \n",
    "    # add columns of standard deviation for up and down\n",
    "    for i in range(len(list_etf)):\n",
    "        df_final[f'{list_etf[i]}{string_std_u}'] = df_final.apply(lambda x: standard_up(x[list_etf[i]],\n",
    "                                                                                        x[f'{list_etf[i]}{string_std}']),\n",
    "                                                               axis=1)\n",
    "        df_final[f'{list_etf[i]}{string_std_d}'] = df_final.apply(lambda x: standard_down(x[list_etf[i]],\n",
    "                                                                                          x[f'{list_etf[i]}{string_std}']),\n",
    "                                                                axis=1)\n",
    "    \n",
    "    \n",
    "    \n",
    "    \n",
    "    \n",
    "    # create a for,ula for sort columns\n",
    "    cols = []\n",
    "    \n",
    "    for i in range(len(list_etf)):\n",
    "        cols.append(df_final.columns[i])\n",
    "        cols.append(df_final.columns[i+len(list_etf)])\n",
    "        cols.append(df_final.columns[(i+len(list_etf))*2])\n",
    "        cols.append(df_final.columns[((i+len(list_etf))*2)+1])\n",
    "    \n",
    "    \n",
    "    # sort columns by ticker and standard deviation\n",
    "    df_final = df_final[cols]\n",
    "    \n",
    "    \n",
    "    \n",
    "    # copy the data frame for return of money of deviation standard up and down\n",
    "    df_final_return_by_active = df_final\n",
    "    \n",
    "    # deviation standard of the money\n",
    "    count = 0\n",
    "    for i in range(len(list_etf)):\n",
    "        #i = i*3 # 012,345,678\n",
    "        df_final_return_by_active[df_final_return_by_active.columns[count]] = df_final_return_by_active[df_final_return_by_active.columns[count]]*dict_invested_amount_by_ticker[list_etf[i]]\n",
    "        df_final_return_by_active[df_final_return_by_active.columns[count+2]] = df_final_return_by_active[df_final_return_by_active.columns[count+2]]*dict_invested_amount_by_ticker[list_etf[i]]\n",
    "        df_final_return_by_active[df_final_return_by_active.columns[count+3]] = df_final_return_by_active[df_final_return_by_active.columns[count+3]]*dict_invested_amount_by_ticker[list_etf[i]]\n",
    "        count = count + 4 # columns of value an std\n",
    "    \n",
    "    \n",
    "    \n",
    "    \n",
    "    # sort the columns in a list\n",
    "    \n",
    "    list_etf_std = []\n",
    "    count = 0\n",
    "    \n",
    "    for i in range(len(list_etf)): # 3 is value plus standard deviatiations\n",
    "        list_etf_std.append(df_final_return_by_active.columns[count+2])\n",
    "        list_etf_std.append(df_final_return_by_active.columns[count])    \n",
    "        list_etf_std.append(df_final_return_by_active.columns[count+3])\n",
    "        count = count + 4\n",
    "    \n",
    "    \n",
    "    \n",
    "    # sort the columns in the data frame\n",
    "    df_final_return_by_active = df_final_return_by_active[list_etf_std]\n",
    "    \n",
    "    # transpose the dataframe for years as columns\n",
    "    df_final_return_by_active_T = df_final_return_by_active.T # for plot and df streamlit\n",
    "    \n",
    "    \n",
    "    # sum of all tickers in a dictionary\n",
    "    final_sum_return_all = {}\n",
    "    for i in range(years_maintained):\n",
    "        list_values_u = []\n",
    "        list_values = []\n",
    "        list_values_d = []\n",
    "        count = 0\n",
    "        for j in range(len(list_etf)):\n",
    "            list_values_u.append(df_final_return_by_active_T[i][count])\n",
    "            list_values.append(df_final_return_by_active_T[i][count+1])\n",
    "            list_values_d.append(df_final_return_by_active_T[i][count+2])\n",
    "            count = count + 3\n",
    "            if j == len(list_etf)-1:\n",
    "                if i+1 <10:\n",
    "                    final_sum_return_all[f'0{i+1}_year'] = [sum(list_values_u), sum(list_values), sum(list_values_d)]\n",
    "                else:\n",
    "                    final_sum_return_all[f'{i+1}_year'] = [sum(list_values_u), sum(list_values), sum(list_values_d)]\n",
    "    \n",
    "    \n",
    "    \n",
    "    # create the data frame with the final result\n",
    "    df_final_full_std_by_year = pd.DataFrame(final_sum_return_all)\n",
    "    \n",
    "    # create the dict for change the names of the rows\n",
    "    row_names = {0 : 'std_up',\n",
    "                 1 : 'normal',\n",
    "                 2 : 'std_down'}\n",
    "    \n",
    "    # change the names rows\n",
    "    df_final_full_std_by_year = df_final_full_std_by_year.rename(index = row_names)\n",
    "    \n",
    "    \n",
    "    # copy data frmae for plot the result\n",
    "    df_final_full_std_by_year_for_plot = df_final_full_std_by_year.copy()\n",
    "    \n",
    "    \n",
    "    # create the function for the change percentage by year\n",
    "    def percentage_diff(df):\n",
    "        x = return_/initial\n",
    "        return x\n",
    "    \n",
    "    # add percentage, according the invested_amount\n",
    "    \n",
    "    for i in range(len(df_final_full_std_by_year.columns)):\n",
    "        df_final_full_std_by_year[f'{df_final_full_std_by_year.columns[i]}_%'] = (df_final_full_std_by_year[df_final_full_std_by_year.columns[i]]/invested_amount-1)*100\n",
    "    \n",
    "    # list for sort the columns\n",
    "    df_final_full_std_by_year.columns\n",
    "    list_cols = []\n",
    "    for i in range(years_maintained):\n",
    "        list_cols.append(df_final_full_std_by_year.columns[i])\n",
    "        list_cols.append(df_final_full_std_by_year.columns[i+years_maintained])\n",
    "    \n",
    "    # sort the columns in the data frame\n",
    "    df_final_full_std_by_year = df_final_full_std_by_year[list_cols]\n",
    "    \n",
    "    \n",
    "    return df_final_full_std_by_year, df_final_return_by_active_T, invested_amount_money_of_each_ticker, df_final_full_std_by_year_for_plot\n",
    "    \n",
    "    \n",
    "    \n",
    "    \n",
    "    "
   ]
  },
  {
   "cell_type": "code",
   "execution_count": 4,
   "id": "f47ee7f8",
   "metadata": {},
   "outputs": [],
   "source": [
    "list_etf = ['^GSPC','^STOXX50E']"
   ]
  },
  {
   "cell_type": "code",
   "execution_count": 5,
   "id": "6b7bb828",
   "metadata": {},
   "outputs": [],
   "source": [
    "invested_amount = 100000"
   ]
  },
  {
   "cell_type": "code",
   "execution_count": 6,
   "id": "ea48e363",
   "metadata": {},
   "outputs": [],
   "source": [
    "type_investment = 'act'"
   ]
  },
  {
   "cell_type": "code",
   "execution_count": 7,
   "id": "71adbc73",
   "metadata": {},
   "outputs": [],
   "source": [
    "years_maintained = 7"
   ]
  },
  {
   "cell_type": "code",
   "execution_count": null,
   "id": "1ca892a2",
   "metadata": {},
   "outputs": [],
   "source": []
  },
  {
   "cell_type": "code",
   "execution_count": 8,
   "id": "4b6ee016",
   "metadata": {},
   "outputs": [
    {
     "name": "stdout",
     "output_type": "stream",
     "text": [
      "0\n",
      "[*********************100%***********************]  1 of 1 completed\n",
      "1\n",
      "[*********************100%***********************]  1 of 1 completed\n"
     ]
    }
   ],
   "source": [
    "df_final_full_std_by_year, df_final_return_by_active_T, invested_amount_money_of_each_ticker, df_final_full_std_by_year_for_plot = forecast_etf(list_etf, invested_amount, type_investment, years_maintained)"
   ]
  },
  {
   "cell_type": "code",
   "execution_count": 9,
   "id": "50d0a251",
   "metadata": {},
   "outputs": [
    {
     "data": {
      "text/html": [
       "<div>\n",
       "<style scoped>\n",
       "    .dataframe tbody tr th:only-of-type {\n",
       "        vertical-align: middle;\n",
       "    }\n",
       "\n",
       "    .dataframe tbody tr th {\n",
       "        vertical-align: top;\n",
       "    }\n",
       "\n",
       "    .dataframe thead th {\n",
       "        text-align: right;\n",
       "    }\n",
       "</style>\n",
       "<table border=\"1\" class=\"dataframe\">\n",
       "  <thead>\n",
       "    <tr style=\"text-align: right;\">\n",
       "      <th></th>\n",
       "      <th>01_year</th>\n",
       "      <th>01_year_%</th>\n",
       "      <th>02_year</th>\n",
       "      <th>02_year_%</th>\n",
       "      <th>03_year</th>\n",
       "      <th>03_year_%</th>\n",
       "      <th>04_year</th>\n",
       "      <th>04_year_%</th>\n",
       "      <th>05_year</th>\n",
       "      <th>05_year_%</th>\n",
       "      <th>06_year</th>\n",
       "      <th>06_year_%</th>\n",
       "      <th>07_year</th>\n",
       "      <th>07_year_%</th>\n",
       "    </tr>\n",
       "  </thead>\n",
       "  <tbody>\n",
       "    <tr>\n",
       "      <th>std_up</th>\n",
       "      <td>109815.936908</td>\n",
       "      <td>9.815937</td>\n",
       "      <td>120645.585742</td>\n",
       "      <td>20.645586</td>\n",
       "      <td>132598.514128</td>\n",
       "      <td>32.598514</td>\n",
       "      <td>145796.558760</td>\n",
       "      <td>45.796559</td>\n",
       "      <td>160375.233365</td>\n",
       "      <td>60.375233</td>\n",
       "      <td>176485.300752</td>\n",
       "      <td>76.485301</td>\n",
       "      <td>194294.528273</td>\n",
       "      <td>94.294528</td>\n",
       "    </tr>\n",
       "    <tr>\n",
       "      <th>normal</th>\n",
       "      <td>108920.502804</td>\n",
       "      <td>8.920503</td>\n",
       "      <td>118697.431416</td>\n",
       "      <td>18.697431</td>\n",
       "      <td>129418.007837</td>\n",
       "      <td>29.418008</td>\n",
       "      <td>141178.719922</td>\n",
       "      <td>41.178720</td>\n",
       "      <td>154086.333350</td>\n",
       "      <td>54.086333</td>\n",
       "      <td>168259.016022</td>\n",
       "      <td>68.259016</td>\n",
       "      <td>183827.587523</td>\n",
       "      <td>83.827588</td>\n",
       "    </tr>\n",
       "    <tr>\n",
       "      <th>std_down</th>\n",
       "      <td>108025.068701</td>\n",
       "      <td>8.025069</td>\n",
       "      <td>116749.277091</td>\n",
       "      <td>16.749277</td>\n",
       "      <td>126237.501547</td>\n",
       "      <td>26.237502</td>\n",
       "      <td>136560.881084</td>\n",
       "      <td>36.560881</td>\n",
       "      <td>147797.433335</td>\n",
       "      <td>47.797433</td>\n",
       "      <td>160032.731293</td>\n",
       "      <td>60.032731</td>\n",
       "      <td>173360.646773</td>\n",
       "      <td>73.360647</td>\n",
       "    </tr>\n",
       "  </tbody>\n",
       "</table>\n",
       "</div>"
      ],
      "text/plain": [
       "                01_year  01_year_%        02_year  02_year_%        03_year  \\\n",
       "std_up    109815.936908   9.815937  120645.585742  20.645586  132598.514128   \n",
       "normal    108920.502804   8.920503  118697.431416  18.697431  129418.007837   \n",
       "std_down  108025.068701   8.025069  116749.277091  16.749277  126237.501547   \n",
       "\n",
       "          03_year_%        04_year  04_year_%        05_year  05_year_%  \\\n",
       "std_up    32.598514  145796.558760  45.796559  160375.233365  60.375233   \n",
       "normal    29.418008  141178.719922  41.178720  154086.333350  54.086333   \n",
       "std_down  26.237502  136560.881084  36.560881  147797.433335  47.797433   \n",
       "\n",
       "                06_year  06_year_%        07_year  07_year_%  \n",
       "std_up    176485.300752  76.485301  194294.528273  94.294528  \n",
       "normal    168259.016022  68.259016  183827.587523  83.827588  \n",
       "std_down  160032.731293  60.032731  173360.646773  73.360647  "
      ]
     },
     "execution_count": 9,
     "metadata": {},
     "output_type": "execute_result"
    }
   ],
   "source": [
    "df_final_full_std_by_year"
   ]
  },
  {
   "cell_type": "code",
   "execution_count": 10,
   "id": "6e87c621",
   "metadata": {},
   "outputs": [],
   "source": [
    "df_final_full_std_by_year_percentage_only = df_final_full_std_by_year.copy()\n",
    "\n",
    "df_final_full_std_by_year_percentage_only\n",
    "\n",
    "df_final_full_std_by_year_percentage_only = df_final_full_std_by_year_percentage_only.filter(like='%')\n",
    "\n"
   ]
  },
  {
   "cell_type": "code",
   "execution_count": 18,
   "id": "4649f798",
   "metadata": {},
   "outputs": [
    {
     "data": {
      "text/html": [
       "<div>\n",
       "<style scoped>\n",
       "    .dataframe tbody tr th:only-of-type {\n",
       "        vertical-align: middle;\n",
       "    }\n",
       "\n",
       "    .dataframe tbody tr th {\n",
       "        vertical-align: top;\n",
       "    }\n",
       "\n",
       "    .dataframe thead th {\n",
       "        text-align: right;\n",
       "    }\n",
       "</style>\n",
       "<table border=\"1\" class=\"dataframe\">\n",
       "  <thead>\n",
       "    <tr style=\"text-align: right;\">\n",
       "      <th></th>\n",
       "      <th>01_year_%</th>\n",
       "      <th>02_year_%</th>\n",
       "      <th>03_year_%</th>\n",
       "      <th>04_year_%</th>\n",
       "      <th>05_year_%</th>\n",
       "      <th>06_year_%</th>\n",
       "      <th>07_year_%</th>\n",
       "    </tr>\n",
       "  </thead>\n",
       "  <tbody>\n",
       "    <tr>\n",
       "      <th>std_up</th>\n",
       "      <td>9.815937</td>\n",
       "      <td>20.645586</td>\n",
       "      <td>32.598514</td>\n",
       "      <td>45.796559</td>\n",
       "      <td>60.375233</td>\n",
       "      <td>76.485301</td>\n",
       "      <td>94.294528</td>\n",
       "    </tr>\n",
       "    <tr>\n",
       "      <th>normal</th>\n",
       "      <td>8.920503</td>\n",
       "      <td>18.697431</td>\n",
       "      <td>29.418008</td>\n",
       "      <td>41.178720</td>\n",
       "      <td>54.086333</td>\n",
       "      <td>68.259016</td>\n",
       "      <td>83.827588</td>\n",
       "    </tr>\n",
       "    <tr>\n",
       "      <th>std_down</th>\n",
       "      <td>8.025069</td>\n",
       "      <td>16.749277</td>\n",
       "      <td>26.237502</td>\n",
       "      <td>36.560881</td>\n",
       "      <td>47.797433</td>\n",
       "      <td>60.032731</td>\n",
       "      <td>73.360647</td>\n",
       "    </tr>\n",
       "  </tbody>\n",
       "</table>\n",
       "</div>"
      ],
      "text/plain": [
       "          01_year_%  02_year_%  03_year_%  04_year_%  05_year_%  06_year_%  \\\n",
       "std_up     9.815937  20.645586  32.598514  45.796559  60.375233  76.485301   \n",
       "normal     8.920503  18.697431  29.418008  41.178720  54.086333  68.259016   \n",
       "std_down   8.025069  16.749277  26.237502  36.560881  47.797433  60.032731   \n",
       "\n",
       "          07_year_%  \n",
       "std_up    94.294528  \n",
       "normal    83.827588  \n",
       "std_down  73.360647  "
      ]
     },
     "execution_count": 18,
     "metadata": {},
     "output_type": "execute_result"
    }
   ],
   "source": [
    "df_final_full_std_by_year_percentage_only"
   ]
  },
  {
   "cell_type": "code",
   "execution_count": 23,
   "id": "bfa5cbf6",
   "metadata": {},
   "outputs": [
    {
     "data": {
      "text/plain": [
       "83.82758752305347"
      ]
     },
     "execution_count": 23,
     "metadata": {},
     "output_type": "execute_result"
    }
   ],
   "source": [
    "df_final_full_std_by_year_percentage_only.iloc[-2][-1]"
   ]
  },
  {
   "cell_type": "code",
   "execution_count": 31,
   "id": "e7c415ee",
   "metadata": {},
   "outputs": [
    {
     "data": {
      "application/vnd.plotly.v1+json": {
       "config": {
        "plotlyServerURL": "https://plot.ly"
       },
       "data": [
        {
         "orientation": "h",
         "type": "bar",
         "x": [
          8.920502804419893,
          18.697431416184607,
          29.41800783702446,
          41.178719922377425,
          54.086333349984514,
          68.25901602227331,
          83.82758752305347
         ],
         "y": [
          "01_year_%",
          "02_year_%",
          "03_year_%",
          "04_year_%",
          "05_year_%",
          "06_year_%",
          "07_year_%"
         ]
        }
       ],
       "layout": {
        "template": {
         "data": {
          "candlestick": [
           {
            "decreasing": {
             "line": {
              "color": "#000033"
             }
            },
            "increasing": {
             "line": {
              "color": "#000032"
             }
            },
            "type": "candlestick"
           }
          ],
          "contour": [
           {
            "colorscale": [
             [
              0,
              "#000011"
             ],
             [
              0.1111111111111111,
              "#000012"
             ],
             [
              0.2222222222222222,
              "#000013"
             ],
             [
              0.3333333333333333,
              "#000014"
             ],
             [
              0.4444444444444444,
              "#000015"
             ],
             [
              0.5555555555555556,
              "#000016"
             ],
             [
              0.6666666666666666,
              "#000017"
             ],
             [
              0.7777777777777778,
              "#000018"
             ],
             [
              0.8888888888888888,
              "#000019"
             ],
             [
              1,
              "#000020"
             ]
            ],
            "type": "contour"
           }
          ],
          "contourcarpet": [
           {
            "colorscale": [
             [
              0,
              "#000011"
             ],
             [
              0.1111111111111111,
              "#000012"
             ],
             [
              0.2222222222222222,
              "#000013"
             ],
             [
              0.3333333333333333,
              "#000014"
             ],
             [
              0.4444444444444444,
              "#000015"
             ],
             [
              0.5555555555555556,
              "#000016"
             ],
             [
              0.6666666666666666,
              "#000017"
             ],
             [
              0.7777777777777778,
              "#000018"
             ],
             [
              0.8888888888888888,
              "#000019"
             ],
             [
              1,
              "#000020"
             ]
            ],
            "type": "contourcarpet"
           }
          ],
          "heatmap": [
           {
            "colorscale": [
             [
              0,
              "#000011"
             ],
             [
              0.1111111111111111,
              "#000012"
             ],
             [
              0.2222222222222222,
              "#000013"
             ],
             [
              0.3333333333333333,
              "#000014"
             ],
             [
              0.4444444444444444,
              "#000015"
             ],
             [
              0.5555555555555556,
              "#000016"
             ],
             [
              0.6666666666666666,
              "#000017"
             ],
             [
              0.7777777777777778,
              "#000018"
             ],
             [
              0.8888888888888888,
              "#000019"
             ],
             [
              1,
              "#000020"
             ]
            ],
            "type": "heatmap"
           }
          ],
          "histogram2d": [
           {
            "colorscale": [
             [
              0,
              "#000011"
             ],
             [
              0.1111111111111111,
              "#000012"
             ],
             [
              0.2222222222222222,
              "#000013"
             ],
             [
              0.3333333333333333,
              "#000014"
             ],
             [
              0.4444444444444444,
              "#000015"
             ],
             [
              0.5555555555555556,
              "#000016"
             ],
             [
              0.6666666666666666,
              "#000017"
             ],
             [
              0.7777777777777778,
              "#000018"
             ],
             [
              0.8888888888888888,
              "#000019"
             ],
             [
              1,
              "#000020"
             ]
            ],
            "type": "histogram2d"
           }
          ],
          "icicle": [
           {
            "textfont": {
             "color": "white"
            },
            "type": "icicle"
           }
          ],
          "sankey": [
           {
            "textfont": {
             "color": "#000036"
            },
            "type": "sankey"
           }
          ],
          "scatter": [
           {
            "marker": {
             "line": {
              "width": 0
             }
            },
            "type": "scatter"
           }
          ],
          "table": [
           {
            "cells": {
             "fill": {
              "color": "#000038"
             },
             "font": {
              "color": "#000037"
             },
             "line": {
              "color": "#000039"
             }
            },
            "header": {
             "fill": {
              "color": "#000040"
             },
             "font": {
              "color": "#000036"
             },
             "line": {
              "color": "#000039"
             }
            },
            "type": "table"
           }
          ],
          "waterfall": [
           {
            "connector": {
             "line": {
              "color": "#000036",
              "width": 2
             }
            },
            "decreasing": {
             "marker": {
              "color": "#000033"
             }
            },
            "increasing": {
             "marker": {
              "color": "#000032"
             }
            },
            "totals": {
             "marker": {
              "color": "#000034"
             }
            },
            "type": "waterfall"
           }
          ]
         },
         "layout": {
          "coloraxis": {
           "colorscale": [
            [
             0,
             "#000011"
            ],
            [
             0.1111111111111111,
             "#000012"
            ],
            [
             0.2222222222222222,
             "#000013"
            ],
            [
             0.3333333333333333,
             "#000014"
            ],
            [
             0.4444444444444444,
             "#000015"
            ],
            [
             0.5555555555555556,
             "#000016"
            ],
            [
             0.6666666666666666,
             "#000017"
            ],
            [
             0.7777777777777778,
             "#000018"
            ],
            [
             0.8888888888888888,
             "#000019"
            ],
            [
             1,
             "#000020"
            ]
           ]
          },
          "colorscale": {
           "diverging": [
            [
             0,
             "#000021"
            ],
            [
             0.1,
             "#000022"
            ],
            [
             0.2,
             "#000023"
            ],
            [
             0.3,
             "#000024"
            ],
            [
             0.4,
             "#000025"
            ],
            [
             0.5,
             "#000026"
            ],
            [
             0.6,
             "#000027"
            ],
            [
             0.7,
             "#000028"
            ],
            [
             0.8,
             "#000029"
            ],
            [
             0.9,
             "#000030"
            ],
            [
             1,
             "#000031"
            ]
           ],
           "sequential": [
            [
             0,
             "#000011"
            ],
            [
             0.1111111111111111,
             "#000012"
            ],
            [
             0.2222222222222222,
             "#000013"
            ],
            [
             0.3333333333333333,
             "#000014"
            ],
            [
             0.4444444444444444,
             "#000015"
            ],
            [
             0.5555555555555556,
             "#000016"
            ],
            [
             0.6666666666666666,
             "#000017"
            ],
            [
             0.7777777777777778,
             "#000018"
            ],
            [
             0.8888888888888888,
             "#000019"
            ],
            [
             1,
             "#000020"
            ]
           ],
           "sequentialminus": [
            [
             0,
             "#000011"
            ],
            [
             0.1111111111111111,
             "#000012"
            ],
            [
             0.2222222222222222,
             "#000013"
            ],
            [
             0.3333333333333333,
             "#000014"
            ],
            [
             0.4444444444444444,
             "#000015"
            ],
            [
             0.5555555555555556,
             "#000016"
            ],
            [
             0.6666666666666666,
             "#000017"
            ],
            [
             0.7777777777777778,
             "#000018"
            ],
            [
             0.8888888888888888,
             "#000019"
            ],
            [
             1,
             "#000020"
            ]
           ]
          },
          "colorway": [
           "#000001",
           "#000002",
           "#000003",
           "#000004",
           "#000005",
           "#000006",
           "#000007",
           "#000008",
           "#000009",
           "#000010"
          ]
         }
        },
        "title": {
         "text": "Horizontal Bar Chart for \"normal\" Row"
        },
        "xaxis": {
         "title": {
          "text": "Value of Cells"
         }
        },
        "yaxis": {
         "title": {
          "text": "Columns"
         }
        }
       }
      },
      "text/html": [
       "<div>                            <div id=\"c1c1740f-5367-40e8-8ac8-85b38239e66b\" class=\"plotly-graph-div\" style=\"height:525px; width:100%;\"></div>            <script type=\"text/javascript\">                require([\"plotly\"], function(Plotly) {                    window.PLOTLYENV=window.PLOTLYENV || {};                                    if (document.getElementById(\"c1c1740f-5367-40e8-8ac8-85b38239e66b\")) {                    Plotly.newPlot(                        \"c1c1740f-5367-40e8-8ac8-85b38239e66b\",                        [{\"orientation\":\"h\",\"x\":[8.920502804419893,18.697431416184607,29.41800783702446,41.178719922377425,54.086333349984514,68.25901602227331,83.82758752305347],\"y\":[\"01_year_%\",\"02_year_%\",\"03_year_%\",\"04_year_%\",\"05_year_%\",\"06_year_%\",\"07_year_%\"],\"type\":\"bar\"}],                        {\"template\":{\"data\":{\"candlestick\":[{\"decreasing\":{\"line\":{\"color\":\"#000033\"}},\"increasing\":{\"line\":{\"color\":\"#000032\"}},\"type\":\"candlestick\"}],\"contourcarpet\":[{\"colorscale\":[[0.0,\"#000011\"],[0.1111111111111111,\"#000012\"],[0.2222222222222222,\"#000013\"],[0.3333333333333333,\"#000014\"],[0.4444444444444444,\"#000015\"],[0.5555555555555556,\"#000016\"],[0.6666666666666666,\"#000017\"],[0.7777777777777778,\"#000018\"],[0.8888888888888888,\"#000019\"],[1.0,\"#000020\"]],\"type\":\"contourcarpet\"}],\"contour\":[{\"colorscale\":[[0.0,\"#000011\"],[0.1111111111111111,\"#000012\"],[0.2222222222222222,\"#000013\"],[0.3333333333333333,\"#000014\"],[0.4444444444444444,\"#000015\"],[0.5555555555555556,\"#000016\"],[0.6666666666666666,\"#000017\"],[0.7777777777777778,\"#000018\"],[0.8888888888888888,\"#000019\"],[1.0,\"#000020\"]],\"type\":\"contour\"}],\"heatmap\":[{\"colorscale\":[[0.0,\"#000011\"],[0.1111111111111111,\"#000012\"],[0.2222222222222222,\"#000013\"],[0.3333333333333333,\"#000014\"],[0.4444444444444444,\"#000015\"],[0.5555555555555556,\"#000016\"],[0.6666666666666666,\"#000017\"],[0.7777777777777778,\"#000018\"],[0.8888888888888888,\"#000019\"],[1.0,\"#000020\"]],\"type\":\"heatmap\"}],\"histogram2d\":[{\"colorscale\":[[0.0,\"#000011\"],[0.1111111111111111,\"#000012\"],[0.2222222222222222,\"#000013\"],[0.3333333333333333,\"#000014\"],[0.4444444444444444,\"#000015\"],[0.5555555555555556,\"#000016\"],[0.6666666666666666,\"#000017\"],[0.7777777777777778,\"#000018\"],[0.8888888888888888,\"#000019\"],[1.0,\"#000020\"]],\"type\":\"histogram2d\"}],\"icicle\":[{\"textfont\":{\"color\":\"white\"},\"type\":\"icicle\"}],\"sankey\":[{\"textfont\":{\"color\":\"#000036\"},\"type\":\"sankey\"}],\"scatter\":[{\"marker\":{\"line\":{\"width\":0}},\"type\":\"scatter\"}],\"table\":[{\"cells\":{\"fill\":{\"color\":\"#000038\"},\"font\":{\"color\":\"#000037\"},\"line\":{\"color\":\"#000039\"}},\"header\":{\"fill\":{\"color\":\"#000040\"},\"font\":{\"color\":\"#000036\"},\"line\":{\"color\":\"#000039\"}},\"type\":\"table\"}],\"waterfall\":[{\"connector\":{\"line\":{\"color\":\"#000036\",\"width\":2}},\"decreasing\":{\"marker\":{\"color\":\"#000033\"}},\"increasing\":{\"marker\":{\"color\":\"#000032\"}},\"totals\":{\"marker\":{\"color\":\"#000034\"}},\"type\":\"waterfall\"}]},\"layout\":{\"coloraxis\":{\"colorscale\":[[0.0,\"#000011\"],[0.1111111111111111,\"#000012\"],[0.2222222222222222,\"#000013\"],[0.3333333333333333,\"#000014\"],[0.4444444444444444,\"#000015\"],[0.5555555555555556,\"#000016\"],[0.6666666666666666,\"#000017\"],[0.7777777777777778,\"#000018\"],[0.8888888888888888,\"#000019\"],[1.0,\"#000020\"]]},\"colorscale\":{\"diverging\":[[0.0,\"#000021\"],[0.1,\"#000022\"],[0.2,\"#000023\"],[0.3,\"#000024\"],[0.4,\"#000025\"],[0.5,\"#000026\"],[0.6,\"#000027\"],[0.7,\"#000028\"],[0.8,\"#000029\"],[0.9,\"#000030\"],[1.0,\"#000031\"]],\"sequential\":[[0.0,\"#000011\"],[0.1111111111111111,\"#000012\"],[0.2222222222222222,\"#000013\"],[0.3333333333333333,\"#000014\"],[0.4444444444444444,\"#000015\"],[0.5555555555555556,\"#000016\"],[0.6666666666666666,\"#000017\"],[0.7777777777777778,\"#000018\"],[0.8888888888888888,\"#000019\"],[1.0,\"#000020\"]],\"sequentialminus\":[[0.0,\"#000011\"],[0.1111111111111111,\"#000012\"],[0.2222222222222222,\"#000013\"],[0.3333333333333333,\"#000014\"],[0.4444444444444444,\"#000015\"],[0.5555555555555556,\"#000016\"],[0.6666666666666666,\"#000017\"],[0.7777777777777778,\"#000018\"],[0.8888888888888888,\"#000019\"],[1.0,\"#000020\"]]},\"colorway\":[\"#000001\",\"#000002\",\"#000003\",\"#000004\",\"#000005\",\"#000006\",\"#000007\",\"#000008\",\"#000009\",\"#000010\"]}},\"title\":{\"text\":\"Horizontal Bar Chart for \\\"normal\\\" Row\"},\"xaxis\":{\"title\":{\"text\":\"Value of Cells\"}},\"yaxis\":{\"title\":{\"text\":\"Columns\"}}},                        {\"responsive\": true}                    ).then(function(){\n",
       "                            \n",
       "var gd = document.getElementById('c1c1740f-5367-40e8-8ac8-85b38239e66b');\n",
       "var x = new MutationObserver(function (mutations, observer) {{\n",
       "        var display = window.getComputedStyle(gd).display;\n",
       "        if (!display || display === 'none') {{\n",
       "            console.log([gd, 'removed!']);\n",
       "            Plotly.purge(gd);\n",
       "            observer.disconnect();\n",
       "        }}\n",
       "}});\n",
       "\n",
       "// Listen for the removal of the full notebook cells\n",
       "var notebookContainer = gd.closest('#notebook-container');\n",
       "if (notebookContainer) {{\n",
       "    x.observe(notebookContainer, {childList: true});\n",
       "}}\n",
       "\n",
       "// Listen for the clearing of the current output cell\n",
       "var outputEl = gd.closest('.output');\n",
       "if (outputEl) {{\n",
       "    x.observe(outputEl, {childList: true});\n",
       "}}\n",
       "\n",
       "                        })                };                });            </script>        </div>"
      ]
     },
     "metadata": {},
     "output_type": "display_data"
    }
   ],
   "source": [
    "normal_row = df_final_full_std_by_year_percentage_only.loc['normal']\n",
    "\n",
    "# Create the horizontal bar chart\n",
    "fig = go.Figure()\n",
    "\n",
    "fig.add_trace(go.Bar(\n",
    "    y=df_final_full_std_by_year_percentage_only.columns,\n",
    "    x=normal_row,\n",
    "    orientation='h',\n",
    "))\n",
    "\n",
    "fig.update_layout(\n",
    "    title='Horizontal Bar Chart for \"normal\" Row',\n",
    "    xaxis_title='Value of Cells',\n",
    "    yaxis_title='Columns',\n",
    ")\n",
    "\n",
    "# Display the plot\n",
    "fig.show()"
   ]
  },
  {
   "cell_type": "code",
   "execution_count": null,
   "id": "4da554ac",
   "metadata": {},
   "outputs": [],
   "source": []
  },
  {
   "cell_type": "code",
   "execution_count": null,
   "id": "3276ac09",
   "metadata": {},
   "outputs": [],
   "source": []
  },
  {
   "cell_type": "code",
   "execution_count": 11,
   "id": "ce5660c2",
   "metadata": {},
   "outputs": [
    {
     "data": {
      "text/html": [
       "<div>\n",
       "<style scoped>\n",
       "    .dataframe tbody tr th:only-of-type {\n",
       "        vertical-align: middle;\n",
       "    }\n",
       "\n",
       "    .dataframe tbody tr th {\n",
       "        vertical-align: top;\n",
       "    }\n",
       "\n",
       "    .dataframe thead th {\n",
       "        text-align: right;\n",
       "    }\n",
       "</style>\n",
       "<table border=\"1\" class=\"dataframe\">\n",
       "  <thead>\n",
       "    <tr style=\"text-align: right;\">\n",
       "      <th></th>\n",
       "      <th>0</th>\n",
       "      <th>1</th>\n",
       "      <th>2</th>\n",
       "      <th>3</th>\n",
       "      <th>4</th>\n",
       "      <th>5</th>\n",
       "      <th>6</th>\n",
       "    </tr>\n",
       "  </thead>\n",
       "  <tbody>\n",
       "    <tr>\n",
       "      <th>^GSPC_std_u</th>\n",
       "      <td>56114.501498</td>\n",
       "      <td>62973.172658</td>\n",
       "      <td>70666.204555</td>\n",
       "      <td>79294.678829</td>\n",
       "      <td>88971.878414</td>\n",
       "      <td>99824.755549</td>\n",
       "      <td>111995.575905</td>\n",
       "    </tr>\n",
       "    <tr>\n",
       "      <th>^GSPC</th>\n",
       "      <td>55691.836808</td>\n",
       "      <td>62031.613742</td>\n",
       "      <td>69093.090189</td>\n",
       "      <td>76958.422068</td>\n",
       "      <td>85719.117657</td>\n",
       "      <td>95477.102238</td>\n",
       "      <td>106345.903936</td>\n",
       "    </tr>\n",
       "    <tr>\n",
       "      <th>^GSPC_std_d</th>\n",
       "      <td>55269.172119</td>\n",
       "      <td>61090.054825</td>\n",
       "      <td>67519.975824</td>\n",
       "      <td>74622.165307</td>\n",
       "      <td>82466.356900</td>\n",
       "      <td>91129.448928</td>\n",
       "      <td>100696.231968</td>\n",
       "    </tr>\n",
       "    <tr>\n",
       "      <th>^STOXX50E_std_u</th>\n",
       "      <td>53701.435410</td>\n",
       "      <td>57672.413083</td>\n",
       "      <td>61932.309572</td>\n",
       "      <td>66501.879931</td>\n",
       "      <td>71403.354951</td>\n",
       "      <td>76660.545203</td>\n",
       "      <td>82298.952368</td>\n",
       "    </tr>\n",
       "    <tr>\n",
       "      <th>^STOXX50E</th>\n",
       "      <td>53228.665996</td>\n",
       "      <td>56665.817674</td>\n",
       "      <td>60324.917648</td>\n",
       "      <td>64220.297854</td>\n",
       "      <td>68367.215693</td>\n",
       "      <td>72781.913784</td>\n",
       "      <td>77481.683587</td>\n",
       "    </tr>\n",
       "    <tr>\n",
       "      <th>^STOXX50E_std_d</th>\n",
       "      <td>52755.896582</td>\n",
       "      <td>55659.222265</td>\n",
       "      <td>58717.525723</td>\n",
       "      <td>61938.715777</td>\n",
       "      <td>65331.076435</td>\n",
       "      <td>68903.282364</td>\n",
       "      <td>72664.414806</td>\n",
       "    </tr>\n",
       "  </tbody>\n",
       "</table>\n",
       "</div>"
      ],
      "text/plain": [
       "                            0             1             2             3  \\\n",
       "^GSPC_std_u      56114.501498  62973.172658  70666.204555  79294.678829   \n",
       "^GSPC            55691.836808  62031.613742  69093.090189  76958.422068   \n",
       "^GSPC_std_d      55269.172119  61090.054825  67519.975824  74622.165307   \n",
       "^STOXX50E_std_u  53701.435410  57672.413083  61932.309572  66501.879931   \n",
       "^STOXX50E        53228.665996  56665.817674  60324.917648  64220.297854   \n",
       "^STOXX50E_std_d  52755.896582  55659.222265  58717.525723  61938.715777   \n",
       "\n",
       "                            4             5              6  \n",
       "^GSPC_std_u      88971.878414  99824.755549  111995.575905  \n",
       "^GSPC            85719.117657  95477.102238  106345.903936  \n",
       "^GSPC_std_d      82466.356900  91129.448928  100696.231968  \n",
       "^STOXX50E_std_u  71403.354951  76660.545203   82298.952368  \n",
       "^STOXX50E        68367.215693  72781.913784   77481.683587  \n",
       "^STOXX50E_std_d  65331.076435  68903.282364   72664.414806  "
      ]
     },
     "execution_count": 11,
     "metadata": {},
     "output_type": "execute_result"
    }
   ],
   "source": [
    " df_final_return_by_active_T"
   ]
  },
  {
   "cell_type": "code",
   "execution_count": 12,
   "id": "6cd392fc",
   "metadata": {},
   "outputs": [
    {
     "data": {
      "text/html": [
       "<div>\n",
       "<style scoped>\n",
       "    .dataframe tbody tr th:only-of-type {\n",
       "        vertical-align: middle;\n",
       "    }\n",
       "\n",
       "    .dataframe tbody tr th {\n",
       "        vertical-align: top;\n",
       "    }\n",
       "\n",
       "    .dataframe thead th {\n",
       "        text-align: right;\n",
       "    }\n",
       "</style>\n",
       "<table border=\"1\" class=\"dataframe\">\n",
       "  <thead>\n",
       "    <tr style=\"text-align: right;\">\n",
       "      <th></th>\n",
       "      <th>Amount</th>\n",
       "    </tr>\n",
       "  </thead>\n",
       "  <tbody>\n",
       "    <tr>\n",
       "      <th>^GSPC</th>\n",
       "      <td>50000.0</td>\n",
       "    </tr>\n",
       "    <tr>\n",
       "      <th>^STOXX50E</th>\n",
       "      <td>50000.0</td>\n",
       "    </tr>\n",
       "  </tbody>\n",
       "</table>\n",
       "</div>"
      ],
      "text/plain": [
       "            Amount\n",
       "^GSPC      50000.0\n",
       "^STOXX50E  50000.0"
      ]
     },
     "execution_count": 12,
     "metadata": {},
     "output_type": "execute_result"
    }
   ],
   "source": [
    " invested_amount_money_of_each_ticker"
   ]
  },
  {
   "cell_type": "code",
   "execution_count": 13,
   "id": "c3a43546",
   "metadata": {},
   "outputs": [
    {
     "data": {
      "text/html": [
       "<div>\n",
       "<style scoped>\n",
       "    .dataframe tbody tr th:only-of-type {\n",
       "        vertical-align: middle;\n",
       "    }\n",
       "\n",
       "    .dataframe tbody tr th {\n",
       "        vertical-align: top;\n",
       "    }\n",
       "\n",
       "    .dataframe thead th {\n",
       "        text-align: right;\n",
       "    }\n",
       "</style>\n",
       "<table border=\"1\" class=\"dataframe\">\n",
       "  <thead>\n",
       "    <tr style=\"text-align: right;\">\n",
       "      <th></th>\n",
       "      <th>01_year</th>\n",
       "      <th>02_year</th>\n",
       "      <th>03_year</th>\n",
       "      <th>04_year</th>\n",
       "      <th>05_year</th>\n",
       "      <th>06_year</th>\n",
       "      <th>07_year</th>\n",
       "    </tr>\n",
       "  </thead>\n",
       "  <tbody>\n",
       "    <tr>\n",
       "      <th>std_up</th>\n",
       "      <td>109815.936908</td>\n",
       "      <td>120645.585742</td>\n",
       "      <td>132598.514128</td>\n",
       "      <td>145796.558760</td>\n",
       "      <td>160375.233365</td>\n",
       "      <td>176485.300752</td>\n",
       "      <td>194294.528273</td>\n",
       "    </tr>\n",
       "    <tr>\n",
       "      <th>normal</th>\n",
       "      <td>108920.502804</td>\n",
       "      <td>118697.431416</td>\n",
       "      <td>129418.007837</td>\n",
       "      <td>141178.719922</td>\n",
       "      <td>154086.333350</td>\n",
       "      <td>168259.016022</td>\n",
       "      <td>183827.587523</td>\n",
       "    </tr>\n",
       "    <tr>\n",
       "      <th>std_down</th>\n",
       "      <td>108025.068701</td>\n",
       "      <td>116749.277091</td>\n",
       "      <td>126237.501547</td>\n",
       "      <td>136560.881084</td>\n",
       "      <td>147797.433335</td>\n",
       "      <td>160032.731293</td>\n",
       "      <td>173360.646773</td>\n",
       "    </tr>\n",
       "  </tbody>\n",
       "</table>\n",
       "</div>"
      ],
      "text/plain": [
       "                01_year        02_year        03_year        04_year  \\\n",
       "std_up    109815.936908  120645.585742  132598.514128  145796.558760   \n",
       "normal    108920.502804  118697.431416  129418.007837  141178.719922   \n",
       "std_down  108025.068701  116749.277091  126237.501547  136560.881084   \n",
       "\n",
       "                05_year        06_year        07_year  \n",
       "std_up    160375.233365  176485.300752  194294.528273  \n",
       "normal    154086.333350  168259.016022  183827.587523  \n",
       "std_down  147797.433335  160032.731293  173360.646773  "
      ]
     },
     "execution_count": 13,
     "metadata": {},
     "output_type": "execute_result"
    }
   ],
   "source": [
    " df_final_full_std_by_year_for_plot"
   ]
  },
  {
   "cell_type": "code",
   "execution_count": 14,
   "id": "29b78bce",
   "metadata": {},
   "outputs": [
    {
     "data": {
      "text/plain": [
       "183827.58752305346"
      ]
     },
     "execution_count": 14,
     "metadata": {},
     "output_type": "execute_result"
    }
   ],
   "source": [
    "df_final_full_std_by_year_for_plot.T['normal'].iloc[-1]"
   ]
  },
  {
   "cell_type": "code",
   "execution_count": null,
   "id": "ab3586a8",
   "metadata": {},
   "outputs": [],
   "source": []
  }
 ],
 "metadata": {
  "kernelspec": {
   "display_name": "Python [conda env:tf]",
   "language": "python",
   "name": "conda-env-tf-py"
  },
  "language_info": {
   "codemirror_mode": {
    "name": "ipython",
    "version": 3
   },
   "file_extension": ".py",
   "mimetype": "text/x-python",
   "name": "python",
   "nbconvert_exporter": "python",
   "pygments_lexer": "ipython3",
   "version": "3.9.16"
  }
 },
 "nbformat": 4,
 "nbformat_minor": 5
}
