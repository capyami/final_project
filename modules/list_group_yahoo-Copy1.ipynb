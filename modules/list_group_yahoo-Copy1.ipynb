{
 "cells": [
  {
   "cell_type": "code",
   "execution_count": 1,
   "id": "a813fe66",
   "metadata": {},
   "outputs": [],
   "source": [
    "import yfinance as yf\n",
    "import pandas as pd\n",
    "import numpy as np\n",
    "from selenium import webdriver\n",
    "from selenium.webdriver.common.by import By\n",
    "from selenium.webdriver.common.keys import Keys\n",
    "from selenium.webdriver.edge.service import Service\n",
    "from selenium.webdriver.support.ui import WebDriverWait\n",
    "import time"
   ]
  },
  {
   "cell_type": "code",
   "execution_count": 3,
   "id": "ece92754",
   "metadata": {},
   "outputs": [],
   "source": [
    "list_stars = ['stars5', 'stars4']\n",
    "category = ['Financial', 'Technology']"
   ]
  },
  {
   "cell_type": "code",
   "execution_count": 18,
   "id": "3881e51f",
   "metadata": {},
   "outputs": [
    {
     "data": {
      "text/plain": [
       "['Financial', 'Technology']"
      ]
     },
     "execution_count": 18,
     "metadata": {},
     "output_type": "execute_result"
    }
   ],
   "source": [
    "category"
   ]
  },
  {
   "cell_type": "code",
   "execution_count": 5,
   "id": "480e2ccf",
   "metadata": {},
   "outputs": [],
   "source": [
    "path = './requirements/msedgedriver.exe'\n",
    "service = Service(executable_path=path)\n",
    "driver = webdriver.Edge(service=service)"
   ]
  },
  {
   "cell_type": "code",
   "execution_count": 6,
   "id": "a38b49e1",
   "metadata": {},
   "outputs": [],
   "source": [
    "#driver.implicitly_wait(2)\n",
    "time.sleep(2)"
   ]
  },
  {
   "cell_type": "code",
   "execution_count": 7,
   "id": "609d81db",
   "metadata": {},
   "outputs": [],
   "source": [
    "url = 'https://es.finance.yahoo.com/screener/etf/new/'\n",
    "driver.get(url)\n",
    "driver.maximize_window()"
   ]
  },
  {
   "cell_type": "code",
   "execution_count": null,
   "id": "fcd39441",
   "metadata": {},
   "outputs": [],
   "source": [
    "time.sleep(2)"
   ]
  },
  {
   "cell_type": "code",
   "execution_count": 8,
   "id": "343958ae",
   "metadata": {},
   "outputs": [],
   "source": [
    "# click cookies\n",
    "driver.find_element(By.XPATH, \"//button[@id='scroll-down-btn']\").click()"
   ]
  },
  {
   "cell_type": "code",
   "execution_count": null,
   "id": "bc29cb9b",
   "metadata": {},
   "outputs": [],
   "source": [
    "time.sleep(2)"
   ]
  },
  {
   "cell_type": "code",
   "execution_count": 9,
   "id": "b839de26",
   "metadata": {},
   "outputs": [],
   "source": [
    "# click cookies\n",
    "driver.find_element(By.XPATH, \"//button[@class='btn secondary reject-all']\").click()"
   ]
  },
  {
   "cell_type": "code",
   "execution_count": null,
   "id": "81ef903b",
   "metadata": {},
   "outputs": [],
   "source": [
    "time.sleep(1)"
   ]
  },
  {
   "cell_type": "code",
   "execution_count": 10,
   "id": "73e7e4df",
   "metadata": {},
   "outputs": [],
   "source": [
    "# click for delete filter of NasdaqGM\n",
    "driver.find_element(By.XPATH, \"//button[@title='Eliminar NasdaqGM']\").click()"
   ]
  },
  {
   "cell_type": "code",
   "execution_count": null,
   "id": "9d593e75",
   "metadata": {},
   "outputs": [],
   "source": [
    "time.sleep(1)"
   ]
  },
  {
   "cell_type": "code",
   "execution_count": 11,
   "id": "3fb239e0",
   "metadata": {},
   "outputs": [],
   "source": [
    "# title=\"★★★★★\" stars morningstars\n",
    "stars5 = driver.find_element(By.XPATH, \"//button[@title='★★★★★']\")\n",
    "stars4 = driver.find_element(By.XPATH, \"//button[@title='★★★★']\")\n",
    "stars3 = driver.find_element(By.XPATH, \"//button[@title='★★★']\")\n",
    "stars2 = driver.find_element(By.XPATH, \"//button[@title='★★']\")\n",
    "stars1 = driver.find_element(By.XPATH, \"//button[@title='★']\")"
   ]
  },
  {
   "cell_type": "code",
   "execution_count": 12,
   "id": "7fe16010",
   "metadata": {},
   "outputs": [],
   "source": [
    "for i in range(len(list_stars)):\n",
    "    if list_stars[i] == 'stars5':\n",
    "        stars5.click()\n",
    "        time.sleep(0.5)\n",
    "    elif list_stars[i] == 'stars4':\n",
    "        stars4.click()\n",
    "        time.sleep(0.5)\n",
    "    elif list_stars[i] == 'stars3':\n",
    "        stars3.click()\n",
    "        time.sleep(0.5)\n",
    "    elif list_stars[i] == 'stars2':\n",
    "        stars2.click()\n",
    "        time.sleep(0.5)\n",
    "    elif list_stars[i] == 'stars1':\n",
    "        stars2.click()\n",
    "        time.sleep(0.5)\n",
    "        "
   ]
  },
  {
   "cell_type": "code",
   "execution_count": null,
   "id": "4a1dee6d",
   "metadata": {},
   "outputs": [],
   "source": [
    "time.sleep(1)"
   ]
  },
  {
   "cell_type": "code",
   "execution_count": 13,
   "id": "3ebbe691",
   "metadata": {},
   "outputs": [],
   "source": [
    "buttons = driver.find_elements(By.XPATH, '//div[@class=\"D(ib) Pt(6px) Pb(7px) Pstart(6px) Pend(7px) C($tertiaryColor) Fz(s) Cur(p)\"]')"
   ]
  },
  {
   "cell_type": "code",
   "execution_count": 14,
   "id": "571f8393",
   "metadata": {},
   "outputs": [],
   "source": [
    "buttons[1].click()"
   ]
  },
  {
   "cell_type": "code",
   "execution_count": null,
   "id": "5ba412b8",
   "metadata": {},
   "outputs": [],
   "source": [
    "time.sleep(1)"
   ]
  },
  {
   "cell_type": "code",
   "execution_count": 15,
   "id": "8edfcd54",
   "metadata": {},
   "outputs": [],
   "source": [
    "input_field = driver.find_element(By.XPATH, '//input[@placeholder=\"Buscar filtros\"]')"
   ]
  },
  {
   "cell_type": "code",
   "execution_count": null,
   "id": "3feea291",
   "metadata": {},
   "outputs": [],
   "source": [
    "input_field.clear()  # Clear "
   ]
  },
  {
   "cell_type": "code",
   "execution_count": null,
   "id": "839673f6",
   "metadata": {},
   "outputs": [],
   "source": [
    "time.sleep(1)"
   ]
  },
  {
   "cell_type": "code",
   "execution_count": 16,
   "id": "ff4a5f63",
   "metadata": {},
   "outputs": [
    {
     "data": {
      "text/plain": [
       "'   time.sleep(1)\\n    input_field.clear()\\n    input_field.send_keys(\"Europe\")\\n    time.sleep(1)\\n    buttons = driver.find_elements(By.XPATH, \\'//input[@type=\"checkbox\"]\\')\\n    for i in range(len(buttons)):\\n        buttons[i].click()\\n'"
      ]
     },
     "execution_count": 16,
     "metadata": {},
     "output_type": "execute_result"
    }
   ],
   "source": [
    "for i in range(len(category)):\n",
    "\n",
    "    if category[i] == 'Value':\n",
    "        input_field.clear()\n",
    "        time.sleep(0.5)\n",
    "        input_field.send_keys(\"Value\")\n",
    "        time.sleep(1)\n",
    "        buttons = driver.find_elements(By.XPATH, '//input[@type=\"checkbox\"]')\n",
    "        time.sleep(1)\n",
    "        for i in range(len(buttons)):\n",
    "            buttons[i].click()\n",
    "            time.sleep(1)\n",
    "    \n",
    "    elif category[i] == 'Growth':\n",
    "        input_field.clear()\n",
    "        time.sleep(0.5)\n",
    "        input_field.send_keys(\"Growth\")\n",
    "        time.sleep(1)\n",
    "        buttons = driver.find_elements(By.XPATH, '//input[@type=\"checkbox\"]')\n",
    "        time.sleep(1)\n",
    "        for i in range(len(buttons)):\n",
    "            buttons[i].click()\n",
    "            time.sleep(1)\n",
    "    \n",
    "    elif category[i] == 'Blend':\n",
    "        input_field.clear()\n",
    "        time.sleep(0.5)\n",
    "        input_field.send_keys(\"Blend\")\n",
    "        time.sleep(1)\n",
    "        buttons = driver.find_elements(By.XPATH, '//input[@type=\"checkbox\"]')\n",
    "        time.sleep(1)\n",
    "        for i in range(len(buttons)):\n",
    "            buttons[i].click()\n",
    "            time.sleep(1)\n",
    "    \n",
    "    elif category[i] == 'Financial':\n",
    "        input_field.clear()\n",
    "        time.sleep(0.5)\n",
    "        input_field.send_keys(\"Financial\")\n",
    "        time.sleep(1)\n",
    "        buttons = driver.find_elements(By.XPATH, '//input[@type=\"checkbox\"]')\n",
    "        time.sleep(1)\n",
    "        for i in range(len(buttons)):\n",
    "            buttons[i].click()\n",
    "            time.sleep(1)\n",
    "    \n",
    "    elif category[i] == 'Technology':\n",
    "        input_field.clear()\n",
    "        time.sleep(0.5)\n",
    "        input_field.send_keys(\"Technology\")\n",
    "        time.sleep(1)\n",
    "        buttons = driver.find_elements(By.XPATH, '//input[@type=\"checkbox\"]')\n",
    "        time.sleep(1)\n",
    "        for i in range(len(buttons)):\n",
    "            buttons[i].click()\n",
    "            time.sleep(1)\n",
    "    \n",
    "    elif category[i] == 'Commodities':\n",
    "        input_field.clear()\n",
    "        time.sleep(0.5)\n",
    "        input_field.send_keys(\"Commodities\")\n",
    "        time.sleep(1)\n",
    "        buttons = driver.find_elements(By.XPATH, '//input[@type=\"checkbox\"]')\n",
    "        time.sleep(1)\n",
    "        for i in range(len(buttons)):\n",
    "            buttons[i].click()\n",
    "            time.sleep(1)\n",
    "    \n",
    "    elif category[i] == 'Bonds':\n",
    "        input_field.clear()\n",
    "        time.sleep(0.5)\n",
    "        input_field.send_keys(\"Bonds\")\n",
    "        time.sleep(1)\n",
    "        buttons = driver.find_elements(By.XPATH, '//input[@type=\"checkbox\"]')\n",
    "        time.sleep(1)\n",
    "        for i in range(len(buttons)):\n",
    "            buttons[i].click()\n",
    "            time.sleep(1)\n",
    "        input_field.send_keys(\"goverment\")\n",
    "        time.sleep(1)\n",
    "        buttons = driver.find_elements(By.XPATH, '//input[@type=\"checkbox\"]')\n",
    "        time.sleep(1)\n",
    "        for i in range(len(buttons)):\n",
    "            buttons[i].click()\n",
    "            time.sleep(1)\n",
    "    \n",
    "    elif category[i] == 'Large':\n",
    "        input_field.clear()\n",
    "        time.sleep(0.5)\n",
    "        input_field.send_keys(\"Large\")\n",
    "        time.sleep(1)\n",
    "        buttons = driver.find_elements(By.XPATH, '//input[@type=\"checkbox\"]')\n",
    "        time.sleep(1)\n",
    "        for i in range(len(buttons)):\n",
    "            buttons[i].click()\n",
    "            time.sleep(1)\n",
    "    \n",
    "    elif category[i] == 'Mid':\n",
    "        input_field.clear()\n",
    "        time.sleep(0.5)\n",
    "        input_field.send_keys(\"Mid\")\n",
    "        time.sleep(1)\n",
    "        buttons = driver.find_elements(By.XPATH, '//input[@type=\"checkbox\"]')\n",
    "        time.sleep(1)\n",
    "        for i in range(len(buttons)):\n",
    "            buttons[i].click()\n",
    "            time.sleep(1)\n",
    "    \n",
    "    elif category[i] == 'Small':\n",
    "        input_field.clear()\n",
    "        time.sleep(0.5)\n",
    "        input_field.send_keys(\"Small\")\n",
    "        time.sleep(1)\n",
    "        buttons = driver.find_elements(By.XPATH, '//input[@type=\"checkbox\"]')\n",
    "        time.sleep(1)\n",
    "        for i in range(len(buttons)):\n",
    "            buttons[i].click()\n",
    "            time.sleep(1)\n",
    "    \n",
    "    elif category[i] == 'Health':\n",
    "        input_field.clear()\n",
    "        time.sleep(0.5)\n",
    "        input_field.send_keys(\"Health\")\n",
    "        time.sleep(1)\n",
    "        buttons = driver.find_elements(By.XPATH, '//input[@type=\"checkbox\"]')\n",
    "        time.sleep(1)\n",
    "        for i in range(len(buttons)):\n",
    "            buttons[i].click()\n",
    "            time.sleep(1)\n",
    "        \n",
    "    elif category[i] == 'Real Estate':\n",
    "        input_field.clear()\n",
    "        time.sleep(0.5)\n",
    "        input_field.send_keys(\"Real Estate\")\n",
    "        time.sleep(1)\n",
    "        buttons = driver.find_elements(By.XPATH, '//input[@type=\"checkbox\"]')\n",
    "        time.sleep(1)\n",
    "        for i in range(len(buttons)):\n",
    "            buttons[i].click()\n",
    "            time.sleep(1)\n",
    "    \n",
    "    elif category[i] == 'Emerging':\n",
    "        input_field.clear()\n",
    "        time.sleep(0.5)\n",
    "        input_field.send_keys(\"Emerging\")\n",
    "        time.sleep(1)\n",
    "        buttons = driver.find_elements(By.XPATH, '//input[@type=\"checkbox\"]')\n",
    "        time.sleep(1)\n",
    "        buttons[0]\n",
    "        for i in range(len(buttons)):\n",
    "            buttons[i].click()\n",
    "            time.sleep(1)\n",
    "    \n",
    "    elif category[i] == 'Inflaction':\n",
    "        input_field.clear()\n",
    "        time.sleep(0.5)\n",
    "        input_field.send_keys(\"Inflaction\")\n",
    "        time.sleep(1)  \n",
    "        buttons = driver.find_elements(By.XPATH, '//input[@type=\"checkbox\"]')\n",
    "        time.sleep(1)\n",
    "        for i in range(len(buttons)):\n",
    "            buttons[i].click()\n",
    "            time.sleep(1)\n",
    "    \n",
    "    elif category[i] == 'Utilities':\n",
    "        input_field.clear()\n",
    "        time.sleep(0.5)\n",
    "        input_field.send_keys(\"Utilities\")\n",
    "        time.sleep(1)    \n",
    "        buttons = driver.find_elements(By.XPATH, '//input[@type=\"checkbox\"]')\n",
    "        time.sleep(1)\n",
    "        for i in range(len(buttons)):\n",
    "            buttons[i].click()\n",
    "            time.sleep(1)\n",
    "    else:\n",
    "    #if category[i] == 'Global':\n",
    "        input_field.send_keys(\"China\")\n",
    "        time.sleep(1.5)\n",
    "        buttons = driver.find_elements(By.XPATH, '//input[@type=\"checkbox\"]')\n",
    "        for i in range(len(buttons)):\n",
    "            buttons[i].click()\n",
    "            time.sleep(0.5)\n",
    "        input_field.clear()\n",
    "        input_field.send_keys(\"Stock\")\n",
    "        time.sleep(1.5)\n",
    "        buttons = driver.find_elements(By.XPATH, '//input[@type=\"checkbox\"]')\n",
    "        for i in range(len(buttons)):\n",
    "            buttons[i].click()\n",
    "            time.sleep(0.5)\n",
    "        input_field.clear()\n",
    "        input_field.send_keys(\"Asia\")\n",
    "        time.sleep(1.5)\n",
    "        buttons = driver.find_elements(By.XPATH, '//input[@type=\"checkbox\"]')\n",
    "        for i in range(len(buttons)):\n",
    "            buttons[i].click()\n",
    "            time.sleep(0.5)\n",
    "        input_field.clear()\n",
    "        input_field.send_keys(\"Foreign\")\n",
    "        time.sleep(1.5)\n",
    "        buttons = driver.find_elements(By.XPATH, '//input[@type=\"checkbox\"]')\n",
    "        for i in range(len(buttons)):\n",
    "            buttons[i].click()\n",
    "            time.sleep(0.5)\n",
    "'''   time.sleep(1)\n",
    "    input_field.clear()\n",
    "    input_field.send_keys(\"Europe\")\n",
    "    time.sleep(1)\n",
    "    buttons = driver.find_elements(By.XPATH, '//input[@type=\"checkbox\"]')\n",
    "    for i in range(len(buttons)):\n",
    "        buttons[i].click()\n",
    "'''"
   ]
  },
  {
   "cell_type": "code",
   "execution_count": null,
   "id": "41c683d1",
   "metadata": {},
   "outputs": [],
   "source": [
    "#input_search.send_keys(Keys.RETURN)\n",
    "time.sleep(2)"
   ]
  },
  {
   "cell_type": "code",
   "execution_count": 17,
   "id": "ea2dcffa",
   "metadata": {},
   "outputs": [],
   "source": [
    "button = driver.find_elements(By.XPATH, '//button[@data-test=\"find-stock\"]')[0]\n",
    "button.click()"
   ]
  },
  {
   "cell_type": "code",
   "execution_count": null,
   "id": "77d44c01",
   "metadata": {},
   "outputs": [],
   "source": [
    "time.sleep(2)"
   ]
  },
  {
   "cell_type": "code",
   "execution_count": null,
   "id": "f0cd729a",
   "metadata": {},
   "outputs": [],
   "source": [
    "# volume\n",
    "buttons = driver.find_elements(By.XPATH, '//th[@class=\"Ta(end) Pstart(20px) Fz(xs) Py(5px)! Bgc($lv3BgColor) Va(m)  Cur(p) Bgc($hoverBgColor):h  Fw(400)!\"]')"
   ]
  },
  {
   "cell_type": "code",
   "execution_count": null,
   "id": "9cb172eb",
   "metadata": {},
   "outputs": [],
   "source": [
    "buttons[3].click()\n",
    "time.sleep(2)"
   ]
  },
  {
   "cell_type": "code",
   "execution_count": null,
   "id": "5c1865c8",
   "metadata": {},
   "outputs": [],
   "source": [
    "buttons[3].click()\n",
    "time.sleep(2)"
   ]
  },
  {
   "cell_type": "code",
   "execution_count": null,
   "id": "50f64690",
   "metadata": {},
   "outputs": [],
   "source": [
    "# Find the <a> element\n",
    "a_element = driver.find_elements(By.XPATH, '//a[@data-test=\"quoteLink\"]')"
   ]
  },
  {
   "cell_type": "code",
   "execution_count": null,
   "id": "db44a4db",
   "metadata": {},
   "outputs": [],
   "source": [
    "len(a_element)"
   ]
  },
  {
   "cell_type": "code",
   "execution_count": null,
   "id": "2bc3695b",
   "metadata": {},
   "outputs": [],
   "source": [
    "# extract the text from the <a> element\n",
    "'''text = a_element[0].text\n",
    "text'''"
   ]
  },
  {
   "cell_type": "code",
   "execution_count": null,
   "id": "d8b8031c",
   "metadata": {},
   "outputs": [],
   "source": [
    "list_etf = []\n",
    "for i in range(len(a_element)):\n",
    "    list_etf.append(a_element[i].text)"
   ]
  },
  {
   "cell_type": "code",
   "execution_count": null,
   "id": "bd77d5aa",
   "metadata": {},
   "outputs": [],
   "source": [
    "if len(list_etf) > 10:\n",
    "    list_etf = list_tickers[:10]"
   ]
  },
  {
   "cell_type": "code",
   "execution_count": 2,
   "id": "b2a8ee37",
   "metadata": {},
   "outputs": [],
   "source": [
    "list_etf"
   ]
  }
 ],
 "metadata": {
  "kernelspec": {
   "display_name": "Python [conda env:tf]",
   "language": "python",
   "name": "conda-env-tf-py"
  },
  "language_info": {
   "codemirror_mode": {
    "name": "ipython",
    "version": 3
   },
   "file_extension": ".py",
   "mimetype": "text/x-python",
   "name": "python",
   "nbconvert_exporter": "python",
   "pygments_lexer": "ipython3",
   "version": "3.9.16"
  }
 },
 "nbformat": 4,
 "nbformat_minor": 5
}
