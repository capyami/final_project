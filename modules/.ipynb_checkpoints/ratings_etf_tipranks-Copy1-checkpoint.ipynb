{
 "cells": [
  {
   "cell_type": "code",
   "execution_count": 1,
   "id": "a813fe66",
   "metadata": {},
   "outputs": [],
   "source": [
    "import yfinance as yf\n",
    "import pandas as pd\n",
    "import numpy as np\n",
    "from selenium import webdriver\n",
    "from selenium.webdriver.common.by import By\n",
    "from selenium.webdriver.common.keys import Keys\n",
    "from selenium.webdriver.edge.service import Service\n",
    "from selenium.webdriver.support.ui import WebDriverWait\n",
    "import time"
   ]
  },
  {
   "cell_type": "code",
   "execution_count": 2,
   "id": "e92864f8",
   "metadata": {},
   "outputs": [
    {
     "data": {
      "text/plain": [
       "selenium.webdriver.edge.webdriver.WebDriver"
      ]
     },
     "execution_count": 2,
     "metadata": {},
     "output_type": "execute_result"
    }
   ],
   "source": [
    "#def ratings_etf(list_etf):\n",
    "\n",
    "\n",
    "\n",
    "path = './requirements/msedgedriver.exe'\n",
    "service = Service(executable_path=path)\n",
    "driver = webdriver.Edge(service=service)\n",
    "type(driver)"
   ]
  },
  {
   "cell_type": "code",
   "execution_count": 3,
   "id": "10c82ec0",
   "metadata": {},
   "outputs": [],
   "source": [
    "#driver.implicitly_wait(2)\n",
    "time.sleep(2)"
   ]
  },
  {
   "cell_type": "code",
   "execution_count": 4,
   "id": "6e77c91f",
   "metadata": {},
   "outputs": [],
   "source": [
    "url = 'https://www.tipranks.com/stocks/googl'\n",
    "driver.get(url)\n",
    "#driver.maximize_window()"
   ]
  },
  {
   "cell_type": "code",
   "execution_count": 5,
   "id": "a03a29a9",
   "metadata": {},
   "outputs": [],
   "source": [
    "time.sleep(10)"
   ]
  },
  {
   "cell_type": "code",
   "execution_count": 6,
   "id": "ce541dfe",
   "metadata": {},
   "outputs": [],
   "source": [
    "# click cookies\n",
    "driver.find_element(By.XPATH, '//button[@title=\"Scroll to the bottom of the text below to enable this button\"]').click()\n",
    "time.sleep(4)"
   ]
  },
  {
   "cell_type": "code",
   "execution_count": 47,
   "id": "1f0267d8",
   "metadata": {},
   "outputs": [],
   "source": [
    "# click for to write\n",
    "lens = driver.find_element(By.XPATH, '//button[@class=\"colorgray-3 displaynone fontSize6 px4 laptop_displayflex\"]')"
   ]
  },
  {
   "cell_type": "code",
   "execution_count": 48,
   "id": "1e555c45",
   "metadata": {},
   "outputs": [],
   "source": [
    "lens.click()"
   ]
  },
  {
   "cell_type": "code",
   "execution_count": 49,
   "id": "910784b9",
   "metadata": {},
   "outputs": [],
   "source": [
    "time.sleep(1.5)\n",
    "# clilk lens with bar\n",
    "search_input = driver.find_element(By.XPATH, '//input[@placeholder=\"Search ...\"]')"
   ]
  },
  {
   "cell_type": "code",
   "execution_count": 50,
   "id": "82eba533",
   "metadata": {},
   "outputs": [],
   "source": [
    "search_input.click()"
   ]
  },
  {
   "cell_type": "code",
   "execution_count": 51,
   "id": "0f524478",
   "metadata": {},
   "outputs": [],
   "source": [
    "# ticker = 'spy'"
   ]
  },
  {
   "cell_type": "code",
   "execution_count": 52,
   "id": "be65a107",
   "metadata": {},
   "outputs": [],
   "source": [
    "search_input.send_keys('calf')\n",
    "# search_input.send_keys(name_ticker+f'({ticker})')\n",
    "time.sleep(2)"
   ]
  },
  {
   "cell_type": "code",
   "execution_count": 53,
   "id": "49d49337",
   "metadata": {},
   "outputs": [],
   "source": [
    "test_elements = driver.find_elements(By.XPATH, '//a[@class=\"colorblack-4 fontFamilyregular truncate flexrsb displayflex hoverCursorpointer w12 px4 py3 fontWeightsemibold\"]')"
   ]
  },
  {
   "cell_type": "code",
   "execution_count": 54,
   "id": "880e0ba4",
   "metadata": {},
   "outputs": [
    {
     "data": {
      "text/plain": [
       "2"
      ]
     },
     "execution_count": 54,
     "metadata": {},
     "output_type": "execute_result"
    }
   ],
   "source": [
    "len(test_elements)"
   ]
  },
  {
   "cell_type": "code",
   "execution_count": 55,
   "id": "a9cae248",
   "metadata": {},
   "outputs": [
    {
     "data": {
      "text/plain": [
       "str"
      ]
     },
     "execution_count": 55,
     "metadata": {},
     "output_type": "execute_result"
    }
   ],
   "source": [
    "type(str(test_elements[0].text))"
   ]
  },
  {
   "cell_type": "code",
   "execution_count": 56,
   "id": "1e892dcd",
   "metadata": {},
   "outputs": [
    {
     "data": {
      "text/plain": [
       "str"
      ]
     },
     "execution_count": 56,
     "metadata": {},
     "output_type": "execute_result"
    }
   ],
   "source": [
    "type(test_elements[0].text)"
   ]
  },
  {
   "cell_type": "code",
   "execution_count": 58,
   "id": "f40b5fa2",
   "metadata": {},
   "outputs": [
    {
     "data": {
      "text/plain": [
       "'5CFA\\nCalfrac Well Services'"
      ]
     },
     "execution_count": 58,
     "metadata": {},
     "output_type": "execute_result"
    }
   ],
   "source": [
    "test_elements[0].text"
   ]
  },
  {
   "cell_type": "code",
   "execution_count": 59,
   "id": "acbbcbaa",
   "metadata": {},
   "outputs": [],
   "source": [
    "for i in range(len(test_elements)):\n",
    "    if 'ETF' in test_elements[i].text or 'Trust' in test_elements[i].text:\n",
    "        test_elements[i].click()\n",
    "        break"
   ]
  },
  {
   "cell_type": "code",
   "execution_count": null,
   "id": "60dca256",
   "metadata": {},
   "outputs": [],
   "source": [
    "valuation_ratings = pd.DataFrame(columns=['Outperform','Analyst_consensus', 'Buy', 'Hold', 'Sell', 'Highest_price_target','Average_price_target','Lowest_price_target'])"
   ]
  },
  {
   "cell_type": "code",
   "execution_count": null,
   "id": "2c47ecd2",
   "metadata": {},
   "outputs": [],
   "source": [
    "    \n",
    "technic_ratings = pd.DataFrame(columns=['Blogger_sentiment','Hedge_Fund_Trend','Crowd_Wisdom','News_Sentiment','Technical_SMA','Technical_Momentum'])"
   ]
  },
  {
   "cell_type": "code",
   "execution_count": null,
   "id": "477ce483",
   "metadata": {},
   "outputs": [],
   "source": [
    "    \n",
    "etf_description = pd.DataFrame(columns=['ETF_description'])"
   ]
  },
  {
   "cell_type": "code",
   "execution_count": null,
   "id": "483bb9de",
   "metadata": {},
   "outputs": [],
   "source": [
    "<a class=\"colorblack-4 fontFamilyregular truncate flexrsb displayflex hoverCursorpointer w12 px4 py3 fontWeightsemibold\" data-id=\"FNDX\" href=\"/etf/fndx\"><div class=\"flexrsb w5    displayflex\"> <div title=\"United States\" class=\"Flag-flags-tr us-flags-tr shrink0 mr3\"></div><div class=\"displayblock truncate\"><span class=\"colororange-dark\">FNDX</span></div></div><div class=\"flexrsb w7    displayblock truncate pl3 shrink0\"><span>Schwab Fundamental US Large Co. Index ETF</span></div></a>"
   ]
  },
  {
   "cell_type": "code",
   "execution_count": null,
   "id": "ee5c14e5",
   "metadata": {},
   "outputs": [],
   "source": []
  },
  {
   "cell_type": "code",
   "execution_count": null,
   "id": "98ef194b",
   "metadata": {},
   "outputs": [],
   "source": []
  },
  {
   "cell_type": "code",
   "execution_count": null,
   "id": "0d16ecee",
   "metadata": {},
   "outputs": [],
   "source": []
  },
  {
   "cell_type": "code",
   "execution_count": null,
   "id": "ccaf8b34",
   "metadata": {},
   "outputs": [],
   "source": [
    "time.sleep(1.5)\n",
    "# clilk lens with bar\n",
    "search_input = driver.find_element(By.XPATH, '//input[@placeholder=\"Search ...\"]')"
   ]
  },
  {
   "cell_type": "code",
   "execution_count": null,
   "id": "e394fa52",
   "metadata": {},
   "outputs": [],
   "source": [
    "search_input.click()"
   ]
  },
  {
   "cell_type": "code",
   "execution_count": null,
   "id": "d53a0498",
   "metadata": {},
   "outputs": [],
   "source": [
    "# ticker = 'spy'\n",
    "\n",
    "search_input.send_keys(ticker)"
   ]
  },
  {
   "cell_type": "code",
   "execution_count": null,
   "id": "f836116c",
   "metadata": {},
   "outputs": [],
   "source": [
    "technic_ratings"
   ]
  },
  {
   "cell_type": "code",
   "execution_count": null,
   "id": "b2a8ee37",
   "metadata": {},
   "outputs": [],
   "source": [
    "etf_description"
   ]
  },
  {
   "cell_type": "code",
   "execution_count": null,
   "id": "5094e70d",
   "metadata": {},
   "outputs": [],
   "source": [
    "pd.set_option('display.max_colwidth', None)"
   ]
  },
  {
   "cell_type": "code",
   "execution_count": null,
   "id": "575d1112",
   "metadata": {},
   "outputs": [],
   "source": [
    "list_etf = ['qqq', 'spy']"
   ]
  },
  {
   "cell_type": "code",
   "execution_count": null,
   "id": "4891d160",
   "metadata": {},
   "outputs": [],
   "source": [
    "valuation_ratings, technic_ratings, etf_description = ratings_etf(list_etf)"
   ]
  },
  {
   "cell_type": "code",
   "execution_count": null,
   "id": "63597cd8",
   "metadata": {},
   "outputs": [],
   "source": [
    "valuation_ratings"
   ]
  },
  {
   "cell_type": "code",
   "execution_count": null,
   "id": "9c246bef",
   "metadata": {},
   "outputs": [],
   "source": [
    "technic_ratings"
   ]
  },
  {
   "cell_type": "code",
   "execution_count": null,
   "id": "130c0359",
   "metadata": {},
   "outputs": [],
   "source": [
    "etf_description"
   ]
  },
  {
   "cell_type": "code",
   "execution_count": null,
   "id": "a26a9ef8",
   "metadata": {},
   "outputs": [],
   "source": [
    "for i in range(len(list_etf)):\n",
    "    \n",
    "    ticker = list_etf[i]\n",
    "\n",
    "    # click for to write\n",
    "    lens = driver.find_element(By.XPATH, '//button[@class=\"colorgray-3 displaynone fontSize6 px4 laptop_displayflex\"]')\n",
    "    \n",
    "    lens.click()\n",
    "    time.sleep(1.5)\n",
    "    # clilk lens with bar\n",
    "    search_input = driver.find_element(By.XPATH, '//input[@placeholder=\"Search ...\"]')\n",
    "    \n",
    "    search_input.click()\n",
    "    \n",
    "    # ticker = 'spy'\n",
    "    \n",
    "    search_input.send_keys(ticker)\n",
    "    \n",
    "    time.sleep(2)\n",
    "    \n",
    "    # select th first\n",
    "    first_ticker = driver.find_element(By.XPATH, '//div[@class=\"flexrsb w5    displayflex\"]')\n",
    "    \n",
    "    first_ticker.click()\n",
    "    time.sleep(4)\n",
    "    \n",
    "    # click cookies\n",
    "    driver.find_element(By.XPATH, '//button[@title=\"Scroll to the bottom of the text below to enable this button\"]').click()\n",
    "    time.sleep(4)\n",
    "    \n",
    "    button_outperform = driver.find_element(By.XPATH, '//span[@class=\"fontSizebig fontWeightbold    h_pxsmall  mb1\"]')\n",
    "    \n",
    "    button_ratings1 = driver.find_elements(By.XPATH, '//span[@class=\"colorblack fonth10_semibold\"]')\n",
    "    \n",
    "    # buttons header reatings\n",
    "    button_ratings2 = driver.find_elements(By.XPATH, '//div[@class=\"flexrcc     displayflex\"]')\n",
    "    \n",
    "    if len(button_ratings2) == 15:\n",
    "        Outperform = button_outperform.text\n",
    "        Analyst_consensus = button_ratings2[4].text\n",
    "        Average_Price_Target = button_ratings1[0].text\n",
    "        Blogger_Sentiment = button_ratings2[5].text\n",
    "        Hedge_Fund_Trend = button_ratings2[6].text\n",
    "        Crowd_Wisdom = button_ratings2[7].text\n",
    "        News_Sentiment = button_ratings2[8].text\n",
    "        Technical_SMA = button_ratings2[9].text\n",
    "        Technical_Momentum = button_ratings2[10].text\n",
    "    else:\n",
    "        Outperform = button_outperform.text\n",
    "        Analyst_consensus = button_ratings2[4].text\n",
    "        Average_Price_Target = button_ratings1[0].text\n",
    "        Blogger_Sentiment = button_ratings2[5].text\n",
    "        Hedge_Fund_Trend = button_ratings2[6].text\n",
    "        Crowd_Wisdom = button_ratings2[7].text\n",
    "        News_Sentiment = ' '\n",
    "        Technical_SMA = button_ratings2[-6].text\n",
    "        Technical_Momentum = button_ratings2[-5].text\n",
    "        \n",
    "    etf_description_text = driver.find_element(By.XPATH, '//div[@class=\"px4\"]')\n",
    "    etf_description_text = etf_description_text.text\n",
    "    #<div class=\"px4\">SPY tracks a market cap-weighted index of US large- and mid-cap stocks selected by the S&amp;P Committee.</div>\n",
    "        \n",
    "    # change to analysis forecast\n",
    "    to_forecast = driver.find_elements(By.XPATH, '//a[@data-link=\"etf-forecast\"]')\n",
    "    \n",
    "    to_forecast[1].text\n",
    "    \n",
    "    to_forecast[1].click()\n",
    "    time.sleep(3)\n",
    "    \n",
    "    buttons_forecast_b = driver.find_elements(By.XPATH, '//span[@class=\"mr2\"]')\n",
    "    \n",
    "    ratings_Buy = buttons_forecast_b[0].text\n",
    "    ratings_Hold =  buttons_forecast_b[1].text\n",
    "    ratings_Sell = buttons_forecast_b[2].text\n",
    "    \n",
    "    price_forecast = driver.find_elements(By.XPATH, '//tr[@class=\"w12 fontSize5 fontWeightsemibold flexrs_ maxW480 laptop_px0 laptop_fontSize7 laptop_flexrb_\"]')\n",
    "    \n",
    "    price_consensus = price_forecast[0].text\n",
    "    price_consensus\n",
    "    \n",
    "    list_price_target = price_consensus.split('\\n')\n",
    "    \n",
    "    Highest_Price_Target = list_price_target[1]\n",
    "    \n",
    "    Average_Price_Target = list_price_target[3]\n",
    "    \n",
    "    Lowest_Price_Target = list_price_target[5]\n",
    "    \n",
    "    #ratings_forecast = driver.find_elements(By.XPATH, '//div[@class=\"flexccc     displayflex ipad_flexrc_ ipad_pb4\"]')\n",
    "    #<div class=\"flexccc     displayflex ipad_flexrc_ ipad_pb4\"><div class=\"flexrsc     displayflex h_px4\" title=\"\"><svg viewBox=\"0 0 64 64\" class=\"h11 fontSize5\"><path d=\"M32,0 A32,32 0 1,1 13.928163045135296,58.408496910592746 L17.542530436108237,53.1267975284742 A25.6,25.6 0 1,0 32,6.399999999999999 Z\" fill=\"#199ca5\" stroke=\"white\" stroke-width=\"0.8\"></path><path d=\"M13.928163045135296,58.408496910592746 A32,32 0 0,1 21.312815317853353,1.837372734297663 L23.45025225428268,7.869898187438128 A25.6,25.6 0 0,0 17.542530436108237,53.1267975284742 Z\" fill=\"#999999\" stroke=\"white\" stroke-width=\"0.8\"></path><path d=\"M21.312815317853353,1.837372734297663 A32,32 0 0,1 31.999999999999993,0 L31.999999999999993,6.399999999999999 A25.6,25.6 0 0,0 23.45025225428268,7.869898187438128 Z\" fill=\"#912767\" stroke=\"white\" stroke-width=\"0.8\"></path><g class=\"override  fontSize6\"><text class=\"override  fontWeightbold fontSize6\" x=\"50%\" y=\"50%\" text-anchor=\"middle\" dy=\"0.20em\">6K</text><text class=\"fontSizesmaller fontWeightlight colorblack\" x=\"50%\" y=\"50%\" fill=\"#000000\" text-anchor=\"middle\" dy=\"1.55em\">Ratings</text></g></svg></div><div class=\"flexracf w12   mt4 displayflex ml4 ipad_flexcc_\"><div class=\"flexrsc     displayflex  mb3  fontSize7 colorpale  mr4\"><i class=\"m2_qQF44 icon-rect  mr2   displayinline-flex  h12 flexccc\" style=\"color: rgb(25, 156, 165);\"></i><div class=\"flexrsc colorpale\"><span class=\"mr2\">59.55%</span> Buy</div></div><div class=\"flexrsc     displayflex  mb3  fontSize7 colorgray-1  mr4\"><i class=\"m2_qQF44 icon-rect  mr2   displayinline-flex  h12 flexccc\" style=\"color: rgb(153, 153, 153);\"></i><div class=\"flexrsc colorgray-1\"><span class=\"mr2\">35.03%</span> Hold</div></div><div class=\"flexrsc     displayflex  mb3  fontSize7 colorpurple-dark  mr4\"><i class=\"m2_qQF44 icon-rect  mr2   displayinline-flex  h12 flexccc\" style=\"color: rgb(145, 39, 103);\"></i><div class=\"flexrsc colorpurple-dark\"><span class=\"mr2\">5.42%</span> Sell</div></div></div> </div>\n",
    "    \n",
    "    \n",
    "    valuation_ratings.loc[ticker] = [Outperform, Analyst_consensus, ratings_Buy, ratings_Hold, ratings_Sell, Highest_Price_Target, Average_Price_Target, Lowest_Price_Target]\n",
    "    \n",
    "    technic_ratings.loc[ticker] = [Blogger_Sentiment, Hedge_Fund_Trend, Crowd_Wisdom, News_Sentiment, Technical_SMA, Technical_Momentum]\n",
    "\n",
    "    etf_description.loc[ticker] = [etf_description_text]\n",
    "\n",
    "valuation_ratings"
   ]
  }
 ],
 "metadata": {
  "kernelspec": {
   "display_name": "Python [conda env:tf]",
   "language": "python",
   "name": "conda-env-tf-py"
  },
  "language_info": {
   "codemirror_mode": {
    "name": "ipython",
    "version": 3
   },
   "file_extension": ".py",
   "mimetype": "text/x-python",
   "name": "python",
   "nbconvert_exporter": "python",
   "pygments_lexer": "ipython3",
   "version": "3.9.16"
  }
 },
 "nbformat": 4,
 "nbformat_minor": 5
}
