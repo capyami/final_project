{
 "cells": [
  {
   "cell_type": "code",
   "execution_count": 6,
   "id": "a813fe66",
   "metadata": {},
   "outputs": [],
   "source": [
    "import yfinance as yf\n",
    "import pandas as pd\n",
    "import numpy as np\n",
    "from selenium import webdriver\n",
    "from selenium.webdriver.common.by import By\n",
    "from selenium.webdriver.common.keys import Keys\n",
    "from selenium.webdriver.edge.service import Service\n",
    "from selenium.webdriver.support.ui import WebDriverWait\n",
    "import time"
   ]
  },
  {
   "cell_type": "code",
   "execution_count": 7,
   "id": "b2a8ee37",
   "metadata": {},
   "outputs": [],
   "source": [
    "def ratings_etf(list_etf):\n",
    "    path = './requirements/msedgedriver.exe'\n",
    "    service = Service(executable_path=path)\n",
    "    driver = webdriver.Edge(service=service)\n",
    "    type(driver)\n",
    "    \n",
    "    #driver.implicitly_wait(2)\n",
    "    time.sleep(2)\n",
    "    \n",
    "    url = 'https://www.tipranks.com/stocks/googl'\n",
    "    driver.get(url)\n",
    "    #driver.maximize_window()\n",
    "    \n",
    "    time.sleep(10)\n",
    "    \n",
    "    # click cookies\n",
    "    driver.find_element(By.XPATH, '//button[@title=\"Scroll to the bottom of the text below to enable this button\"]').click()\n",
    "    time.sleep(4)\n",
    "    \n",
    "    valuation_ratings = pd.DataFrame(columns=['Outperform','Analyst_consensus', 'Buy', 'Hold', 'Sell', 'Highest_price_target','Average_price_target','Lowest_price_target'])\n",
    "        \n",
    "    technic_ratings = pd.DataFrame(columns=['Blogger_sentiment','Hedge_Fund_Trend','Crowd_Wisdom','News_Sentiment','Technical_SMA','Technical_Momentum'])\n",
    "        \n",
    "    etf_description = pd.DataFrame(columns=['ETF_description'])\n",
    "    \n",
    "    for i in range(len(list_etf)):\n",
    "        \n",
    "        ticker = list_etf[i]\n",
    "    \n",
    "        # click for to write\n",
    "        lens = driver.find_element(By.XPATH, '//button[@class=\"colorgray-3 displaynone fontSize6 px4 laptop_displayflex\"]')\n",
    "        \n",
    "        lens.click()\n",
    "        time.sleep(1.5)\n",
    "        # clilk lens with bar\n",
    "        search_input = driver.find_element(By.XPATH, '//input[@placeholder=\"Search ...\"]')\n",
    "        \n",
    "        search_input.click()\n",
    "        \n",
    "        # ticker = 'spy'\n",
    "        \n",
    "        search_input.send_keys(ticker)\n",
    "        \n",
    "        time.sleep(2)\n",
    "        \n",
    "        # select th first\n",
    "        first_ticker = driver.find_element(By.XPATH, '//div[@class=\"flexrsb w5    displayflex\"]')\n",
    "        \n",
    "        first_ticker.click()\n",
    "        time.sleep(4)\n",
    "        \n",
    "        # click cookies\n",
    "        driver.find_element(By.XPATH, '//button[@title=\"Scroll to the bottom of the text below to enable this button\"]').click()\n",
    "        time.sleep(4)\n",
    "        \n",
    "        button_outperform = driver.find_element(By.XPATH, '//span[@class=\"fontSizebig fontWeightbold    h_pxsmall  mb1\"]')\n",
    "        \n",
    "        button_ratings1 = driver.find_elements(By.XPATH, '//span[@class=\"colorblack fonth10_semibold\"]')\n",
    "        \n",
    "        # buttons header reatings\n",
    "        button_ratings2 = driver.find_elements(By.XPATH, '//div[@class=\"flexrcc     displayflex\"]')\n",
    "        \n",
    "        if len(button_ratings2) == 15:\n",
    "            Outperform = button_outperform.text\n",
    "            Analyst_consensus = button_ratings2[4].text\n",
    "            Average_Price_Target = button_ratings1[0].text\n",
    "            Blogger_Sentiment = button_ratings2[5].text\n",
    "            Hedge_Fund_Trend = button_ratings2[6].text\n",
    "            Crowd_Wisdom = button_ratings2[7].text\n",
    "            News_Sentiment = button_ratings2[8].text\n",
    "            Technical_SMA = button_ratings2[9].text\n",
    "            Technical_Momentum = button_ratings2[10].text\n",
    "        else:\n",
    "            Outperform = button_outperform.text\n",
    "            Analyst_consensus = button_ratings2[4].text\n",
    "            Average_Price_Target = button_ratings1[0].text\n",
    "            Blogger_Sentiment = button_ratings2[5].text\n",
    "            Hedge_Fund_Trend = button_ratings2[6].text\n",
    "            Crowd_Wisdom = button_ratings2[7].text\n",
    "            News_Sentiment = ' '\n",
    "            Technical_SMA = button_ratings2[-6].text\n",
    "            Technical_Momentum = button_ratings2[-5].text\n",
    "            \n",
    "        etf_description_text = driver.find_element(By.XPATH, '//div[@class=\"px4\"]')\n",
    "        etf_description_text = etf_description_text.text\n",
    "        #<div class=\"px4\">SPY tracks a market cap-weighted index of US large- and mid-cap stocks selected by the S&amp;P Committee.</div>\n",
    "            \n",
    "        # change to analysis forecast\n",
    "        to_forecast = driver.find_elements(By.XPATH, '//a[@data-link=\"etf-forecast\"]')\n",
    "        \n",
    "        to_forecast[1].text\n",
    "        \n",
    "        to_forecast[1].click()\n",
    "        time.sleep(3)\n",
    "        \n",
    "        buttons_forecast_b = driver.find_elements(By.XPATH, '//span[@class=\"mr2\"]')\n",
    "        \n",
    "        ratings_Buy = buttons_forecast_b[0].text\n",
    "        ratings_Hold =  buttons_forecast_b[1].text\n",
    "        ratings_Sell = buttons_forecast_b[2].text\n",
    "        \n",
    "        price_forecast = driver.find_elements(By.XPATH, '//tr[@class=\"w12 fontSize5 fontWeightsemibold flexrs_ maxW480 laptop_px0 laptop_fontSize7 laptop_flexrb_\"]')\n",
    "        \n",
    "        price_consensus = price_forecast[0].text\n",
    "        price_consensus\n",
    "        \n",
    "        list_price_target = price_consensus.split('\\n')\n",
    "        \n",
    "        Highest_Price_Target = list_price_target[1]\n",
    "        \n",
    "        Average_Price_Target = list_price_target[3]\n",
    "        \n",
    "        Lowest_Price_Target = list_price_target[5]\n",
    "        \n",
    "        #ratings_forecast = driver.find_elements(By.XPATH, '//div[@class=\"flexccc     displayflex ipad_flexrc_ ipad_pb4\"]')\n",
    "        #<div class=\"flexccc     displayflex ipad_flexrc_ ipad_pb4\"><div class=\"flexrsc     displayflex h_px4\" title=\"\"><svg viewBox=\"0 0 64 64\" class=\"h11 fontSize5\"><path d=\"M32,0 A32,32 0 1,1 13.928163045135296,58.408496910592746 L17.542530436108237,53.1267975284742 A25.6,25.6 0 1,0 32,6.399999999999999 Z\" fill=\"#199ca5\" stroke=\"white\" stroke-width=\"0.8\"></path><path d=\"M13.928163045135296,58.408496910592746 A32,32 0 0,1 21.312815317853353,1.837372734297663 L23.45025225428268,7.869898187438128 A25.6,25.6 0 0,0 17.542530436108237,53.1267975284742 Z\" fill=\"#999999\" stroke=\"white\" stroke-width=\"0.8\"></path><path d=\"M21.312815317853353,1.837372734297663 A32,32 0 0,1 31.999999999999993,0 L31.999999999999993,6.399999999999999 A25.6,25.6 0 0,0 23.45025225428268,7.869898187438128 Z\" fill=\"#912767\" stroke=\"white\" stroke-width=\"0.8\"></path><g class=\"override  fontSize6\"><text class=\"override  fontWeightbold fontSize6\" x=\"50%\" y=\"50%\" text-anchor=\"middle\" dy=\"0.20em\">6K</text><text class=\"fontSizesmaller fontWeightlight colorblack\" x=\"50%\" y=\"50%\" fill=\"#000000\" text-anchor=\"middle\" dy=\"1.55em\">Ratings</text></g></svg></div><div class=\"flexracf w12   mt4 displayflex ml4 ipad_flexcc_\"><div class=\"flexrsc     displayflex  mb3  fontSize7 colorpale  mr4\"><i class=\"m2_qQF44 icon-rect  mr2   displayinline-flex  h12 flexccc\" style=\"color: rgb(25, 156, 165);\"></i><div class=\"flexrsc colorpale\"><span class=\"mr2\">59.55%</span> Buy</div></div><div class=\"flexrsc     displayflex  mb3  fontSize7 colorgray-1  mr4\"><i class=\"m2_qQF44 icon-rect  mr2   displayinline-flex  h12 flexccc\" style=\"color: rgb(153, 153, 153);\"></i><div class=\"flexrsc colorgray-1\"><span class=\"mr2\">35.03%</span> Hold</div></div><div class=\"flexrsc     displayflex  mb3  fontSize7 colorpurple-dark  mr4\"><i class=\"m2_qQF44 icon-rect  mr2   displayinline-flex  h12 flexccc\" style=\"color: rgb(145, 39, 103);\"></i><div class=\"flexrsc colorpurple-dark\"><span class=\"mr2\">5.42%</span> Sell</div></div></div> </div>\n",
    "        \n",
    "        \n",
    "        valuation_ratings.loc[ticker] = [Outperform, Analyst_consensus, ratings_Buy, ratings_Hold, ratings_Sell, Highest_Price_Target, Average_Price_Target, Lowest_Price_Target]\n",
    "        \n",
    "        technic_ratings.loc[ticker] = [Blogger_Sentiment, Hedge_Fund_Trend, Crowd_Wisdom, News_Sentiment, Technical_SMA, Technical_Momentum]\n",
    "    \n",
    "        etf_description.loc[ticker] = [etf_description_text]\n",
    "    \n",
    "    return valuation_ratings, technic_ratings, etf_description\n",
    "    "
   ]
  },
  {
   "cell_type": "code",
   "execution_count": 8,
   "id": "5094e70d",
   "metadata": {},
   "outputs": [],
   "source": [
    "pd.set_option('display.max_colwidth', None)"
   ]
  },
  {
   "cell_type": "code",
   "execution_count": 9,
   "id": "575d1112",
   "metadata": {},
   "outputs": [],
   "source": [
    "list_etf = ['qqq', 'spy']"
   ]
  },
  {
   "cell_type": "code",
   "execution_count": 10,
   "id": "4891d160",
   "metadata": {},
   "outputs": [],
   "source": [
    "valuation_ratings, technic_ratings, etf_description = ratings_etf(list_etf)"
   ]
  },
  {
   "cell_type": "code",
   "execution_count": 11,
   "id": "63597cd8",
   "metadata": {},
   "outputs": [
    {
     "data": {
      "text/html": [
       "<div>\n",
       "<style scoped>\n",
       "    .dataframe tbody tr th:only-of-type {\n",
       "        vertical-align: middle;\n",
       "    }\n",
       "\n",
       "    .dataframe tbody tr th {\n",
       "        vertical-align: top;\n",
       "    }\n",
       "\n",
       "    .dataframe thead th {\n",
       "        text-align: right;\n",
       "    }\n",
       "</style>\n",
       "<table border=\"1\" class=\"dataframe\">\n",
       "  <thead>\n",
       "    <tr style=\"text-align: right;\">\n",
       "      <th></th>\n",
       "      <th>Outperform</th>\n",
       "      <th>Analyst_consensus</th>\n",
       "      <th>Buy</th>\n",
       "      <th>Hold</th>\n",
       "      <th>Sell</th>\n",
       "      <th>Highest_price_target</th>\n",
       "      <th>Average_price_target</th>\n",
       "      <th>Lowest_price_target</th>\n",
       "    </tr>\n",
       "  </thead>\n",
       "  <tbody>\n",
       "    <tr>\n",
       "      <th>qqq</th>\n",
       "      <td>8</td>\n",
       "      <td>Moderate Buy</td>\n",
       "      <td>66.65%</td>\n",
       "      <td>29.40%</td>\n",
       "      <td>3.95%</td>\n",
       "      <td>$502.95</td>\n",
       "      <td>$414.15</td>\n",
       "      <td>$313.74</td>\n",
       "    </tr>\n",
       "    <tr>\n",
       "      <th>spy</th>\n",
       "      <td>8</td>\n",
       "      <td>Moderate Buy</td>\n",
       "      <td>59.27%</td>\n",
       "      <td>35.34%</td>\n",
       "      <td>5.39%</td>\n",
       "      <td>$586.88</td>\n",
       "      <td>$495.35</td>\n",
       "      <td>$397.99</td>\n",
       "    </tr>\n",
       "  </tbody>\n",
       "</table>\n",
       "</div>"
      ],
      "text/plain": [
       "    Outperform Analyst_consensus     Buy    Hold   Sell Highest_price_target  \\\n",
       "qqq          8      Moderate Buy  66.65%  29.40%  3.95%              $502.95   \n",
       "spy          8      Moderate Buy  59.27%  35.34%  5.39%              $586.88   \n",
       "\n",
       "    Average_price_target Lowest_price_target  \n",
       "qqq              $414.15             $313.74  \n",
       "spy              $495.35             $397.99  "
      ]
     },
     "execution_count": 11,
     "metadata": {},
     "output_type": "execute_result"
    }
   ],
   "source": [
    "valuation_ratings"
   ]
  },
  {
   "cell_type": "code",
   "execution_count": 16,
   "id": "8ab87d81",
   "metadata": {},
   "outputs": [
    {
     "data": {
      "text/plain": [
       "<bound method NDFrame._add_numeric_operations.<locals>.mean of qqq    8\n",
       "spy    8\n",
       "Name: Outperform, dtype: object>"
      ]
     },
     "execution_count": 16,
     "metadata": {},
     "output_type": "execute_result"
    }
   ],
   "source": [
    "valuation_ratings['Outperform'].mean\n"
   ]
  },
  {
   "cell_type": "code",
   "execution_count": null,
   "id": "37e7f308",
   "metadata": {},
   "outputs": [],
   "source": []
  },
  {
   "cell_type": "code",
   "execution_count": 44,
   "id": "3048b418",
   "metadata": {},
   "outputs": [
    {
     "data": {
      "text/plain": [
       "8.0"
      ]
     },
     "execution_count": 44,
     "metadata": {},
     "output_type": "execute_result"
    }
   ],
   "source": [
    "grade_analyst = valuation_ratings['Outperform']\n",
    "float(grade_analyst[0])"
   ]
  },
  {
   "cell_type": "code",
   "execution_count": 45,
   "id": "3564f84d",
   "metadata": {},
   "outputs": [],
   "source": [
    "sum_outperform = []\n",
    "for i in range(len(grade_analyst)):\n",
    "    sum_outperform.append(float(grade_analyst.iloc[i]))"
   ]
  },
  {
   "cell_type": "code",
   "execution_count": 46,
   "id": "a87eac9b",
   "metadata": {
    "scrolled": false
   },
   "outputs": [
    {
     "data": {
      "text/plain": [
       "8.0"
      ]
     },
     "execution_count": 46,
     "metadata": {},
     "output_type": "execute_result"
    }
   ],
   "source": [
    "grade_analysts = sum(sum_outperform)/len(grade_analyst)\n",
    "grade_analysts = round(grade_analysts, 2)\n",
    "grade_analysts"
   ]
  },
  {
   "cell_type": "code",
   "execution_count": 23,
   "id": "3fe40d19",
   "metadata": {},
   "outputs": [
    {
     "data": {
      "text/plain": [
       "count     1.0\n",
       "mean     44.0\n",
       "std       NaN\n",
       "min      44.0\n",
       "25%      44.0\n",
       "50%      44.0\n",
       "75%      44.0\n",
       "max      44.0\n",
       "dtype: float64"
      ]
     },
     "execution_count": 23,
     "metadata": {},
     "output_type": "execute_result"
    }
   ],
   "source": [
    "grade_analyst = grade_analyst.describe()\n",
    "grade_analyst"
   ]
  },
  {
   "cell_type": "code",
   "execution_count": null,
   "id": "45a3e839",
   "metadata": {},
   "outputs": [],
   "source": [
    "grade_analyst = valuation_ratings['Outperform'].meround(2)"
   ]
  },
  {
   "cell_type": "code",
   "execution_count": 14,
   "id": "52b183d0",
   "metadata": {},
   "outputs": [
    {
     "data": {
      "text/plain": [
       "44.0"
      ]
     },
     "execution_count": 14,
     "metadata": {},
     "output_type": "execute_result"
    }
   ],
   "source": [
    "grade_analyst"
   ]
  },
  {
   "cell_type": "code",
   "execution_count": null,
   "id": "ef48e13b",
   "metadata": {},
   "outputs": [],
   "source": []
  },
  {
   "cell_type": "code",
   "execution_count": null,
   "id": "cf025a7b",
   "metadata": {},
   "outputs": [],
   "source": []
  },
  {
   "cell_type": "code",
   "execution_count": 13,
   "id": "fa76aa82",
   "metadata": {},
   "outputs": [],
   "source": [
    "valuation_ratings_bhs = valuation_ratings.copy()\n",
    "valuation_ratings_bhs = valuation_ratings_bhs[['Buy', 'Hold', 'Sell']]\n",
    "\n",
    "valuation_ratings_bhs['Buy'] = valuation_ratings_bhs['Buy'].apply(lambda x: x.replace('%', ''))\n",
    "valuation_ratings_bhs['Hold'] = valuation_ratings_bhs['Hold'].apply(lambda x: x.replace('%', ''))\n",
    "valuation_ratings_bhs['Sell'] = valuation_ratings_bhs['Sell'].apply(lambda x: x.replace('%', ''))\n",
    "\n",
    "valuation_ratings_bhs[['Buy', 'Hold', 'Sell']] = valuation_ratings_bhs[['Buy', 'Hold', 'Sell']].astype(float)\n",
    "\n",
    "mean_bhs = valuation_ratings_bhs.mean()"
   ]
  },
  {
   "cell_type": "code",
   "execution_count": null,
   "id": "5b675d4e",
   "metadata": {},
   "outputs": [],
   "source": [
    "mean_bhs = pd.DataFrame(mean_bhs)\n"
   ]
  },
  {
   "cell_type": "code",
   "execution_count": null,
   "id": "01e4a9ab",
   "metadata": {},
   "outputs": [],
   "source": [
    "mean_bhs"
   ]
  },
  {
   "cell_type": "code",
   "execution_count": null,
   "id": "9c246bef",
   "metadata": {
    "scrolled": true
   },
   "outputs": [],
   "source": [
    "technic_ratings"
   ]
  },
  {
   "cell_type": "code",
   "execution_count": null,
   "id": "130c0359",
   "metadata": {},
   "outputs": [],
   "source": [
    "etf_description"
   ]
  }
 ],
 "metadata": {
  "kernelspec": {
   "display_name": "Python [conda env:tf]",
   "language": "python",
   "name": "conda-env-tf-py"
  },
  "language_info": {
   "codemirror_mode": {
    "name": "ipython",
    "version": 3
   },
   "file_extension": ".py",
   "mimetype": "text/x-python",
   "name": "python",
   "nbconvert_exporter": "python",
   "pygments_lexer": "ipython3",
   "version": "3.9.16"
  }
 },
 "nbformat": 4,
 "nbformat_minor": 5
}
